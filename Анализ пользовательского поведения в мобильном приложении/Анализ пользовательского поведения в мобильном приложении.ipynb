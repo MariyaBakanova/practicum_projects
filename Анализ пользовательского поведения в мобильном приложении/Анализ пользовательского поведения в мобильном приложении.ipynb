{
 "cells": [
  {
   "cell_type": "markdown",
   "metadata": {},
   "source": [
    "# Сборный проект № 2. A/A/B-тест в приложении"
   ]
  },
  {
   "cell_type": "markdown",
   "metadata": {},
   "source": [
    "## Информация о проекте"
   ]
  },
  {
   "cell_type": "markdown",
   "metadata": {},
   "source": [
    "### Описание проекта"
   ]
  },
  {
   "cell_type": "markdown",
   "metadata": {},
   "source": [
    "Вы работаете в стартапе, который продаёт продукты питания. Нужно разобраться, как ведут себя пользователи вашего мобильного приложения.\n",
    "\n",
    "Изучите воронку продаж. Узнайте, как пользователи доходят до покупки. Сколько пользователей доходит до покупки, а сколько — «застревает» на предыдущих шагах? На каких именно?\n",
    "\n",
    "После этого исследуйте результаты A/A/B-эксперимента. Дизайнеры захотели поменять шрифты во всём приложении, а менеджеры испугались, что пользователям будет непривычно. Договорились принять решение по результатам A/A/B-теста. Пользователей разбили на 3 группы: 2 контрольные со старыми шрифтами и одну экспериментальную — с новыми. Выясните, какой шрифт лучше.\n",
    "\n",
    "Создание двух групп A вместо одной имеет определённые преимущества. Если две контрольные группы окажутся равны, вы можете быть уверены в точности проведенного тестирования. Если же между значениями A и A будут существенные различия, это поможет обнаружить факторы, которые привели к искажению результатов. Сравнение контрольных групп также помогает понять, сколько времени и данных потребуется для дальнейших тестов.\n",
    "\n",
    "В случае общей аналитики и A/A/B-эксперимента работайте с одними и теми же данными. В реальных проектах всегда идут эксперименты. Аналитики исследуют качество работы приложения по общим данным, не учитывая принадлежность пользователей к экспериментам."
   ]
  },
  {
   "cell_type": "markdown",
   "metadata": {},
   "source": [
    "### Описание данных"
   ]
  },
  {
   "cell_type": "markdown",
   "metadata": {},
   "source": [
    "Каждая запись в логе — это действие пользователя, или событие. \n",
    "\n",
    "*EventName* — название события;\n",
    "\n",
    "*DeviceIDHash* — уникальный идентификатор пользователя;\n",
    "\n",
    "*EventTimestamp* — время события;\n",
    "\n",
    "*ExpId* — номер эксперимента: 246 и 247 — контрольные группы, а 248 — экспериментальная."
   ]
  },
  {
   "cell_type": "markdown",
   "metadata": {},
   "source": [
    "### План работы"
   ]
  },
  {
   "cell_type": "markdown",
   "metadata": {},
   "source": [
    "1. Загрузка данных и изучение общей информации, предобработка \n",
    "3. Ознакомление с данными и их проверка\n",
    "4. Изучение воронки событий\n",
    "5. Анализ результатов эксперимента"
   ]
  },
  {
   "cell_type": "markdown",
   "metadata": {},
   "source": [
    "## Загрузка данных и изучение общей информации, предобработка"
   ]
  },
  {
   "cell_type": "code",
   "execution_count": 1,
   "metadata": {},
   "outputs": [],
   "source": [
    "#Загружаю необходимые библиотеки\n",
    "import pandas as pd\n",
    "from scipy import stats as st\n",
    "import datetime as dt\n",
    "import numpy as np\n",
    "import matplotlib.pyplot as plt\n",
    "import math as mth\n",
    "import warnings\n",
    "\n",
    "warnings.filterwarnings('ignore')"
   ]
  },
  {
   "cell_type": "code",
   "execution_count": 2,
   "metadata": {},
   "outputs": [
    {
     "data": {
      "text/html": [
       "<div>\n",
       "<style scoped>\n",
       "    .dataframe tbody tr th:only-of-type {\n",
       "        vertical-align: middle;\n",
       "    }\n",
       "\n",
       "    .dataframe tbody tr th {\n",
       "        vertical-align: top;\n",
       "    }\n",
       "\n",
       "    .dataframe thead th {\n",
       "        text-align: right;\n",
       "    }\n",
       "</style>\n",
       "<table border=\"1\" class=\"dataframe\">\n",
       "  <thead>\n",
       "    <tr style=\"text-align: right;\">\n",
       "      <th></th>\n",
       "      <th>EventName</th>\n",
       "      <th>DeviceIDHash</th>\n",
       "      <th>EventTimestamp</th>\n",
       "      <th>ExpId</th>\n",
       "    </tr>\n",
       "  </thead>\n",
       "  <tbody>\n",
       "    <tr>\n",
       "      <th>0</th>\n",
       "      <td>MainScreenAppear</td>\n",
       "      <td>4575588528974610257</td>\n",
       "      <td>1564029816</td>\n",
       "      <td>246</td>\n",
       "    </tr>\n",
       "    <tr>\n",
       "      <th>1</th>\n",
       "      <td>MainScreenAppear</td>\n",
       "      <td>7416695313311560658</td>\n",
       "      <td>1564053102</td>\n",
       "      <td>246</td>\n",
       "    </tr>\n",
       "    <tr>\n",
       "      <th>2</th>\n",
       "      <td>PaymentScreenSuccessful</td>\n",
       "      <td>3518123091307005509</td>\n",
       "      <td>1564054127</td>\n",
       "      <td>248</td>\n",
       "    </tr>\n",
       "    <tr>\n",
       "      <th>3</th>\n",
       "      <td>CartScreenAppear</td>\n",
       "      <td>3518123091307005509</td>\n",
       "      <td>1564054127</td>\n",
       "      <td>248</td>\n",
       "    </tr>\n",
       "    <tr>\n",
       "      <th>4</th>\n",
       "      <td>PaymentScreenSuccessful</td>\n",
       "      <td>6217807653094995999</td>\n",
       "      <td>1564055322</td>\n",
       "      <td>248</td>\n",
       "    </tr>\n",
       "    <tr>\n",
       "      <th>5</th>\n",
       "      <td>CartScreenAppear</td>\n",
       "      <td>6217807653094995999</td>\n",
       "      <td>1564055323</td>\n",
       "      <td>248</td>\n",
       "    </tr>\n",
       "    <tr>\n",
       "      <th>6</th>\n",
       "      <td>OffersScreenAppear</td>\n",
       "      <td>8351860793733343758</td>\n",
       "      <td>1564066242</td>\n",
       "      <td>246</td>\n",
       "    </tr>\n",
       "    <tr>\n",
       "      <th>7</th>\n",
       "      <td>MainScreenAppear</td>\n",
       "      <td>5682100281902512875</td>\n",
       "      <td>1564085677</td>\n",
       "      <td>246</td>\n",
       "    </tr>\n",
       "    <tr>\n",
       "      <th>8</th>\n",
       "      <td>MainScreenAppear</td>\n",
       "      <td>1850981295691852772</td>\n",
       "      <td>1564086702</td>\n",
       "      <td>247</td>\n",
       "    </tr>\n",
       "    <tr>\n",
       "      <th>9</th>\n",
       "      <td>MainScreenAppear</td>\n",
       "      <td>5407636962369102641</td>\n",
       "      <td>1564112112</td>\n",
       "      <td>246</td>\n",
       "    </tr>\n",
       "  </tbody>\n",
       "</table>\n",
       "</div>"
      ],
      "text/plain": [
       "                 EventName         DeviceIDHash  EventTimestamp  ExpId\n",
       "0         MainScreenAppear  4575588528974610257      1564029816    246\n",
       "1         MainScreenAppear  7416695313311560658      1564053102    246\n",
       "2  PaymentScreenSuccessful  3518123091307005509      1564054127    248\n",
       "3         CartScreenAppear  3518123091307005509      1564054127    248\n",
       "4  PaymentScreenSuccessful  6217807653094995999      1564055322    248\n",
       "5         CartScreenAppear  6217807653094995999      1564055323    248\n",
       "6       OffersScreenAppear  8351860793733343758      1564066242    246\n",
       "7         MainScreenAppear  5682100281902512875      1564085677    246\n",
       "8         MainScreenAppear  1850981295691852772      1564086702    247\n",
       "9         MainScreenAppear  5407636962369102641      1564112112    246"
      ]
     },
     "metadata": {},
     "output_type": "display_data"
    },
    {
     "name": "stdout",
     "output_type": "stream",
     "text": [
      "<class 'pandas.core.frame.DataFrame'>\n",
      "RangeIndex: 244126 entries, 0 to 244125\n",
      "Data columns (total 4 columns):\n",
      " #   Column          Non-Null Count   Dtype \n",
      "---  ------          --------------   ----- \n",
      " 0   EventName       244126 non-null  object\n",
      " 1   DeviceIDHash    244126 non-null  int64 \n",
      " 2   EventTimestamp  244126 non-null  int64 \n",
      " 3   ExpId           244126 non-null  int64 \n",
      "dtypes: int64(3), object(1)\n",
      "memory usage: 7.5+ MB\n"
     ]
    },
    {
     "data": {
      "text/plain": [
       "None"
      ]
     },
     "metadata": {},
     "output_type": "display_data"
    },
    {
     "name": "stdout",
     "output_type": "stream",
     "text": [
      "Количество пропусков: EventName         0\n",
      "DeviceIDHash      0\n",
      "EventTimestamp    0\n",
      "ExpId             0\n",
      "dtype: int64\n",
      "Количество дубликатов: 413\n"
     ]
    }
   ],
   "source": [
    "df = pd.read_csv('/datasets/logs_exp.csv', sep='\\t')\n",
    "\n",
    "display(df.head(10))\n",
    "display(df.info())\n",
    "print('Количество пропусков:', df.isnull().sum())\n",
    "print('Количество дубликатов:', df.duplicated().sum())"
   ]
  },
  {
   "cell_type": "markdown",
   "metadata": {},
   "source": [
    "В таблице 244126 строк, 4 столбца: EventName, DeviceIDHash, EventTimestamp, ExpId. Далее отредактирую названия столбцов.\n",
    "\n",
    "Пропусков в данных нет, но есть 413 дубликатов, их нужно будет удалить (объем данных позволяет). \n",
    "\n",
    "Изменю тип данных в столбце EventTimestamp, добавлю дополнительные столбцы с датой и временем и датой. \n",
    "\n"
   ]
  },
  {
   "cell_type": "code",
   "execution_count": 3,
   "metadata": {},
   "outputs": [
    {
     "data": {
      "text/html": [
       "<div>\n",
       "<style scoped>\n",
       "    .dataframe tbody tr th:only-of-type {\n",
       "        vertical-align: middle;\n",
       "    }\n",
       "\n",
       "    .dataframe tbody tr th {\n",
       "        vertical-align: top;\n",
       "    }\n",
       "\n",
       "    .dataframe thead th {\n",
       "        text-align: right;\n",
       "    }\n",
       "</style>\n",
       "<table border=\"1\" class=\"dataframe\">\n",
       "  <thead>\n",
       "    <tr style=\"text-align: right;\">\n",
       "      <th></th>\n",
       "      <th>event_name</th>\n",
       "      <th>device_id_hash</th>\n",
       "      <th>event_timestamp</th>\n",
       "      <th>exp_id</th>\n",
       "    </tr>\n",
       "  </thead>\n",
       "  <tbody>\n",
       "    <tr>\n",
       "      <th>0</th>\n",
       "      <td>MainScreenAppear</td>\n",
       "      <td>4575588528974610257</td>\n",
       "      <td>1564029816</td>\n",
       "      <td>246</td>\n",
       "    </tr>\n",
       "    <tr>\n",
       "      <th>1</th>\n",
       "      <td>MainScreenAppear</td>\n",
       "      <td>7416695313311560658</td>\n",
       "      <td>1564053102</td>\n",
       "      <td>246</td>\n",
       "    </tr>\n",
       "    <tr>\n",
       "      <th>2</th>\n",
       "      <td>PaymentScreenSuccessful</td>\n",
       "      <td>3518123091307005509</td>\n",
       "      <td>1564054127</td>\n",
       "      <td>248</td>\n",
       "    </tr>\n",
       "    <tr>\n",
       "      <th>3</th>\n",
       "      <td>CartScreenAppear</td>\n",
       "      <td>3518123091307005509</td>\n",
       "      <td>1564054127</td>\n",
       "      <td>248</td>\n",
       "    </tr>\n",
       "    <tr>\n",
       "      <th>4</th>\n",
       "      <td>PaymentScreenSuccessful</td>\n",
       "      <td>6217807653094995999</td>\n",
       "      <td>1564055322</td>\n",
       "      <td>248</td>\n",
       "    </tr>\n",
       "  </tbody>\n",
       "</table>\n",
       "</div>"
      ],
      "text/plain": [
       "                event_name       device_id_hash  event_timestamp  exp_id\n",
       "0         MainScreenAppear  4575588528974610257       1564029816     246\n",
       "1         MainScreenAppear  7416695313311560658       1564053102     246\n",
       "2  PaymentScreenSuccessful  3518123091307005509       1564054127     248\n",
       "3         CartScreenAppear  3518123091307005509       1564054127     248\n",
       "4  PaymentScreenSuccessful  6217807653094995999       1564055322     248"
      ]
     },
     "metadata": {},
     "output_type": "display_data"
    }
   ],
   "source": [
    "# Меняю запись названий столбцов\n",
    "df.rename(columns = {'EventName':'event_name', 'DeviceIDHash':'device_id_hash', 'EventName':'event_name', 'EventTimestamp':'event_timestamp', 'ExpId':'exp_id' }, inplace = True )\n",
    "display(df.head())"
   ]
  },
  {
   "cell_type": "code",
   "execution_count": 4,
   "metadata": {},
   "outputs": [
    {
     "name": "stdout",
     "output_type": "stream",
     "text": [
      "Количество дубликатов: 0\n"
     ]
    }
   ],
   "source": [
    "#Убираю дубликаты\n",
    "df = df.drop_duplicates().reset_index(drop=True) \n",
    "print('Количество дубликатов:', df.duplicated().sum())"
   ]
  },
  {
   "cell_type": "code",
   "execution_count": 5,
   "metadata": {},
   "outputs": [
    {
     "data": {
      "text/html": [
       "<div>\n",
       "<style scoped>\n",
       "    .dataframe tbody tr th:only-of-type {\n",
       "        vertical-align: middle;\n",
       "    }\n",
       "\n",
       "    .dataframe tbody tr th {\n",
       "        vertical-align: top;\n",
       "    }\n",
       "\n",
       "    .dataframe thead th {\n",
       "        text-align: right;\n",
       "    }\n",
       "</style>\n",
       "<table border=\"1\" class=\"dataframe\">\n",
       "  <thead>\n",
       "    <tr style=\"text-align: right;\">\n",
       "      <th></th>\n",
       "      <th>event_name</th>\n",
       "      <th>device_id_hash</th>\n",
       "      <th>event_timestamp</th>\n",
       "      <th>exp_id</th>\n",
       "      <th>event_date_time</th>\n",
       "      <th>event_dt</th>\n",
       "    </tr>\n",
       "  </thead>\n",
       "  <tbody>\n",
       "    <tr>\n",
       "      <th>0</th>\n",
       "      <td>MainScreenAppear</td>\n",
       "      <td>4575588528974610257</td>\n",
       "      <td>1564029816</td>\n",
       "      <td>246</td>\n",
       "      <td>2019-07-25 04:43:36</td>\n",
       "      <td>2019-07-25</td>\n",
       "    </tr>\n",
       "    <tr>\n",
       "      <th>1</th>\n",
       "      <td>MainScreenAppear</td>\n",
       "      <td>7416695313311560658</td>\n",
       "      <td>1564053102</td>\n",
       "      <td>246</td>\n",
       "      <td>2019-07-25 11:11:42</td>\n",
       "      <td>2019-07-25</td>\n",
       "    </tr>\n",
       "    <tr>\n",
       "      <th>2</th>\n",
       "      <td>PaymentScreenSuccessful</td>\n",
       "      <td>3518123091307005509</td>\n",
       "      <td>1564054127</td>\n",
       "      <td>248</td>\n",
       "      <td>2019-07-25 11:28:47</td>\n",
       "      <td>2019-07-25</td>\n",
       "    </tr>\n",
       "    <tr>\n",
       "      <th>3</th>\n",
       "      <td>CartScreenAppear</td>\n",
       "      <td>3518123091307005509</td>\n",
       "      <td>1564054127</td>\n",
       "      <td>248</td>\n",
       "      <td>2019-07-25 11:28:47</td>\n",
       "      <td>2019-07-25</td>\n",
       "    </tr>\n",
       "    <tr>\n",
       "      <th>4</th>\n",
       "      <td>PaymentScreenSuccessful</td>\n",
       "      <td>6217807653094995999</td>\n",
       "      <td>1564055322</td>\n",
       "      <td>248</td>\n",
       "      <td>2019-07-25 11:48:42</td>\n",
       "      <td>2019-07-25</td>\n",
       "    </tr>\n",
       "  </tbody>\n",
       "</table>\n",
       "</div>"
      ],
      "text/plain": [
       "                event_name       device_id_hash  event_timestamp  exp_id  \\\n",
       "0         MainScreenAppear  4575588528974610257       1564029816     246   \n",
       "1         MainScreenAppear  7416695313311560658       1564053102     246   \n",
       "2  PaymentScreenSuccessful  3518123091307005509       1564054127     248   \n",
       "3         CartScreenAppear  3518123091307005509       1564054127     248   \n",
       "4  PaymentScreenSuccessful  6217807653094995999       1564055322     248   \n",
       "\n",
       "      event_date_time    event_dt  \n",
       "0 2019-07-25 04:43:36  2019-07-25  \n",
       "1 2019-07-25 11:11:42  2019-07-25  \n",
       "2 2019-07-25 11:28:47  2019-07-25  \n",
       "3 2019-07-25 11:28:47  2019-07-25  \n",
       "4 2019-07-25 11:48:42  2019-07-25  "
      ]
     },
     "metadata": {},
     "output_type": "display_data"
    },
    {
     "name": "stdout",
     "output_type": "stream",
     "text": [
      "<class 'pandas.core.frame.DataFrame'>\n",
      "RangeIndex: 243713 entries, 0 to 243712\n",
      "Data columns (total 6 columns):\n",
      " #   Column           Non-Null Count   Dtype         \n",
      "---  ------           --------------   -----         \n",
      " 0   event_name       243713 non-null  object        \n",
      " 1   device_id_hash   243713 non-null  int64         \n",
      " 2   event_timestamp  243713 non-null  int64         \n",
      " 3   exp_id           243713 non-null  int64         \n",
      " 4   event_date_time  243713 non-null  datetime64[ns]\n",
      " 5   event_dt         243713 non-null  object        \n",
      "dtypes: datetime64[ns](1), int64(3), object(2)\n",
      "memory usage: 11.2+ MB\n"
     ]
    },
    {
     "data": {
      "text/plain": [
       "None"
      ]
     },
     "metadata": {},
     "output_type": "display_data"
    }
   ],
   "source": [
    "#Добавляю столдцы с датой и временем и датой\n",
    "df['event_date_time'] = pd.to_datetime(df['event_timestamp'], unit = 's')  \n",
    "df['event_dt'] = pd.to_datetime(df['event_timestamp'], unit = 's').dt.date\n",
    "\n",
    "display(df.head())\n",
    "display(df.info())"
   ]
  },
  {
   "cell_type": "markdown",
   "metadata": {},
   "source": [
    "## Ознакомление с данными и их проверка"
   ]
  },
  {
   "cell_type": "markdown",
   "metadata": {},
   "source": [
    "### Сколько всего событий в логе?"
   ]
  },
  {
   "cell_type": "code",
   "execution_count": 6,
   "metadata": {},
   "outputs": [
    {
     "name": "stdout",
     "output_type": "stream",
     "text": [
      "Количество событий в логе: 243713\n"
     ]
    }
   ],
   "source": [
    "print('Количество событий в логе:', df['event_name'].count())"
   ]
  },
  {
   "cell_type": "markdown",
   "metadata": {},
   "source": [
    "### Сколько всего пользователей в логе?"
   ]
  },
  {
   "cell_type": "code",
   "execution_count": 7,
   "metadata": {},
   "outputs": [
    {
     "name": "stdout",
     "output_type": "stream",
     "text": [
      "Количество пользователей в логе: 7551\n"
     ]
    }
   ],
   "source": [
    "print('Количество пользователей в логе:', df['device_id_hash'].nunique())"
   ]
  },
  {
   "cell_type": "markdown",
   "metadata": {},
   "source": [
    "### Сколько в среднем событий приходится на пользователя?"
   ]
  },
  {
   "cell_type": "code",
   "execution_count": 8,
   "metadata": {},
   "outputs": [
    {
     "name": "stdout",
     "output_type": "stream",
     "text": [
      "В среднем на пользователя приходится 32 события\n"
     ]
    }
   ],
   "source": [
    "print('В среднем на пользователя приходится',  int(df['event_name'].count()/df['device_id_hash'].nunique()), 'события')"
   ]
  },
  {
   "cell_type": "markdown",
   "metadata": {},
   "source": [
    "### Данными за какой период вы располагаете?"
   ]
  },
  {
   "cell_type": "code",
   "execution_count": 9,
   "metadata": {},
   "outputs": [
    {
     "name": "stdout",
     "output_type": "stream",
     "text": [
      "\n",
      " Начальная дата 2019-07-25 04:43:36, конечная дата 2019-08-07 21:15:17\n",
      "\n"
     ]
    }
   ],
   "source": [
    "#Выведу начальную и конечную даты\n",
    "print('\\n Начальная дата {}, конечная дата {}\\n'.format(df['event_date_time'].min(), df['event_date_time'].max()))"
   ]
  },
  {
   "cell_type": "code",
   "execution_count": 10,
   "metadata": {},
   "outputs": [
    {
     "data": {
      "image/png": "[encoded data removed]",
      "text/plain": [
       "<Figure size 1440x720 with 1 Axes>"
      ]
     },
     "metadata": {
      "needs_background": "light"
     },
     "output_type": "display_data"
    }
   ],
   "source": [
    "#Группирую данные\n",
    "event_date = df.groupby('event_dt')['event_dt'].count()\n",
    "event_date.plot(figsize=(20,10), x='event_dt', y='count', kind='bar', grid=True)\n",
    "plt.title('Гистограмма распределения событий по дате и времени',fontsize=18)\n",
    "plt.xlabel('Дата',fontsize=14)\n",
    "plt.ylabel('Количество событий',fontsize=14)\n",
    "plt.show()"
   ]
  },
  {
   "cell_type": "code",
   "execution_count": 11,
   "metadata": {},
   "outputs": [
    {
     "data": {
      "image/png": "[encoded data removed]",
      "text/plain": [
       "<Figure size 1008x360 with 1 Axes>"
      ]
     },
     "metadata": {
      "needs_background": "light"
     },
     "output_type": "display_data"
    }
   ],
   "source": [
    "df['event_date_time'].hist(bins=14*24, figsize=(14, 5));"
   ]
  },
  {
   "cell_type": "markdown",
   "metadata": {},
   "source": [
    "Исходя из данных. представленных на диаграмме видим, что в первые дни проведения теста до 31.07 данные явно не полные, их слишком мало, количество событий в разы меньше, чем в остальные даты. Стабильное количество событий наблюдаем с 01.08 по 07.08. Логично для дальнейшей работы оставить только события за этот период. "
   ]
  },
  {
   "cell_type": "code",
   "execution_count": 12,
   "metadata": {},
   "outputs": [
    {
     "name": "stdout",
     "output_type": "stream",
     "text": [
      "\n",
      " Начальная дата 2019-08-01 00:07:28, конечная дата 2019-08-07 21:15:17\n",
      "\n"
     ]
    }
   ],
   "source": [
    "#Создам датафрейм, из которого уберу лишние даты\n",
    "new_df = df.query(\"event_date_time  > '2019-08-01 00:00:00'\")\n",
    "print('\\n Начальная дата {}, конечная дата {}\\n'.format(new_df['event_date_time'].min(), new_df['event_date_time'].max()))"
   ]
  },
  {
   "cell_type": "markdown",
   "metadata": {},
   "source": [
    "### Проверка количества событий и пользователей после удаления данных"
   ]
  },
  {
   "cell_type": "code",
   "execution_count": 13,
   "metadata": {},
   "outputs": [
    {
     "name": "stdout",
     "output_type": "stream",
     "text": [
      "Количество событий в логе: 240887\n",
      "Процент \"потерянных\" событий: -1.16\n"
     ]
    }
   ],
   "source": [
    "print('Количество событий в логе:', new_df['event_name'].count())\n",
    "print('Процент \"потерянных\" событий:', round(new_df['event_name'].count()/df['event_name'].count()*100 - 100, 2))"
   ]
  },
  {
   "cell_type": "code",
   "execution_count": 14,
   "metadata": {},
   "outputs": [
    {
     "name": "stdout",
     "output_type": "stream",
     "text": [
      "Количество пользователей в логе: 7534\n",
      "Процент \"потерянных\" пользователей: -0.23\n"
     ]
    }
   ],
   "source": [
    "print('Количество пользователей в логе:', new_df['device_id_hash'].nunique())\n",
    "print('Процент \"потерянных\" пользователей:', round(new_df['device_id_hash'].nunique()/df['device_id_hash'].nunique()*100 - 100, 2))"
   ]
  },
  {
   "cell_type": "markdown",
   "metadata": {},
   "source": [
    "Количество событий в логе сократилось менее, чем на 2%, количество уникальных пользователей - менее чем на 1%. Такое сокращение до 5% приемлемо, на результаты исследования не повлияет. "
   ]
  },
  {
   "cell_type": "code",
   "execution_count": 15,
   "metadata": {},
   "outputs": [
    {
     "data": {
      "text/html": [
       "<div>\n",
       "<style scoped>\n",
       "    .dataframe tbody tr th:only-of-type {\n",
       "        vertical-align: middle;\n",
       "    }\n",
       "\n",
       "    .dataframe tbody tr th {\n",
       "        vertical-align: top;\n",
       "    }\n",
       "\n",
       "    .dataframe thead th {\n",
       "        text-align: right;\n",
       "    }\n",
       "</style>\n",
       "<table border=\"1\" class=\"dataframe\">\n",
       "  <thead>\n",
       "    <tr style=\"text-align: right;\">\n",
       "      <th></th>\n",
       "      <th>event_name</th>\n",
       "      <th>device_id_hash</th>\n",
       "      <th>event_timestamp</th>\n",
       "      <th>event_date_time</th>\n",
       "      <th>event_dt</th>\n",
       "    </tr>\n",
       "    <tr>\n",
       "      <th>exp_id</th>\n",
       "      <th></th>\n",
       "      <th></th>\n",
       "      <th></th>\n",
       "      <th></th>\n",
       "      <th></th>\n",
       "    </tr>\n",
       "  </thead>\n",
       "  <tbody>\n",
       "    <tr>\n",
       "      <th>246</th>\n",
       "      <td>79302</td>\n",
       "      <td>79302</td>\n",
       "      <td>79302</td>\n",
       "      <td>79302</td>\n",
       "      <td>79302</td>\n",
       "    </tr>\n",
       "    <tr>\n",
       "      <th>247</th>\n",
       "      <td>77022</td>\n",
       "      <td>77022</td>\n",
       "      <td>77022</td>\n",
       "      <td>77022</td>\n",
       "      <td>77022</td>\n",
       "    </tr>\n",
       "    <tr>\n",
       "      <th>248</th>\n",
       "      <td>84563</td>\n",
       "      <td>84563</td>\n",
       "      <td>84563</td>\n",
       "      <td>84563</td>\n",
       "      <td>84563</td>\n",
       "    </tr>\n",
       "  </tbody>\n",
       "</table>\n",
       "</div>"
      ],
      "text/plain": [
       "        event_name  device_id_hash  event_timestamp  event_date_time  event_dt\n",
       "exp_id                                                                        \n",
       "246          79302           79302            79302            79302     79302\n",
       "247          77022           77022            77022            77022     77022\n",
       "248          84563           84563            84563            84563     84563"
      ]
     },
     "metadata": {},
     "output_type": "display_data"
    }
   ],
   "source": [
    "###Проверю наличие в данных информации о пользователях из всех 3 групп\n",
    "display(new_df.groupby('exp_id').count())"
   ]
  },
  {
   "cell_type": "markdown",
   "metadata": {},
   "source": [
    "Видим, что в данных по-прежнему есть информация о пользователях всех трех групп. Можно продолжать исследование. "
   ]
  },
  {
   "cell_type": "markdown",
   "metadata": {},
   "source": [
    "## Изучение воронки событий"
   ]
  },
  {
   "cell_type": "markdown",
   "metadata": {},
   "source": [
    "### Типы событий в логах, их частота"
   ]
  },
  {
   "cell_type": "code",
   "execution_count": 16,
   "metadata": {},
   "outputs": [
    {
     "data": {
      "text/plain": [
       "event_name\n",
       "MainScreenAppear           117328\n",
       "OffersScreenAppear          46333\n",
       "CartScreenAppear            42303\n",
       "PaymentScreenSuccessful     33918\n",
       "Tutorial                     1005\n",
       "Name: event_name, dtype: int64"
      ]
     },
     "metadata": {},
     "output_type": "display_data"
    }
   ],
   "source": [
    "#Считаю количество событий с группировкой по типу события\n",
    "display(new_df.groupby('event_name')['event_name'].count().sort_values(ascending = False))"
   ]
  },
  {
   "cell_type": "markdown",
   "metadata": {},
   "source": [
    "Ожидаемо, самое частое событие в логах - MainScreenAppear - Просмотр главной страницы. Шаг Tutorial - Руководство - интересует далеко не всех пользователей, возможно, это информация на сайте, которую можно пропустить. "
   ]
  },
  {
   "cell_type": "markdown",
   "metadata": {},
   "source": [
    "### Количество пользователей совершавших события"
   ]
  },
  {
   "cell_type": "code",
   "execution_count": 17,
   "metadata": {},
   "outputs": [
    {
     "data": {
      "text/plain": [
       "event_name\n",
       "MainScreenAppear           7419\n",
       "OffersScreenAppear         4593\n",
       "CartScreenAppear           3734\n",
       "PaymentScreenSuccessful    3539\n",
       "Tutorial                    840\n",
       "Name: device_id_hash, dtype: int64"
      ]
     },
     "metadata": {},
     "output_type": "display_data"
    }
   ],
   "source": [
    "#Считаю, сколько пользователи совершили каждое из событий\n",
    "display(new_df.groupby('event_name')['device_id_hash'].nunique().sort_values(ascending = False))"
   ]
  },
  {
   "cell_type": "markdown",
   "metadata": {},
   "source": [
    "Общее количество уникальных пользователей в логе 7534, исходя из этого посчитаем, какая доля пользователей совершила каждое из событий хотя бы раз:"
   ]
  },
  {
   "cell_type": "code",
   "execution_count": 18,
   "metadata": {},
   "outputs": [
    {
     "data": {
      "text/plain": [
       "event_name\n",
       "MainScreenAppear           98.0\n",
       "OffersScreenAppear         61.0\n",
       "CartScreenAppear           50.0\n",
       "PaymentScreenSuccessful    47.0\n",
       "Tutorial                   11.0\n",
       "Name: device_id_hash, dtype: float64"
      ]
     },
     "metadata": {},
     "output_type": "display_data"
    }
   ],
   "source": [
    "display(round(new_df.groupby('event_name')['device_id_hash'].nunique().sort_values(ascending = False)/new_df['device_id_hash'].nunique()* 100))\n",
    "pd.options.display.float_format = '{:.1f}%'.format"
   ]
  },
  {
   "cell_type": "markdown",
   "metadata": {},
   "source": [
    "Таким образом: 98% пользователей хотя бы 1 раз просматривали главную страницу, 61% - просматривали страницу с ценами, 50% переходили в корзину, 47% увидели страницу с информацией обуспешной оплате покупки, 11% пользователей просмотрели руководство. "
   ]
  },
  {
   "cell_type": "markdown",
   "metadata": {},
   "source": [
    "### Последовательность событий"
   ]
  },
  {
   "cell_type": "markdown",
   "metadata": {},
   "source": [
    "Предполагаю, что чаще всего первым  событием является MainScreenAppear либо OffersScreenAppear, думаю, что пользователи могут попадать сразу на страницу с ценами, минуя главную (например, если переходят по прямой ссылке или из пуш-сообщения), т.е. эти действия не всегда и не обязательно последовательны. \n",
    "\n",
    "Далее пользователь совершает выбор и переходит в корзину - CartScreenAppear, затем производит оплату и видит  PaymentScreenSuccessful. Скорее всего эти два событи - последовательны, в том случае, если на сайте нет, например,кнопки быстрой оплаты минуя корзину.  \n",
    "\n",
    "Не считаю, что просмотр Tutorial - это последний шаг, вполне возмжны сценарии, когда Руководство смотрят, чтобы лучше ознакомиться с продуктом/сформировать мнение перед покупкой. Может быть это руководство по использованию приложения, тогда многие пользователи могут его пропукать, если интерейс приложения итак достаточно интуитивно-понятнй. \n",
    "\n",
    "Т.е. предположительно, последовательность событий такая:\n",
    "\n",
    "1. MainScreenAppear  \n",
    "2. OffersScreenAppear\n",
    "3. CartScreenAppear \n",
    "4. PaymentScreenSuccessful "
   ]
  },
  {
   "cell_type": "markdown",
   "metadata": {},
   "source": [
    "### Подсчет доли пользователей, которая проходит на следующий шаг воронки событий"
   ]
  },
  {
   "cell_type": "code",
   "execution_count": 19,
   "metadata": {},
   "outputs": [
    {
     "data": {
      "text/html": [
       "<div>\n",
       "<style scoped>\n",
       "    .dataframe tbody tr th:only-of-type {\n",
       "        vertical-align: middle;\n",
       "    }\n",
       "\n",
       "    .dataframe tbody tr th {\n",
       "        vertical-align: top;\n",
       "    }\n",
       "\n",
       "    .dataframe thead th {\n",
       "        text-align: right;\n",
       "    }\n",
       "</style>\n",
       "<table border=\"1\" class=\"dataframe\">\n",
       "  <thead>\n",
       "    <tr style=\"text-align: right;\">\n",
       "      <th></th>\n",
       "      <th>device_id_hash</th>\n",
       "    </tr>\n",
       "    <tr>\n",
       "      <th>event_name</th>\n",
       "      <th></th>\n",
       "    </tr>\n",
       "  </thead>\n",
       "  <tbody>\n",
       "    <tr>\n",
       "      <th>MainScreenAppear</th>\n",
       "      <td>7419</td>\n",
       "    </tr>\n",
       "    <tr>\n",
       "      <th>OffersScreenAppear</th>\n",
       "      <td>4593</td>\n",
       "    </tr>\n",
       "    <tr>\n",
       "      <th>CartScreenAppear</th>\n",
       "      <td>3734</td>\n",
       "    </tr>\n",
       "    <tr>\n",
       "      <th>PaymentScreenSuccessful</th>\n",
       "      <td>3539</td>\n",
       "    </tr>\n",
       "  </tbody>\n",
       "</table>\n",
       "</div>"
      ],
      "text/plain": [
       "                         device_id_hash\n",
       "event_name                             \n",
       "MainScreenAppear                   7419\n",
       "OffersScreenAppear                 4593\n",
       "CartScreenAppear                   3734\n",
       "PaymentScreenSuccessful            3539"
      ]
     },
     "metadata": {},
     "output_type": "display_data"
    }
   ],
   "source": [
    "#Создам сводную с количеством пользователей на каждое событие, сразу удалю событие Tutorial, т.к. в воронке его учитывать не нужно\n",
    "events_df = new_df.pivot_table(index='event_name',values='device_id_hash',aggfunc='nunique').sort_values(by = 'device_id_hash', ascending = False)\n",
    "events_df.drop(['Tutorial'], inplace=True)\n",
    "display(events_df)"
   ]
  },
  {
   "cell_type": "code",
   "execution_count": 20,
   "metadata": {},
   "outputs": [
    {
     "data": {
      "text/html": [
       "<div>\n",
       "<style scoped>\n",
       "    .dataframe tbody tr th:only-of-type {\n",
       "        vertical-align: middle;\n",
       "    }\n",
       "\n",
       "    .dataframe tbody tr th {\n",
       "        vertical-align: top;\n",
       "    }\n",
       "\n",
       "    .dataframe thead th {\n",
       "        text-align: right;\n",
       "    }\n",
       "</style>\n",
       "<table border=\"1\" class=\"dataframe\">\n",
       "  <thead>\n",
       "    <tr style=\"text-align: right;\">\n",
       "      <th></th>\n",
       "      <th>device_id_hash</th>\n",
       "      <th>conversion</th>\n",
       "    </tr>\n",
       "    <tr>\n",
       "      <th>event_name</th>\n",
       "      <th></th>\n",
       "      <th></th>\n",
       "    </tr>\n",
       "  </thead>\n",
       "  <tbody>\n",
       "    <tr>\n",
       "      <th>MainScreenAppear</th>\n",
       "      <td>7419</td>\n",
       "      <td>NaN</td>\n",
       "    </tr>\n",
       "    <tr>\n",
       "      <th>OffersScreenAppear</th>\n",
       "      <td>4593</td>\n",
       "      <td>61.9%</td>\n",
       "    </tr>\n",
       "    <tr>\n",
       "      <th>CartScreenAppear</th>\n",
       "      <td>3734</td>\n",
       "      <td>81.3%</td>\n",
       "    </tr>\n",
       "    <tr>\n",
       "      <th>PaymentScreenSuccessful</th>\n",
       "      <td>3539</td>\n",
       "      <td>94.8%</td>\n",
       "    </tr>\n",
       "  </tbody>\n",
       "</table>\n",
       "</div>"
      ],
      "text/plain": [
       "                         device_id_hash  conversion\n",
       "event_name                                         \n",
       "MainScreenAppear                   7419         NaN\n",
       "OffersScreenAppear                 4593       61.9%\n",
       "CartScreenAppear                   3734       81.3%\n",
       "PaymentScreenSuccessful            3539       94.8%"
      ]
     },
     "metadata": {},
     "output_type": "display_data"
    }
   ],
   "source": [
    "#подсчитаю долю пользователей, которые переходят на следующий шаг воронки\n",
    "events_df['conversion'] = events_df.device_id_hash/events_df.device_id_hash.shift(1)*100\n",
    "display(events_df)"
   ]
  },
  {
   "cell_type": "markdown",
   "metadata": {},
   "source": [
    "Видим, что на шаг OffersScreenAppear переходит 61.9% пользователей с шага MainScreenAppear. \n",
    "На экран CartScreenAppear переходит 81.3% пользователей с шага OffersScreenAppear и на последний шаг PaymentScreenSuccessful из корзины переходит 94,8% пользователей. \n",
    "\n",
    "Больше всего пользователей теряется при переходе на шаг OffersScreenAppear, на этом шаге видим самую низкую конверсию - 61,9%. "
   ]
  },
  {
   "cell_type": "code",
   "execution_count": 21,
   "metadata": {},
   "outputs": [
    {
     "name": "stdout",
     "output_type": "stream",
     "text": [
      "От первого события до оплаты доходит 48.0 % пользователей\n"
     ]
    }
   ],
   "source": [
    "#Посчитаем, какая доля пользователей доходит до последнего шага\n",
    "print('От первого события до оплаты доходит', round(events_df['device_id_hash'].iloc[3]/events_df['device_id_hash'].iloc[0], 2)*100, '% пользователей')"
   ]
  },
  {
   "cell_type": "markdown",
   "metadata": {},
   "source": [
    "## Анализ результатов эксперимента"
   ]
  },
  {
   "cell_type": "code",
   "execution_count": 22,
   "metadata": {},
   "outputs": [
    {
     "data": {
      "text/html": [
       "<div>\n",
       "<style scoped>\n",
       "    .dataframe tbody tr th:only-of-type {\n",
       "        vertical-align: middle;\n",
       "    }\n",
       "\n",
       "    .dataframe tbody tr th {\n",
       "        vertical-align: top;\n",
       "    }\n",
       "\n",
       "    .dataframe thead th {\n",
       "        text-align: right;\n",
       "    }\n",
       "</style>\n",
       "<table border=\"1\" class=\"dataframe\">\n",
       "  <thead>\n",
       "    <tr style=\"text-align: right;\">\n",
       "      <th></th>\n",
       "      <th>event_name</th>\n",
       "      <th>device_id_hash</th>\n",
       "      <th>event_timestamp</th>\n",
       "      <th>exp_id</th>\n",
       "      <th>event_date_time</th>\n",
       "      <th>event_dt</th>\n",
       "      <th>group</th>\n",
       "    </tr>\n",
       "  </thead>\n",
       "  <tbody>\n",
       "    <tr>\n",
       "      <th>2826</th>\n",
       "      <td>Tutorial</td>\n",
       "      <td>3737462046622621720</td>\n",
       "      <td>1564618048</td>\n",
       "      <td>246</td>\n",
       "      <td>2019-08-01 00:07:28</td>\n",
       "      <td>2019-08-01</td>\n",
       "      <td>A1</td>\n",
       "    </tr>\n",
       "    <tr>\n",
       "      <th>2827</th>\n",
       "      <td>MainScreenAppear</td>\n",
       "      <td>3737462046622621720</td>\n",
       "      <td>1564618080</td>\n",
       "      <td>246</td>\n",
       "      <td>2019-08-01 00:08:00</td>\n",
       "      <td>2019-08-01</td>\n",
       "      <td>A1</td>\n",
       "    </tr>\n",
       "    <tr>\n",
       "      <th>2828</th>\n",
       "      <td>MainScreenAppear</td>\n",
       "      <td>3737462046622621720</td>\n",
       "      <td>1564618135</td>\n",
       "      <td>246</td>\n",
       "      <td>2019-08-01 00:08:55</td>\n",
       "      <td>2019-08-01</td>\n",
       "      <td>A1</td>\n",
       "    </tr>\n",
       "    <tr>\n",
       "      <th>2829</th>\n",
       "      <td>OffersScreenAppear</td>\n",
       "      <td>3737462046622621720</td>\n",
       "      <td>1564618138</td>\n",
       "      <td>246</td>\n",
       "      <td>2019-08-01 00:08:58</td>\n",
       "      <td>2019-08-01</td>\n",
       "      <td>A1</td>\n",
       "    </tr>\n",
       "    <tr>\n",
       "      <th>2830</th>\n",
       "      <td>MainScreenAppear</td>\n",
       "      <td>1433840883824088890</td>\n",
       "      <td>1564618139</td>\n",
       "      <td>247</td>\n",
       "      <td>2019-08-01 00:08:59</td>\n",
       "      <td>2019-08-01</td>\n",
       "      <td>A2</td>\n",
       "    </tr>\n",
       "    <tr>\n",
       "      <th>2831</th>\n",
       "      <td>MainScreenAppear</td>\n",
       "      <td>4899590676214355127</td>\n",
       "      <td>1564618215</td>\n",
       "      <td>247</td>\n",
       "      <td>2019-08-01 00:10:15</td>\n",
       "      <td>2019-08-01</td>\n",
       "      <td>A2</td>\n",
       "    </tr>\n",
       "    <tr>\n",
       "      <th>2832</th>\n",
       "      <td>OffersScreenAppear</td>\n",
       "      <td>3737462046622621720</td>\n",
       "      <td>1564618226</td>\n",
       "      <td>246</td>\n",
       "      <td>2019-08-01 00:10:26</td>\n",
       "      <td>2019-08-01</td>\n",
       "      <td>A1</td>\n",
       "    </tr>\n",
       "    <tr>\n",
       "      <th>2833</th>\n",
       "      <td>MainScreenAppear</td>\n",
       "      <td>3737462046622621720</td>\n",
       "      <td>1564618247</td>\n",
       "      <td>246</td>\n",
       "      <td>2019-08-01 00:10:47</td>\n",
       "      <td>2019-08-01</td>\n",
       "      <td>A1</td>\n",
       "    </tr>\n",
       "    <tr>\n",
       "      <th>2834</th>\n",
       "      <td>MainScreenAppear</td>\n",
       "      <td>3737462046622621720</td>\n",
       "      <td>1564618270</td>\n",
       "      <td>246</td>\n",
       "      <td>2019-08-01 00:11:10</td>\n",
       "      <td>2019-08-01</td>\n",
       "      <td>A1</td>\n",
       "    </tr>\n",
       "    <tr>\n",
       "      <th>2835</th>\n",
       "      <td>MainScreenAppear</td>\n",
       "      <td>3737462046622621720</td>\n",
       "      <td>1564618280</td>\n",
       "      <td>246</td>\n",
       "      <td>2019-08-01 00:11:20</td>\n",
       "      <td>2019-08-01</td>\n",
       "      <td>A1</td>\n",
       "    </tr>\n",
       "    <tr>\n",
       "      <th>2836</th>\n",
       "      <td>MainScreenAppear</td>\n",
       "      <td>4899590676214355127</td>\n",
       "      <td>1564618288</td>\n",
       "      <td>247</td>\n",
       "      <td>2019-08-01 00:11:28</td>\n",
       "      <td>2019-08-01</td>\n",
       "      <td>A2</td>\n",
       "    </tr>\n",
       "    <tr>\n",
       "      <th>2837</th>\n",
       "      <td>OffersScreenAppear</td>\n",
       "      <td>4899590676214355127</td>\n",
       "      <td>1564618290</td>\n",
       "      <td>247</td>\n",
       "      <td>2019-08-01 00:11:30</td>\n",
       "      <td>2019-08-01</td>\n",
       "      <td>A2</td>\n",
       "    </tr>\n",
       "    <tr>\n",
       "      <th>2838</th>\n",
       "      <td>MainScreenAppear</td>\n",
       "      <td>1182179323890311443</td>\n",
       "      <td>1564618317</td>\n",
       "      <td>246</td>\n",
       "      <td>2019-08-01 00:11:57</td>\n",
       "      <td>2019-08-01</td>\n",
       "      <td>A1</td>\n",
       "    </tr>\n",
       "    <tr>\n",
       "      <th>2839</th>\n",
       "      <td>Tutorial</td>\n",
       "      <td>3737462046622621720</td>\n",
       "      <td>1564618338</td>\n",
       "      <td>246</td>\n",
       "      <td>2019-08-01 00:12:18</td>\n",
       "      <td>2019-08-01</td>\n",
       "      <td>A1</td>\n",
       "    </tr>\n",
       "    <tr>\n",
       "      <th>2840</th>\n",
       "      <td>MainScreenAppear</td>\n",
       "      <td>3737462046622621720</td>\n",
       "      <td>1564618354</td>\n",
       "      <td>246</td>\n",
       "      <td>2019-08-01 00:12:34</td>\n",
       "      <td>2019-08-01</td>\n",
       "      <td>A1</td>\n",
       "    </tr>\n",
       "  </tbody>\n",
       "</table>\n",
       "</div>"
      ],
      "text/plain": [
       "              event_name       device_id_hash  event_timestamp  exp_id  \\\n",
       "2826            Tutorial  3737462046622621720       1564618048     246   \n",
       "2827    MainScreenAppear  3737462046622621720       1564618080     246   \n",
       "2828    MainScreenAppear  3737462046622621720       1564618135     246   \n",
       "2829  OffersScreenAppear  3737462046622621720       1564618138     246   \n",
       "2830    MainScreenAppear  1433840883824088890       1564618139     247   \n",
       "2831    MainScreenAppear  4899590676214355127       1564618215     247   \n",
       "2832  OffersScreenAppear  3737462046622621720       1564618226     246   \n",
       "2833    MainScreenAppear  3737462046622621720       1564618247     246   \n",
       "2834    MainScreenAppear  3737462046622621720       1564618270     246   \n",
       "2835    MainScreenAppear  3737462046622621720       1564618280     246   \n",
       "2836    MainScreenAppear  4899590676214355127       1564618288     247   \n",
       "2837  OffersScreenAppear  4899590676214355127       1564618290     247   \n",
       "2838    MainScreenAppear  1182179323890311443       1564618317     246   \n",
       "2839            Tutorial  3737462046622621720       1564618338     246   \n",
       "2840    MainScreenAppear  3737462046622621720       1564618354     246   \n",
       "\n",
       "         event_date_time    event_dt group  \n",
       "2826 2019-08-01 00:07:28  2019-08-01    A1  \n",
       "2827 2019-08-01 00:08:00  2019-08-01    A1  \n",
       "2828 2019-08-01 00:08:55  2019-08-01    A1  \n",
       "2829 2019-08-01 00:08:58  2019-08-01    A1  \n",
       "2830 2019-08-01 00:08:59  2019-08-01    A2  \n",
       "2831 2019-08-01 00:10:15  2019-08-01    A2  \n",
       "2832 2019-08-01 00:10:26  2019-08-01    A1  \n",
       "2833 2019-08-01 00:10:47  2019-08-01    A1  \n",
       "2834 2019-08-01 00:11:10  2019-08-01    A1  \n",
       "2835 2019-08-01 00:11:20  2019-08-01    A1  \n",
       "2836 2019-08-01 00:11:28  2019-08-01    A2  \n",
       "2837 2019-08-01 00:11:30  2019-08-01    A2  \n",
       "2838 2019-08-01 00:11:57  2019-08-01    A1  \n",
       "2839 2019-08-01 00:12:18  2019-08-01    A1  \n",
       "2840 2019-08-01 00:12:34  2019-08-01    A1  "
      ]
     },
     "execution_count": 22,
     "metadata": {},
     "output_type": "execute_result"
    }
   ],
   "source": [
    "#Добавлю названия групп для удобства в дальнейшей работе\n",
    "def group_name(exp_id):\n",
    "    '''Возвращает название группы'''\n",
    "    if exp_id == 246:\n",
    "        return \"A1\"\n",
    "    if exp_id == 247:\n",
    "        return \"A2\"\n",
    "    if exp_id == 248:\n",
    "        return \"B\"\n",
    "\n",
    "new_df['group'] = new_df['exp_id'].apply(group_name)\n",
    "new_df.head(15)"
   ]
  },
  {
   "cell_type": "code",
   "execution_count": 23,
   "metadata": {},
   "outputs": [
    {
     "data": {
      "text/plain": [
       "group\n",
       "A1    2484\n",
       "A2    2513\n",
       "B     2537\n",
       "Name: device_id_hash, dtype: int64"
      ]
     },
     "metadata": {},
     "output_type": "display_data"
    }
   ],
   "source": [
    "#Посчитаю количество уникальных пользователей в каждой группе эксперимента\n",
    "display(new_df.groupby('group')['device_id_hash'].nunique())"
   ]
  },
  {
   "cell_type": "markdown",
   "metadata": {},
   "source": [
    "Итак, группа A1 - 2484 пользователя, группа A2 - 2513 пользователей, группа B - 2537 пользователей. "
   ]
  },
  {
   "cell_type": "markdown",
   "metadata": {},
   "source": [
    "### Проверка наличия разницы между выборками"
   ]
  },
  {
   "cell_type": "code",
   "execution_count": 24,
   "metadata": {},
   "outputs": [
    {
     "data": {
      "text/html": [
       "<div>\n",
       "<style scoped>\n",
       "    .dataframe tbody tr th:only-of-type {\n",
       "        vertical-align: middle;\n",
       "    }\n",
       "\n",
       "    .dataframe tbody tr th {\n",
       "        vertical-align: top;\n",
       "    }\n",
       "\n",
       "    .dataframe thead th {\n",
       "        text-align: right;\n",
       "    }\n",
       "</style>\n",
       "<table border=\"1\" class=\"dataframe\">\n",
       "  <thead>\n",
       "    <tr style=\"text-align: right;\">\n",
       "      <th>group</th>\n",
       "      <th>A1</th>\n",
       "      <th>A2</th>\n",
       "      <th>B</th>\n",
       "    </tr>\n",
       "    <tr>\n",
       "      <th>event_name</th>\n",
       "      <th></th>\n",
       "      <th></th>\n",
       "      <th></th>\n",
       "    </tr>\n",
       "  </thead>\n",
       "  <tbody>\n",
       "    <tr>\n",
       "      <th>MainScreenAppear</th>\n",
       "      <td>2450</td>\n",
       "      <td>2476</td>\n",
       "      <td>2493</td>\n",
       "    </tr>\n",
       "    <tr>\n",
       "      <th>OffersScreenAppear</th>\n",
       "      <td>1542</td>\n",
       "      <td>1520</td>\n",
       "      <td>1531</td>\n",
       "    </tr>\n",
       "    <tr>\n",
       "      <th>CartScreenAppear</th>\n",
       "      <td>1266</td>\n",
       "      <td>1238</td>\n",
       "      <td>1230</td>\n",
       "    </tr>\n",
       "    <tr>\n",
       "      <th>PaymentScreenSuccessful</th>\n",
       "      <td>1200</td>\n",
       "      <td>1158</td>\n",
       "      <td>1181</td>\n",
       "    </tr>\n",
       "    <tr>\n",
       "      <th>Tutorial</th>\n",
       "      <td>278</td>\n",
       "      <td>283</td>\n",
       "      <td>279</td>\n",
       "    </tr>\n",
       "  </tbody>\n",
       "</table>\n",
       "</div>"
      ],
      "text/plain": [
       "group                      A1    A2     B\n",
       "event_name                               \n",
       "MainScreenAppear         2450  2476  2493\n",
       "OffersScreenAppear       1542  1520  1531\n",
       "CartScreenAppear         1266  1238  1230\n",
       "PaymentScreenSuccessful  1200  1158  1181\n",
       "Tutorial                  278   283   279"
      ]
     },
     "metadata": {},
     "output_type": "display_data"
    }
   ],
   "source": [
    "#Для дальнейшей работы создам датафрейм с количеством уникальных пользователей по событиям в разрезе контрольгых групп\n",
    "final_df = new_df.pivot_table(index='event_name',columns='group',values='device_id_hash',aggfunc='nunique').sort_values\\\n",
    "(by = 'A1', ascending=False)\n",
    "display(final_df)"
   ]
  },
  {
   "cell_type": "code",
   "execution_count": 25,
   "metadata": {},
   "outputs": [
    {
     "data": {
      "text/html": [
       "<div>\n",
       "<style scoped>\n",
       "    .dataframe tbody tr th:only-of-type {\n",
       "        vertical-align: middle;\n",
       "    }\n",
       "\n",
       "    .dataframe tbody tr th {\n",
       "        vertical-align: top;\n",
       "    }\n",
       "\n",
       "    .dataframe thead th {\n",
       "        text-align: right;\n",
       "    }\n",
       "</style>\n",
       "<table border=\"1\" class=\"dataframe\">\n",
       "  <thead>\n",
       "    <tr style=\"text-align: right;\">\n",
       "      <th>group</th>\n",
       "      <th>A1</th>\n",
       "      <th>A2</th>\n",
       "      <th>B</th>\n",
       "    </tr>\n",
       "    <tr>\n",
       "      <th>event_name</th>\n",
       "      <th></th>\n",
       "      <th></th>\n",
       "      <th></th>\n",
       "    </tr>\n",
       "  </thead>\n",
       "  <tbody>\n",
       "    <tr>\n",
       "      <th>MainScreenAppear</th>\n",
       "      <td>2450</td>\n",
       "      <td>2476</td>\n",
       "      <td>2493</td>\n",
       "    </tr>\n",
       "    <tr>\n",
       "      <th>OffersScreenAppear</th>\n",
       "      <td>1542</td>\n",
       "      <td>1520</td>\n",
       "      <td>1531</td>\n",
       "    </tr>\n",
       "    <tr>\n",
       "      <th>CartScreenAppear</th>\n",
       "      <td>1266</td>\n",
       "      <td>1238</td>\n",
       "      <td>1230</td>\n",
       "    </tr>\n",
       "    <tr>\n",
       "      <th>PaymentScreenSuccessful</th>\n",
       "      <td>1200</td>\n",
       "      <td>1158</td>\n",
       "      <td>1181</td>\n",
       "    </tr>\n",
       "    <tr>\n",
       "      <th>Tutorial</th>\n",
       "      <td>278</td>\n",
       "      <td>283</td>\n",
       "      <td>279</td>\n",
       "    </tr>\n",
       "    <tr>\n",
       "      <th>total_amount</th>\n",
       "      <td>2484</td>\n",
       "      <td>2513</td>\n",
       "      <td>2537</td>\n",
       "    </tr>\n",
       "  </tbody>\n",
       "</table>\n",
       "</div>"
      ],
      "text/plain": [
       "group                      A1    A2     B\n",
       "event_name                               \n",
       "MainScreenAppear         2450  2476  2493\n",
       "OffersScreenAppear       1542  1520  1531\n",
       "CartScreenAppear         1266  1238  1230\n",
       "PaymentScreenSuccessful  1200  1158  1181\n",
       "Tutorial                  278   283   279\n",
       "total_amount             2484  2513  2537"
      ]
     },
     "execution_count": 25,
     "metadata": {},
     "output_type": "execute_result"
    }
   ],
   "source": [
    "final_df.loc['total_amount'] = new_df.groupby('group')['device_id_hash'].nunique()\n",
    "final_df"
   ]
  },
  {
   "cell_type": "markdown",
   "metadata": {},
   "source": [
    "###  А/А-тест, проверяем, есть ли разница между выборками A1 и A2"
   ]
  },
  {
   "cell_type": "markdown",
   "metadata": {},
   "source": [
    "В дальнейшем гипотезу нужно будет проверить на нескольких группах, поэтому удобнее сразу подготовить функцию для проверки гипотезы о равенстве долей. \n",
    "\n",
    "Т.к. будет проводиться множественный тест, нужно снизить вероятность ложнопозитивного результата. Для корректировки уровня значимости буду применять метод Бонферрони. \n",
    "\n",
    "Проверять будем 16 гипотез, уровень значимости в функции уменьшим пропорционально количеству проверяемых гипотез."
   ]
  },
  {
   "cell_type": "code",
   "execution_count": 26,
   "metadata": {},
   "outputs": [],
   "source": [
    "#Функция для проверки гипотез\n",
    "def hypothesis_testing (df, column1, column2, alpha):\n",
    "   \n",
    "    events = df.index \n",
    "    for i in range(1, 5):\n",
    "        alpha = alpha\n",
    "        bonferroni = alpha / 16 #Применяю метод Бонферрони\n",
    "        row1 = np.array([df.loc['total_amount', column1], df.loc['total_amount', column2]])\n",
    "        row2 = np.array([df.loc[events[i], column1], df.loc[events[i], column2]])\n",
    "       \n",
    "        p1 = row2[0] / row1[0]\n",
    "        p2 = row2[1] / row1[1]\n",
    "        p_combined = (row2[0] + row2[1]) / (row1[0] + row1[1])\n",
    "        difference = p1 - p2\n",
    "        z_value = difference / mth.sqrt(p_combined * (1 - p_combined) * (1/row1[0] + 1/row1[1]))\n",
    "        distr = st.norm(0, 1)\n",
    "        p_value = (1 - distr.cdf(abs(z_value))) * 2\n",
    "        print('p-значение: ', p_value)\n",
    "        if (p_value < bonferroni):\n",
    "            print(\"Отвергаем нулевую гипотезу: между долями есть значимая разница\")\n",
    "        else:\n",
    "            print(\"Не получилось отвергнуть нулевую гипотезу, нет оснований считать доли разными\")"
   ]
  },
  {
   "cell_type": "markdown",
   "metadata": {},
   "source": [
    "Сформулируем гипотезы.\n",
    "\n",
    "Нулевая:  между долями в выборках статистически значимой разницы нет.\n",
    "\n",
    "Альтернативная: между долями в выборках статистически значимая разница есть.\n",
    "\n",
    "В качестве уровня значимости alpha беру 0.05 (5%)."
   ]
  },
  {
   "cell_type": "code",
   "execution_count": 27,
   "metadata": {},
   "outputs": [
    {
     "name": "stdout",
     "output_type": "stream",
     "text": [
      "p-значение:  0.2480954578522181\n",
      "Не получилось отвергнуть нулевую гипотезу, нет оснований считать доли разными\n",
      "p-значение:  0.22883372237997213\n",
      "Не получилось отвергнуть нулевую гипотезу, нет оснований считать доли разными\n",
      "p-значение:  0.11456679313141849\n",
      "Не получилось отвергнуть нулевую гипотезу, нет оснований считать доли разными\n",
      "p-значение:  0.9376996189257114\n",
      "Не получилось отвергнуть нулевую гипотезу, нет оснований считать доли разными\n",
      "None\n"
     ]
    }
   ],
   "source": [
    "AA = hypothesis_testing(final_df, 'A1', 'A2', 0.05)\n",
    "print(AA)"
   ]
  },
  {
   "cell_type": "markdown",
   "metadata": {},
   "source": [
    "На основании проверки гипотезы делаем вывод, что между долями в выборках A1 и A2 статистически значимой разницы нет, т.е. трафик, разбиение на группы и инструменты проведения A/A-теста корректны. "
   ]
  },
  {
   "cell_type": "markdown",
   "metadata": {},
   "source": [
    "### A/B тест, сравниваем результаты группы B с каждой из контрольных групп и с объединенной группой"
   ]
  },
  {
   "cell_type": "code",
   "execution_count": 28,
   "metadata": {},
   "outputs": [
    {
     "data": {
      "text/html": [
       "<div>\n",
       "<style scoped>\n",
       "    .dataframe tbody tr th:only-of-type {\n",
       "        vertical-align: middle;\n",
       "    }\n",
       "\n",
       "    .dataframe tbody tr th {\n",
       "        vertical-align: top;\n",
       "    }\n",
       "\n",
       "    .dataframe thead th {\n",
       "        text-align: right;\n",
       "    }\n",
       "</style>\n",
       "<table border=\"1\" class=\"dataframe\">\n",
       "  <thead>\n",
       "    <tr style=\"text-align: right;\">\n",
       "      <th>group</th>\n",
       "      <th>A1</th>\n",
       "      <th>A2</th>\n",
       "      <th>B</th>\n",
       "      <th>AA</th>\n",
       "    </tr>\n",
       "    <tr>\n",
       "      <th>event_name</th>\n",
       "      <th></th>\n",
       "      <th></th>\n",
       "      <th></th>\n",
       "      <th></th>\n",
       "    </tr>\n",
       "  </thead>\n",
       "  <tbody>\n",
       "    <tr>\n",
       "      <th>MainScreenAppear</th>\n",
       "      <td>2450</td>\n",
       "      <td>2476</td>\n",
       "      <td>2493</td>\n",
       "      <td>4926</td>\n",
       "    </tr>\n",
       "    <tr>\n",
       "      <th>OffersScreenAppear</th>\n",
       "      <td>1542</td>\n",
       "      <td>1520</td>\n",
       "      <td>1531</td>\n",
       "      <td>3062</td>\n",
       "    </tr>\n",
       "    <tr>\n",
       "      <th>CartScreenAppear</th>\n",
       "      <td>1266</td>\n",
       "      <td>1238</td>\n",
       "      <td>1230</td>\n",
       "      <td>2504</td>\n",
       "    </tr>\n",
       "    <tr>\n",
       "      <th>PaymentScreenSuccessful</th>\n",
       "      <td>1200</td>\n",
       "      <td>1158</td>\n",
       "      <td>1181</td>\n",
       "      <td>2358</td>\n",
       "    </tr>\n",
       "    <tr>\n",
       "      <th>Tutorial</th>\n",
       "      <td>278</td>\n",
       "      <td>283</td>\n",
       "      <td>279</td>\n",
       "      <td>561</td>\n",
       "    </tr>\n",
       "    <tr>\n",
       "      <th>total_amount</th>\n",
       "      <td>2484</td>\n",
       "      <td>2513</td>\n",
       "      <td>2537</td>\n",
       "      <td>4997</td>\n",
       "    </tr>\n",
       "  </tbody>\n",
       "</table>\n",
       "</div>"
      ],
      "text/plain": [
       "group                      A1    A2     B    AA\n",
       "event_name                                     \n",
       "MainScreenAppear         2450  2476  2493  4926\n",
       "OffersScreenAppear       1542  1520  1531  3062\n",
       "CartScreenAppear         1266  1238  1230  2504\n",
       "PaymentScreenSuccessful  1200  1158  1181  2358\n",
       "Tutorial                  278   283   279   561\n",
       "total_amount             2484  2513  2537  4997"
      ]
     },
     "metadata": {},
     "output_type": "display_data"
    }
   ],
   "source": [
    "final_df['AA'] = final_df['A1'] + final_df['A2']\n",
    "display(final_df)"
   ]
  },
  {
   "cell_type": "markdown",
   "metadata": {},
   "source": [
    "Гипотезы не меняем:\n",
    "\n",
    "Нулевая:  между долями в выборках статистически значимой разницы нет.\n",
    "\n",
    "Альтернативная: между долями в выборках статистически значимая разница есть.\n",
    "\n",
    "В качестве уровня значимости alpha беру 0.05 (5%)."
   ]
  },
  {
   "cell_type": "code",
   "execution_count": 29,
   "metadata": {},
   "outputs": [
    {
     "name": "stdout",
     "output_type": "stream",
     "text": [
      "p-значение:  0.20836205402738917\n",
      "Не получилось отвергнуть нулевую гипотезу, нет оснований считать доли разными\n",
      "p-значение:  0.07842923237520116\n",
      "Не получилось отвергнуть нулевую гипотезу, нет оснований считать доли разными\n",
      "p-значение:  0.2122553275697796\n",
      "Не получилось отвергнуть нулевую гипотезу, нет оснований считать доли разными\n",
      "p-значение:  0.8264294010087645\n",
      "Не получилось отвергнуть нулевую гипотезу, нет оснований считать доли разными\n",
      "None\n"
     ]
    }
   ],
   "source": [
    "A1B = hypothesis_testing(final_df, 'A1', 'B', 0.05)\n",
    "print(A1B)"
   ]
  },
  {
   "cell_type": "code",
   "execution_count": 30,
   "metadata": {},
   "outputs": [
    {
     "name": "stdout",
     "output_type": "stream",
     "text": [
      "p-значение:  0.9197817830592261\n",
      "Не получилось отвергнуть нулевую гипотезу, нет оснований считать доли разными\n",
      "p-значение:  0.5786197879539783\n",
      "Не получилось отвергнуть нулевую гипотезу, нет оснований считать доли разными\n",
      "p-значение:  0.7373415053803964\n",
      "Не получилось отвергнуть нулевую гипотезу, нет оснований считать доли разными\n",
      "p-значение:  0.765323922474501\n",
      "Не получилось отвергнуть нулевую гипотезу, нет оснований считать доли разными\n",
      "None\n"
     ]
    }
   ],
   "source": [
    "A2B = hypothesis_testing(final_df, 'A2', 'B', 0.05)\n",
    "print(A2B)"
   ]
  },
  {
   "cell_type": "code",
   "execution_count": 31,
   "metadata": {},
   "outputs": [
    {
     "name": "stdout",
     "output_type": "stream",
     "text": [
      "p-значение:  0.43425549655188256\n",
      "Не получилось отвергнуть нулевую гипотезу, нет оснований считать доли разными\n",
      "p-значение:  0.18175875284404386\n",
      "Не получилось отвергнуть нулевую гипотезу, нет оснований считать доли разными\n",
      "p-значение:  0.6004294282308704\n",
      "Не получилось отвергнуть нулевую гипотезу, нет оснований считать доли разными\n",
      "p-значение:  0.764862472531507\n",
      "Не получилось отвергнуть нулевую гипотезу, нет оснований считать доли разными\n",
      "None\n"
     ]
    }
   ],
   "source": [
    "AAB = hypothesis_testing(final_df, 'AA', 'B', 0.05)\n",
    "print(A2B)"
   ]
  },
  {
   "cell_type": "markdown",
   "metadata": {},
   "source": [
    "По итогам множественного теста не отвергаем нулевую гипотезу: делаем вывод о том, что разницы между группами нет. Т.е. поведение пользователей в группе B не изменилось, не отличается от поведения пользователей групп A1 и A2, изменение шрифтов на пользовательскую активность не повлияло. "
   ]
  },
  {
   "cell_type": "markdown",
   "metadata": {},
   "source": [
    "### Проверка корректности применяемого при проверке гипотез уровня значимости "
   ]
  },
  {
   "cell_type": "markdown",
   "metadata": {},
   "source": [
    "При проверке гипотез ранее я брала уровень значимости 0,05. Проверю изменятся ли результаты проверки гипотез, если в качестве уровня значимости буду применять 0,01 (1%), т.е. дополнительно снижаю уровень значимости. "
   ]
  },
  {
   "cell_type": "markdown",
   "metadata": {},
   "source": [
    "Гипотезы не меняются:\n",
    "\n",
    "Нулевая:  между долями в выборках статистически значимой разницы нет.\n",
    "\n",
    "Альтернативная: между долями в выборках статистически значимая разница есть.\n",
    "\n",
    "В качестве уровня значимости alpha беру 0.01 (1%)."
   ]
  },
  {
   "cell_type": "code",
   "execution_count": 32,
   "metadata": {},
   "outputs": [
    {
     "name": "stdout",
     "output_type": "stream",
     "text": [
      "p-значение:  0.20836205402738917\n",
      "Не получилось отвергнуть нулевую гипотезу, нет оснований считать доли разными\n",
      "p-значение:  0.07842923237520116\n",
      "Не получилось отвергнуть нулевую гипотезу, нет оснований считать доли разными\n",
      "p-значение:  0.2122553275697796\n",
      "Не получилось отвергнуть нулевую гипотезу, нет оснований считать доли разными\n",
      "p-значение:  0.8264294010087645\n",
      "Не получилось отвергнуть нулевую гипотезу, нет оснований считать доли разными\n",
      "None\n"
     ]
    }
   ],
   "source": [
    "A1B = hypothesis_testing(final_df, 'A1', 'B', 0.01)\n",
    "print(A1B)"
   ]
  },
  {
   "cell_type": "code",
   "execution_count": 33,
   "metadata": {},
   "outputs": [
    {
     "name": "stdout",
     "output_type": "stream",
     "text": [
      "p-значение:  0.9197817830592261\n",
      "Не получилось отвергнуть нулевую гипотезу, нет оснований считать доли разными\n",
      "p-значение:  0.5786197879539783\n",
      "Не получилось отвергнуть нулевую гипотезу, нет оснований считать доли разными\n",
      "p-значение:  0.7373415053803964\n",
      "Не получилось отвергнуть нулевую гипотезу, нет оснований считать доли разными\n",
      "p-значение:  0.765323922474501\n",
      "Не получилось отвергнуть нулевую гипотезу, нет оснований считать доли разными\n",
      "None\n"
     ]
    }
   ],
   "source": [
    "A2B = hypothesis_testing(final_df, 'A2', 'B', 0.01)\n",
    "print(A2B)"
   ]
  },
  {
   "cell_type": "code",
   "execution_count": 34,
   "metadata": {},
   "outputs": [
    {
     "name": "stdout",
     "output_type": "stream",
     "text": [
      "p-значение:  0.43425549655188256\n",
      "Не получилось отвергнуть нулевую гипотезу, нет оснований считать доли разными\n",
      "p-значение:  0.18175875284404386\n",
      "Не получилось отвергнуть нулевую гипотезу, нет оснований считать доли разными\n",
      "p-значение:  0.6004294282308704\n",
      "Не получилось отвергнуть нулевую гипотезу, нет оснований считать доли разными\n",
      "p-значение:  0.764862472531507\n",
      "Не получилось отвергнуть нулевую гипотезу, нет оснований считать доли разными\n",
      "None\n"
     ]
    }
   ],
   "source": [
    "AAB = hypothesis_testing(final_df, 'AA', 'B', 0.01)\n",
    "print(A2B)"
   ]
  },
  {
   "cell_type": "markdown",
   "metadata": {},
   "source": [
    "В итоге изменение, а именно - уменьшение уровня статистической значимости alpha, не изменило результаты проверки гипотез. Оснований считать доли групп разными по всем действиям во всех группах по-прежнему нет, т.е. изменение шрифта все-таки не повлияло на пользовательскую активность. "
   ]
  },
  {
   "cell_type": "markdown",
   "metadata": {},
   "source": [
    "## Общие выводы"
   ]
  },
  {
   "cell_type": "markdown",
   "metadata": {},
   "source": [
    "Целью исследования было выяснить, как влияет изменение шрифта в приложении на пользовательскую активность. \n",
    "\n",
    "Анализ был проведен на основе данных из файла logs_exp.csv. Мы располагали данными по пользовательской активности в трёх группах: 2 контрольные со старыми шрифтами и 1 экспериментальная — с новыми.\n",
    "\n",
    "Перед проведением анализа и проверки гипотез данные были предобработаны: проверены на пропуски, приведены к нужным типам, проверены на дубликаты и очищены от них. Для удобства работы были отредактированы названия столбцов, также в процессе работы добавлялись с толбцы с новымми данными/необходимыми высилениями.  \n",
    "\n",
    "На первом этапе был проведен анализ воронки событий. \n",
    "\n",
    "Сама воронка предположительно следующая:\n",
    "\n",
    "1. MainScreenAppear  \n",
    "2. OffersScreenAppear\n",
    "3. CartScreenAppear \n",
    "4. PaymentScreenSuccessful \n",
    "\n",
    "По итогам анализа получили следующие данные:\n",
    "\n",
    "На шаг OffersScreenAppear переходит 61.9% пользователей с шага MainScreenAppear. \n",
    "\n",
    "На экран CartScreenAppear переходит 81.3% пользователей с шага OffersScreenAppear.\n",
    "\n",
    "И на последний шаг PaymentScreenSuccessful из корзины переходит 94,8% пользователей. \n",
    "\n",
    "Больше всего пользователей теряется при переходе на шаг OffersScreenAppear, на этом шаге видим самую низкую конверсию - 61,9%. \n",
    "\n",
    "Таким образом:\n",
    "\n",
    "+ Больше всего пользователей \"теряем\" на этапе перехода с главной страницы на страницу с ценами OffersScreenAppear - 38%;\n",
    "\n",
    "+ 19% пользователей завершают использование приложения без заказа, не переходя в корзину. \n",
    "\n",
    "+ 48% пользователей приложения доходят до оплаты покупки. \n",
    "\n",
    "Далее были проанализированы данные по результатам эксперимента, для этого проводилась проверка гипотез о равенстве долей. Т.к. гипотеза проверялось большое количество раз, чтобы снизить групповую вероятность ошибки первого рода и скорректировать требуемые уровни значимости дополнительно применялся метод Бонферрони. \n",
    "\n",
    "Гипотезы были сформулированы такии образом:\n",
    "\n",
    "Нулевая:  между долями в выборках статистически значимой разницы нет.\n",
    "\n",
    "Альтернативная: между долями в выборках статистически значимая разница есть.\n",
    "\n",
    "В качестве уровня статистической значимости alpha на первом этапе брала 0,05 (5%), далее для проверки корректности результатов заменила его на 0,01(1%). \n",
    "\n",
    "По итогам анализа A/A/B-теста, можно сделать следующий вывод:\n",
    "\n",
    "+ Статистически значимой разницы между долями в группах A1, A2, B и AA нет. \n",
    "\n",
    "Т.е. поведение пользователей после изменения шрифтов в приложении - не изменилось. Доли пользователей, переходящих с одного этапа воронки на другой не именились ни в большу, ни в меньшую стороны. \n",
    "\n",
    "Таким образом, проведенное тестирование можно считать успешным, изменение шрифтов в приложении \"не отпугнуло\" клиентов, не повлияло на показатели продажи, т.е. можно смело принимать решение об изменении шрифтов во всем приложении дл всех пользователей. "
   ]
  }
 ],
 "metadata": {
  "ExecuteTimeLog": [
   {
    "duration": 4,
    "start_time": "2023-01-23T19:45:50.043Z"
   },
   {
    "duration": 49,
    "start_time": "2023-01-23T19:46:03.713Z"
   },
   {
    "duration": 358,
    "start_time": "2023-01-23T19:46:27.364Z"
   },
   {
    "duration": 794,
    "start_time": "2023-01-23T19:46:49.249Z"
   },
   {
    "duration": 782,
    "start_time": "2023-01-23T19:50:45.219Z"
   },
   {
    "duration": 165,
    "start_time": "2023-01-23T19:53:07.049Z"
   },
   {
    "duration": 165,
    "start_time": "2023-01-23T19:55:25.044Z"
   },
   {
    "duration": 244,
    "start_time": "2023-01-23T19:55:56.621Z"
   },
   {
    "duration": 10,
    "start_time": "2023-01-23T20:14:01.450Z"
   },
   {
    "duration": 73,
    "start_time": "2023-01-23T20:14:37.285Z"
   },
   {
    "duration": 104,
    "start_time": "2023-01-23T20:14:54.289Z"
   },
   {
    "duration": 111,
    "start_time": "2023-01-23T20:15:39.357Z"
   },
   {
    "duration": 9,
    "start_time": "2023-01-23T20:22:00.739Z"
   },
   {
    "duration": 8,
    "start_time": "2023-01-23T20:22:05.630Z"
   },
   {
    "duration": 1058,
    "start_time": "2023-01-23T20:22:21.180Z"
   },
   {
    "duration": 304,
    "start_time": "2023-01-23T20:22:22.241Z"
   },
   {
    "duration": 9,
    "start_time": "2023-01-23T20:22:22.548Z"
   },
   {
    "duration": 160,
    "start_time": "2023-01-23T20:22:22.560Z"
   },
   {
    "duration": 148,
    "start_time": "2023-01-23T20:22:22.722Z"
   },
   {
    "duration": 161,
    "start_time": "2023-01-23T20:23:41.792Z"
   },
   {
    "duration": 138,
    "start_time": "2023-01-23T20:24:01.942Z"
   },
   {
    "duration": 120,
    "start_time": "2023-01-23T20:24:22.221Z"
   },
   {
    "duration": 1008,
    "start_time": "2023-01-23T20:24:41.865Z"
   },
   {
    "duration": 310,
    "start_time": "2023-01-23T20:24:42.875Z"
   },
   {
    "duration": 9,
    "start_time": "2023-01-23T20:24:43.186Z"
   },
   {
    "duration": 141,
    "start_time": "2023-01-23T20:24:43.213Z"
   },
   {
    "duration": 132,
    "start_time": "2023-01-23T20:24:43.356Z"
   },
   {
    "duration": 123,
    "start_time": "2023-01-23T20:26:28.894Z"
   },
   {
    "duration": 998,
    "start_time": "2023-01-23T20:26:41.344Z"
   },
   {
    "duration": 302,
    "start_time": "2023-01-23T20:26:42.344Z"
   },
   {
    "duration": 8,
    "start_time": "2023-01-23T20:26:42.648Z"
   },
   {
    "duration": 148,
    "start_time": "2023-01-23T20:26:42.659Z"
   },
   {
    "duration": 162,
    "start_time": "2023-01-23T20:26:42.809Z"
   },
   {
    "duration": 213,
    "start_time": "2023-01-23T20:28:48.577Z"
   },
   {
    "duration": 170,
    "start_time": "2023-01-23T20:28:59.549Z"
   },
   {
    "duration": 4,
    "start_time": "2023-01-23T20:37:35.984Z"
   },
   {
    "duration": 12,
    "start_time": "2023-01-23T20:37:45.348Z"
   },
   {
    "duration": 48,
    "start_time": "2023-01-23T20:38:06.937Z"
   },
   {
    "duration": 10,
    "start_time": "2023-01-23T20:38:40.360Z"
   },
   {
    "duration": 11,
    "start_time": "2023-01-23T20:39:26.254Z"
   },
   {
    "duration": 14,
    "start_time": "2023-01-23T20:42:09.320Z"
   },
   {
    "duration": 3,
    "start_time": "2023-01-23T20:45:33.933Z"
   },
   {
    "duration": 11,
    "start_time": "2023-01-23T20:46:02.453Z"
   },
   {
    "duration": 46,
    "start_time": "2023-01-23T20:46:14.465Z"
   },
   {
    "duration": 26,
    "start_time": "2023-01-23T20:46:24.777Z"
   },
   {
    "duration": 7,
    "start_time": "2023-01-23T20:47:33.333Z"
   },
   {
    "duration": 4,
    "start_time": "2023-01-23T20:52:03.335Z"
   },
   {
    "duration": 5,
    "start_time": "2023-01-23T20:52:28.233Z"
   },
   {
    "duration": 987,
    "start_time": "2023-01-23T20:53:32.547Z"
   },
   {
    "duration": 277,
    "start_time": "2023-01-23T20:53:33.537Z"
   },
   {
    "duration": 7,
    "start_time": "2023-01-23T20:53:33.816Z"
   },
   {
    "duration": 154,
    "start_time": "2023-01-23T20:53:33.825Z"
   },
   {
    "duration": 174,
    "start_time": "2023-01-23T20:53:33.980Z"
   },
   {
    "duration": 14,
    "start_time": "2023-01-23T20:53:34.156Z"
   },
   {
    "duration": 33,
    "start_time": "2023-01-23T20:53:34.172Z"
   },
   {
    "duration": 20,
    "start_time": "2023-01-23T20:53:34.207Z"
   },
   {
    "duration": 48,
    "start_time": "2023-01-23T20:53:34.229Z"
   },
   {
    "duration": 5,
    "start_time": "2023-01-23T21:02:34.459Z"
   },
   {
    "duration": 5,
    "start_time": "2023-01-23T21:02:55.716Z"
   },
   {
    "duration": 414,
    "start_time": "2023-01-23T21:04:52.281Z"
   },
   {
    "duration": 1094,
    "start_time": "2023-01-23T21:05:06.854Z"
   },
   {
    "duration": 302,
    "start_time": "2023-01-23T21:05:07.950Z"
   },
   {
    "duration": 10,
    "start_time": "2023-01-23T21:05:08.254Z"
   },
   {
    "duration": 192,
    "start_time": "2023-01-23T21:05:08.267Z"
   },
   {
    "duration": 417,
    "start_time": "2023-01-23T21:05:08.460Z"
   },
   {
    "duration": 0,
    "start_time": "2023-01-23T21:05:08.879Z"
   },
   {
    "duration": 0,
    "start_time": "2023-01-23T21:05:08.881Z"
   },
   {
    "duration": 0,
    "start_time": "2023-01-23T21:05:08.882Z"
   },
   {
    "duration": 0,
    "start_time": "2023-01-23T21:05:08.884Z"
   },
   {
    "duration": 65,
    "start_time": "2023-01-23T21:05:22.063Z"
   },
   {
    "duration": 59,
    "start_time": "2023-01-23T21:05:28.504Z"
   },
   {
    "duration": 59,
    "start_time": "2023-01-23T21:05:37.950Z"
   },
   {
    "duration": 61,
    "start_time": "2023-01-23T21:05:41.618Z"
   },
   {
    "duration": 164,
    "start_time": "2023-01-23T21:05:45.128Z"
   },
   {
    "duration": 47,
    "start_time": "2023-01-23T21:07:31.510Z"
   },
   {
    "duration": 163,
    "start_time": "2023-01-23T21:07:38.953Z"
   },
   {
    "duration": 7,
    "start_time": "2023-01-23T21:15:07.504Z"
   },
   {
    "duration": 1380,
    "start_time": "2023-01-24T16:20:28.975Z"
   },
   {
    "duration": 795,
    "start_time": "2023-01-24T16:20:30.358Z"
   },
   {
    "duration": 14,
    "start_time": "2023-01-24T16:20:31.156Z"
   },
   {
    "duration": 199,
    "start_time": "2023-01-24T16:20:31.172Z"
   },
   {
    "duration": 212,
    "start_time": "2023-01-24T16:20:31.374Z"
   },
   {
    "duration": 15,
    "start_time": "2023-01-24T16:20:31.587Z"
   },
   {
    "duration": 64,
    "start_time": "2023-01-24T16:20:31.604Z"
   },
   {
    "duration": 68,
    "start_time": "2023-01-24T16:20:31.670Z"
   },
   {
    "duration": 53,
    "start_time": "2023-01-24T16:20:31.743Z"
   },
   {
    "duration": 812,
    "start_time": "2023-01-24T16:23:29.867Z"
   },
   {
    "duration": 216,
    "start_time": "2023-01-24T16:23:56.876Z"
   },
   {
    "duration": 200,
    "start_time": "2023-01-24T16:26:18.113Z"
   },
   {
    "duration": 80,
    "start_time": "2023-01-24T16:26:42.872Z"
   },
   {
    "duration": 122,
    "start_time": "2023-01-24T16:26:48.958Z"
   },
   {
    "duration": 5,
    "start_time": "2023-01-24T16:26:52.797Z"
   },
   {
    "duration": 362,
    "start_time": "2023-01-24T19:58:16.734Z"
   },
   {
    "duration": 243,
    "start_time": "2023-01-24T20:16:21.053Z"
   },
   {
    "duration": 263,
    "start_time": "2023-01-24T20:16:50.826Z"
   },
   {
    "duration": 988,
    "start_time": "2023-01-24T20:21:32.770Z"
   },
   {
    "duration": 317,
    "start_time": "2023-01-24T20:21:33.760Z"
   },
   {
    "duration": 8,
    "start_time": "2023-01-24T20:21:34.079Z"
   },
   {
    "duration": 147,
    "start_time": "2023-01-24T20:21:34.089Z"
   },
   {
    "duration": 123,
    "start_time": "2023-01-24T20:21:34.238Z"
   },
   {
    "duration": 13,
    "start_time": "2023-01-24T20:21:34.363Z"
   },
   {
    "duration": 16,
    "start_time": "2023-01-24T20:21:34.378Z"
   },
   {
    "duration": 17,
    "start_time": "2023-01-24T20:21:34.396Z"
   },
   {
    "duration": 5,
    "start_time": "2023-01-24T20:21:34.438Z"
   },
   {
    "duration": 1027,
    "start_time": "2023-01-24T20:24:31.458Z"
   },
   {
    "duration": 311,
    "start_time": "2023-01-24T20:24:32.488Z"
   },
   {
    "duration": 9,
    "start_time": "2023-01-24T20:24:32.801Z"
   },
   {
    "duration": 144,
    "start_time": "2023-01-24T20:24:32.812Z"
   },
   {
    "duration": 112,
    "start_time": "2023-01-24T20:24:32.959Z"
   },
   {
    "duration": 12,
    "start_time": "2023-01-24T20:24:33.073Z"
   },
   {
    "duration": 12,
    "start_time": "2023-01-24T20:24:33.086Z"
   },
   {
    "duration": 16,
    "start_time": "2023-01-24T20:24:33.099Z"
   },
   {
    "duration": 5,
    "start_time": "2023-01-24T20:24:33.137Z"
   },
   {
    "duration": 1145,
    "start_time": "2023-01-24T20:29:20.398Z"
   },
   {
    "duration": 701,
    "start_time": "2023-01-24T20:29:21.545Z"
   },
   {
    "duration": 9,
    "start_time": "2023-01-24T20:29:22.248Z"
   },
   {
    "duration": 159,
    "start_time": "2023-01-24T20:29:22.259Z"
   },
   {
    "duration": 141,
    "start_time": "2023-01-24T20:29:22.421Z"
   },
   {
    "duration": 12,
    "start_time": "2023-01-24T20:29:22.565Z"
   },
   {
    "duration": 21,
    "start_time": "2023-01-24T20:29:22.579Z"
   },
   {
    "duration": 31,
    "start_time": "2023-01-24T20:29:22.602Z"
   },
   {
    "duration": 12,
    "start_time": "2023-01-24T20:29:22.638Z"
   },
   {
    "duration": 58,
    "start_time": "2023-01-24T20:29:22.652Z"
   },
   {
    "duration": 134,
    "start_time": "2023-01-24T20:29:22.711Z"
   },
   {
    "duration": 277,
    "start_time": "2023-01-24T20:29:48.732Z"
   },
   {
    "duration": 264,
    "start_time": "2023-01-24T20:30:58.221Z"
   },
   {
    "duration": 256,
    "start_time": "2023-01-24T20:31:32.036Z"
   },
   {
    "duration": 314,
    "start_time": "2023-01-24T20:31:41.210Z"
   },
   {
    "duration": 321,
    "start_time": "2023-01-24T20:41:07.939Z"
   },
   {
    "duration": 42,
    "start_time": "2023-01-24T20:41:24.368Z"
   },
   {
    "duration": 81,
    "start_time": "2023-01-24T20:43:10.006Z"
   },
   {
    "duration": 69,
    "start_time": "2023-01-24T20:43:32.663Z"
   },
   {
    "duration": 31,
    "start_time": "2023-01-24T20:43:51.231Z"
   },
   {
    "duration": 24,
    "start_time": "2023-01-24T20:44:17.968Z"
   },
   {
    "duration": 19,
    "start_time": "2023-01-24T20:45:05.733Z"
   },
   {
    "duration": 18,
    "start_time": "2023-01-24T20:45:35.230Z"
   },
   {
    "duration": 44,
    "start_time": "2023-01-24T20:46:36.927Z"
   },
   {
    "duration": 19,
    "start_time": "2023-01-24T20:47:04.797Z"
   },
   {
    "duration": 12,
    "start_time": "2023-01-24T20:49:49.369Z"
   },
   {
    "duration": 34,
    "start_time": "2023-01-24T20:51:47.834Z"
   },
   {
    "duration": 32,
    "start_time": "2023-01-24T20:52:32.570Z"
   },
   {
    "duration": 30,
    "start_time": "2023-01-24T20:52:47.433Z"
   },
   {
    "duration": 12,
    "start_time": "2023-01-24T20:54:19.786Z"
   },
   {
    "duration": 14,
    "start_time": "2023-01-24T20:54:56.536Z"
   },
   {
    "duration": 32,
    "start_time": "2023-01-24T20:56:43.202Z"
   },
   {
    "duration": 30,
    "start_time": "2023-01-24T20:56:59.479Z"
   },
   {
    "duration": 4,
    "start_time": "2023-01-24T20:59:39.728Z"
   },
   {
    "duration": 34,
    "start_time": "2023-01-24T20:59:49.755Z"
   },
   {
    "duration": 35,
    "start_time": "2023-01-24T21:00:00.030Z"
   },
   {
    "duration": 121,
    "start_time": "2023-01-24T21:00:42.945Z"
   },
   {
    "duration": 2,
    "start_time": "2023-01-24T21:02:11.014Z"
   },
   {
    "duration": 2,
    "start_time": "2023-01-24T21:05:14.119Z"
   },
   {
    "duration": 4,
    "start_time": "2023-01-24T21:05:42.517Z"
   },
   {
    "duration": 44,
    "start_time": "2023-01-24T21:06:22.374Z"
   },
   {
    "duration": 32,
    "start_time": "2023-01-24T21:06:44.195Z"
   },
   {
    "duration": 31,
    "start_time": "2023-01-24T21:06:54.703Z"
   },
   {
    "duration": 31,
    "start_time": "2023-01-24T21:07:13.123Z"
   },
   {
    "duration": 43,
    "start_time": "2023-01-24T21:07:20.272Z"
   },
   {
    "duration": 41,
    "start_time": "2023-01-24T21:08:20.280Z"
   },
   {
    "duration": 40,
    "start_time": "2023-01-24T21:09:01.565Z"
   },
   {
    "duration": 40,
    "start_time": "2023-01-24T21:09:17.953Z"
   },
   {
    "duration": 38,
    "start_time": "2023-01-24T21:09:22.112Z"
   },
   {
    "duration": 10,
    "start_time": "2023-01-24T21:09:40.975Z"
   },
   {
    "duration": 70,
    "start_time": "2023-01-24T21:09:46.200Z"
   },
   {
    "duration": 41,
    "start_time": "2023-01-24T21:09:54.227Z"
   },
   {
    "duration": 39,
    "start_time": "2023-01-24T21:15:03.100Z"
   },
   {
    "duration": 177,
    "start_time": "2023-01-24T21:16:04.086Z"
   },
   {
    "duration": 4,
    "start_time": "2023-01-24T21:16:49.755Z"
   },
   {
    "duration": 42,
    "start_time": "2023-01-24T21:16:57.405Z"
   },
   {
    "duration": 65,
    "start_time": "2023-01-24T21:17:53.796Z"
   },
   {
    "duration": 45,
    "start_time": "2023-01-24T21:18:00.509Z"
   },
   {
    "duration": 79,
    "start_time": "2023-01-24T21:24:00.680Z"
   },
   {
    "duration": 28,
    "start_time": "2023-01-24T21:24:04.932Z"
   },
   {
    "duration": 24,
    "start_time": "2023-01-24T21:24:18.424Z"
   },
   {
    "duration": 50,
    "start_time": "2023-01-24T21:27:47.685Z"
   },
   {
    "duration": 53,
    "start_time": "2023-01-24T21:28:15.170Z"
   },
   {
    "duration": 49,
    "start_time": "2023-01-24T21:28:22.637Z"
   },
   {
    "duration": 31,
    "start_time": "2023-01-24T21:32:51.527Z"
   },
   {
    "duration": 31,
    "start_time": "2023-01-24T21:34:51.856Z"
   },
   {
    "duration": 53,
    "start_time": "2023-01-24T21:39:27.505Z"
   },
   {
    "duration": 51,
    "start_time": "2023-01-24T21:40:22.034Z"
   },
   {
    "duration": 62,
    "start_time": "2023-01-24T21:40:29.127Z"
   },
   {
    "duration": 4,
    "start_time": "2023-01-24T21:47:16.716Z"
   },
   {
    "duration": 53,
    "start_time": "2023-01-24T21:53:30.451Z"
   },
   {
    "duration": 52,
    "start_time": "2023-01-24T21:53:47.484Z"
   },
   {
    "duration": 55,
    "start_time": "2023-01-24T21:53:55.894Z"
   },
   {
    "duration": 61,
    "start_time": "2023-01-24T21:54:09.911Z"
   },
   {
    "duration": 50,
    "start_time": "2023-01-24T21:54:15.890Z"
   },
   {
    "duration": 66,
    "start_time": "2023-01-24T21:54:24.446Z"
   },
   {
    "duration": 53,
    "start_time": "2023-01-24T21:54:29.192Z"
   },
   {
    "duration": 57,
    "start_time": "2023-01-24T21:54:41.352Z"
   },
   {
    "duration": 58,
    "start_time": "2023-01-24T21:54:45.386Z"
   },
   {
    "duration": 2,
    "start_time": "2023-01-24T22:09:01.237Z"
   },
   {
    "duration": 1232,
    "start_time": "2023-01-25T18:14:02.838Z"
   },
   {
    "duration": 717,
    "start_time": "2023-01-25T18:14:04.072Z"
   },
   {
    "duration": 9,
    "start_time": "2023-01-25T18:14:04.790Z"
   },
   {
    "duration": 135,
    "start_time": "2023-01-25T18:14:04.801Z"
   },
   {
    "duration": 117,
    "start_time": "2023-01-25T18:14:04.938Z"
   },
   {
    "duration": 13,
    "start_time": "2023-01-25T18:14:05.056Z"
   },
   {
    "duration": 24,
    "start_time": "2023-01-25T18:14:05.071Z"
   },
   {
    "duration": 32,
    "start_time": "2023-01-25T18:14:05.096Z"
   },
   {
    "duration": 4,
    "start_time": "2023-01-25T18:14:05.130Z"
   },
   {
    "duration": 306,
    "start_time": "2023-01-25T18:14:05.136Z"
   },
   {
    "duration": 26,
    "start_time": "2023-01-25T18:14:05.450Z"
   },
   {
    "duration": 33,
    "start_time": "2023-01-25T18:14:05.479Z"
   },
   {
    "duration": 15,
    "start_time": "2023-01-25T18:14:05.514Z"
   },
   {
    "duration": 66,
    "start_time": "2023-01-25T18:14:05.530Z"
   },
   {
    "duration": 34,
    "start_time": "2023-01-25T18:14:05.597Z"
   },
   {
    "duration": 61,
    "start_time": "2023-01-25T18:14:05.633Z"
   },
   {
    "duration": 71,
    "start_time": "2023-01-25T18:14:05.696Z"
   },
   {
    "duration": 1055,
    "start_time": "2023-01-25T18:47:55.323Z"
   },
   {
    "duration": 317,
    "start_time": "2023-01-25T18:47:56.382Z"
   },
   {
    "duration": 8,
    "start_time": "2023-01-25T18:47:56.700Z"
   },
   {
    "duration": 131,
    "start_time": "2023-01-25T18:47:56.710Z"
   },
   {
    "duration": 108,
    "start_time": "2023-01-25T18:47:56.843Z"
   },
   {
    "duration": 12,
    "start_time": "2023-01-25T18:47:56.953Z"
   },
   {
    "duration": 12,
    "start_time": "2023-01-25T18:47:56.967Z"
   },
   {
    "duration": 15,
    "start_time": "2023-01-25T18:47:56.980Z"
   },
   {
    "duration": 4,
    "start_time": "2023-01-25T18:47:56.997Z"
   },
   {
    "duration": 308,
    "start_time": "2023-01-25T18:47:57.004Z"
   },
   {
    "duration": 23,
    "start_time": "2023-01-25T18:47:57.314Z"
   },
   {
    "duration": 29,
    "start_time": "2023-01-25T18:47:57.348Z"
   },
   {
    "duration": 17,
    "start_time": "2023-01-25T18:47:57.380Z"
   },
   {
    "duration": 56,
    "start_time": "2023-01-25T18:47:57.398Z"
   },
   {
    "duration": 32,
    "start_time": "2023-01-25T18:47:57.455Z"
   },
   {
    "duration": 63,
    "start_time": "2023-01-25T18:47:57.489Z"
   },
   {
    "duration": 51,
    "start_time": "2023-01-25T18:47:57.554Z"
   },
   {
    "duration": 86,
    "start_time": "2023-01-25T18:47:57.607Z"
   },
   {
    "duration": 49,
    "start_time": "2023-01-25T18:48:15.196Z"
   },
   {
    "duration": 46,
    "start_time": "2023-01-25T18:50:41.614Z"
   },
   {
    "duration": 154,
    "start_time": "2023-01-25T18:52:30.662Z"
   },
   {
    "duration": 1012,
    "start_time": "2023-01-25T18:56:33.943Z"
   },
   {
    "duration": 298,
    "start_time": "2023-01-25T18:56:34.957Z"
   },
   {
    "duration": 7,
    "start_time": "2023-01-25T18:56:35.257Z"
   },
   {
    "duration": 131,
    "start_time": "2023-01-25T18:56:35.266Z"
   },
   {
    "duration": 113,
    "start_time": "2023-01-25T18:56:35.398Z"
   },
   {
    "duration": 12,
    "start_time": "2023-01-25T18:56:35.513Z"
   },
   {
    "duration": 23,
    "start_time": "2023-01-25T18:56:35.526Z"
   },
   {
    "duration": 15,
    "start_time": "2023-01-25T18:56:35.551Z"
   },
   {
    "duration": 6,
    "start_time": "2023-01-25T18:56:35.567Z"
   },
   {
    "duration": 309,
    "start_time": "2023-01-25T18:56:35.575Z"
   },
   {
    "duration": 24,
    "start_time": "2023-01-25T18:56:35.886Z"
   },
   {
    "duration": 47,
    "start_time": "2023-01-25T18:56:35.911Z"
   },
   {
    "duration": 14,
    "start_time": "2023-01-25T18:56:35.959Z"
   },
   {
    "duration": 36,
    "start_time": "2023-01-25T18:56:35.974Z"
   },
   {
    "duration": 49,
    "start_time": "2023-01-25T18:56:36.012Z"
   },
   {
    "duration": 49,
    "start_time": "2023-01-25T18:56:36.062Z"
   },
   {
    "duration": 63,
    "start_time": "2023-01-25T18:56:36.113Z"
   },
   {
    "duration": 173,
    "start_time": "2023-01-25T18:56:36.178Z"
   },
   {
    "duration": 0,
    "start_time": "2023-01-25T18:56:36.352Z"
   },
   {
    "duration": 12,
    "start_time": "2023-01-25T19:01:48.672Z"
   },
   {
    "duration": 11,
    "start_time": "2023-01-25T19:02:31.872Z"
   },
   {
    "duration": 68,
    "start_time": "2023-01-25T19:02:46.452Z"
   },
   {
    "duration": 8,
    "start_time": "2023-01-25T19:06:23.196Z"
   },
   {
    "duration": 11,
    "start_time": "2023-01-25T19:10:10.922Z"
   },
   {
    "duration": 4,
    "start_time": "2023-01-25T19:18:04.612Z"
   },
   {
    "duration": 1046,
    "start_time": "2023-01-25T19:19:25.987Z"
   },
   {
    "duration": 317,
    "start_time": "2023-01-25T19:19:27.035Z"
   },
   {
    "duration": 7,
    "start_time": "2023-01-25T19:19:27.354Z"
   },
   {
    "duration": 137,
    "start_time": "2023-01-25T19:19:27.363Z"
   },
   {
    "duration": 110,
    "start_time": "2023-01-25T19:19:27.502Z"
   },
   {
    "duration": 12,
    "start_time": "2023-01-25T19:19:27.613Z"
   },
   {
    "duration": 23,
    "start_time": "2023-01-25T19:19:27.626Z"
   },
   {
    "duration": 15,
    "start_time": "2023-01-25T19:19:27.650Z"
   },
   {
    "duration": 6,
    "start_time": "2023-01-25T19:19:27.666Z"
   },
   {
    "duration": 305,
    "start_time": "2023-01-25T19:19:27.675Z"
   },
   {
    "duration": 27,
    "start_time": "2023-01-25T19:19:27.982Z"
   },
   {
    "duration": 42,
    "start_time": "2023-01-25T19:19:28.011Z"
   },
   {
    "duration": 14,
    "start_time": "2023-01-25T19:19:28.055Z"
   },
   {
    "duration": 36,
    "start_time": "2023-01-25T19:19:28.071Z"
   },
   {
    "duration": 53,
    "start_time": "2023-01-25T19:19:28.109Z"
   },
   {
    "duration": 161,
    "start_time": "2023-01-25T19:19:28.163Z"
   },
   {
    "duration": 54,
    "start_time": "2023-01-25T19:19:28.326Z"
   },
   {
    "duration": 67,
    "start_time": "2023-01-25T19:19:28.382Z"
   },
   {
    "duration": 8,
    "start_time": "2023-01-25T19:19:28.451Z"
   },
   {
    "duration": 6,
    "start_time": "2023-01-25T19:19:28.461Z"
   },
   {
    "duration": 4,
    "start_time": "2023-01-25T19:20:00.429Z"
   },
   {
    "duration": 3,
    "start_time": "2023-01-25T19:20:33.333Z"
   },
   {
    "duration": 100,
    "start_time": "2023-01-25T19:24:51.314Z"
   },
   {
    "duration": 32,
    "start_time": "2023-01-25T19:26:08.748Z"
   },
   {
    "duration": 29,
    "start_time": "2023-01-25T19:27:19.307Z"
   },
   {
    "duration": 1220,
    "start_time": "2023-01-25T19:59:33.348Z"
   },
   {
    "duration": 999,
    "start_time": "2023-01-25T19:59:45.597Z"
   },
   {
    "duration": 301,
    "start_time": "2023-01-25T19:59:46.597Z"
   },
   {
    "duration": 7,
    "start_time": "2023-01-25T19:59:46.899Z"
   },
   {
    "duration": 130,
    "start_time": "2023-01-25T19:59:46.908Z"
   },
   {
    "duration": 117,
    "start_time": "2023-01-25T19:59:47.039Z"
   },
   {
    "duration": 11,
    "start_time": "2023-01-25T19:59:47.158Z"
   },
   {
    "duration": 20,
    "start_time": "2023-01-25T19:59:47.171Z"
   },
   {
    "duration": 18,
    "start_time": "2023-01-25T19:59:47.192Z"
   },
   {
    "duration": 5,
    "start_time": "2023-01-25T19:59:47.211Z"
   },
   {
    "duration": 311,
    "start_time": "2023-01-25T19:59:47.218Z"
   },
   {
    "duration": 30,
    "start_time": "2023-01-25T19:59:47.530Z"
   },
   {
    "duration": 31,
    "start_time": "2023-01-25T19:59:47.561Z"
   },
   {
    "duration": 16,
    "start_time": "2023-01-25T19:59:47.593Z"
   },
   {
    "duration": 56,
    "start_time": "2023-01-25T19:59:47.611Z"
   },
   {
    "duration": 29,
    "start_time": "2023-01-25T19:59:47.668Z"
   },
   {
    "duration": 65,
    "start_time": "2023-01-25T19:59:47.699Z"
   },
   {
    "duration": 51,
    "start_time": "2023-01-25T19:59:47.766Z"
   },
   {
    "duration": 128,
    "start_time": "2023-01-25T19:59:47.819Z"
   },
   {
    "duration": 6,
    "start_time": "2023-01-25T19:59:47.948Z"
   },
   {
    "duration": 6,
    "start_time": "2023-01-25T19:59:47.955Z"
   },
   {
    "duration": 32,
    "start_time": "2023-01-25T19:59:47.963Z"
   },
   {
    "duration": 1367,
    "start_time": "2023-01-25T19:59:47.997Z"
   },
   {
    "duration": 1410,
    "start_time": "2023-01-25T20:00:05.835Z"
   },
   {
    "duration": 132,
    "start_time": "2023-01-25T20:18:04.765Z"
   },
   {
    "duration": 71,
    "start_time": "2023-01-25T20:34:07.257Z"
   },
   {
    "duration": 4,
    "start_time": "2023-01-25T20:34:12.870Z"
   },
   {
    "duration": 5,
    "start_time": "2023-01-25T20:40:23.142Z"
   },
   {
    "duration": 2,
    "start_time": "2023-01-25T20:42:42.058Z"
   },
   {
    "duration": 7,
    "start_time": "2023-01-25T20:56:57.966Z"
   },
   {
    "duration": 982,
    "start_time": "2023-01-25T20:57:09.070Z"
   },
   {
    "duration": 301,
    "start_time": "2023-01-25T20:57:10.054Z"
   },
   {
    "duration": 8,
    "start_time": "2023-01-25T20:57:10.356Z"
   },
   {
    "duration": 144,
    "start_time": "2023-01-25T20:57:10.365Z"
   },
   {
    "duration": 106,
    "start_time": "2023-01-25T20:57:10.511Z"
   },
   {
    "duration": 12,
    "start_time": "2023-01-25T20:57:10.618Z"
   },
   {
    "duration": 19,
    "start_time": "2023-01-25T20:57:10.631Z"
   },
   {
    "duration": 14,
    "start_time": "2023-01-25T20:57:10.652Z"
   },
   {
    "duration": 6,
    "start_time": "2023-01-25T20:57:10.667Z"
   },
   {
    "duration": 302,
    "start_time": "2023-01-25T20:57:10.674Z"
   },
   {
    "duration": 27,
    "start_time": "2023-01-25T20:57:10.978Z"
   },
   {
    "duration": 46,
    "start_time": "2023-01-25T20:57:11.007Z"
   },
   {
    "duration": 14,
    "start_time": "2023-01-25T20:57:11.055Z"
   },
   {
    "duration": 38,
    "start_time": "2023-01-25T20:57:11.072Z"
   },
   {
    "duration": 45,
    "start_time": "2023-01-25T20:57:11.112Z"
   },
   {
    "duration": 48,
    "start_time": "2023-01-25T20:57:11.158Z"
   },
   {
    "duration": 64,
    "start_time": "2023-01-25T20:57:11.207Z"
   },
   {
    "duration": 61,
    "start_time": "2023-01-25T20:57:11.273Z"
   },
   {
    "duration": 18,
    "start_time": "2023-01-25T20:57:11.335Z"
   },
   {
    "duration": 5,
    "start_time": "2023-01-25T20:57:11.354Z"
   },
   {
    "duration": 38,
    "start_time": "2023-01-25T20:57:11.360Z"
   },
   {
    "duration": 142,
    "start_time": "2023-01-25T20:57:11.400Z"
   },
   {
    "duration": 4,
    "start_time": "2023-01-25T20:57:11.548Z"
   },
   {
    "duration": 11,
    "start_time": "2023-01-25T20:57:11.554Z"
   },
   {
    "duration": 1183,
    "start_time": "2023-01-25T20:57:11.566Z"
   },
   {
    "duration": 11,
    "start_time": "2023-01-25T21:17:56.325Z"
   },
   {
    "duration": 3,
    "start_time": "2023-01-25T21:18:25.471Z"
   },
   {
    "duration": 1151,
    "start_time": "2023-01-25T21:18:30.431Z"
   },
   {
    "duration": 301,
    "start_time": "2023-01-25T21:18:31.584Z"
   },
   {
    "duration": 8,
    "start_time": "2023-01-25T21:18:31.887Z"
   },
   {
    "duration": 136,
    "start_time": "2023-01-25T21:18:31.896Z"
   },
   {
    "duration": 104,
    "start_time": "2023-01-25T21:18:32.033Z"
   },
   {
    "duration": 21,
    "start_time": "2023-01-25T21:18:32.138Z"
   },
   {
    "duration": 14,
    "start_time": "2023-01-25T21:18:32.160Z"
   },
   {
    "duration": 15,
    "start_time": "2023-01-25T21:18:32.176Z"
   },
   {
    "duration": 5,
    "start_time": "2023-01-25T21:18:32.193Z"
   },
   {
    "duration": 325,
    "start_time": "2023-01-25T21:18:32.200Z"
   },
   {
    "duration": 38,
    "start_time": "2023-01-25T21:18:32.527Z"
   },
   {
    "duration": 32,
    "start_time": "2023-01-25T21:18:32.567Z"
   },
   {
    "duration": 16,
    "start_time": "2023-01-25T21:18:32.601Z"
   },
   {
    "duration": 60,
    "start_time": "2023-01-25T21:18:32.619Z"
   },
   {
    "duration": 31,
    "start_time": "2023-01-25T21:18:32.680Z"
   },
   {
    "duration": 71,
    "start_time": "2023-01-25T21:18:32.713Z"
   },
   {
    "duration": 47,
    "start_time": "2023-01-25T21:18:32.785Z"
   },
   {
    "duration": 72,
    "start_time": "2023-01-25T21:18:32.834Z"
   },
   {
    "duration": 7,
    "start_time": "2023-01-25T21:18:32.907Z"
   },
   {
    "duration": 7,
    "start_time": "2023-01-25T21:18:32.916Z"
   },
   {
    "duration": 48,
    "start_time": "2023-01-25T21:18:32.925Z"
   },
   {
    "duration": 131,
    "start_time": "2023-01-25T21:18:32.974Z"
   },
   {
    "duration": 5,
    "start_time": "2023-01-25T21:18:33.106Z"
   },
   {
    "duration": 9,
    "start_time": "2023-01-25T21:18:33.112Z"
   },
   {
    "duration": 98,
    "start_time": "2023-01-25T21:18:33.123Z"
   },
   {
    "duration": 977,
    "start_time": "2023-01-25T21:19:27.085Z"
   },
   {
    "duration": 299,
    "start_time": "2023-01-25T21:19:28.064Z"
   },
   {
    "duration": 8,
    "start_time": "2023-01-25T21:19:28.364Z"
   },
   {
    "duration": 138,
    "start_time": "2023-01-25T21:19:28.374Z"
   },
   {
    "duration": 106,
    "start_time": "2023-01-25T21:19:28.514Z"
   },
   {
    "duration": 11,
    "start_time": "2023-01-25T21:19:28.622Z"
   },
   {
    "duration": 21,
    "start_time": "2023-01-25T21:19:28.635Z"
   },
   {
    "duration": 15,
    "start_time": "2023-01-25T21:19:28.657Z"
   },
   {
    "duration": 9,
    "start_time": "2023-01-25T21:19:28.673Z"
   },
   {
    "duration": 290,
    "start_time": "2023-01-25T21:19:28.684Z"
   },
   {
    "duration": 23,
    "start_time": "2023-01-25T21:19:28.976Z"
   },
   {
    "duration": 28,
    "start_time": "2023-01-25T21:19:29.001Z"
   },
   {
    "duration": 32,
    "start_time": "2023-01-25T21:19:29.030Z"
   },
   {
    "duration": 34,
    "start_time": "2023-01-25T21:19:29.064Z"
   },
   {
    "duration": 49,
    "start_time": "2023-01-25T21:19:29.100Z"
   },
   {
    "duration": 48,
    "start_time": "2023-01-25T21:19:29.150Z"
   },
   {
    "duration": 61,
    "start_time": "2023-01-25T21:19:29.199Z"
   },
   {
    "duration": 60,
    "start_time": "2023-01-25T21:19:29.261Z"
   },
   {
    "duration": 7,
    "start_time": "2023-01-25T21:19:29.322Z"
   },
   {
    "duration": 20,
    "start_time": "2023-01-25T21:19:29.330Z"
   },
   {
    "duration": 36,
    "start_time": "2023-01-25T21:19:29.351Z"
   },
   {
    "duration": 143,
    "start_time": "2023-01-25T21:19:29.389Z"
   },
   {
    "duration": 5,
    "start_time": "2023-01-25T21:19:29.533Z"
   },
   {
    "duration": 10,
    "start_time": "2023-01-25T21:19:29.539Z"
   },
   {
    "duration": 11,
    "start_time": "2023-01-25T21:19:29.551Z"
   },
   {
    "duration": 6,
    "start_time": "2023-01-25T21:21:06.873Z"
   },
   {
    "duration": 144,
    "start_time": "2023-01-25T21:24:03.113Z"
   },
   {
    "duration": 7,
    "start_time": "2023-01-25T21:30:57.749Z"
   },
   {
    "duration": 104,
    "start_time": "2023-01-25T21:31:25.041Z"
   },
   {
    "duration": 7,
    "start_time": "2023-01-25T21:34:46.629Z"
   },
   {
    "duration": 69,
    "start_time": "2023-01-25T21:36:34.217Z"
   },
   {
    "duration": 7,
    "start_time": "2023-01-25T21:37:50.208Z"
   },
   {
    "duration": 2,
    "start_time": "2023-01-25T21:51:44.631Z"
   },
   {
    "duration": 1221,
    "start_time": "2023-01-25T22:01:49.944Z"
   },
   {
    "duration": 942,
    "start_time": "2023-01-25T22:02:35.801Z"
   },
   {
    "duration": 293,
    "start_time": "2023-01-25T22:02:36.745Z"
   },
   {
    "duration": 13,
    "start_time": "2023-01-25T22:02:37.039Z"
   },
   {
    "duration": 130,
    "start_time": "2023-01-25T22:02:37.054Z"
   },
   {
    "duration": 103,
    "start_time": "2023-01-25T22:02:37.186Z"
   },
   {
    "duration": 11,
    "start_time": "2023-01-25T22:02:37.290Z"
   },
   {
    "duration": 11,
    "start_time": "2023-01-25T22:02:37.303Z"
   },
   {
    "duration": 33,
    "start_time": "2023-01-25T22:02:37.315Z"
   },
   {
    "duration": 4,
    "start_time": "2023-01-25T22:02:37.350Z"
   },
   {
    "duration": 287,
    "start_time": "2023-01-25T22:02:37.357Z"
   },
   {
    "duration": 24,
    "start_time": "2023-01-25T22:02:37.646Z"
   },
   {
    "duration": 28,
    "start_time": "2023-01-25T22:02:37.672Z"
   },
   {
    "duration": 15,
    "start_time": "2023-01-25T22:02:37.701Z"
   },
   {
    "duration": 61,
    "start_time": "2023-01-25T22:02:37.717Z"
   },
   {
    "duration": 30,
    "start_time": "2023-01-25T22:02:37.780Z"
   },
   {
    "duration": 64,
    "start_time": "2023-01-25T22:02:37.811Z"
   },
   {
    "duration": 47,
    "start_time": "2023-01-25T22:02:37.876Z"
   },
   {
    "duration": 73,
    "start_time": "2023-01-25T22:02:37.924Z"
   },
   {
    "duration": 7,
    "start_time": "2023-01-25T22:02:37.999Z"
   },
   {
    "duration": 7,
    "start_time": "2023-01-25T22:02:38.008Z"
   },
   {
    "duration": 52,
    "start_time": "2023-01-25T22:02:38.016Z"
   },
   {
    "duration": 127,
    "start_time": "2023-01-25T22:02:38.069Z"
   },
   {
    "duration": 6,
    "start_time": "2023-01-25T22:02:38.198Z"
   },
   {
    "duration": 11,
    "start_time": "2023-01-25T22:02:38.206Z"
   },
   {
    "duration": 8,
    "start_time": "2023-01-25T22:02:38.218Z"
   },
   {
    "duration": 21,
    "start_time": "2023-01-25T22:02:38.228Z"
   },
   {
    "duration": 1239,
    "start_time": "2023-01-25T22:02:38.251Z"
   },
   {
    "duration": 0,
    "start_time": "2023-01-25T22:02:39.492Z"
   },
   {
    "duration": 0,
    "start_time": "2023-01-25T22:02:39.493Z"
   },
   {
    "duration": 1179,
    "start_time": "2023-01-25T22:02:54.477Z"
   },
   {
    "duration": 1194,
    "start_time": "2023-01-25T22:07:31.880Z"
   },
   {
    "duration": 1142,
    "start_time": "2023-01-25T22:18:32.590Z"
   },
   {
    "duration": 1252,
    "start_time": "2023-01-25T22:21:44.372Z"
   },
   {
    "duration": 1231,
    "start_time": "2023-01-25T22:22:04.355Z"
   },
   {
    "duration": 1101,
    "start_time": "2023-01-25T22:22:26.237Z"
   },
   {
    "duration": 74,
    "start_time": "2023-01-25T22:23:12.461Z"
   },
   {
    "duration": 81,
    "start_time": "2023-01-25T22:23:36.889Z"
   },
   {
    "duration": 66,
    "start_time": "2023-01-25T22:28:04.713Z"
   },
   {
    "duration": 100,
    "start_time": "2023-01-25T22:29:42.376Z"
   },
   {
    "duration": 974,
    "start_time": "2023-01-25T22:30:12.314Z"
   },
   {
    "duration": 307,
    "start_time": "2023-01-25T22:30:13.290Z"
   },
   {
    "duration": 7,
    "start_time": "2023-01-25T22:30:13.599Z"
   },
   {
    "duration": 133,
    "start_time": "2023-01-25T22:30:13.608Z"
   },
   {
    "duration": 127,
    "start_time": "2023-01-25T22:30:13.743Z"
   },
   {
    "duration": 11,
    "start_time": "2023-01-25T22:30:13.871Z"
   },
   {
    "duration": 12,
    "start_time": "2023-01-25T22:30:13.883Z"
   },
   {
    "duration": 15,
    "start_time": "2023-01-25T22:30:13.896Z"
   },
   {
    "duration": 6,
    "start_time": "2023-01-25T22:30:13.913Z"
   },
   {
    "duration": 305,
    "start_time": "2023-01-25T22:30:13.921Z"
   },
   {
    "duration": 34,
    "start_time": "2023-01-25T22:30:14.228Z"
   },
   {
    "duration": 28,
    "start_time": "2023-01-25T22:30:14.263Z"
   },
   {
    "duration": 15,
    "start_time": "2023-01-25T22:30:14.292Z"
   },
   {
    "duration": 52,
    "start_time": "2023-01-25T22:30:14.309Z"
   },
   {
    "duration": 30,
    "start_time": "2023-01-25T22:30:14.362Z"
   },
   {
    "duration": 59,
    "start_time": "2023-01-25T22:30:14.394Z"
   },
   {
    "duration": 47,
    "start_time": "2023-01-25T22:30:14.454Z"
   },
   {
    "duration": 75,
    "start_time": "2023-01-25T22:30:14.503Z"
   },
   {
    "duration": 7,
    "start_time": "2023-01-25T22:30:14.580Z"
   },
   {
    "duration": 8,
    "start_time": "2023-01-25T22:30:14.588Z"
   },
   {
    "duration": 34,
    "start_time": "2023-01-25T22:30:14.598Z"
   },
   {
    "duration": 135,
    "start_time": "2023-01-25T22:30:14.633Z"
   },
   {
    "duration": 6,
    "start_time": "2023-01-25T22:30:14.770Z"
   },
   {
    "duration": 9,
    "start_time": "2023-01-25T22:30:14.777Z"
   },
   {
    "duration": 20,
    "start_time": "2023-01-25T22:30:14.787Z"
   },
   {
    "duration": 8,
    "start_time": "2023-01-25T22:30:14.809Z"
   },
   {
    "duration": 68,
    "start_time": "2023-01-25T22:30:14.818Z"
   },
   {
    "duration": 0,
    "start_time": "2023-01-25T22:30:14.887Z"
   },
   {
    "duration": 1,
    "start_time": "2023-01-25T22:30:14.888Z"
   },
   {
    "duration": 0,
    "start_time": "2023-01-25T22:30:14.889Z"
   },
   {
    "duration": 1199,
    "start_time": "2023-01-25T22:31:08.895Z"
   },
   {
    "duration": 1271,
    "start_time": "2023-01-28T09:25:41.819Z"
   },
   {
    "duration": 883,
    "start_time": "2023-01-28T09:25:43.092Z"
   },
   {
    "duration": 9,
    "start_time": "2023-01-28T09:25:43.976Z"
   },
   {
    "duration": 175,
    "start_time": "2023-01-28T09:25:43.987Z"
   },
   {
    "duration": 109,
    "start_time": "2023-01-28T09:25:44.164Z"
   },
   {
    "duration": 10,
    "start_time": "2023-01-28T09:25:44.275Z"
   },
   {
    "duration": 36,
    "start_time": "2023-01-28T09:25:44.287Z"
   },
   {
    "duration": 17,
    "start_time": "2023-01-28T09:25:44.325Z"
   },
   {
    "duration": 22,
    "start_time": "2023-01-28T09:25:44.344Z"
   },
   {
    "duration": 321,
    "start_time": "2023-01-28T09:25:44.369Z"
   },
   {
    "duration": 33,
    "start_time": "2023-01-28T09:25:44.692Z"
   },
   {
    "duration": 28,
    "start_time": "2023-01-28T09:25:44.726Z"
   },
   {
    "duration": 17,
    "start_time": "2023-01-28T09:25:44.756Z"
   },
   {
    "duration": 63,
    "start_time": "2023-01-28T09:25:44.775Z"
   },
   {
    "duration": 31,
    "start_time": "2023-01-28T09:25:44.839Z"
   },
   {
    "duration": 72,
    "start_time": "2023-01-28T09:25:44.871Z"
   },
   {
    "duration": 64,
    "start_time": "2023-01-28T09:25:44.945Z"
   },
   {
    "duration": 68,
    "start_time": "2023-01-28T09:25:45.010Z"
   },
   {
    "duration": 24,
    "start_time": "2023-01-28T09:25:45.080Z"
   },
   {
    "duration": 17,
    "start_time": "2023-01-28T09:25:45.107Z"
   },
   {
    "duration": 53,
    "start_time": "2023-01-28T09:25:45.127Z"
   },
   {
    "duration": 137,
    "start_time": "2023-01-28T09:25:45.181Z"
   },
   {
    "duration": 7,
    "start_time": "2023-01-28T09:25:45.320Z"
   },
   {
    "duration": 25,
    "start_time": "2023-01-28T09:25:45.328Z"
   },
   {
    "duration": 27,
    "start_time": "2023-01-28T09:25:45.355Z"
   },
   {
    "duration": 24,
    "start_time": "2023-01-28T09:25:45.384Z"
   },
   {
    "duration": 786,
    "start_time": "2023-01-28T09:25:45.410Z"
   },
   {
    "duration": 0,
    "start_time": "2023-01-28T09:25:46.198Z"
   },
   {
    "duration": 0,
    "start_time": "2023-01-28T09:25:46.199Z"
   },
   {
    "duration": 0,
    "start_time": "2023-01-28T09:25:46.200Z"
   },
   {
    "duration": 46,
    "start_time": "2023-01-28T09:38:13.791Z"
   },
   {
    "duration": 1096,
    "start_time": "2023-01-28T09:38:21.833Z"
   },
   {
    "duration": 355,
    "start_time": "2023-01-28T09:38:22.930Z"
   },
   {
    "duration": 18,
    "start_time": "2023-01-28T09:38:23.287Z"
   },
   {
    "duration": 159,
    "start_time": "2023-01-28T09:38:23.307Z"
   },
   {
    "duration": 143,
    "start_time": "2023-01-28T09:38:23.468Z"
   },
   {
    "duration": 19,
    "start_time": "2023-01-28T09:38:23.613Z"
   },
   {
    "duration": 24,
    "start_time": "2023-01-28T09:38:23.634Z"
   },
   {
    "duration": 24,
    "start_time": "2023-01-28T09:38:23.660Z"
   },
   {
    "duration": 38,
    "start_time": "2023-01-28T09:38:23.686Z"
   },
   {
    "duration": 331,
    "start_time": "2023-01-28T09:38:23.727Z"
   },
   {
    "duration": 45,
    "start_time": "2023-01-28T09:38:24.060Z"
   },
   {
    "duration": 52,
    "start_time": "2023-01-28T09:38:24.107Z"
   },
   {
    "duration": 26,
    "start_time": "2023-01-28T09:38:24.162Z"
   },
   {
    "duration": 63,
    "start_time": "2023-01-28T09:38:24.202Z"
   },
   {
    "duration": 57,
    "start_time": "2023-01-28T09:38:24.267Z"
   },
   {
    "duration": 61,
    "start_time": "2023-01-28T09:38:24.326Z"
   },
   {
    "duration": 74,
    "start_time": "2023-01-28T09:38:24.389Z"
   },
   {
    "duration": 83,
    "start_time": "2023-01-28T09:38:24.465Z"
   },
   {
    "duration": 9,
    "start_time": "2023-01-28T09:38:24.550Z"
   },
   {
    "duration": 10,
    "start_time": "2023-01-28T09:38:24.562Z"
   },
   {
    "duration": 53,
    "start_time": "2023-01-28T09:38:24.574Z"
   },
   {
    "duration": 142,
    "start_time": "2023-01-28T09:38:24.628Z"
   },
   {
    "duration": 0,
    "start_time": "2023-01-28T09:38:24.772Z"
   },
   {
    "duration": 0,
    "start_time": "2023-01-28T09:38:24.773Z"
   },
   {
    "duration": 0,
    "start_time": "2023-01-28T09:38:24.775Z"
   },
   {
    "duration": 0,
    "start_time": "2023-01-28T09:38:24.777Z"
   },
   {
    "duration": 0,
    "start_time": "2023-01-28T09:38:24.778Z"
   },
   {
    "duration": 0,
    "start_time": "2023-01-28T09:38:24.781Z"
   },
   {
    "duration": 0,
    "start_time": "2023-01-28T09:38:24.804Z"
   },
   {
    "duration": 0,
    "start_time": "2023-01-28T09:38:24.806Z"
   },
   {
    "duration": 39,
    "start_time": "2023-01-28T09:38:50.142Z"
   },
   {
    "duration": 146,
    "start_time": "2023-01-28T09:39:28.625Z"
   },
   {
    "duration": 112,
    "start_time": "2023-01-28T09:40:22.639Z"
   },
   {
    "duration": 70,
    "start_time": "2023-01-28T09:40:36.850Z"
   },
   {
    "duration": 146,
    "start_time": "2023-01-28T09:40:42.365Z"
   },
   {
    "duration": 106,
    "start_time": "2023-01-28T09:40:55.657Z"
   },
   {
    "duration": 115,
    "start_time": "2023-01-28T09:41:35.980Z"
   },
   {
    "duration": 139,
    "start_time": "2023-01-28T09:42:15.687Z"
   },
   {
    "duration": 48,
    "start_time": "2023-01-28T09:42:21.322Z"
   },
   {
    "duration": 175,
    "start_time": "2023-01-28T09:42:29.430Z"
   },
   {
    "duration": 981,
    "start_time": "2023-01-28T09:45:02.443Z"
   },
   {
    "duration": 956,
    "start_time": "2023-01-28T09:45:26.132Z"
   },
   {
    "duration": 41,
    "start_time": "2023-01-28T09:49:26.725Z"
   },
   {
    "duration": 53,
    "start_time": "2023-01-28T09:49:47.841Z"
   },
   {
    "duration": 64,
    "start_time": "2023-01-28T09:52:56.993Z"
   },
   {
    "duration": 1092,
    "start_time": "2023-01-28T09:53:43.557Z"
   },
   {
    "duration": 332,
    "start_time": "2023-01-28T09:53:44.652Z"
   },
   {
    "duration": 20,
    "start_time": "2023-01-28T09:53:44.985Z"
   },
   {
    "duration": 175,
    "start_time": "2023-01-28T09:53:45.008Z"
   },
   {
    "duration": 137,
    "start_time": "2023-01-28T09:53:45.185Z"
   },
   {
    "duration": 11,
    "start_time": "2023-01-28T09:53:45.323Z"
   },
   {
    "duration": 15,
    "start_time": "2023-01-28T09:53:45.336Z"
   },
   {
    "duration": 15,
    "start_time": "2023-01-28T09:53:45.352Z"
   },
   {
    "duration": 15,
    "start_time": "2023-01-28T09:53:45.369Z"
   },
   {
    "duration": 351,
    "start_time": "2023-01-28T09:53:45.404Z"
   },
   {
    "duration": 30,
    "start_time": "2023-01-28T09:53:45.757Z"
   },
   {
    "duration": 43,
    "start_time": "2023-01-28T09:53:45.788Z"
   },
   {
    "duration": 17,
    "start_time": "2023-01-28T09:53:45.833Z"
   },
   {
    "duration": 51,
    "start_time": "2023-01-28T09:53:45.852Z"
   },
   {
    "duration": 37,
    "start_time": "2023-01-28T09:53:45.912Z"
   },
   {
    "duration": 76,
    "start_time": "2023-01-28T09:53:45.952Z"
   },
   {
    "duration": 56,
    "start_time": "2023-01-28T09:53:46.030Z"
   },
   {
    "duration": 78,
    "start_time": "2023-01-28T09:53:46.088Z"
   },
   {
    "duration": 9,
    "start_time": "2023-01-28T09:53:46.168Z"
   },
   {
    "duration": 8,
    "start_time": "2023-01-28T09:53:46.178Z"
   },
   {
    "duration": 80,
    "start_time": "2023-01-28T09:53:46.187Z"
   },
   {
    "duration": 55,
    "start_time": "2023-01-28T09:53:46.269Z"
   },
   {
    "duration": 1002,
    "start_time": "2023-01-28T09:53:46.326Z"
   },
   {
    "duration": 0,
    "start_time": "2023-01-28T09:53:47.330Z"
   },
   {
    "duration": 0,
    "start_time": "2023-01-28T09:53:47.331Z"
   },
   {
    "duration": 0,
    "start_time": "2023-01-28T09:53:47.332Z"
   },
   {
    "duration": 0,
    "start_time": "2023-01-28T09:53:47.334Z"
   },
   {
    "duration": 0,
    "start_time": "2023-01-28T09:53:47.335Z"
   },
   {
    "duration": 0,
    "start_time": "2023-01-28T09:53:47.336Z"
   },
   {
    "duration": 0,
    "start_time": "2023-01-28T09:53:47.337Z"
   },
   {
    "duration": 0,
    "start_time": "2023-01-28T09:53:47.338Z"
   },
   {
    "duration": 82,
    "start_time": "2023-01-28T09:55:04.929Z"
   },
   {
    "duration": 57,
    "start_time": "2023-01-28T09:55:12.936Z"
   },
   {
    "duration": 890,
    "start_time": "2023-01-28T09:56:09.470Z"
   },
   {
    "duration": 868,
    "start_time": "2023-01-28T09:56:17.629Z"
   },
   {
    "duration": 724,
    "start_time": "2023-01-28T09:58:56.938Z"
   },
   {
    "duration": 756,
    "start_time": "2023-01-28T09:59:29.555Z"
   },
   {
    "duration": 1086,
    "start_time": "2023-01-28T10:00:52.491Z"
   },
   {
    "duration": 386,
    "start_time": "2023-01-28T10:00:53.579Z"
   },
   {
    "duration": 12,
    "start_time": "2023-01-28T10:00:53.967Z"
   },
   {
    "duration": 217,
    "start_time": "2023-01-28T10:00:53.982Z"
   },
   {
    "duration": 168,
    "start_time": "2023-01-28T10:00:54.202Z"
   },
   {
    "duration": 14,
    "start_time": "2023-01-28T10:00:54.372Z"
   },
   {
    "duration": 30,
    "start_time": "2023-01-28T10:00:54.405Z"
   },
   {
    "duration": 31,
    "start_time": "2023-01-28T10:00:54.438Z"
   },
   {
    "duration": 17,
    "start_time": "2023-01-28T10:00:54.471Z"
   },
   {
    "duration": 401,
    "start_time": "2023-01-28T10:00:54.491Z"
   },
   {
    "duration": 40,
    "start_time": "2023-01-28T10:00:54.894Z"
   },
   {
    "duration": 34,
    "start_time": "2023-01-28T10:00:54.937Z"
   },
   {
    "duration": 40,
    "start_time": "2023-01-28T10:00:54.973Z"
   },
   {
    "duration": 40,
    "start_time": "2023-01-28T10:00:55.015Z"
   },
   {
    "duration": 66,
    "start_time": "2023-01-28T10:00:55.057Z"
   },
   {
    "duration": 96,
    "start_time": "2023-01-28T10:00:55.125Z"
   },
   {
    "duration": 66,
    "start_time": "2023-01-28T10:00:55.222Z"
   },
   {
    "duration": 90,
    "start_time": "2023-01-28T10:00:55.290Z"
   },
   {
    "duration": 21,
    "start_time": "2023-01-28T10:00:55.383Z"
   },
   {
    "duration": 30,
    "start_time": "2023-01-28T10:00:55.406Z"
   },
   {
    "duration": 92,
    "start_time": "2023-01-28T10:00:55.438Z"
   },
   {
    "duration": 73,
    "start_time": "2023-01-28T10:00:55.533Z"
   },
   {
    "duration": 849,
    "start_time": "2023-01-28T10:00:55.612Z"
   },
   {
    "duration": 0,
    "start_time": "2023-01-28T10:00:56.463Z"
   },
   {
    "duration": 0,
    "start_time": "2023-01-28T10:00:56.465Z"
   },
   {
    "duration": 0,
    "start_time": "2023-01-28T10:00:56.468Z"
   },
   {
    "duration": 0,
    "start_time": "2023-01-28T10:00:56.469Z"
   },
   {
    "duration": 0,
    "start_time": "2023-01-28T10:00:56.473Z"
   },
   {
    "duration": 0,
    "start_time": "2023-01-28T10:00:56.474Z"
   },
   {
    "duration": 0,
    "start_time": "2023-01-28T10:00:56.476Z"
   },
   {
    "duration": 0,
    "start_time": "2023-01-28T10:00:56.478Z"
   },
   {
    "duration": 676,
    "start_time": "2023-01-28T10:03:15.001Z"
   },
   {
    "duration": 69,
    "start_time": "2023-01-28T10:04:57.760Z"
   },
   {
    "duration": 79,
    "start_time": "2023-01-28T10:05:28.628Z"
   },
   {
    "duration": 105,
    "start_time": "2023-01-28T10:05:44.377Z"
   },
   {
    "duration": 132,
    "start_time": "2023-01-28T10:05:48.742Z"
   },
   {
    "duration": 10,
    "start_time": "2023-01-28T10:06:54.251Z"
   },
   {
    "duration": 8,
    "start_time": "2023-01-28T10:06:58.365Z"
   },
   {
    "duration": 99,
    "start_time": "2023-01-28T10:07:48.196Z"
   },
   {
    "duration": 9,
    "start_time": "2023-01-28T10:10:19.591Z"
   },
   {
    "duration": 9,
    "start_time": "2023-01-28T10:10:30.437Z"
   },
   {
    "duration": 6,
    "start_time": "2023-01-28T10:10:34.426Z"
   },
   {
    "duration": 9,
    "start_time": "2023-01-28T10:10:36.630Z"
   },
   {
    "duration": 12,
    "start_time": "2023-01-28T10:11:08.332Z"
   },
   {
    "duration": 6,
    "start_time": "2023-01-28T10:11:53.746Z"
   },
   {
    "duration": 9,
    "start_time": "2023-01-28T10:11:55.596Z"
   },
   {
    "duration": 10,
    "start_time": "2023-01-28T10:17:21.721Z"
   },
   {
    "duration": 11,
    "start_time": "2023-01-28T10:19:57.798Z"
   },
   {
    "duration": 129,
    "start_time": "2023-01-28T10:22:21.652Z"
   },
   {
    "duration": 10,
    "start_time": "2023-01-28T10:22:48.450Z"
   },
   {
    "duration": 8,
    "start_time": "2023-01-28T10:22:59.984Z"
   },
   {
    "duration": 10,
    "start_time": "2023-01-28T10:23:36.864Z"
   },
   {
    "duration": 44,
    "start_time": "2023-01-28T10:24:36.187Z"
   },
   {
    "duration": 3,
    "start_time": "2023-01-28T10:29:07.023Z"
   },
   {
    "duration": 48,
    "start_time": "2023-01-28T10:30:47.121Z"
   },
   {
    "duration": 10,
    "start_time": "2023-01-28T10:31:12.159Z"
   },
   {
    "duration": 12,
    "start_time": "2023-01-28T10:31:27.574Z"
   },
   {
    "duration": 10,
    "start_time": "2023-01-28T10:31:30.207Z"
   },
   {
    "duration": 11,
    "start_time": "2023-01-28T10:32:43.755Z"
   },
   {
    "duration": 12,
    "start_time": "2023-01-28T10:32:45.781Z"
   },
   {
    "duration": 3,
    "start_time": "2023-01-28T10:36:32.336Z"
   },
   {
    "duration": 49,
    "start_time": "2023-01-28T11:00:18.733Z"
   },
   {
    "duration": 1008,
    "start_time": "2023-01-28T11:13:56.564Z"
   },
   {
    "duration": 312,
    "start_time": "2023-01-28T11:13:57.574Z"
   },
   {
    "duration": 16,
    "start_time": "2023-01-28T11:13:57.888Z"
   },
   {
    "duration": 142,
    "start_time": "2023-01-28T11:13:57.906Z"
   },
   {
    "duration": 133,
    "start_time": "2023-01-28T11:13:58.050Z"
   },
   {
    "duration": 23,
    "start_time": "2023-01-28T11:13:58.185Z"
   },
   {
    "duration": 14,
    "start_time": "2023-01-28T11:13:58.211Z"
   },
   {
    "duration": 22,
    "start_time": "2023-01-28T11:13:58.227Z"
   },
   {
    "duration": 6,
    "start_time": "2023-01-28T11:13:58.251Z"
   },
   {
    "duration": 345,
    "start_time": "2023-01-28T11:13:58.260Z"
   },
   {
    "duration": 29,
    "start_time": "2023-01-28T11:13:58.607Z"
   },
   {
    "duration": 46,
    "start_time": "2023-01-28T11:13:58.638Z"
   },
   {
    "duration": 17,
    "start_time": "2023-01-28T11:13:58.704Z"
   },
   {
    "duration": 47,
    "start_time": "2023-01-28T11:13:58.723Z"
   },
   {
    "duration": 60,
    "start_time": "2023-01-28T11:13:58.772Z"
   },
   {
    "duration": 56,
    "start_time": "2023-01-28T11:13:58.834Z"
   },
   {
    "duration": 59,
    "start_time": "2023-01-28T11:13:58.905Z"
   },
   {
    "duration": 77,
    "start_time": "2023-01-28T11:13:58.966Z"
   },
   {
    "duration": 8,
    "start_time": "2023-01-28T11:13:59.045Z"
   },
   {
    "duration": 41,
    "start_time": "2023-01-28T11:13:59.054Z"
   },
   {
    "duration": 67,
    "start_time": "2023-01-28T11:13:59.097Z"
   },
   {
    "duration": 48,
    "start_time": "2023-01-28T11:13:59.165Z"
   },
   {
    "duration": 114,
    "start_time": "2023-01-28T11:13:59.215Z"
   },
   {
    "duration": 6,
    "start_time": "2023-01-28T11:13:59.331Z"
   },
   {
    "duration": 19,
    "start_time": "2023-01-28T11:13:59.339Z"
   },
   {
    "duration": 31,
    "start_time": "2023-01-28T11:13:59.359Z"
   },
   {
    "duration": 19,
    "start_time": "2023-01-28T11:13:59.391Z"
   },
   {
    "duration": 9,
    "start_time": "2023-01-28T11:13:59.413Z"
   },
   {
    "duration": 16,
    "start_time": "2023-01-28T11:13:59.424Z"
   },
   {
    "duration": 10,
    "start_time": "2023-01-28T11:13:59.442Z"
   },
   {
    "duration": 13,
    "start_time": "2023-01-28T11:13:59.454Z"
   },
   {
    "duration": 40,
    "start_time": "2023-01-28T11:13:59.469Z"
   },
   {
    "duration": 54,
    "start_time": "2023-01-28T11:15:30.565Z"
   },
   {
    "duration": 1113,
    "start_time": "2023-01-28T11:25:16.626Z"
   },
   {
    "duration": 327,
    "start_time": "2023-01-28T11:25:17.741Z"
   },
   {
    "duration": 10,
    "start_time": "2023-01-28T11:25:18.070Z"
   },
   {
    "duration": 162,
    "start_time": "2023-01-28T11:25:18.083Z"
   },
   {
    "duration": 111,
    "start_time": "2023-01-28T11:25:18.247Z"
   },
   {
    "duration": 24,
    "start_time": "2023-01-28T11:25:18.360Z"
   },
   {
    "duration": 53,
    "start_time": "2023-01-28T11:25:18.385Z"
   },
   {
    "duration": 23,
    "start_time": "2023-01-28T11:25:18.440Z"
   },
   {
    "duration": 20,
    "start_time": "2023-01-28T11:25:18.464Z"
   },
   {
    "duration": 355,
    "start_time": "2023-01-28T11:25:18.487Z"
   },
   {
    "duration": 26,
    "start_time": "2023-01-28T11:25:18.844Z"
   },
   {
    "duration": 42,
    "start_time": "2023-01-28T11:25:18.871Z"
   },
   {
    "duration": 16,
    "start_time": "2023-01-28T11:25:18.915Z"
   },
   {
    "duration": 55,
    "start_time": "2023-01-28T11:25:18.932Z"
   },
   {
    "duration": 32,
    "start_time": "2023-01-28T11:25:18.989Z"
   },
   {
    "duration": 52,
    "start_time": "2023-01-28T11:25:19.022Z"
   },
   {
    "duration": 67,
    "start_time": "2023-01-28T11:25:19.075Z"
   },
   {
    "duration": 79,
    "start_time": "2023-01-28T11:25:19.144Z"
   },
   {
    "duration": 9,
    "start_time": "2023-01-28T11:25:19.225Z"
   },
   {
    "duration": 10,
    "start_time": "2023-01-28T11:25:19.235Z"
   },
   {
    "duration": 69,
    "start_time": "2023-01-28T11:25:19.247Z"
   },
   {
    "duration": 46,
    "start_time": "2023-01-28T11:25:19.318Z"
   },
   {
    "duration": 122,
    "start_time": "2023-01-28T11:25:19.365Z"
   },
   {
    "duration": 7,
    "start_time": "2023-01-28T11:25:19.489Z"
   },
   {
    "duration": 41,
    "start_time": "2023-01-28T11:25:19.503Z"
   },
   {
    "duration": 39,
    "start_time": "2023-01-28T11:25:19.546Z"
   },
   {
    "duration": 43,
    "start_time": "2023-01-28T11:25:19.587Z"
   },
   {
    "duration": 22,
    "start_time": "2023-01-28T11:25:19.633Z"
   },
   {
    "duration": 16,
    "start_time": "2023-01-28T11:25:19.657Z"
   },
   {
    "duration": 25,
    "start_time": "2023-01-28T11:25:19.675Z"
   },
   {
    "duration": 27,
    "start_time": "2023-01-28T11:25:19.702Z"
   },
   {
    "duration": 29,
    "start_time": "2023-01-28T11:25:19.731Z"
   },
   {
    "duration": 1048,
    "start_time": "2023-01-28T11:35:50.069Z"
   },
   {
    "duration": 323,
    "start_time": "2023-01-28T11:35:51.119Z"
   },
   {
    "duration": 9,
    "start_time": "2023-01-28T11:35:51.444Z"
   },
   {
    "duration": 156,
    "start_time": "2023-01-28T11:35:51.455Z"
   },
   {
    "duration": 129,
    "start_time": "2023-01-28T11:35:51.613Z"
   },
   {
    "duration": 13,
    "start_time": "2023-01-28T11:35:51.744Z"
   },
   {
    "duration": 38,
    "start_time": "2023-01-28T11:35:51.758Z"
   },
   {
    "duration": 31,
    "start_time": "2023-01-28T11:35:51.798Z"
   },
   {
    "duration": 26,
    "start_time": "2023-01-28T11:35:51.830Z"
   },
   {
    "duration": 324,
    "start_time": "2023-01-28T11:35:51.858Z"
   },
   {
    "duration": 34,
    "start_time": "2023-01-28T11:35:52.184Z"
   },
   {
    "duration": 26,
    "start_time": "2023-01-28T11:35:52.220Z"
   },
   {
    "duration": 18,
    "start_time": "2023-01-28T11:35:52.247Z"
   },
   {
    "duration": 57,
    "start_time": "2023-01-28T11:35:52.266Z"
   },
   {
    "duration": 32,
    "start_time": "2023-01-28T11:35:52.326Z"
   },
   {
    "duration": 74,
    "start_time": "2023-01-28T11:35:52.360Z"
   },
   {
    "duration": 55,
    "start_time": "2023-01-28T11:35:52.436Z"
   },
   {
    "duration": 77,
    "start_time": "2023-01-28T11:35:52.492Z"
   },
   {
    "duration": 9,
    "start_time": "2023-01-28T11:35:52.570Z"
   },
   {
    "duration": 53,
    "start_time": "2023-01-28T11:35:52.580Z"
   },
   {
    "duration": 73,
    "start_time": "2023-01-28T11:35:52.634Z"
   },
   {
    "duration": 48,
    "start_time": "2023-01-28T11:35:52.708Z"
   },
   {
    "duration": 118,
    "start_time": "2023-01-28T11:35:52.758Z"
   },
   {
    "duration": 6,
    "start_time": "2023-01-28T11:35:52.877Z"
   },
   {
    "duration": 29,
    "start_time": "2023-01-28T11:35:52.885Z"
   },
   {
    "duration": 18,
    "start_time": "2023-01-28T11:35:52.915Z"
   },
   {
    "duration": 22,
    "start_time": "2023-01-28T11:35:52.934Z"
   },
   {
    "duration": 18,
    "start_time": "2023-01-28T11:35:52.959Z"
   },
   {
    "duration": 26,
    "start_time": "2023-01-28T11:35:52.979Z"
   },
   {
    "duration": 24,
    "start_time": "2023-01-28T11:35:53.006Z"
   },
   {
    "duration": 43,
    "start_time": "2023-01-28T11:35:53.033Z"
   },
   {
    "duration": 41,
    "start_time": "2023-01-28T11:35:53.079Z"
   },
   {
    "duration": 1070,
    "start_time": "2023-01-28T13:06:44.079Z"
   },
   {
    "duration": 324,
    "start_time": "2023-01-28T13:06:45.150Z"
   },
   {
    "duration": 23,
    "start_time": "2023-01-28T13:06:45.476Z"
   },
   {
    "duration": 137,
    "start_time": "2023-01-28T13:06:45.501Z"
   },
   {
    "duration": 108,
    "start_time": "2023-01-28T13:06:45.640Z"
   },
   {
    "duration": 13,
    "start_time": "2023-01-28T13:06:45.750Z"
   },
   {
    "duration": 14,
    "start_time": "2023-01-28T13:06:45.765Z"
   },
   {
    "duration": 34,
    "start_time": "2023-01-28T13:06:45.781Z"
   },
   {
    "duration": 6,
    "start_time": "2023-01-28T13:06:45.817Z"
   },
   {
    "duration": 329,
    "start_time": "2023-01-28T13:06:45.825Z"
   },
   {
    "duration": 27,
    "start_time": "2023-01-28T13:06:46.156Z"
   },
   {
    "duration": 35,
    "start_time": "2023-01-28T13:06:46.185Z"
   },
   {
    "duration": 16,
    "start_time": "2023-01-28T13:06:46.222Z"
   },
   {
    "duration": 59,
    "start_time": "2023-01-28T13:06:46.241Z"
   },
   {
    "duration": 44,
    "start_time": "2023-01-28T13:06:46.302Z"
   },
   {
    "duration": 74,
    "start_time": "2023-01-28T13:06:46.348Z"
   },
   {
    "duration": 52,
    "start_time": "2023-01-28T13:06:46.425Z"
   },
   {
    "duration": 96,
    "start_time": "2023-01-28T13:06:46.479Z"
   },
   {
    "duration": 23,
    "start_time": "2023-01-28T13:06:46.577Z"
   },
   {
    "duration": 20,
    "start_time": "2023-01-28T13:06:46.602Z"
   },
   {
    "duration": 66,
    "start_time": "2023-01-28T13:06:46.624Z"
   },
   {
    "duration": 64,
    "start_time": "2023-01-28T13:06:46.692Z"
   },
   {
    "duration": 114,
    "start_time": "2023-01-28T13:06:46.758Z"
   },
   {
    "duration": 9,
    "start_time": "2023-01-28T13:06:46.874Z"
   },
   {
    "duration": 24,
    "start_time": "2023-01-28T13:06:46.885Z"
   },
   {
    "duration": 22,
    "start_time": "2023-01-28T13:06:46.911Z"
   },
   {
    "duration": 25,
    "start_time": "2023-01-28T13:06:46.935Z"
   },
   {
    "duration": 14,
    "start_time": "2023-01-28T13:06:46.962Z"
   },
   {
    "duration": 27,
    "start_time": "2023-01-28T13:06:46.978Z"
   },
   {
    "duration": 21,
    "start_time": "2023-01-28T13:06:47.006Z"
   },
   {
    "duration": 20,
    "start_time": "2023-01-28T13:06:47.029Z"
   },
   {
    "duration": 15,
    "start_time": "2023-01-28T13:06:47.052Z"
   },
   {
    "duration": 9,
    "start_time": "2023-01-28T13:09:05.760Z"
   },
   {
    "duration": 18,
    "start_time": "2023-01-28T13:10:49.940Z"
   },
   {
    "duration": 672,
    "start_time": "2023-01-28T13:10:59.440Z"
   },
   {
    "duration": 70,
    "start_time": "2023-01-28T15:01:40.600Z"
   },
   {
    "duration": 74,
    "start_time": "2023-01-28T15:02:09.339Z"
   },
   {
    "duration": 1357,
    "start_time": "2023-01-28T15:02:16.998Z"
   },
   {
    "duration": 803,
    "start_time": "2023-01-28T15:02:18.357Z"
   },
   {
    "duration": 20,
    "start_time": "2023-01-28T15:02:19.163Z"
   },
   {
    "duration": 144,
    "start_time": "2023-01-28T15:02:19.185Z"
   },
   {
    "duration": 155,
    "start_time": "2023-01-28T15:02:19.331Z"
   },
   {
    "duration": 16,
    "start_time": "2023-01-28T15:02:19.488Z"
   },
   {
    "duration": 15,
    "start_time": "2023-01-28T15:02:19.506Z"
   },
   {
    "duration": 23,
    "start_time": "2023-01-28T15:02:19.523Z"
   },
   {
    "duration": 33,
    "start_time": "2023-01-28T15:02:19.549Z"
   },
   {
    "duration": 357,
    "start_time": "2023-01-28T15:02:19.586Z"
   },
   {
    "duration": 729,
    "start_time": "2023-01-28T15:02:19.945Z"
   },
   {
    "duration": 37,
    "start_time": "2023-01-28T15:02:20.676Z"
   },
   {
    "duration": 68,
    "start_time": "2023-01-28T15:02:20.716Z"
   },
   {
    "duration": 23,
    "start_time": "2023-01-28T15:02:20.786Z"
   },
   {
    "duration": 77,
    "start_time": "2023-01-28T15:02:20.811Z"
   },
   {
    "duration": 45,
    "start_time": "2023-01-28T15:02:20.890Z"
   },
   {
    "duration": 84,
    "start_time": "2023-01-28T15:02:20.938Z"
   },
   {
    "duration": 94,
    "start_time": "2023-01-28T15:02:21.024Z"
   },
   {
    "duration": 123,
    "start_time": "2023-01-28T15:02:21.121Z"
   },
   {
    "duration": 11,
    "start_time": "2023-01-28T15:02:21.247Z"
   },
   {
    "duration": 25,
    "start_time": "2023-01-28T15:02:21.261Z"
   },
   {
    "duration": 86,
    "start_time": "2023-01-28T15:02:21.289Z"
   },
   {
    "duration": 56,
    "start_time": "2023-01-28T15:02:21.377Z"
   },
   {
    "duration": 127,
    "start_time": "2023-01-28T15:02:21.435Z"
   },
   {
    "duration": 17,
    "start_time": "2023-01-28T15:02:21.565Z"
   },
   {
    "duration": 71,
    "start_time": "2023-01-28T15:02:21.585Z"
   },
   {
    "duration": 18,
    "start_time": "2023-01-28T15:02:21.658Z"
   },
   {
    "duration": 20,
    "start_time": "2023-01-28T15:02:21.680Z"
   },
   {
    "duration": 20,
    "start_time": "2023-01-28T15:02:21.702Z"
   },
   {
    "duration": 11,
    "start_time": "2023-01-28T15:02:21.724Z"
   },
   {
    "duration": 24,
    "start_time": "2023-01-28T15:02:21.737Z"
   },
   {
    "duration": 35,
    "start_time": "2023-01-28T15:02:21.763Z"
   },
   {
    "duration": 33,
    "start_time": "2023-01-28T15:02:21.800Z"
   },
   {
    "duration": 58,
    "start_time": "2023-01-28T15:03:30.331Z"
   },
   {
    "duration": 145,
    "start_time": "2023-01-28T15:26:08.071Z"
   },
   {
    "duration": 108,
    "start_time": "2023-01-28T15:26:12.960Z"
   },
   {
    "duration": 22,
    "start_time": "2023-01-28T15:26:25.063Z"
   },
   {
    "duration": 35,
    "start_time": "2023-01-28T15:26:44.477Z"
   },
   {
    "duration": 27,
    "start_time": "2023-01-28T15:27:15.173Z"
   },
   {
    "duration": 140,
    "start_time": "2023-01-28T15:58:54.557Z"
   },
   {
    "duration": 105,
    "start_time": "2023-01-28T15:59:21.196Z"
   },
   {
    "duration": 44,
    "start_time": "2023-01-28T16:05:52.039Z"
   },
   {
    "duration": 45,
    "start_time": "2023-01-28T16:06:00.938Z"
   },
   {
    "duration": 1159,
    "start_time": "2023-01-28T16:06:18.061Z"
   },
   {
    "duration": 289,
    "start_time": "2023-01-28T16:06:19.222Z"
   },
   {
    "duration": 8,
    "start_time": "2023-01-28T16:06:19.513Z"
   },
   {
    "duration": 157,
    "start_time": "2023-01-28T16:06:19.524Z"
   },
   {
    "duration": 129,
    "start_time": "2023-01-28T16:06:19.684Z"
   },
   {
    "duration": 11,
    "start_time": "2023-01-28T16:06:19.815Z"
   },
   {
    "duration": 15,
    "start_time": "2023-01-28T16:06:19.827Z"
   },
   {
    "duration": 15,
    "start_time": "2023-01-28T16:06:19.844Z"
   },
   {
    "duration": 6,
    "start_time": "2023-01-28T16:06:19.881Z"
   },
   {
    "duration": 338,
    "start_time": "2023-01-28T16:06:19.890Z"
   },
   {
    "duration": 689,
    "start_time": "2023-01-28T16:06:20.229Z"
   },
   {
    "duration": 32,
    "start_time": "2023-01-28T16:06:20.920Z"
   },
   {
    "duration": 42,
    "start_time": "2023-01-28T16:06:20.954Z"
   },
   {
    "duration": 17,
    "start_time": "2023-01-28T16:06:20.998Z"
   },
   {
    "duration": 38,
    "start_time": "2023-01-28T16:06:21.017Z"
   },
   {
    "duration": 35,
    "start_time": "2023-01-28T16:06:21.082Z"
   },
   {
    "duration": 70,
    "start_time": "2023-01-28T16:06:21.129Z"
   },
   {
    "duration": 64,
    "start_time": "2023-01-28T16:06:21.201Z"
   },
   {
    "duration": 79,
    "start_time": "2023-01-28T16:06:21.267Z"
   },
   {
    "duration": 9,
    "start_time": "2023-01-28T16:06:21.348Z"
   },
   {
    "duration": 25,
    "start_time": "2023-01-28T16:06:21.359Z"
   },
   {
    "duration": 48,
    "start_time": "2023-01-28T16:06:21.386Z"
   },
   {
    "duration": 65,
    "start_time": "2023-01-28T16:06:21.436Z"
   },
   {
    "duration": 116,
    "start_time": "2023-01-28T16:06:21.503Z"
   },
   {
    "duration": 47,
    "start_time": "2023-01-28T16:06:21.621Z"
   },
   {
    "duration": 6,
    "start_time": "2023-01-28T16:06:21.681Z"
   },
   {
    "duration": 12,
    "start_time": "2023-01-28T16:06:21.689Z"
   },
   {
    "duration": 8,
    "start_time": "2023-01-28T16:06:21.704Z"
   },
   {
    "duration": 13,
    "start_time": "2023-01-28T16:06:21.713Z"
   },
   {
    "duration": 11,
    "start_time": "2023-01-28T16:06:21.727Z"
   },
   {
    "duration": 44,
    "start_time": "2023-01-28T16:06:21.740Z"
   },
   {
    "duration": 13,
    "start_time": "2023-01-28T16:06:21.786Z"
   },
   {
    "duration": 10,
    "start_time": "2023-01-28T16:06:21.801Z"
   },
   {
    "duration": 16,
    "start_time": "2023-01-28T16:06:21.812Z"
   },
   {
    "duration": 8,
    "start_time": "2023-01-28T16:11:02.644Z"
   },
   {
    "duration": 104,
    "start_time": "2023-01-28T16:11:16.097Z"
   },
   {
    "duration": 45,
    "start_time": "2023-01-28T16:11:23.836Z"
   },
   {
    "duration": 11,
    "start_time": "2023-01-28T16:11:38.494Z"
   },
   {
    "duration": 5,
    "start_time": "2023-01-28T16:12:48.097Z"
   },
   {
    "duration": 11,
    "start_time": "2023-01-28T16:12:49.833Z"
   },
   {
    "duration": 1103,
    "start_time": "2023-01-28T16:15:30.640Z"
   },
   {
    "duration": 309,
    "start_time": "2023-01-28T16:15:31.745Z"
   },
   {
    "duration": 9,
    "start_time": "2023-01-28T16:15:32.055Z"
   },
   {
    "duration": 145,
    "start_time": "2023-01-28T16:15:32.066Z"
   },
   {
    "duration": 113,
    "start_time": "2023-01-28T16:15:32.213Z"
   },
   {
    "duration": 11,
    "start_time": "2023-01-28T16:15:32.327Z"
   },
   {
    "duration": 15,
    "start_time": "2023-01-28T16:15:32.340Z"
   },
   {
    "duration": 27,
    "start_time": "2023-01-28T16:15:32.357Z"
   },
   {
    "duration": 6,
    "start_time": "2023-01-28T16:15:32.386Z"
   },
   {
    "duration": 320,
    "start_time": "2023-01-28T16:15:32.395Z"
   },
   {
    "duration": 650,
    "start_time": "2023-01-28T16:15:32.717Z"
   },
   {
    "duration": 35,
    "start_time": "2023-01-28T16:15:33.368Z"
   },
   {
    "duration": 24,
    "start_time": "2023-01-28T16:15:33.405Z"
   },
   {
    "duration": 16,
    "start_time": "2023-01-28T16:15:33.431Z"
   },
   {
    "duration": 64,
    "start_time": "2023-01-28T16:15:33.449Z"
   },
   {
    "duration": 36,
    "start_time": "2023-01-28T16:15:33.514Z"
   },
   {
    "duration": 54,
    "start_time": "2023-01-28T16:15:33.580Z"
   },
   {
    "duration": 68,
    "start_time": "2023-01-28T16:15:33.636Z"
   },
   {
    "duration": 77,
    "start_time": "2023-01-28T16:15:33.705Z"
   },
   {
    "duration": 9,
    "start_time": "2023-01-28T16:15:33.784Z"
   },
   {
    "duration": 7,
    "start_time": "2023-01-28T16:15:33.795Z"
   },
   {
    "duration": 57,
    "start_time": "2023-01-28T16:15:33.804Z"
   },
   {
    "duration": 60,
    "start_time": "2023-01-28T16:15:33.863Z"
   },
   {
    "duration": 126,
    "start_time": "2023-01-28T16:15:33.925Z"
   },
   {
    "duration": 56,
    "start_time": "2023-01-28T16:15:34.052Z"
   },
   {
    "duration": 6,
    "start_time": "2023-01-28T16:15:34.109Z"
   },
   {
    "duration": 128,
    "start_time": "2023-01-28T16:15:34.116Z"
   },
   {
    "duration": 0,
    "start_time": "2023-01-28T16:15:34.246Z"
   },
   {
    "duration": 0,
    "start_time": "2023-01-28T16:15:34.247Z"
   },
   {
    "duration": 0,
    "start_time": "2023-01-28T16:15:34.248Z"
   },
   {
    "duration": 0,
    "start_time": "2023-01-28T16:15:34.249Z"
   },
   {
    "duration": 0,
    "start_time": "2023-01-28T16:15:34.250Z"
   },
   {
    "duration": 0,
    "start_time": "2023-01-28T16:15:34.251Z"
   },
   {
    "duration": 0,
    "start_time": "2023-01-28T16:15:34.252Z"
   },
   {
    "duration": 0,
    "start_time": "2023-01-28T16:15:34.253Z"
   },
   {
    "duration": 0,
    "start_time": "2023-01-28T16:15:34.254Z"
   },
   {
    "duration": 5,
    "start_time": "2023-01-28T16:17:11.689Z"
   },
   {
    "duration": 10,
    "start_time": "2023-01-28T16:17:14.365Z"
   },
   {
    "duration": 91,
    "start_time": "2023-01-28T16:21:07.794Z"
   },
   {
    "duration": 1045,
    "start_time": "2023-01-28T16:23:22.667Z"
   },
   {
    "duration": 304,
    "start_time": "2023-01-28T16:23:23.715Z"
   },
   {
    "duration": 9,
    "start_time": "2023-01-28T16:23:24.021Z"
   },
   {
    "duration": 145,
    "start_time": "2023-01-28T16:23:24.032Z"
   },
   {
    "duration": 107,
    "start_time": "2023-01-28T16:23:24.182Z"
   },
   {
    "duration": 9,
    "start_time": "2023-01-28T16:23:24.291Z"
   },
   {
    "duration": 19,
    "start_time": "2023-01-28T16:23:24.302Z"
   },
   {
    "duration": 29,
    "start_time": "2023-01-28T16:23:24.323Z"
   },
   {
    "duration": 15,
    "start_time": "2023-01-28T16:23:24.354Z"
   },
   {
    "duration": 298,
    "start_time": "2023-01-28T16:23:24.370Z"
   },
   {
    "duration": 596,
    "start_time": "2023-01-28T16:23:24.670Z"
   },
   {
    "duration": 35,
    "start_time": "2023-01-28T16:23:25.268Z"
   },
   {
    "duration": 27,
    "start_time": "2023-01-28T16:23:25.304Z"
   },
   {
    "duration": 16,
    "start_time": "2023-01-28T16:23:25.334Z"
   },
   {
    "duration": 59,
    "start_time": "2023-01-28T16:23:25.351Z"
   },
   {
    "duration": 28,
    "start_time": "2023-01-28T16:23:25.411Z"
   },
   {
    "duration": 72,
    "start_time": "2023-01-28T16:23:25.441Z"
   },
   {
    "duration": 71,
    "start_time": "2023-01-28T16:23:25.516Z"
   },
   {
    "duration": 61,
    "start_time": "2023-01-28T16:23:25.589Z"
   },
   {
    "duration": 29,
    "start_time": "2023-01-28T16:23:25.652Z"
   },
   {
    "duration": 4,
    "start_time": "2023-01-28T16:23:25.684Z"
   },
   {
    "duration": 54,
    "start_time": "2023-01-28T16:23:25.690Z"
   },
   {
    "duration": 56,
    "start_time": "2023-01-28T16:23:25.746Z"
   },
   {
    "duration": 101,
    "start_time": "2023-01-28T16:23:25.804Z"
   },
   {
    "duration": 45,
    "start_time": "2023-01-28T16:23:25.907Z"
   },
   {
    "duration": 6,
    "start_time": "2023-01-28T16:23:25.954Z"
   },
   {
    "duration": 30,
    "start_time": "2023-01-28T16:23:25.962Z"
   },
   {
    "duration": 77,
    "start_time": "2023-01-28T16:23:25.995Z"
   },
   {
    "duration": 0,
    "start_time": "2023-01-28T16:23:26.076Z"
   },
   {
    "duration": 0,
    "start_time": "2023-01-28T16:23:26.078Z"
   },
   {
    "duration": 0,
    "start_time": "2023-01-28T16:23:26.080Z"
   },
   {
    "duration": 0,
    "start_time": "2023-01-28T16:23:26.082Z"
   },
   {
    "duration": 0,
    "start_time": "2023-01-28T16:23:26.083Z"
   },
   {
    "duration": 0,
    "start_time": "2023-01-28T16:23:26.084Z"
   },
   {
    "duration": 0,
    "start_time": "2023-01-28T16:23:26.085Z"
   },
   {
    "duration": 0,
    "start_time": "2023-01-28T16:23:26.086Z"
   },
   {
    "duration": 71,
    "start_time": "2023-01-28T16:26:35.392Z"
   },
   {
    "duration": 11,
    "start_time": "2023-01-28T16:26:56.980Z"
   },
   {
    "duration": 15,
    "start_time": "2023-01-28T16:27:00.038Z"
   },
   {
    "duration": 12,
    "start_time": "2023-01-28T16:27:53.911Z"
   },
   {
    "duration": 14,
    "start_time": "2023-01-28T16:28:00.122Z"
   },
   {
    "duration": 6,
    "start_time": "2023-01-28T16:30:35.294Z"
   },
   {
    "duration": 9,
    "start_time": "2023-01-28T16:32:28.290Z"
   },
   {
    "duration": 9,
    "start_time": "2023-01-28T16:32:38.947Z"
   },
   {
    "duration": 10,
    "start_time": "2023-01-28T16:32:44.799Z"
   },
   {
    "duration": 10,
    "start_time": "2023-01-28T16:32:48.326Z"
   },
   {
    "duration": 14,
    "start_time": "2023-01-28T16:32:50.952Z"
   },
   {
    "duration": 12,
    "start_time": "2023-01-28T16:32:56.914Z"
   },
   {
    "duration": 10,
    "start_time": "2023-01-28T16:32:59.646Z"
   },
   {
    "duration": 10,
    "start_time": "2023-01-28T16:33:02.129Z"
   },
   {
    "duration": 69,
    "start_time": "2023-01-28T16:37:46.256Z"
   },
   {
    "duration": 81,
    "start_time": "2023-01-28T16:37:59.021Z"
   },
   {
    "duration": 44,
    "start_time": "2023-01-28T16:38:02.739Z"
   },
   {
    "duration": 1082,
    "start_time": "2023-01-28T21:29:40.250Z"
   },
   {
    "duration": 344,
    "start_time": "2023-01-28T21:29:41.341Z"
   },
   {
    "duration": 8,
    "start_time": "2023-01-28T21:29:41.686Z"
   },
   {
    "duration": 170,
    "start_time": "2023-01-28T21:29:41.715Z"
   },
   {
    "duration": 128,
    "start_time": "2023-01-28T21:29:41.887Z"
   },
   {
    "duration": 28,
    "start_time": "2023-01-28T21:29:42.016Z"
   },
   {
    "duration": 11,
    "start_time": "2023-01-28T21:29:42.046Z"
   },
   {
    "duration": 20,
    "start_time": "2023-01-28T21:29:42.058Z"
   },
   {
    "duration": 6,
    "start_time": "2023-01-28T21:29:42.080Z"
   },
   {
    "duration": 390,
    "start_time": "2023-01-28T21:29:42.091Z"
   },
   {
    "duration": 732,
    "start_time": "2023-01-28T21:29:42.482Z"
   },
   {
    "duration": 38,
    "start_time": "2023-01-28T21:29:43.225Z"
   },
   {
    "duration": 34,
    "start_time": "2023-01-28T21:29:43.264Z"
   },
   {
    "duration": 38,
    "start_time": "2023-01-28T21:29:43.300Z"
   },
   {
    "duration": 58,
    "start_time": "2023-01-28T21:29:43.342Z"
   },
   {
    "duration": 60,
    "start_time": "2023-01-28T21:29:43.403Z"
   },
   {
    "duration": 72,
    "start_time": "2023-01-28T21:29:43.466Z"
   },
   {
    "duration": 68,
    "start_time": "2023-01-28T21:29:43.540Z"
   },
   {
    "duration": 85,
    "start_time": "2023-01-28T21:29:43.612Z"
   },
   {
    "duration": 36,
    "start_time": "2023-01-28T21:29:43.699Z"
   },
   {
    "duration": 42,
    "start_time": "2023-01-28T21:29:43.736Z"
   },
   {
    "duration": 100,
    "start_time": "2023-01-28T21:29:43.780Z"
   },
   {
    "duration": 67,
    "start_time": "2023-01-28T21:29:43.883Z"
   },
   {
    "duration": 144,
    "start_time": "2023-01-28T21:29:43.953Z"
   },
   {
    "duration": 57,
    "start_time": "2023-01-28T21:29:44.098Z"
   },
   {
    "duration": 11,
    "start_time": "2023-01-28T21:29:44.157Z"
   },
   {
    "duration": 23,
    "start_time": "2023-01-28T21:29:44.170Z"
   },
   {
    "duration": 49,
    "start_time": "2023-01-28T21:29:44.197Z"
   },
   {
    "duration": 23,
    "start_time": "2023-01-28T21:29:44.247Z"
   },
   {
    "duration": 16,
    "start_time": "2023-01-28T21:29:44.272Z"
   },
   {
    "duration": 63,
    "start_time": "2023-01-28T21:29:44.289Z"
   },
   {
    "duration": 34,
    "start_time": "2023-01-28T21:29:44.354Z"
   },
   {
    "duration": 70,
    "start_time": "2023-01-28T21:29:44.389Z"
   },
   {
    "duration": 25,
    "start_time": "2023-01-28T21:29:44.462Z"
   },
   {
    "duration": 1269,
    "start_time": "2023-01-28T21:42:10.035Z"
   },
   {
    "duration": 416,
    "start_time": "2023-01-28T21:42:11.307Z"
   },
   {
    "duration": 23,
    "start_time": "2023-01-28T21:42:11.735Z"
   },
   {
    "duration": 148,
    "start_time": "2023-01-28T21:42:11.760Z"
   },
   {
    "duration": 153,
    "start_time": "2023-01-28T21:42:11.916Z"
   },
   {
    "duration": 11,
    "start_time": "2023-01-28T21:42:12.071Z"
   },
   {
    "duration": 19,
    "start_time": "2023-01-28T21:42:12.084Z"
   },
   {
    "duration": 46,
    "start_time": "2023-01-28T21:42:12.105Z"
   },
   {
    "duration": 94,
    "start_time": "2023-01-28T21:42:12.160Z"
   },
   {
    "duration": 492,
    "start_time": "2023-01-28T21:42:12.256Z"
   },
   {
    "duration": 956,
    "start_time": "2023-01-28T21:42:12.751Z"
   },
   {
    "duration": 61,
    "start_time": "2023-01-28T21:42:13.709Z"
   },
   {
    "duration": 63,
    "start_time": "2023-01-28T21:42:13.772Z"
   },
   {
    "duration": 49,
    "start_time": "2023-01-28T21:42:13.838Z"
   },
   {
    "duration": 66,
    "start_time": "2023-01-28T21:42:13.889Z"
   },
   {
    "duration": 48,
    "start_time": "2023-01-28T21:42:13.960Z"
   },
   {
    "duration": 86,
    "start_time": "2023-01-28T21:42:14.009Z"
   },
   {
    "duration": 63,
    "start_time": "2023-01-28T21:42:14.097Z"
   },
   {
    "duration": 94,
    "start_time": "2023-01-28T21:42:14.162Z"
   },
   {
    "duration": 10,
    "start_time": "2023-01-28T21:42:14.258Z"
   },
   {
    "duration": 10,
    "start_time": "2023-01-28T21:42:14.270Z"
   },
   {
    "duration": 99,
    "start_time": "2023-01-28T21:42:14.282Z"
   },
   {
    "duration": 78,
    "start_time": "2023-01-28T21:42:14.383Z"
   },
   {
    "duration": 139,
    "start_time": "2023-01-28T21:42:14.463Z"
   },
   {
    "duration": 72,
    "start_time": "2023-01-28T21:42:14.604Z"
   },
   {
    "duration": 8,
    "start_time": "2023-01-28T21:42:14.679Z"
   },
   {
    "duration": 13,
    "start_time": "2023-01-28T21:42:14.689Z"
   },
   {
    "duration": 56,
    "start_time": "2023-01-28T21:42:14.704Z"
   },
   {
    "duration": 12,
    "start_time": "2023-01-28T21:42:14.763Z"
   },
   {
    "duration": 12,
    "start_time": "2023-01-28T21:42:14.777Z"
   },
   {
    "duration": 10,
    "start_time": "2023-01-28T21:42:14.791Z"
   },
   {
    "duration": 73,
    "start_time": "2023-01-28T21:42:14.802Z"
   },
   {
    "duration": 47,
    "start_time": "2023-01-28T21:42:14.878Z"
   },
   {
    "duration": 44,
    "start_time": "2023-01-28T21:42:14.935Z"
   },
   {
    "duration": 1132,
    "start_time": "2023-04-06T21:01:30.559Z"
   },
   {
    "duration": 1273,
    "start_time": "2023-04-06T21:01:31.693Z"
   },
   {
    "duration": 7,
    "start_time": "2023-04-06T21:01:32.968Z"
   },
   {
    "duration": 153,
    "start_time": "2023-04-06T21:01:32.977Z"
   },
   {
    "duration": 129,
    "start_time": "2023-04-06T21:01:33.133Z"
   },
   {
    "duration": 11,
    "start_time": "2023-04-06T21:01:33.264Z"
   },
   {
    "duration": 27,
    "start_time": "2023-04-06T21:01:33.277Z"
   },
   {
    "duration": 34,
    "start_time": "2023-04-06T21:01:33.305Z"
   },
   {
    "duration": 10,
    "start_time": "2023-04-06T21:01:33.345Z"
   },
   {
    "duration": 310,
    "start_time": "2023-04-06T21:01:33.358Z"
   },
   {
    "duration": 662,
    "start_time": "2023-04-06T21:01:33.670Z"
   },
   {
    "duration": 35,
    "start_time": "2023-04-06T21:01:34.334Z"
   },
   {
    "duration": 29,
    "start_time": "2023-04-06T21:01:34.371Z"
   },
   {
    "duration": 41,
    "start_time": "2023-04-06T21:01:34.403Z"
   },
   {
    "duration": 44,
    "start_time": "2023-04-06T21:01:34.454Z"
   },
   {
    "duration": 33,
    "start_time": "2023-04-06T21:01:34.500Z"
   },
   {
    "duration": 62,
    "start_time": "2023-04-06T21:01:34.541Z"
   },
   {
    "duration": 74,
    "start_time": "2023-04-06T21:01:34.605Z"
   },
   {
    "duration": 78,
    "start_time": "2023-04-06T21:01:34.681Z"
   },
   {
    "duration": 7,
    "start_time": "2023-04-06T21:01:34.761Z"
   },
   {
    "duration": 36,
    "start_time": "2023-04-06T21:01:34.770Z"
   },
   {
    "duration": 92,
    "start_time": "2023-04-06T21:01:34.808Z"
   },
   {
    "duration": 63,
    "start_time": "2023-04-06T21:01:34.901Z"
   },
   {
    "duration": 115,
    "start_time": "2023-04-06T21:01:34.966Z"
   },
   {
    "duration": 45,
    "start_time": "2023-04-06T21:01:35.082Z"
   },
   {
    "duration": 18,
    "start_time": "2023-04-06T21:01:35.128Z"
   },
   {
    "duration": 15,
    "start_time": "2023-04-06T21:01:35.153Z"
   },
   {
    "duration": 12,
    "start_time": "2023-04-06T21:01:35.170Z"
   },
   {
    "duration": 16,
    "start_time": "2023-04-06T21:01:35.184Z"
   },
   {
    "duration": 12,
    "start_time": "2023-04-06T21:01:35.202Z"
   },
   {
    "duration": 41,
    "start_time": "2023-04-06T21:01:35.215Z"
   },
   {
    "duration": 9,
    "start_time": "2023-04-06T21:01:35.258Z"
   },
   {
    "duration": 15,
    "start_time": "2023-04-06T21:01:35.268Z"
   },
   {
    "duration": 9,
    "start_time": "2023-04-06T21:01:35.284Z"
   },
   {
    "duration": 1333,
    "start_time": "2023-04-13T18:16:29.445Z"
   },
   {
    "duration": 1185,
    "start_time": "2023-04-13T18:16:30.780Z"
   },
   {
    "duration": 10,
    "start_time": "2023-04-13T18:16:31.967Z"
   },
   {
    "duration": 164,
    "start_time": "2023-04-13T18:16:31.979Z"
   },
   {
    "duration": 125,
    "start_time": "2023-04-13T18:16:32.145Z"
   },
   {
    "duration": 29,
    "start_time": "2023-04-13T18:16:32.273Z"
   },
   {
    "duration": 11,
    "start_time": "2023-04-13T18:16:32.307Z"
   },
   {
    "duration": 16,
    "start_time": "2023-04-13T18:16:32.321Z"
   },
   {
    "duration": 7,
    "start_time": "2023-04-13T18:16:32.339Z"
   },
   {
    "duration": 384,
    "start_time": "2023-04-13T18:16:32.349Z"
   },
   {
    "duration": 734,
    "start_time": "2023-04-13T18:16:32.734Z"
   },
   {
    "duration": 46,
    "start_time": "2023-04-13T18:16:33.470Z"
   },
   {
    "duration": 28,
    "start_time": "2023-04-13T18:16:33.518Z"
   },
   {
    "duration": 17,
    "start_time": "2023-04-13T18:16:33.547Z"
   },
   {
    "duration": 65,
    "start_time": "2023-04-13T18:16:33.566Z"
   },
   {
    "duration": 31,
    "start_time": "2023-04-13T18:16:33.633Z"
   },
   {
    "duration": 80,
    "start_time": "2023-04-13T18:16:33.666Z"
   },
   {
    "duration": 72,
    "start_time": "2023-04-13T18:16:33.748Z"
   },
   {
    "duration": 82,
    "start_time": "2023-04-13T18:16:33.822Z"
   },
   {
    "duration": 10,
    "start_time": "2023-04-13T18:16:33.909Z"
   },
   {
    "duration": 7,
    "start_time": "2023-04-13T18:16:33.920Z"
   },
   {
    "duration": 80,
    "start_time": "2023-04-13T18:16:33.929Z"
   },
   {
    "duration": 48,
    "start_time": "2023-04-13T18:16:34.011Z"
   },
   {
    "duration": 122,
    "start_time": "2023-04-13T18:16:34.061Z"
   },
   {
    "duration": 51,
    "start_time": "2023-04-13T18:16:34.185Z"
   },
   {
    "duration": 6,
    "start_time": "2023-04-13T18:16:34.238Z"
   },
   {
    "duration": 15,
    "start_time": "2023-04-13T18:16:34.246Z"
   },
   {
    "duration": 42,
    "start_time": "2023-04-13T18:16:34.264Z"
   },
   {
    "duration": 30,
    "start_time": "2023-04-13T18:16:34.307Z"
   },
   {
    "duration": 18,
    "start_time": "2023-04-13T18:16:34.339Z"
   },
   {
    "duration": 38,
    "start_time": "2023-04-13T18:16:34.359Z"
   },
   {
    "duration": 23,
    "start_time": "2023-04-13T18:16:34.406Z"
   },
   {
    "duration": 53,
    "start_time": "2023-04-13T18:16:34.431Z"
   },
   {
    "duration": 40,
    "start_time": "2023-04-13T18:16:34.486Z"
   }
  ],
  "kernelspec": {
   "display_name": "Python 3 (ipykernel)",
   "language": "python",
   "name": "python3"
  },
  "language_info": {
   "codemirror_mode": {
    "name": "ipython",
    "version": 3
   },
   "file_extension": ".py",
   "mimetype": "text/x-python",
   "name": "python",
   "nbconvert_exporter": "python",
   "pygments_lexer": "ipython3",
   "version": "3.9.7"
  },
  "toc": {
   "base_numbering": 1,
   "nav_menu": {
    "height": "528px",
    "width": "650px"
   },
   "number_sections": false,
   "sideBar": true,
   "skip_h1_title": false,
   "title_cell": "Table of Contents",
   "title_sidebar": "Contents",
   "toc_cell": false,
   "toc_position": {
    "height": "calc(100% - 180px)",
    "left": "10px",
    "top": "150px",
    "width": "289.162px"
   },
   "toc_section_display": true,
   "toc_window_display": true
  }
 },
 "nbformat": 4,
 "nbformat_minor": 2
}

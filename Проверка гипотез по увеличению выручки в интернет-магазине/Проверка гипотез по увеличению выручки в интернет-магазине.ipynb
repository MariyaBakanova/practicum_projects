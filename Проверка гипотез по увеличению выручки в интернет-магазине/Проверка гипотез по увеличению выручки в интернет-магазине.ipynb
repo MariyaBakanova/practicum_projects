{
 "cells": [
  {
   "cell_type": "markdown",
   "metadata": {},
   "source": [
    "# Проект: принятие решений в бизнесе"
   ]
  },
  {
   "cell_type": "markdown",
   "metadata": {},
   "source": [
    "Вы — аналитик крупного интернет-магазина. Вместе с отделом маркетинга вы подготовили список гипотез для увеличения выручки.\n",
    "Приоритизируйте гипотезы, запустите A/B-тест и проанализируйте результаты. "
   ]
  },
  {
   "cell_type": "markdown",
   "metadata": {},
   "source": [
    "## Описание данных"
   ]
  },
  {
   "cell_type": "markdown",
   "metadata": {},
   "source": [
    "### Данные для первой части\n",
    "\n",
    "*Файл /datasets/hypothesis.csv:*\n",
    "\n",
    "Hypothesis — краткое описание гипотезы;\n",
    "\n",
    "Reach — охват пользователей по 10-балльной шкале;\n",
    "\n",
    "Impact — влияние на пользователей по 10-балльной шкале;\n",
    "\n",
    "Confidence — уверенность в гипотезе по 10-балльной шкале;\n",
    "\n",
    "Efforts — затраты ресурсов на проверку гипотезы по 10-балльной шкале"
   ]
  },
  {
   "cell_type": "markdown",
   "metadata": {},
   "source": [
    "### Данные для второй части\n",
    "\n",
    "*Файл /datasets/orders.csv:*\n",
    "    \n",
    "transactionId — идентификатор заказа;\n",
    "\n",
    "visitorId — идентификатор пользователя, совершившего заказ;\n",
    "\n",
    "date — дата, когда был совершён заказ;\n",
    "\n",
    "revenue — выручка заказа;\n",
    "\n",
    "group — группа A/B-теста, в которую попал заказ.\n",
    "\n",
    "\n",
    "\n",
    "*Файл /datasets/visitors.csv:*\n",
    "\n",
    "date — дата;\n",
    "\n",
    "group — группа A/B-теста;\n",
    "\n",
    "isitors — количество пользователей в указанную дату в указанной группе A/B-теста"
   ]
  },
  {
   "cell_type": "markdown",
   "metadata": {},
   "source": [
    "## Приоритизация гипотез"
   ]
  },
  {
   "cell_type": "code",
   "execution_count": 1,
   "metadata": {},
   "outputs": [],
   "source": [
    "#Гружу необходимые бибилиотеки\n",
    "import pandas as pd\n",
    "import scipy.stats as stats\n",
    "import datetime as dt\n",
    "import numpy as np\n",
    "import matplotlib.pyplot as plt"
   ]
  },
  {
   "cell_type": "code",
   "execution_count": 2,
   "metadata": {},
   "outputs": [
    {
     "data": {
      "text/html": [
       "<style  type=\"text/css\" >\n",
       "#T_1c401_row0_col0,#T_1c401_row0_col1,#T_1c401_row0_col2,#T_1c401_row0_col3,#T_1c401_row0_col4,#T_1c401_row1_col0,#T_1c401_row1_col1,#T_1c401_row1_col2,#T_1c401_row1_col3,#T_1c401_row1_col4,#T_1c401_row2_col0,#T_1c401_row2_col1,#T_1c401_row2_col2,#T_1c401_row2_col3,#T_1c401_row2_col4,#T_1c401_row3_col0,#T_1c401_row3_col1,#T_1c401_row3_col2,#T_1c401_row3_col3,#T_1c401_row3_col4,#T_1c401_row4_col0,#T_1c401_row4_col1,#T_1c401_row4_col2,#T_1c401_row4_col3,#T_1c401_row4_col4,#T_1c401_row5_col0,#T_1c401_row5_col1,#T_1c401_row5_col2,#T_1c401_row5_col3,#T_1c401_row5_col4,#T_1c401_row6_col0,#T_1c401_row6_col1,#T_1c401_row6_col2,#T_1c401_row6_col3,#T_1c401_row6_col4,#T_1c401_row7_col0,#T_1c401_row7_col1,#T_1c401_row7_col2,#T_1c401_row7_col3,#T_1c401_row7_col4,#T_1c401_row8_col0,#T_1c401_row8_col1,#T_1c401_row8_col2,#T_1c401_row8_col3,#T_1c401_row8_col4{\n",
       "            text-align:  left;\n",
       "        }</style><table id=\"T_1c401_\" ><thead>    <tr>        <th class=\"blank level0\" ></th>        <th class=\"col_heading level0 col0\" >Hypothesis</th>        <th class=\"col_heading level0 col1\" >Reach</th>        <th class=\"col_heading level0 col2\" >Impact</th>        <th class=\"col_heading level0 col3\" >Confidence</th>        <th class=\"col_heading level0 col4\" >Efforts</th>    </tr></thead><tbody>\n",
       "                <tr>\n",
       "                        <th id=\"T_1c401_level0_row0\" class=\"row_heading level0 row0\" >0</th>\n",
       "                        <td id=\"T_1c401_row0_col0\" class=\"data row0 col0\" >Добавить два новых канала привлечения трафика, что позволит привлекать на 30% больше пользователей</td>\n",
       "                        <td id=\"T_1c401_row0_col1\" class=\"data row0 col1\" >3</td>\n",
       "                        <td id=\"T_1c401_row0_col2\" class=\"data row0 col2\" >10</td>\n",
       "                        <td id=\"T_1c401_row0_col3\" class=\"data row0 col3\" >8</td>\n",
       "                        <td id=\"T_1c401_row0_col4\" class=\"data row0 col4\" >6</td>\n",
       "            </tr>\n",
       "            <tr>\n",
       "                        <th id=\"T_1c401_level0_row1\" class=\"row_heading level0 row1\" >1</th>\n",
       "                        <td id=\"T_1c401_row1_col0\" class=\"data row1 col0\" >Запустить собственную службу доставки, что сократит срок доставки заказов</td>\n",
       "                        <td id=\"T_1c401_row1_col1\" class=\"data row1 col1\" >2</td>\n",
       "                        <td id=\"T_1c401_row1_col2\" class=\"data row1 col2\" >5</td>\n",
       "                        <td id=\"T_1c401_row1_col3\" class=\"data row1 col3\" >4</td>\n",
       "                        <td id=\"T_1c401_row1_col4\" class=\"data row1 col4\" >10</td>\n",
       "            </tr>\n",
       "            <tr>\n",
       "                        <th id=\"T_1c401_level0_row2\" class=\"row_heading level0 row2\" >2</th>\n",
       "                        <td id=\"T_1c401_row2_col0\" class=\"data row2 col0\" >Добавить блоки рекомендаций товаров на сайт интернет магазина, чтобы повысить конверсию и средний чек заказа</td>\n",
       "                        <td id=\"T_1c401_row2_col1\" class=\"data row2 col1\" >8</td>\n",
       "                        <td id=\"T_1c401_row2_col2\" class=\"data row2 col2\" >3</td>\n",
       "                        <td id=\"T_1c401_row2_col3\" class=\"data row2 col3\" >7</td>\n",
       "                        <td id=\"T_1c401_row2_col4\" class=\"data row2 col4\" >3</td>\n",
       "            </tr>\n",
       "            <tr>\n",
       "                        <th id=\"T_1c401_level0_row3\" class=\"row_heading level0 row3\" >3</th>\n",
       "                        <td id=\"T_1c401_row3_col0\" class=\"data row3 col0\" >Изменить структура категорий, что увеличит конверсию, т.к. пользователи быстрее найдут нужный товар</td>\n",
       "                        <td id=\"T_1c401_row3_col1\" class=\"data row3 col1\" >8</td>\n",
       "                        <td id=\"T_1c401_row3_col2\" class=\"data row3 col2\" >3</td>\n",
       "                        <td id=\"T_1c401_row3_col3\" class=\"data row3 col3\" >3</td>\n",
       "                        <td id=\"T_1c401_row3_col4\" class=\"data row3 col4\" >8</td>\n",
       "            </tr>\n",
       "            <tr>\n",
       "                        <th id=\"T_1c401_level0_row4\" class=\"row_heading level0 row4\" >4</th>\n",
       "                        <td id=\"T_1c401_row4_col0\" class=\"data row4 col0\" >Изменить цвет фона главной страницы, чтобы увеличить вовлеченность пользователей</td>\n",
       "                        <td id=\"T_1c401_row4_col1\" class=\"data row4 col1\" >3</td>\n",
       "                        <td id=\"T_1c401_row4_col2\" class=\"data row4 col2\" >1</td>\n",
       "                        <td id=\"T_1c401_row4_col3\" class=\"data row4 col3\" >1</td>\n",
       "                        <td id=\"T_1c401_row4_col4\" class=\"data row4 col4\" >1</td>\n",
       "            </tr>\n",
       "            <tr>\n",
       "                        <th id=\"T_1c401_level0_row5\" class=\"row_heading level0 row5\" >5</th>\n",
       "                        <td id=\"T_1c401_row5_col0\" class=\"data row5 col0\" >Добавить страницу отзывов клиентов о магазине, что позволит увеличить количество заказов</td>\n",
       "                        <td id=\"T_1c401_row5_col1\" class=\"data row5 col1\" >3</td>\n",
       "                        <td id=\"T_1c401_row5_col2\" class=\"data row5 col2\" >2</td>\n",
       "                        <td id=\"T_1c401_row5_col3\" class=\"data row5 col3\" >2</td>\n",
       "                        <td id=\"T_1c401_row5_col4\" class=\"data row5 col4\" >3</td>\n",
       "            </tr>\n",
       "            <tr>\n",
       "                        <th id=\"T_1c401_level0_row6\" class=\"row_heading level0 row6\" >6</th>\n",
       "                        <td id=\"T_1c401_row6_col0\" class=\"data row6 col0\" >Показать на главной странице баннеры с актуальными акциями и распродажами, чтобы увеличить конверсию</td>\n",
       "                        <td id=\"T_1c401_row6_col1\" class=\"data row6 col1\" >5</td>\n",
       "                        <td id=\"T_1c401_row6_col2\" class=\"data row6 col2\" >3</td>\n",
       "                        <td id=\"T_1c401_row6_col3\" class=\"data row6 col3\" >8</td>\n",
       "                        <td id=\"T_1c401_row6_col4\" class=\"data row6 col4\" >3</td>\n",
       "            </tr>\n",
       "            <tr>\n",
       "                        <th id=\"T_1c401_level0_row7\" class=\"row_heading level0 row7\" >7</th>\n",
       "                        <td id=\"T_1c401_row7_col0\" class=\"data row7 col0\" >Добавить форму подписки на все основные страницы, чтобы собрать базу клиентов для email-рассылок</td>\n",
       "                        <td id=\"T_1c401_row7_col1\" class=\"data row7 col1\" >10</td>\n",
       "                        <td id=\"T_1c401_row7_col2\" class=\"data row7 col2\" >7</td>\n",
       "                        <td id=\"T_1c401_row7_col3\" class=\"data row7 col3\" >8</td>\n",
       "                        <td id=\"T_1c401_row7_col4\" class=\"data row7 col4\" >5</td>\n",
       "            </tr>\n",
       "            <tr>\n",
       "                        <th id=\"T_1c401_level0_row8\" class=\"row_heading level0 row8\" >8</th>\n",
       "                        <td id=\"T_1c401_row8_col0\" class=\"data row8 col0\" >Запустить акцию, дающую скидку на товар в день рождения</td>\n",
       "                        <td id=\"T_1c401_row8_col1\" class=\"data row8 col1\" >1</td>\n",
       "                        <td id=\"T_1c401_row8_col2\" class=\"data row8 col2\" >9</td>\n",
       "                        <td id=\"T_1c401_row8_col3\" class=\"data row8 col3\" >9</td>\n",
       "                        <td id=\"T_1c401_row8_col4\" class=\"data row8 col4\" >5</td>\n",
       "            </tr>\n",
       "    </tbody></table>"
      ],
      "text/plain": [
       "<pandas.io.formats.style.Styler at 0x7ff805c07790>"
      ]
     },
     "execution_count": 2,
     "metadata": {},
     "output_type": "execute_result"
    }
   ],
   "source": [
    "#Загружу данные в переменную, выведу результат, чтобы ознакомиться\n",
    "df = pd.read_csv('/datasets/hypothesis.csv')\n",
    "\n",
    "df.style.set_properties(**{'text-align': 'left'})"
   ]
  },
  {
   "cell_type": "markdown",
   "metadata": {},
   "source": [
    "### ICE"
   ]
  },
  {
   "cell_type": "code",
   "execution_count": 3,
   "metadata": {},
   "outputs": [
    {
     "data": {
      "text/html": [
       "<div>\n",
       "<style scoped>\n",
       "    .dataframe tbody tr th:only-of-type {\n",
       "        vertical-align: middle;\n",
       "    }\n",
       "\n",
       "    .dataframe tbody tr th {\n",
       "        vertical-align: top;\n",
       "    }\n",
       "\n",
       "    .dataframe thead th {\n",
       "        text-align: right;\n",
       "    }\n",
       "</style>\n",
       "<table border=\"1\" class=\"dataframe\">\n",
       "  <thead>\n",
       "    <tr style=\"text-align: right;\">\n",
       "      <th></th>\n",
       "      <th>Hypothesis</th>\n",
       "      <th>ICE</th>\n",
       "    </tr>\n",
       "  </thead>\n",
       "  <tbody>\n",
       "    <tr>\n",
       "      <th>8</th>\n",
       "      <td>Запустить акцию, дающую скидку на товар в день...</td>\n",
       "      <td>16.20</td>\n",
       "    </tr>\n",
       "    <tr>\n",
       "      <th>0</th>\n",
       "      <td>Добавить два новых канала привлечения трафика,...</td>\n",
       "      <td>13.33</td>\n",
       "    </tr>\n",
       "    <tr>\n",
       "      <th>7</th>\n",
       "      <td>Добавить форму подписки на все основные страни...</td>\n",
       "      <td>11.20</td>\n",
       "    </tr>\n",
       "    <tr>\n",
       "      <th>6</th>\n",
       "      <td>Показать на главной странице баннеры с актуаль...</td>\n",
       "      <td>8.00</td>\n",
       "    </tr>\n",
       "    <tr>\n",
       "      <th>2</th>\n",
       "      <td>Добавить блоки рекомендаций товаров на сайт ин...</td>\n",
       "      <td>7.00</td>\n",
       "    </tr>\n",
       "    <tr>\n",
       "      <th>1</th>\n",
       "      <td>Запустить собственную службу доставки, что сок...</td>\n",
       "      <td>2.00</td>\n",
       "    </tr>\n",
       "    <tr>\n",
       "      <th>5</th>\n",
       "      <td>Добавить страницу отзывов клиентов о магазине,...</td>\n",
       "      <td>1.33</td>\n",
       "    </tr>\n",
       "    <tr>\n",
       "      <th>3</th>\n",
       "      <td>Изменить структура категорий, что увеличит кон...</td>\n",
       "      <td>1.12</td>\n",
       "    </tr>\n",
       "    <tr>\n",
       "      <th>4</th>\n",
       "      <td>Изменить цвет фона главной страницы, чтобы уве...</td>\n",
       "      <td>1.00</td>\n",
       "    </tr>\n",
       "  </tbody>\n",
       "</table>\n",
       "</div>"
      ],
      "text/plain": [
       "                                          Hypothesis    ICE\n",
       "8  Запустить акцию, дающую скидку на товар в день...  16.20\n",
       "0  Добавить два новых канала привлечения трафика,...  13.33\n",
       "7  Добавить форму подписки на все основные страни...  11.20\n",
       "6  Показать на главной странице баннеры с актуаль...   8.00\n",
       "2  Добавить блоки рекомендаций товаров на сайт ин...   7.00\n",
       "1  Запустить собственную службу доставки, что сок...   2.00\n",
       "5  Добавить страницу отзывов клиентов о магазине,...   1.33\n",
       "3  Изменить структура категорий, что увеличит кон...   1.12\n",
       "4  Изменить цвет фона главной страницы, чтобы уве...   1.00"
      ]
     },
     "metadata": {},
     "output_type": "display_data"
    }
   ],
   "source": [
    "#Посчитаю ICE для гипотез:\n",
    "df['ICE'] =  round(df['Impact']*df['Confidence']/df['Efforts'], 2)\n",
    "display(df[['Hypothesis', 'ICE']].sort_values(by='ICE', ascending=False))"
   ]
  },
  {
   "cell_type": "markdown",
   "metadata": {},
   "source": [
    "По итогу применения метода ICE, самыми перспективными гипотетезами являются гипотезы под номерами 8, 0 и 7.\n",
    "    "
   ]
  },
  {
   "cell_type": "markdown",
   "metadata": {},
   "source": [
    "### RICE"
   ]
  },
  {
   "cell_type": "code",
   "execution_count": 4,
   "metadata": {},
   "outputs": [
    {
     "data": {
      "text/html": [
       "<div>\n",
       "<style scoped>\n",
       "    .dataframe tbody tr th:only-of-type {\n",
       "        vertical-align: middle;\n",
       "    }\n",
       "\n",
       "    .dataframe tbody tr th {\n",
       "        vertical-align: top;\n",
       "    }\n",
       "\n",
       "    .dataframe thead th {\n",
       "        text-align: right;\n",
       "    }\n",
       "</style>\n",
       "<table border=\"1\" class=\"dataframe\">\n",
       "  <thead>\n",
       "    <tr style=\"text-align: right;\">\n",
       "      <th></th>\n",
       "      <th>Hypothesis</th>\n",
       "      <th>RICE</th>\n",
       "    </tr>\n",
       "  </thead>\n",
       "  <tbody>\n",
       "    <tr>\n",
       "      <th>7</th>\n",
       "      <td>Добавить форму подписки на все основные страни...</td>\n",
       "      <td>112.0</td>\n",
       "    </tr>\n",
       "    <tr>\n",
       "      <th>2</th>\n",
       "      <td>Добавить блоки рекомендаций товаров на сайт ин...</td>\n",
       "      <td>56.0</td>\n",
       "    </tr>\n",
       "    <tr>\n",
       "      <th>0</th>\n",
       "      <td>Добавить два новых канала привлечения трафика,...</td>\n",
       "      <td>40.0</td>\n",
       "    </tr>\n",
       "    <tr>\n",
       "      <th>6</th>\n",
       "      <td>Показать на главной странице баннеры с актуаль...</td>\n",
       "      <td>40.0</td>\n",
       "    </tr>\n",
       "    <tr>\n",
       "      <th>8</th>\n",
       "      <td>Запустить акцию, дающую скидку на товар в день...</td>\n",
       "      <td>16.2</td>\n",
       "    </tr>\n",
       "    <tr>\n",
       "      <th>3</th>\n",
       "      <td>Изменить структура категорий, что увеличит кон...</td>\n",
       "      <td>9.0</td>\n",
       "    </tr>\n",
       "    <tr>\n",
       "      <th>1</th>\n",
       "      <td>Запустить собственную службу доставки, что сок...</td>\n",
       "      <td>4.0</td>\n",
       "    </tr>\n",
       "    <tr>\n",
       "      <th>5</th>\n",
       "      <td>Добавить страницу отзывов клиентов о магазине,...</td>\n",
       "      <td>4.0</td>\n",
       "    </tr>\n",
       "    <tr>\n",
       "      <th>4</th>\n",
       "      <td>Изменить цвет фона главной страницы, чтобы уве...</td>\n",
       "      <td>3.0</td>\n",
       "    </tr>\n",
       "  </tbody>\n",
       "</table>\n",
       "</div>"
      ],
      "text/plain": [
       "                                          Hypothesis   RICE\n",
       "7  Добавить форму подписки на все основные страни...  112.0\n",
       "2  Добавить блоки рекомендаций товаров на сайт ин...   56.0\n",
       "0  Добавить два новых канала привлечения трафика,...   40.0\n",
       "6  Показать на главной странице баннеры с актуаль...   40.0\n",
       "8  Запустить акцию, дающую скидку на товар в день...   16.2\n",
       "3  Изменить структура категорий, что увеличит кон...    9.0\n",
       "1  Запустить собственную службу доставки, что сок...    4.0\n",
       "5  Добавить страницу отзывов клиентов о магазине,...    4.0\n",
       "4  Изменить цвет фона главной страницы, чтобы уве...    3.0"
      ]
     },
     "metadata": {},
     "output_type": "display_data"
    }
   ],
   "source": [
    "#Посчитаю RICE для гипотез:\n",
    "df['RICE'] = df['Reach']*df['Impact']*df['Confidence']/df['Efforts']\n",
    "display(df[['Hypothesis','RICE']].sort_values(by='RICE', ascending=False))"
   ]
  },
  {
   "cell_type": "markdown",
   "metadata": {},
   "source": [
    "По итогу применения метода RICE, самыми перспективными гипотетезами являются гипотезы под номерами 7, 2, 0, 6."
   ]
  },
  {
   "cell_type": "markdown",
   "metadata": {},
   "source": [
    "### Выводы по приоритизации гипотез"
   ]
  },
  {
   "cell_type": "markdown",
   "metadata": {},
   "source": [
    "Приоритизация гипотез после применения метода RICE значительно изменилась, на это повлиял параметр Reach (т.е. оценка охвата пользователей), который дополнительно используется в данном способе. Например, гипотеза под номером 7 переместилась с 3 места на первое всвязи с тем, что показатель Reach, для гипотезы под номером 7 самый высокий из всех представленных гипотез. Гипотеза же под номером 8 (Запустить акцию, дающую скидку на товар в день рождения) захватит самую небольшую часть аудитории, поэтому имеет самый низкий параметр Reach. "
   ]
  },
  {
   "cell_type": "markdown",
   "metadata": {},
   "source": [
    "Наиболее перспективными гипотезами после применения методов IСE и RICE считаем гипотезы под номерами 7 и 0. Эти гипотезы попали в первую тройку при применении 2 методов. \n",
    "\n",
    "Гипотеза под номером 7: *Добавить форму подписки на все основные страницы, чтобы собрать базу клиентов для email-рассылок*\n",
    "\n",
    "Гипотеза 0:  *Добавить два новых канала привлечения трафика, что позволит привлекать на 30% больше пользователей*"
   ]
  },
  {
   "cell_type": "markdown",
   "metadata": {},
   "source": [
    "##  Анализ A/B-теста"
   ]
  },
  {
   "cell_type": "markdown",
   "metadata": {},
   "source": [
    "### Подготовка и проверка данных"
   ]
  },
  {
   "cell_type": "code",
   "execution_count": 5,
   "metadata": {},
   "outputs": [
    {
     "data": {
      "text/html": [
       "<div>\n",
       "<style scoped>\n",
       "    .dataframe tbody tr th:only-of-type {\n",
       "        vertical-align: middle;\n",
       "    }\n",
       "\n",
       "    .dataframe tbody tr th {\n",
       "        vertical-align: top;\n",
       "    }\n",
       "\n",
       "    .dataframe thead th {\n",
       "        text-align: right;\n",
       "    }\n",
       "</style>\n",
       "<table border=\"1\" class=\"dataframe\">\n",
       "  <thead>\n",
       "    <tr style=\"text-align: right;\">\n",
       "      <th></th>\n",
       "      <th>transactionId</th>\n",
       "      <th>visitorId</th>\n",
       "      <th>date</th>\n",
       "      <th>revenue</th>\n",
       "      <th>group</th>\n",
       "    </tr>\n",
       "  </thead>\n",
       "  <tbody>\n",
       "    <tr>\n",
       "      <th>0</th>\n",
       "      <td>3667963787</td>\n",
       "      <td>3312258926</td>\n",
       "      <td>2019-08-15</td>\n",
       "      <td>1650</td>\n",
       "      <td>B</td>\n",
       "    </tr>\n",
       "    <tr>\n",
       "      <th>1</th>\n",
       "      <td>2804400009</td>\n",
       "      <td>3642806036</td>\n",
       "      <td>2019-08-15</td>\n",
       "      <td>730</td>\n",
       "      <td>B</td>\n",
       "    </tr>\n",
       "    <tr>\n",
       "      <th>2</th>\n",
       "      <td>2961555356</td>\n",
       "      <td>4069496402</td>\n",
       "      <td>2019-08-15</td>\n",
       "      <td>400</td>\n",
       "      <td>A</td>\n",
       "    </tr>\n",
       "    <tr>\n",
       "      <th>3</th>\n",
       "      <td>3797467345</td>\n",
       "      <td>1196621759</td>\n",
       "      <td>2019-08-15</td>\n",
       "      <td>9759</td>\n",
       "      <td>B</td>\n",
       "    </tr>\n",
       "    <tr>\n",
       "      <th>4</th>\n",
       "      <td>2282983706</td>\n",
       "      <td>2322279887</td>\n",
       "      <td>2019-08-15</td>\n",
       "      <td>2308</td>\n",
       "      <td>B</td>\n",
       "    </tr>\n",
       "  </tbody>\n",
       "</table>\n",
       "</div>"
      ],
      "text/plain": [
       "   transactionId   visitorId       date  revenue group\n",
       "0     3667963787  3312258926 2019-08-15     1650     B\n",
       "1     2804400009  3642806036 2019-08-15      730     B\n",
       "2     2961555356  4069496402 2019-08-15      400     A\n",
       "3     3797467345  1196621759 2019-08-15     9759     B\n",
       "4     2282983706  2322279887 2019-08-15     2308     B"
      ]
     },
     "metadata": {},
     "output_type": "display_data"
    },
    {
     "data": {
      "text/html": [
       "<div>\n",
       "<style scoped>\n",
       "    .dataframe tbody tr th:only-of-type {\n",
       "        vertical-align: middle;\n",
       "    }\n",
       "\n",
       "    .dataframe tbody tr th {\n",
       "        vertical-align: top;\n",
       "    }\n",
       "\n",
       "    .dataframe thead th {\n",
       "        text-align: right;\n",
       "    }\n",
       "</style>\n",
       "<table border=\"1\" class=\"dataframe\">\n",
       "  <thead>\n",
       "    <tr style=\"text-align: right;\">\n",
       "      <th></th>\n",
       "      <th>date</th>\n",
       "      <th>group</th>\n",
       "      <th>visitors</th>\n",
       "    </tr>\n",
       "  </thead>\n",
       "  <tbody>\n",
       "    <tr>\n",
       "      <th>0</th>\n",
       "      <td>2019-08-01</td>\n",
       "      <td>A</td>\n",
       "      <td>719</td>\n",
       "    </tr>\n",
       "    <tr>\n",
       "      <th>1</th>\n",
       "      <td>2019-08-02</td>\n",
       "      <td>A</td>\n",
       "      <td>619</td>\n",
       "    </tr>\n",
       "    <tr>\n",
       "      <th>2</th>\n",
       "      <td>2019-08-03</td>\n",
       "      <td>A</td>\n",
       "      <td>507</td>\n",
       "    </tr>\n",
       "    <tr>\n",
       "      <th>3</th>\n",
       "      <td>2019-08-04</td>\n",
       "      <td>A</td>\n",
       "      <td>717</td>\n",
       "    </tr>\n",
       "    <tr>\n",
       "      <th>4</th>\n",
       "      <td>2019-08-05</td>\n",
       "      <td>A</td>\n",
       "      <td>756</td>\n",
       "    </tr>\n",
       "  </tbody>\n",
       "</table>\n",
       "</div>"
      ],
      "text/plain": [
       "        date group  visitors\n",
       "0 2019-08-01     A       719\n",
       "1 2019-08-02     A       619\n",
       "2 2019-08-03     A       507\n",
       "3 2019-08-04     A       717\n",
       "4 2019-08-05     A       756"
      ]
     },
     "metadata": {},
     "output_type": "display_data"
    }
   ],
   "source": [
    "#Прочту данные из файлов с результатами A/B-тестирования:\n",
    "orders = pd.read_csv('/datasets/orders.csv', sep=',')\n",
    "orders['date'] = orders['date'].map(lambda x: dt.datetime.strptime(x, '%Y-%m-%d'))\n",
    "visitors = pd.read_csv('/datasets/visitors.csv', sep=',')\n",
    "visitors['date'] = visitors['date'].map(lambda x: dt.datetime.strptime(x, '%Y-%m-%d'))\n",
    "\n",
    "display(orders.head())\n",
    "display(visitors.head()) "
   ]
  },
  {
   "cell_type": "code",
   "execution_count": 6,
   "metadata": {},
   "outputs": [
    {
     "data": {
      "text/html": [
       "<div>\n",
       "<style scoped>\n",
       "    .dataframe tbody tr th:only-of-type {\n",
       "        vertical-align: middle;\n",
       "    }\n",
       "\n",
       "    .dataframe tbody tr th {\n",
       "        vertical-align: top;\n",
       "    }\n",
       "\n",
       "    .dataframe thead th {\n",
       "        text-align: right;\n",
       "    }\n",
       "</style>\n",
       "<table border=\"1\" class=\"dataframe\">\n",
       "  <thead>\n",
       "    <tr style=\"text-align: right;\">\n",
       "      <th></th>\n",
       "      <th>transactionId</th>\n",
       "      <th>visitorId</th>\n",
       "      <th>date</th>\n",
       "      <th>revenue</th>\n",
       "      <th>group</th>\n",
       "    </tr>\n",
       "  </thead>\n",
       "  <tbody>\n",
       "    <tr>\n",
       "      <th>0</th>\n",
       "      <td>3667963787</td>\n",
       "      <td>3312258926</td>\n",
       "      <td>2019-08-15</td>\n",
       "      <td>1650</td>\n",
       "      <td>B</td>\n",
       "    </tr>\n",
       "    <tr>\n",
       "      <th>1</th>\n",
       "      <td>2804400009</td>\n",
       "      <td>3642806036</td>\n",
       "      <td>2019-08-15</td>\n",
       "      <td>730</td>\n",
       "      <td>B</td>\n",
       "    </tr>\n",
       "    <tr>\n",
       "      <th>2</th>\n",
       "      <td>2961555356</td>\n",
       "      <td>4069496402</td>\n",
       "      <td>2019-08-15</td>\n",
       "      <td>400</td>\n",
       "      <td>A</td>\n",
       "    </tr>\n",
       "    <tr>\n",
       "      <th>3</th>\n",
       "      <td>3797467345</td>\n",
       "      <td>1196621759</td>\n",
       "      <td>2019-08-15</td>\n",
       "      <td>9759</td>\n",
       "      <td>B</td>\n",
       "    </tr>\n",
       "    <tr>\n",
       "      <th>4</th>\n",
       "      <td>2282983706</td>\n",
       "      <td>2322279887</td>\n",
       "      <td>2019-08-15</td>\n",
       "      <td>2308</td>\n",
       "      <td>B</td>\n",
       "    </tr>\n",
       "    <tr>\n",
       "      <th>5</th>\n",
       "      <td>182168103</td>\n",
       "      <td>935554773</td>\n",
       "      <td>2019-08-15</td>\n",
       "      <td>2210</td>\n",
       "      <td>B</td>\n",
       "    </tr>\n",
       "    <tr>\n",
       "      <th>6</th>\n",
       "      <td>398296753</td>\n",
       "      <td>2900797465</td>\n",
       "      <td>2019-08-15</td>\n",
       "      <td>1860</td>\n",
       "      <td>B</td>\n",
       "    </tr>\n",
       "    <tr>\n",
       "      <th>7</th>\n",
       "      <td>2626614568</td>\n",
       "      <td>78758296</td>\n",
       "      <td>2019-08-15</td>\n",
       "      <td>1044</td>\n",
       "      <td>A</td>\n",
       "    </tr>\n",
       "    <tr>\n",
       "      <th>8</th>\n",
       "      <td>1576988021</td>\n",
       "      <td>295230930</td>\n",
       "      <td>2019-08-15</td>\n",
       "      <td>13710</td>\n",
       "      <td>A</td>\n",
       "    </tr>\n",
       "    <tr>\n",
       "      <th>9</th>\n",
       "      <td>1506739906</td>\n",
       "      <td>1882260405</td>\n",
       "      <td>2019-08-15</td>\n",
       "      <td>1855</td>\n",
       "      <td>B</td>\n",
       "    </tr>\n",
       "  </tbody>\n",
       "</table>\n",
       "</div>"
      ],
      "text/plain": [
       "   transactionId   visitorId       date  revenue group\n",
       "0     3667963787  3312258926 2019-08-15     1650     B\n",
       "1     2804400009  3642806036 2019-08-15      730     B\n",
       "2     2961555356  4069496402 2019-08-15      400     A\n",
       "3     3797467345  1196621759 2019-08-15     9759     B\n",
       "4     2282983706  2322279887 2019-08-15     2308     B\n",
       "5      182168103   935554773 2019-08-15     2210     B\n",
       "6      398296753  2900797465 2019-08-15     1860     B\n",
       "7     2626614568    78758296 2019-08-15     1044     A\n",
       "8     1576988021   295230930 2019-08-15    13710     A\n",
       "9     1506739906  1882260405 2019-08-15     1855     B"
      ]
     },
     "metadata": {},
     "output_type": "display_data"
    },
    {
     "name": "stdout",
     "output_type": "stream",
     "text": [
      "<class 'pandas.core.frame.DataFrame'>\n",
      "RangeIndex: 1197 entries, 0 to 1196\n",
      "Data columns (total 5 columns):\n",
      " #   Column         Non-Null Count  Dtype         \n",
      "---  ------         --------------  -----         \n",
      " 0   transactionId  1197 non-null   int64         \n",
      " 1   visitorId      1197 non-null   int64         \n",
      " 2   date           1197 non-null   datetime64[ns]\n",
      " 3   revenue        1197 non-null   int64         \n",
      " 4   group          1197 non-null   object        \n",
      "dtypes: datetime64[ns](1), int64(3), object(1)\n",
      "memory usage: 46.9+ KB\n"
     ]
    },
    {
     "data": {
      "text/plain": [
       "None"
      ]
     },
     "metadata": {},
     "output_type": "display_data"
    },
    {
     "name": "stdout",
     "output_type": "stream",
     "text": [
      "Количество пропусков: transactionId    0\n",
      "visitorId        0\n",
      "date             0\n",
      "revenue          0\n",
      "group            0\n",
      "dtype: int64\n",
      "Количество дубликатов: 0\n"
     ]
    }
   ],
   "source": [
    "# Выведу информацию о таблицах, проверю типа дынных в столбцах, наличие пропусков и дубликатов\n",
    "def info_data(data):\n",
    "    display(data.head(10))\n",
    "    display(data.info())\n",
    "    print('Количество пропусков:', data.isnull().sum())\n",
    "    print('Количество дубликатов:',data.duplicated().sum())\n",
    "    \n",
    "info_data(orders)"
   ]
  },
  {
   "cell_type": "code",
   "execution_count": 7,
   "metadata": {},
   "outputs": [
    {
     "data": {
      "text/plain": [
       "58"
      ]
     },
     "execution_count": 7,
     "metadata": {},
     "output_type": "execute_result"
    }
   ],
   "source": [
    "#Проверяю есть ли и сколько пересечений по id пользователя в группах\n",
    "len(np.intersect1d(orders.query('group==\"A\"')['visitorId'],orders.query('group == \"B\"')['visitorId'], assume_unique = False))"
   ]
  },
  {
   "cell_type": "markdown",
   "metadata": {},
   "source": [
    "Пересечения есть, у нас 58 пользователей, которые попали и в группу A, и в группу B. \n",
    "\n",
    "Я так понимаю, что на практичке недопустимо, чтобы в A/B тесте были такие накладки. В обычных условиях мы как минимум должны были бы удалить пересекающихся пользователей, как мксимум - выяснить, как так произошло и не было ли и других ошибок при сборе данных, чтобы исключить некорректность результатов теста.  \n",
    "\n",
    "Сейчас мы вряд ли можем удалять этих пользователей, т.к. это исказит данные: visitorId есть только в таблице orders, во второй таблице мы не сможем отфильтровать и исключить пользователей, которые попали в обе группы."
   ]
  },
  {
   "cell_type": "code",
   "execution_count": 8,
   "metadata": {},
   "outputs": [
    {
     "data": {
      "text/html": [
       "<div>\n",
       "<style scoped>\n",
       "    .dataframe tbody tr th:only-of-type {\n",
       "        vertical-align: middle;\n",
       "    }\n",
       "\n",
       "    .dataframe tbody tr th {\n",
       "        vertical-align: top;\n",
       "    }\n",
       "\n",
       "    .dataframe thead th {\n",
       "        text-align: right;\n",
       "    }\n",
       "</style>\n",
       "<table border=\"1\" class=\"dataframe\">\n",
       "  <thead>\n",
       "    <tr style=\"text-align: right;\">\n",
       "      <th></th>\n",
       "      <th>date</th>\n",
       "      <th>group</th>\n",
       "      <th>visitors</th>\n",
       "    </tr>\n",
       "  </thead>\n",
       "  <tbody>\n",
       "    <tr>\n",
       "      <th>0</th>\n",
       "      <td>2019-08-01</td>\n",
       "      <td>A</td>\n",
       "      <td>719</td>\n",
       "    </tr>\n",
       "    <tr>\n",
       "      <th>1</th>\n",
       "      <td>2019-08-02</td>\n",
       "      <td>A</td>\n",
       "      <td>619</td>\n",
       "    </tr>\n",
       "    <tr>\n",
       "      <th>2</th>\n",
       "      <td>2019-08-03</td>\n",
       "      <td>A</td>\n",
       "      <td>507</td>\n",
       "    </tr>\n",
       "    <tr>\n",
       "      <th>3</th>\n",
       "      <td>2019-08-04</td>\n",
       "      <td>A</td>\n",
       "      <td>717</td>\n",
       "    </tr>\n",
       "    <tr>\n",
       "      <th>4</th>\n",
       "      <td>2019-08-05</td>\n",
       "      <td>A</td>\n",
       "      <td>756</td>\n",
       "    </tr>\n",
       "    <tr>\n",
       "      <th>5</th>\n",
       "      <td>2019-08-06</td>\n",
       "      <td>A</td>\n",
       "      <td>667</td>\n",
       "    </tr>\n",
       "    <tr>\n",
       "      <th>6</th>\n",
       "      <td>2019-08-07</td>\n",
       "      <td>A</td>\n",
       "      <td>644</td>\n",
       "    </tr>\n",
       "    <tr>\n",
       "      <th>7</th>\n",
       "      <td>2019-08-08</td>\n",
       "      <td>A</td>\n",
       "      <td>610</td>\n",
       "    </tr>\n",
       "    <tr>\n",
       "      <th>8</th>\n",
       "      <td>2019-08-09</td>\n",
       "      <td>A</td>\n",
       "      <td>617</td>\n",
       "    </tr>\n",
       "    <tr>\n",
       "      <th>9</th>\n",
       "      <td>2019-08-10</td>\n",
       "      <td>A</td>\n",
       "      <td>406</td>\n",
       "    </tr>\n",
       "  </tbody>\n",
       "</table>\n",
       "</div>"
      ],
      "text/plain": [
       "        date group  visitors\n",
       "0 2019-08-01     A       719\n",
       "1 2019-08-02     A       619\n",
       "2 2019-08-03     A       507\n",
       "3 2019-08-04     A       717\n",
       "4 2019-08-05     A       756\n",
       "5 2019-08-06     A       667\n",
       "6 2019-08-07     A       644\n",
       "7 2019-08-08     A       610\n",
       "8 2019-08-09     A       617\n",
       "9 2019-08-10     A       406"
      ]
     },
     "metadata": {},
     "output_type": "display_data"
    },
    {
     "name": "stdout",
     "output_type": "stream",
     "text": [
      "<class 'pandas.core.frame.DataFrame'>\n",
      "RangeIndex: 62 entries, 0 to 61\n",
      "Data columns (total 3 columns):\n",
      " #   Column    Non-Null Count  Dtype         \n",
      "---  ------    --------------  -----         \n",
      " 0   date      62 non-null     datetime64[ns]\n",
      " 1   group     62 non-null     object        \n",
      " 2   visitors  62 non-null     int64         \n",
      "dtypes: datetime64[ns](1), int64(1), object(1)\n",
      "memory usage: 1.6+ KB\n"
     ]
    },
    {
     "data": {
      "text/plain": [
       "None"
      ]
     },
     "metadata": {},
     "output_type": "display_data"
    },
    {
     "name": "stdout",
     "output_type": "stream",
     "text": [
      "Количество пропусков: date        0\n",
      "group       0\n",
      "visitors    0\n",
      "dtype: int64\n",
      "Количество дубликатов: 0\n"
     ]
    }
   ],
   "source": [
    "info_data(visitors)"
   ]
  },
  {
   "cell_type": "code",
   "execution_count": 9,
   "metadata": {},
   "outputs": [
    {
     "data": {
      "text/html": [
       "<div>\n",
       "<style scoped>\n",
       "    .dataframe tbody tr th:only-of-type {\n",
       "        vertical-align: middle;\n",
       "    }\n",
       "\n",
       "    .dataframe tbody tr th {\n",
       "        vertical-align: top;\n",
       "    }\n",
       "\n",
       "    .dataframe thead th {\n",
       "        text-align: right;\n",
       "    }\n",
       "</style>\n",
       "<table border=\"1\" class=\"dataframe\">\n",
       "  <thead>\n",
       "    <tr style=\"text-align: right;\">\n",
       "      <th></th>\n",
       "      <th>date</th>\n",
       "      <th>group</th>\n",
       "      <th>orders</th>\n",
       "      <th>buyers</th>\n",
       "      <th>revenue</th>\n",
       "      <th>visitors</th>\n",
       "    </tr>\n",
       "  </thead>\n",
       "  <tbody>\n",
       "    <tr>\n",
       "      <th>0</th>\n",
       "      <td>2019-08-01</td>\n",
       "      <td>A</td>\n",
       "      <td>24</td>\n",
       "      <td>20</td>\n",
       "      <td>148579</td>\n",
       "      <td>719</td>\n",
       "    </tr>\n",
       "    <tr>\n",
       "      <th>1</th>\n",
       "      <td>2019-08-01</td>\n",
       "      <td>B</td>\n",
       "      <td>21</td>\n",
       "      <td>20</td>\n",
       "      <td>101217</td>\n",
       "      <td>713</td>\n",
       "    </tr>\n",
       "    <tr>\n",
       "      <th>2</th>\n",
       "      <td>2019-08-02</td>\n",
       "      <td>A</td>\n",
       "      <td>44</td>\n",
       "      <td>38</td>\n",
       "      <td>242401</td>\n",
       "      <td>1338</td>\n",
       "    </tr>\n",
       "    <tr>\n",
       "      <th>3</th>\n",
       "      <td>2019-08-02</td>\n",
       "      <td>B</td>\n",
       "      <td>45</td>\n",
       "      <td>43</td>\n",
       "      <td>266748</td>\n",
       "      <td>1294</td>\n",
       "    </tr>\n",
       "    <tr>\n",
       "      <th>4</th>\n",
       "      <td>2019-08-03</td>\n",
       "      <td>A</td>\n",
       "      <td>68</td>\n",
       "      <td>62</td>\n",
       "      <td>354874</td>\n",
       "      <td>1845</td>\n",
       "    </tr>\n",
       "  </tbody>\n",
       "</table>\n",
       "</div>"
      ],
      "text/plain": [
       "        date group  orders  buyers  revenue  visitors\n",
       "0 2019-08-01     A      24      20   148579       719\n",
       "1 2019-08-01     B      21      20   101217       713\n",
       "2 2019-08-02     A      44      38   242401      1338\n",
       "3 2019-08-02     B      45      43   266748      1294\n",
       "4 2019-08-03     A      68      62   354874      1845"
      ]
     },
     "metadata": {},
     "output_type": "display_data"
    }
   ],
   "source": [
    "#Для дальнейшей работы объединяю таблицы, чтобы собрать кумулятивные данные \n",
    "# создаем массив уникальных пар значений дат и групп теста\n",
    "datesGroups = orders[['date','group']].drop_duplicates()\n",
    "\n",
    "# получаем агрегированные кумулятивные по дням данные о заказах \n",
    "ordersAggregated = datesGroups.apply(lambda x: orders[np.logical_and(orders['date'] <= x['date'], orders['group'] == x['group'])].agg({'date' : 'max', 'group' : 'max', 'transactionId' : 'nunique', 'visitorId' : 'nunique', 'revenue' : 'sum'}), axis=1).sort_values(by=['date','group'])\n",
    "\n",
    "# получаем агрегированные кумулятивные по дням данные о посетителях интернет-магазина \n",
    "visitorsAggregated = datesGroups.apply(lambda x: visitors[np.logical_and(visitors['date'] <= x['date'], visitors['group'] == x['group'])].agg({'date' : 'max', 'group' : 'max', 'visitors' : 'sum'}), axis=1).sort_values(by=['date','group'])\n",
    "\n",
    "# объединяем кумулятивные данные в одной таблице и присваиваем ее столбцам понятные названия\n",
    "cumulativeData = ordersAggregated.merge(visitorsAggregated, left_on=['date', 'group'], right_on=['date', 'group'])\n",
    "cumulativeData.columns = ['date', 'group', 'orders', 'buyers', 'revenue', 'visitors']\n",
    "\n",
    "display(cumulativeData.head())"
   ]
  },
  {
   "cell_type": "code",
   "execution_count": 10,
   "metadata": {},
   "outputs": [
    {
     "name": "stdout",
     "output_type": "stream",
     "text": [
      "\n",
      " Начальная дата 2019-08-01 00:00:00, конечная дата 2019-08-31 00:00:00\n",
      "\n"
     ]
    }
   ],
   "source": [
    "# Сделаю функцию для расчета начальной и конечной дат\n",
    "def min_max_data(data):\n",
    "    print('\\n Начальная дата {}, конечная дата {}\\n'.format(data['date'].min(), data['date'].max()))\n",
    "\n",
    "#Выведу начальную и конечную дату датафрейма orders\n",
    "min_max_data(orders)"
   ]
  },
  {
   "cell_type": "code",
   "execution_count": 11,
   "metadata": {},
   "outputs": [
    {
     "name": "stdout",
     "output_type": "stream",
     "text": [
      "\n",
      " Начальная дата 2019-08-01 00:00:00, конечная дата 2019-08-31 00:00:00\n",
      "\n"
     ]
    }
   ],
   "source": [
    "#Выведу начальную и конечную дату датафрейма visitors\n",
    "min_max_data(visitors)"
   ]
  },
  {
   "cell_type": "code",
   "execution_count": 12,
   "metadata": {},
   "outputs": [
    {
     "name": "stdout",
     "output_type": "stream",
     "text": [
      "\n",
      " Начальная дата 2019-08-01 00:00:00, конечная дата 2019-08-31 00:00:00\n",
      "\n"
     ]
    }
   ],
   "source": [
    "#Выведу начальную и конечную дату датафрейма cumulativeData\n",
    "min_max_data(cumulativeData)"
   ]
  },
  {
   "cell_type": "markdown",
   "metadata": {},
   "source": [
    "Даты во всех датафреймах совпадают, т.е. датафрейм cumulativeData был создан корректно"
   ]
  },
  {
   "cell_type": "markdown",
   "metadata": {},
   "source": [
    "### График кумулятивной выручки по группам"
   ]
  },
  {
   "cell_type": "code",
   "execution_count": 13,
   "metadata": {},
   "outputs": [
    {
     "data": {
      "image/png": "[encoded data removed]",
      "text/plain": [
       "<Figure size 720x360 with 1 Axes>"
      ]
     },
     "metadata": {
      "needs_background": "light"
     },
     "output_type": "display_data"
    }
   ],
   "source": [
    "plt.figure(figsize=(10, 5))\n",
    "#Построю графики кумулятивной выручки по дням и группам A/B-тестирования: \n",
    "# датафрейм с кумулятивным количеством заказов и кумулятивной выручкой по дням в группе А\n",
    "cumulativeRevenueA = cumulativeData[cumulativeData['group']=='A'][['date','revenue', 'orders']]\n",
    "\n",
    "# датафрейм с кумулятивным количеством заказов и кумулятивной выручкой по дням в группе B\n",
    "cumulativeRevenueB = cumulativeData[cumulativeData['group']=='B'][['date','revenue', 'orders']]\n",
    "\n",
    "# Строим график выручки группы А\n",
    "plt.plot(cumulativeRevenueA['date'], cumulativeRevenueA['revenue'], label='A')\n",
    "\n",
    "# Строим график выручки группы B\n",
    "plt.plot(cumulativeRevenueB['date'], cumulativeRevenueB['revenue'], label='B')\n",
    "\n",
    "\n",
    "plt.legend() \n",
    "plt.xlabel('Дата')\n",
    "plt.ylabel('Выручка')\n",
    "plt.title('График кумулятивной выручки по группам')\n",
    "plt.xticks(rotation=45);"
   ]
  },
  {
   "cell_type": "markdown",
   "metadata": {},
   "source": [
    "Вывод: В обеих группах выручка увеличивается во время всего теста. При этом в группе А рост довольной плавный и стабильный, а в группе B есть точка, где выручка резко растет. Это может сигнализировать о всплесках числа заказов, либо о появлении очень дорогих заказов в выборке."
   ]
  },
  {
   "cell_type": "markdown",
   "metadata": {},
   "source": [
    "### График кумулятивного среднего чека по группам"
   ]
  },
  {
   "cell_type": "code",
   "execution_count": 14,
   "metadata": {},
   "outputs": [
    {
     "data": {
      "image/png": "[encoded data removed]",
      "text/plain": [
       "<Figure size 720x360 with 1 Axes>"
      ]
     },
     "metadata": {
      "needs_background": "light"
     },
     "output_type": "display_data"
    }
   ],
   "source": [
    "plt.figure(figsize=(10, 5))\n",
    "plt.plot(cumulativeRevenueA['date'], cumulativeRevenueA['revenue']/cumulativeRevenueA['orders'], label='A')\n",
    "plt.plot(cumulativeRevenueB['date'], cumulativeRevenueB['revenue']/cumulativeRevenueB['orders'], label='B')\n",
    "plt.legend() \n",
    "plt.xlabel('Дата')\n",
    "plt.ylabel('Средний чек')\n",
    "plt.title('График кумулятивного среднего чека по группам')\n",
    "plt.xticks(rotation=45);"
   ]
  },
  {
   "cell_type": "markdown",
   "metadata": {},
   "source": [
    "Вывод: Средний чек для обеих групп растет на протяжении всего теста. Нельзя назвать его рост в обеих группах плавным, средний чек неравномерный,  есть точки резкого роста, для групп А и В они разные.  "
   ]
  },
  {
   "cell_type": "markdown",
   "metadata": {},
   "source": [
    "###  График относительного изменения кумулятивного среднего чека группы B к группе A. "
   ]
  },
  {
   "cell_type": "code",
   "execution_count": 15,
   "metadata": {},
   "outputs": [
    {
     "data": {
      "image/png": "[encoded data removed]",
      "text/plain": [
       "<Figure size 720x360 with 1 Axes>"
      ]
     },
     "metadata": {
      "needs_background": "light"
     },
     "output_type": "display_data"
    }
   ],
   "source": [
    "# собираем данные в одном датафрейме\n",
    "mergedCumulativeRevenue = cumulativeRevenueA.merge(cumulativeRevenueB, left_on='date', right_on='date', how='left', suffixes=['A', 'B'])\n",
    "\n",
    "# cтроим отношение средних чеков\n",
    "plt.figure(figsize=(10, 5))\n",
    "plt.plot(mergedCumulativeRevenue['date'], (mergedCumulativeRevenue['revenueB']/mergedCumulativeRevenue['ordersB'])/(mergedCumulativeRevenue['revenueA']/mergedCumulativeRevenue['ordersA'])-1)\n",
    "\n",
    "# добавляем ось X\n",
    "plt.axhline(y=0, color='black', linestyle='--') \n",
    "plt.xlabel('Дата')\n",
    "plt.title('График относительного изменения кумулятивного среднего чека')\n",
    "plt.xticks(rotation=45);"
   ]
  },
  {
   "cell_type": "markdown",
   "metadata": {},
   "source": [
    "В нескольких точках график различия между сегментами резко «скачет», это опять же может быть связано с наличием в группе В более дорогих заказов в эти периоды или с резким ростом количества заказов в группе B."
   ]
  },
  {
   "cell_type": "markdown",
   "metadata": {},
   "source": [
    "### Постройте график кумулятивного среднего количества заказов на посетителя по группам "
   ]
  },
  {
   "cell_type": "code",
   "execution_count": 16,
   "metadata": {},
   "outputs": [
    {
     "data": {
      "image/png": "[encoded data removed]",
      "text/plain": [
       "<Figure size 720x360 with 1 Axes>"
      ]
     },
     "metadata": {
      "needs_background": "light"
     },
     "output_type": "display_data"
    }
   ],
   "source": [
    "# считаем кумулятивную конверсию\n",
    "cumulativeData['conversion'] = cumulativeData['orders']/cumulativeData['visitors']\n",
    "\n",
    "# отделяем данные по группе A\n",
    "cumulativeDataA = cumulativeData[cumulativeData['group']=='A']\n",
    "\n",
    "# отделяем данные по группе B\n",
    "cumulativeDataB = cumulativeData[cumulativeData['group']=='B']\n",
    "\n",
    "# строим графики\n",
    "plt.figure(figsize=(10, 5))\n",
    "plt.plot(cumulativeDataA['date'], cumulativeDataA['conversion'], label='A')\n",
    "plt.plot(cumulativeDataB['date'], cumulativeDataB['conversion'], label='B')\n",
    "plt.legend()\n",
    "plt.xlabel('Дата')\n",
    "plt.ylabel('Кумулятивное среднее количества заказов')\n",
    "plt.title('График кумулятивного среднего количества заказов на посетителя по группам')\n",
    "plt.xticks(rotation=45);"
   ]
  },
  {
   "cell_type": "markdown",
   "metadata": {},
   "source": [
    "Графики несимметричные, среднее количество заказов в группе В выше, чем в группе А. Изначально группы находились примерно около одного значения, были практически симметричные перепады, но затем количество заказов группы А сильно просело, а группы В наоборот увеличилось."
   ]
  },
  {
   "cell_type": "markdown",
   "metadata": {},
   "source": [
    "### Постройте график относительного изменения кумулятивного среднего количества заказов на посетителя группы B к группе A"
   ]
  },
  {
   "cell_type": "code",
   "execution_count": 17,
   "metadata": {},
   "outputs": [
    {
     "data": {
      "image/png": "[encoded data removed]",
      "text/plain": [
       "<Figure size 720x360 with 1 Axes>"
      ]
     },
     "metadata": {
      "needs_background": "light"
     },
     "output_type": "display_data"
    }
   ],
   "source": [
    "mergedCumulativeConversions = cumulativeDataA[['date','conversion']].merge(cumulativeDataB[['date','conversion']], left_on='date', right_on='date', how='left', suffixes=['A', 'B'])\n",
    "\n",
    "plt.figure(figsize=(10, 5))\n",
    "plt.plot(mergedCumulativeConversions['date'], mergedCumulativeConversions['conversionB']/mergedCumulativeConversions['conversionA']-1)\n",
    "\n",
    "\n",
    "plt.axhline(y=0, color='black', linestyle='--')\n",
    "plt.axhline(y=0.15, color='grey', linestyle='--')\n",
    "\n",
    "plt.xlabel('Дата')\n",
    "plt.ylabel('Кумулятивное среднее количества заказов')\n",
    "plt.title('График относительного изменения кумулятивного среднего количества заказов')\n",
    "plt.xticks(rotation=45);"
   ]
  },
  {
   "cell_type": "markdown",
   "metadata": {},
   "source": [
    "В начале теста наблюдались значительные колебания среднего количества заказов в группе B, но затем группа B вырвалась вперед, её среднее количество заказов на пользователя стабильно выше, чем в группе А, но все равно не стабильно. "
   ]
  },
  {
   "cell_type": "markdown",
   "metadata": {},
   "source": [
    "###  Точечный график количества заказов по пользователям"
   ]
  },
  {
   "cell_type": "code",
   "execution_count": 18,
   "metadata": {},
   "outputs": [
    {
     "data": {
      "image/png": "[encoded data removed]",
      "text/plain": [
       "<Figure size 720x288 with 1 Axes>"
      ]
     },
     "metadata": {
      "needs_background": "light"
     },
     "output_type": "display_data"
    }
   ],
   "source": [
    "ordersByUsers = orders.groupby('visitorId', as_index = False).agg({'transactionId':'nunique'}).sort_values(by='transactionId', ascending = False)\n",
    "ordersByUsers.columns = ['visitorId', 'orders']\n",
    "ordersByUsers.head(5)\n",
    "\n",
    "plt.figure(figsize=(10,4))\n",
    "plt.hist(ordersByUsers['orders'], bins = 10)\n",
    "plt.title('Гистрограмма распределения количества заказов на одного пользователя')\n",
    "plt.show()"
   ]
  },
  {
   "cell_type": "code",
   "execution_count": 19,
   "metadata": {},
   "outputs": [
    {
     "data": {
      "image/png": "[encoded data removed]",
      "text/plain": [
       "<Figure size 720x288 with 1 Axes>"
      ]
     },
     "metadata": {
      "needs_background": "light"
     },
     "output_type": "display_data"
    }
   ],
   "source": [
    "x_values = pd.Series(range(0, len(ordersByUsers)))\n",
    "plt.figure(figsize=(10,4))\n",
    "plt.scatter(x_values, ordersByUsers['orders'])\n",
    "plt.title('Точечный график количества заказов по пользователям')\n",
    "plt.show()"
   ]
  },
  {
   "cell_type": "markdown",
   "metadata": {},
   "source": [
    "С учетом данных графиков: очень небольшое количество пользователей совершают 2 и более заказов. Разумно выбрать 2 заказа на одного пользователя за верхнюю границу числа заказов, и отсеять аномальных пользователей по ней."
   ]
  },
  {
   "cell_type": "markdown",
   "metadata": {},
   "source": [
    " ### Считаем 95-й и 99-й перцентили количества заказов на пользователя"
   ]
  },
  {
   "cell_type": "markdown",
   "metadata": {},
   "source": [
    "Посчитаем выборочные перцентили количества заказов на одного пользователя:"
   ]
  },
  {
   "cell_type": "code",
   "execution_count": 20,
   "metadata": {},
   "outputs": [
    {
     "name": "stdout",
     "output_type": "stream",
     "text": [
      "[1. 2. 4.]\n"
     ]
    }
   ],
   "source": [
    "print(np.percentile(ordersByUsers['orders'], [90, 95, 99])) "
   ]
  },
  {
   "cell_type": "markdown",
   "metadata": {},
   "source": [
    "Не более  5% пользователей оформляли больше чем 2 заказа, не более 1% - делали больше, чем 4 заказа. За границу для определения аномального количества заказов принимаем 95 перцентиль, т.е. 2 заказа. "
   ]
  },
  {
   "cell_type": "code",
   "execution_count": 21,
   "metadata": {},
   "outputs": [],
   "source": [
    "#Присвою переменной, которую буду использовать в дальнейшем результат расчета\n",
    "abnormal_orders_amount = np.percentile(ordersByUsers['orders'], 95)"
   ]
  },
  {
   "cell_type": "markdown",
   "metadata": {},
   "source": [
    "### Точечный график стоимостей заказов"
   ]
  },
  {
   "cell_type": "code",
   "execution_count": 22,
   "metadata": {},
   "outputs": [
    {
     "data": {
      "image/png": "[encoded data removed]",
      "text/plain": [
       "<Figure size 432x288 with 1 Axes>"
      ]
     },
     "metadata": {
      "needs_background": "light"
     },
     "output_type": "display_data"
    }
   ],
   "source": [
    "plt.hist(orders['revenue'], range=(0,100000), bins = 100)\n",
    "plt.title('Гистрограмма распределения сумм заказов на одного пользователя')\n",
    "plt.show()\n",
    "x_values = pd.Series(range(0, len(orders)))"
   ]
  },
  {
   "cell_type": "code",
   "execution_count": 23,
   "metadata": {},
   "outputs": [
    {
     "data": {
      "image/png": "[encoded data removed]",
      "text/plain": [
       "<Figure size 720x288 with 1 Axes>"
      ]
     },
     "metadata": {
      "needs_background": "light"
     },
     "output_type": "display_data"
    }
   ],
   "source": [
    "plt.figure(figsize=(10,4))\n",
    "plt.scatter(x_values, orders['revenue'])\n",
    "plt.title('Точечная диаграмма сумм заказов на одного пользователя')\n",
    "plt.axis([0, 1200, 0, 200000])\n",
    "plt.show()"
   ]
  },
  {
   "cell_type": "markdown",
   "metadata": {},
   "source": [
    "Подавляющее большинство пользователей делает покупки на сумму не более 25 т.р. "
   ]
  },
  {
   "cell_type": "markdown",
   "metadata": {},
   "source": [
    "### Считаем 90, 95-й и 99-й перцентили стоимости заказов"
   ]
  },
  {
   "cell_type": "code",
   "execution_count": 24,
   "metadata": {},
   "outputs": [
    {
     "name": "stdout",
     "output_type": "stream",
     "text": [
      "[18168.  28000.  58233.2]\n"
     ]
    }
   ],
   "source": [
    "print(np.percentile(orders['revenue'], [90, 95, 99]))"
   ]
  },
  {
   "cell_type": "markdown",
   "metadata": {},
   "source": [
    "Только 5% пользователей совершают покупки на сумму более 28 т.р. В данном случае за границу для определения аномальных заказов можно принять сумму в 28 т.р."
   ]
  },
  {
   "cell_type": "code",
   "execution_count": 25,
   "metadata": {},
   "outputs": [],
   "source": [
    "#Присвою переменной, которую буду использовать в дальнейшем результат расчета\n",
    "abnormal_orders_revenue = np.percentile(orders['revenue'], 95)"
   ]
  },
  {
   "cell_type": "markdown",
   "metadata": {},
   "source": [
    "### Статистическая значимость различий в среднем количестве заказов на посетителя между группами по «сырым» данным. "
   ]
  },
  {
   "cell_type": "markdown",
   "metadata": {},
   "source": [
    "Посчитаем статистическую значимость различий в среднем количестве заказов на пользователя и среднем чеке между группами по «сырым» данным — без удаления аномальных пользователей.\n",
    "\n",
    "Сформулируем гипотезы. \n",
    "\n",
    "Нулевая: различий в среднем количестве заказов между группами нет. \n",
    "\n",
    "Альтернативная: различия в среднем между группами есть.\n",
    "\n",
    "В качестве уровня значимости alpha  беру 0.05 (5%).\n",
    " \n",
    "Для проверки гипотез буду использовать критерий Манна-Уитни. Этот метод подходит в случаях, когда работа с самими значениями невозможна из-за выбросов, сильно сдвигающих параметрические результаты, поэтому необходимо проверять гипотезу с учетом рангов, т.е. номеров значений в упорядоченном ряду. "
   ]
  },
  {
   "cell_type": "code",
   "execution_count": 26,
   "metadata": {},
   "outputs": [
    {
     "name": "stdout",
     "output_type": "stream",
     "text": [
      "p-value: 0.01679\n",
      "Относительное различие в среднем между группами: 0.138\n"
     ]
    }
   ],
   "source": [
    "visitorsADaily = visitors[visitors['group'] == 'A'][['date', 'visitors']]\n",
    "visitorsADaily.columns = ['date', 'visitorsPerDateA']\n",
    "\n",
    "\n",
    "visitorsBDaily = visitors[visitors['group'] == 'B'][['date', 'visitors']]\n",
    "visitorsBDaily.columns = ['date', 'visitorsPerDateB']\n",
    "\n",
    "ordersADaily = (\n",
    "    orders[orders['group'] == 'A'][['date', 'transactionId', 'visitorId', 'revenue']]\n",
    "    .groupby('date', as_index=False)\n",
    "    .agg({'transactionId': pd.Series.nunique, 'revenue': 'sum'})\n",
    ")\n",
    "ordersADaily.columns = ['date', 'ordersPerDateA', 'revenuePerDateA']\n",
    "\n",
    "ordersBDaily = (\n",
    "    orders[orders['group'] == 'B'][['date', 'transactionId', 'visitorId', 'revenue']]\n",
    "    .groupby('date', as_index=False)\n",
    "    .agg({'transactionId': pd.Series.nunique, 'revenue': 'sum'})\n",
    ")\n",
    "ordersBDaily.columns = ['date', 'ordersPerDateB', 'revenuePerDateB']\n",
    "\n",
    "\n",
    "ordersByUsersA = (\n",
    "    orders[orders['group'] == 'A']\n",
    "    .groupby('visitorId', as_index=False)\n",
    "    .agg({'transactionId': pd.Series.nunique})\n",
    ")\n",
    "ordersByUsersA.columns = ['visitorId', 'orders']\n",
    "\n",
    "ordersByUsersB = (\n",
    "    orders[orders['group'] == 'B']\n",
    "    .groupby('visitorId', as_index=False)\n",
    "    .agg({'transactionId': pd.Series.nunique})\n",
    ")\n",
    "ordersByUsersB.columns = ['visitorId', 'orders'] \n",
    "\n",
    "sampleA = pd.concat([ordersByUsersA['orders'],pd.Series(0, index=np.arange(visitorsADaily['visitorsPerDateA'].sum() - len(ordersByUsersA['orders'])), name='orders')],axis=0)\n",
    "\n",
    "sampleB = pd.concat([ordersByUsersB['orders'],pd.Series(0, index=np.arange(visitorsBDaily['visitorsPerDateB'].sum() - len(ordersByUsersB['orders'])), name='orders')],axis=0)\n",
    "print('p-value:', \"{0:.5f}\".format(stats.mannwhitneyu(sampleA, sampleB)[1]))\n",
    "print('Относительное различие в среднем между группами:',\"{0:.3f}\".format(sampleB.mean() / sampleA.mean() - 1))"
   ]
  },
  {
   "cell_type": "markdown",
   "metadata": {},
   "source": [
    "Вывод: P-value значительно меньше 0,05, относитетельный прирост среднего группы B  к среднему количеству заказов группы А равен 13,8%, т.е. в среднем количестве заказов между группами есть статистически значимые различия. Нулевую гипотезу отвергаем. "
   ]
  },
  {
   "cell_type": "markdown",
   "metadata": {},
   "source": [
    "### Cтатистическая значимость различий в среднем чеке заказа между группами по «сырым» данным"
   ]
  },
  {
   "cell_type": "markdown",
   "metadata": {},
   "source": [
    "Проверим статистическую значимость различий в среднем чеке между группами по сырым данным. \n",
    "\n",
    "Нулевая гипотеза: различий в среднем чеке между группами нет. \n",
    "\n",
    "Альтернативная гипотеза: различия в среднем чеке между группами есть. \n",
    "\n",
    "В качестве уровня значимости alpha беру 0.05 (5%).\n",
    "\n",
    "Для проверки гипотез буду использовать критерий Манна-Уитни. Этот метод подходит в случаях, когда работа с самими значениями невозможна из-за выбросов, сильно сдвигающих параметрические результаты, поэтому необходимо проверять гипотезу с учетом рангов, т.е. номеров значений в упорядоченном ряду."
   ]
  },
  {
   "cell_type": "code",
   "execution_count": 27,
   "metadata": {},
   "outputs": [
    {
     "name": "stdout",
     "output_type": "stream",
     "text": [
      "p-value: 0.729\n",
      "Относительное различие в среднем между группами: 0.259\n"
     ]
    }
   ],
   "source": [
    "visitorsADaily = visitors[visitors['group'] == 'A'][['date', 'visitors']]\n",
    "visitorsADaily.columns = ['date', 'visitorsPerDateA']\n",
    "\n",
    "visitorsBDaily = visitors[visitors['group'] == 'B'][['date', 'visitors']]\n",
    "visitorsBDaily.columns = ['date', 'visitorsPerDateB']\n",
    "\n",
    "\n",
    "ordersADaily = (\n",
    "    orders[orders['group'] == 'A'][['date', 'transactionId', 'visitorId', 'revenue']]\n",
    "    .groupby('date', as_index=False)\n",
    "    .agg({'transactionId': pd.Series.nunique, 'revenue': 'sum'})\n",
    ")\n",
    "ordersADaily.columns = ['date', 'ordersPerDateA', 'revenuePerDateA']\n",
    "\n",
    "\n",
    "ordersBDaily = (\n",
    "    orders[orders['group'] == 'B'][['date', 'transactionId', 'visitorId', 'revenue']]\n",
    "    .groupby('date', as_index=False)\n",
    "    .agg({'transactionId': pd.Series.nunique, 'revenue': 'sum'})\n",
    ")\n",
    "ordersBDaily.columns = ['date', 'ordersPerDateB', 'revenuePerDateB']\n",
    "\n",
    "\n",
    "print('p-value:', '{0:.3f}'.format(stats.mannwhitneyu(orders[orders['group']=='A']['revenue'], orders[orders['group']=='B']['revenue'])[1]))\n",
    "print('Относительное различие в среднем между группами:' , '{0:.3f}'.format(orders[orders['group']=='B']['revenue'].mean()/orders[orders['group']=='A']['revenue'].mean()-1))"
   ]
  },
  {
   "cell_type": "markdown",
   "metadata": {},
   "source": [
    "Вывод: P-value значительно больше 0,05 - статистически значимых отличий в среднем чеке между группами нет. Относительное различие среднего чека между группами всего 26%. Нулевую гипотезу не отвергаем. "
   ]
  },
  {
   "cell_type": "markdown",
   "metadata": {},
   "source": [
    "### Cтатистическая значимость различий в среднем количестве заказов на посетителя между группами по «очищенным» данным."
   ]
  },
  {
   "cell_type": "code",
   "execution_count": 28,
   "metadata": {},
   "outputs": [
    {
     "name": "stdout",
     "output_type": "stream",
     "text": [
      "1099    148427295\n",
      "18      199603092\n",
      "928     204675465\n",
      "23      237748145\n",
      "37      249864742\n",
      "Name: visitorId, dtype: int64\n"
     ]
    }
   ],
   "source": [
    "# Сделаю срезы пользователей с числом заказов больше 2 и пользователей, совершивших заказы дороже 28 000 р. \n",
    "usersWithManyOrders = pd.concat(\n",
    "    [\n",
    "        ordersByUsersA[ordersByUsersA['orders'] > abnormal_orders_amount]['visitorId'],\n",
    "        ordersByUsersB[ordersByUsersB['orders'] > abnormal_orders_amount]['visitorId'],\n",
    "    ],\n",
    "    axis=0,\n",
    ")\n",
    "usersWithExpensiveOrders = orders[orders['revenue'] > abnormal_orders_revenue]['visitorId']\n",
    "abnormalUsers = (\n",
    "    pd.concat([usersWithManyOrders, usersWithExpensiveOrders], axis=0)\n",
    "    .drop_duplicates()\n",
    "    .sort_values()\n",
    ")\n",
    "print(abnormalUsers.head())"
   ]
  },
  {
   "cell_type": "markdown",
   "metadata": {},
   "source": [
    "Посчитаем статистическую значимость различий в среднем количестве заказов на пользователя и среднем чеке между группами по очищенным данным после удаления аномальных пользователей.\n",
    "\n",
    "Сформулируем гипотезы. \n",
    "\n",
    "Нулевая: различий в среднем количестве заказов между группами нет. \n",
    "\n",
    "Альтернативная: различия в среднем между группами есть.\n",
    "\n",
    "В качестве уровня значимости alpha беру 0.05 (5%).\n",
    "\n",
    "Для проверки гипотез буду использовать критерий Манна-Уитни. Этот метод подходит в случаях, когда работа с самими значениями невозможна из-за выбросов, сильно сдвигающих параметрические результаты, поэтому необходимо проверять гипотезу с учетом рангов, т.е. номеров значений в упорядоченном ряду."
   ]
  },
  {
   "cell_type": "code",
   "execution_count": 29,
   "metadata": {},
   "outputs": [
    {
     "name": "stdout",
     "output_type": "stream",
     "text": [
      "p-value: 0.01304\n",
      "Относительное различие в среднем между группами: 0.173\n"
     ]
    }
   ],
   "source": [
    "#Посчитаю статистическую значимость различия среднего количества заказов после удаления аномальных пользователей\n",
    "sampleAFiltered = pd.concat(\n",
    "    [\n",
    "        ordersByUsersA[\n",
    "            np.logical_not(ordersByUsersA['visitorId'].isin(abnormalUsers))\n",
    "        ]['orders'],\n",
    "        pd.Series(\n",
    "            0,\n",
    "            index=np.arange(\n",
    "                visitorsADaily['visitorsPerDateA'].sum() - len(ordersByUsersA['orders'])\n",
    "            ),\n",
    "            name='orders',\n",
    "        ),\n",
    "    ],\n",
    "    axis=0,\n",
    ")\n",
    "\n",
    "sampleBFiltered = pd.concat(\n",
    "    [\n",
    "        ordersByUsersB[\n",
    "            np.logical_not(ordersByUsersB['visitorId'].isin(abnormalUsers))\n",
    "        ]['orders'],\n",
    "        pd.Series(\n",
    "            0,\n",
    "            index=np.arange(\n",
    "                visitorsBDaily['visitorsPerDateB'].sum() - len(ordersByUsersB['orders'])\n",
    "            ),\n",
    "            name='orders',\n",
    "        ),\n",
    "    ],\n",
    "    axis=0,\n",
    ") \n",
    "\n",
    "print('p-value:', '{0:.5f}'.format(stats.mannwhitneyu(sampleAFiltered, sampleBFiltered)[1]))\n",
    "print('Относительное различие в среднем между группами:','{0:.3f}'.format(sampleBFiltered.mean()/sampleAFiltered.mean()-1)) "
   ]
  },
  {
   "cell_type": "markdown",
   "metadata": {},
   "source": [
    "Вывод: P-value значительно меньше 0,05, относитетельный прирост среднего группы B  к среднему количеству заказов группы А равен 17,3%, т.е. в среднем количестве заказов между группами после очистки данных от аномалий есть статистически значимые различия, как и с сырыми данными. Нулевую гипотезу отвергаем. "
   ]
  },
  {
   "cell_type": "markdown",
   "metadata": {},
   "source": [
    "### Статистическая значимость различий в среднем чеке заказа между группами по «очищенным» данным. "
   ]
  },
  {
   "cell_type": "markdown",
   "metadata": {},
   "source": [
    "Проверим статистическую значимость различий в среднем чеке между группами по очищенным данным.\n",
    "\n",
    "Нулевая гипотеза: различий в среднем чеке между группами нет.\n",
    "\n",
    "Альтернативная гипотеза: различия в среднем чеке между группами есть.\n",
    "\n",
    "В качестве уровня значимости alpha беру 0.05 (5%).\n",
    "\n",
    "Для проверки гипотез буду использовать критерий Манна-Уитни. Этот метод подходит в случаях, когда работа с самими значениями невозможна из-за выбросов, сильно сдвигающих параметрические результаты, поэтому необходимо проверять гипотезу с учетом рангов, т.е. номеров значений в упорядоченном ряду."
   ]
  },
  {
   "cell_type": "code",
   "execution_count": 30,
   "metadata": {},
   "outputs": [
    {
     "name": "stdout",
     "output_type": "stream",
     "text": [
      "p-value: 0.738\n",
      "Относительное различие в среднем между группами: -0.020\n"
     ]
    }
   ],
   "source": [
    "print('p-value:',\n",
    "    '{0:.3f}'.format(\n",
    "        stats.mannwhitneyu(\n",
    "            orders[\n",
    "                np.logical_and(\n",
    "                    orders['group'] == 'A',\n",
    "                    np.logical_not(orders['visitorId'].isin(abnormalUsers)),\n",
    "                )\n",
    "            ]['revenue'],\n",
    "            orders[\n",
    "                np.logical_and(\n",
    "                    orders['group'] == 'B',\n",
    "                    np.logical_not(orders['visitorId'].isin(abnormalUsers)),\n",
    "                )\n",
    "            ]['revenue'],\n",
    "        )[1]\n",
    "    )\n",
    ")\n",
    "\n",
    "print('Относительное различие в среднем между группами:',\n",
    "    \"{0:.3f}\".format(\n",
    "        orders[\n",
    "            np.logical_and(\n",
    "                orders['group'] == 'B',\n",
    "                np.logical_not(orders['visitorId'].isin(abnormalUsers)),\n",
    "            )\n",
    "        ]['revenue'].mean()\n",
    "        / orders[\n",
    "            np.logical_and(\n",
    "                orders['group'] == 'A',\n",
    "                np.logical_not(orders['visitorId'].isin(abnormalUsers)),\n",
    "            )\n",
    "        ]['revenue'].mean()\n",
    "        - 1\n",
    "    )\n",
    ")"
   ]
  },
  {
   "cell_type": "markdown",
   "metadata": {},
   "source": [
    "Вывод: Как и в случае с сырыми данными P-value значительно больше 0,05 - статистически значимых отличий в среднем чеке между группами нет. Относительное различие среднего чека между группами -0,2%. Нулевую гипотезу не отвергаем."
   ]
  },
  {
   "cell_type": "markdown",
   "metadata": {},
   "source": [
    "### Выводы"
   ]
  },
  {
   "cell_type": "markdown",
   "metadata": {},
   "source": [
    "В первой части проекта была проведена приритизация предложенных гипотез. Приоритизация важна для того, чтобы понять, какие из гипотез следует тестировать, а какие не повлияют на ключевые метрики бизнеса и приведут к нерациональной трате ресурсов. \n",
    "\n",
    "Приоритизация гипотез проводилась на основе методов IСE и RICE. \n",
    "\n",
    "Наиболее перспективными гипотезами по итогу считаем гипотезы под номерами 7 и 0. Эти гипотезы попали в первую тройку при применении 2 методов:\n",
    "\n",
    "Гипотеза под номером 7: *Добавить форму подписки на все основные страницы, чтобы собрать базу клиентов для email-рассылок*\n",
    "\n",
    "Гипотеза 0:  *Добавить два новых канала привлечения трафика, что позволит привлекать на 30% больше пользователей*"
   ]
  },
  {
   "cell_type": "markdown",
   "metadata": {},
   "source": [
    "Во второй части проекта проанализированы результаты уже проведенного A/B теста. \n",
    "\n",
    "Чтобы отследить изменения результатов эксперимента на каждый день тестирования, были построены графики кумулятивной выручки, кумулятивного среднего чека по группам, \n",
    "относительного изменения кумулятивного среднего чека, кумулятивного среднего количества заказов на посетителя, относительного изменения кумулятивного среднего количества заказов.\n",
    "\n",
    "Были выбраны границы для определения аномальных количества заказов на пользователя и среднего чека. Для этого строили графики количества заказов по пользователям, стоимостей заказов, определяли 90, 95 и 99 перцентили количества заказов на пользователя и стоимости заказов.\n",
    "\n",
    "Также были проверены 4 гипотезы: о статистической значимости различий в среднем чеке между группами и о статистической значимости различий в среднем количестве заказов на посетителя между группами. Обе гипотезы проверялись 2 раза, на \"сырых\" данных и на данных очищенных от аномалий. "
   ]
  },
  {
   "cell_type": "markdown",
   "metadata": {},
   "source": [
    "По итогам анализа результатов A/B теста, видим следующие результаты:\n",
    "\n",
    "Есть статистически значимое различие в среднем количестве заказов на посетителя между группами, как в сырых данных, так и в данных после фильтрации аномалий.\n",
    "\n",
    "Статистически значимого различия по среднему чеку между группами нет ни в сырых, ни в очищенных данных. \n",
    "\n",
    "Результаты группы B на протяжении тестирования лучше резульататов группы A: среднее количество заказов на пользователя в группе B  стабильно выше, чем в группе А. \n",
    "\n",
    "На протяжении всего теста выручка стабильно растет, в группе B выручка выше, чем в группе А, и хотя средний чек в группах не отличается, это происходит засчет большего количества заказов на пользователя в группе B. \n",
    "\n",
    "Исходя из результатов, полученных в ходе тестирования, на данном этапе тест нужно остановить, признать его успешным и зафиксировать победу группы B. "
   ]
  }
 ],
 "metadata": {
  "ExecuteTimeLog": [
   {
    "duration": 9,
    "start_time": "2023-01-18T17:37:37.788Z"
   },
   {
    "duration": 41,
    "start_time": "2023-01-18T17:42:06.969Z"
   },
   {
    "duration": 42,
    "start_time": "2023-01-18T18:14:36.750Z"
   },
   {
    "duration": 440,
    "start_time": "2023-01-18T18:14:45.168Z"
   },
   {
    "duration": 110,
    "start_time": "2023-01-18T18:14:47.322Z"
   },
   {
    "duration": 40,
    "start_time": "2023-01-18T18:15:00.049Z"
   },
   {
    "duration": 32,
    "start_time": "2023-01-18T18:15:29.962Z"
   },
   {
    "duration": 33,
    "start_time": "2023-01-18T18:16:01.800Z"
   },
   {
    "duration": 10,
    "start_time": "2023-01-18T18:20:34.810Z"
   },
   {
    "duration": 10,
    "start_time": "2023-01-18T18:20:52.209Z"
   },
   {
    "duration": 9,
    "start_time": "2023-01-18T18:41:21.823Z"
   },
   {
    "duration": 376,
    "start_time": "2023-01-18T18:41:28.427Z"
   },
   {
    "duration": 69,
    "start_time": "2023-01-18T18:41:28.805Z"
   },
   {
    "duration": 12,
    "start_time": "2023-01-18T18:41:28.875Z"
   },
   {
    "duration": 15,
    "start_time": "2023-01-18T18:41:28.889Z"
   },
   {
    "duration": 75,
    "start_time": "2023-01-18T18:42:19.851Z"
   },
   {
    "duration": 71,
    "start_time": "2023-01-18T18:46:10.348Z"
   },
   {
    "duration": 30,
    "start_time": "2023-01-18T18:48:45.638Z"
   },
   {
    "duration": 27,
    "start_time": "2023-01-18T18:48:53.108Z"
   },
   {
    "duration": 27,
    "start_time": "2023-01-18T18:48:59.044Z"
   },
   {
    "duration": 26,
    "start_time": "2023-01-18T18:49:12.581Z"
   },
   {
    "duration": 5,
    "start_time": "2023-01-18T18:51:20.435Z"
   },
   {
    "duration": 4,
    "start_time": "2023-01-18T19:01:55.761Z"
   },
   {
    "duration": 4,
    "start_time": "2023-01-18T19:02:07.522Z"
   },
   {
    "duration": 408,
    "start_time": "2023-01-18T19:11:03.230Z"
   },
   {
    "duration": 519,
    "start_time": "2023-01-18T19:24:37.450Z"
   },
   {
    "duration": 60,
    "start_time": "2023-01-18T19:25:15.248Z"
   },
   {
    "duration": 56,
    "start_time": "2023-01-18T19:25:25.794Z"
   },
   {
    "duration": 59,
    "start_time": "2023-01-18T19:25:31.660Z"
   },
   {
    "duration": 355,
    "start_time": "2023-01-18T19:26:39.167Z"
   },
   {
    "duration": 65,
    "start_time": "2023-01-18T19:28:08.397Z"
   },
   {
    "duration": 430,
    "start_time": "2023-01-18T19:30:32.885Z"
   },
   {
    "duration": 39,
    "start_time": "2023-01-18T19:32:19.122Z"
   },
   {
    "duration": 280,
    "start_time": "2023-01-18T19:34:20.658Z"
   },
   {
    "duration": 271,
    "start_time": "2023-01-18T19:34:29.340Z"
   },
   {
    "duration": 276,
    "start_time": "2023-01-18T19:34:51.956Z"
   },
   {
    "duration": 246,
    "start_time": "2023-01-18T19:36:40.714Z"
   },
   {
    "duration": 165,
    "start_time": "2023-01-18T19:40:00.738Z"
   },
   {
    "duration": 169,
    "start_time": "2023-01-18T19:46:27.818Z"
   },
   {
    "duration": 178,
    "start_time": "2023-01-18T19:46:45.644Z"
   },
   {
    "duration": 142,
    "start_time": "2023-01-18T19:48:08.445Z"
   },
   {
    "duration": 185,
    "start_time": "2023-01-18T19:48:26.384Z"
   },
   {
    "duration": 156,
    "start_time": "2023-01-18T19:51:53.265Z"
   },
   {
    "duration": 3,
    "start_time": "2023-01-18T19:57:31.283Z"
   },
   {
    "duration": 332,
    "start_time": "2023-01-18T19:58:26.175Z"
   },
   {
    "duration": 72,
    "start_time": "2023-01-18T19:59:09.805Z"
   },
   {
    "duration": 2,
    "start_time": "2023-01-18T20:01:34.782Z"
   },
   {
    "duration": 1183,
    "start_time": "2023-01-19T19:49:40.672Z"
   },
   {
    "duration": 131,
    "start_time": "2023-01-19T19:49:41.857Z"
   },
   {
    "duration": 11,
    "start_time": "2023-01-19T19:49:41.990Z"
   },
   {
    "duration": 18,
    "start_time": "2023-01-19T19:49:42.004Z"
   },
   {
    "duration": 159,
    "start_time": "2023-01-19T19:49:42.024Z"
   },
   {
    "duration": 290,
    "start_time": "2023-01-19T19:49:42.185Z"
   },
   {
    "duration": 274,
    "start_time": "2023-01-19T19:49:42.476Z"
   },
   {
    "duration": 194,
    "start_time": "2023-01-19T19:49:42.751Z"
   },
   {
    "duration": 327,
    "start_time": "2023-01-19T19:49:42.947Z"
   },
   {
    "duration": 201,
    "start_time": "2023-01-19T19:49:43.276Z"
   },
   {
    "duration": 3,
    "start_time": "2023-01-19T20:06:00.033Z"
   },
   {
    "duration": 428,
    "start_time": "2023-01-19T20:13:48.460Z"
   },
   {
    "duration": 1044,
    "start_time": "2023-01-19T20:14:09.861Z"
   },
   {
    "duration": 102,
    "start_time": "2023-01-19T20:14:10.906Z"
   },
   {
    "duration": 13,
    "start_time": "2023-01-19T20:14:11.010Z"
   },
   {
    "duration": 25,
    "start_time": "2023-01-19T20:14:11.025Z"
   },
   {
    "duration": 73,
    "start_time": "2023-01-19T20:14:11.052Z"
   },
   {
    "duration": 289,
    "start_time": "2023-01-19T20:14:11.127Z"
   },
   {
    "duration": 271,
    "start_time": "2023-01-19T20:14:11.418Z"
   },
   {
    "duration": 190,
    "start_time": "2023-01-19T20:14:11.691Z"
   },
   {
    "duration": 266,
    "start_time": "2023-01-19T20:14:11.883Z"
   },
   {
    "duration": 222,
    "start_time": "2023-01-19T20:14:12.152Z"
   },
   {
    "duration": 395,
    "start_time": "2023-01-19T20:14:12.376Z"
   },
   {
    "duration": 357,
    "start_time": "2023-01-19T20:14:28.761Z"
   },
   {
    "duration": 315,
    "start_time": "2023-01-19T20:26:41.794Z"
   },
   {
    "duration": 143,
    "start_time": "2023-01-19T20:38:40.478Z"
   },
   {
    "duration": 11,
    "start_time": "2023-01-19T20:43:31.418Z"
   },
   {
    "duration": 15,
    "start_time": "2023-01-19T20:44:00.623Z"
   },
   {
    "duration": 128,
    "start_time": "2023-01-19T20:47:13.921Z"
   },
   {
    "duration": 212,
    "start_time": "2023-01-19T20:51:26.243Z"
   },
   {
    "duration": 120,
    "start_time": "2023-01-19T20:51:39.544Z"
   },
   {
    "duration": 127,
    "start_time": "2023-01-19T20:51:57.548Z"
   },
   {
    "duration": 139,
    "start_time": "2023-01-19T21:07:36.839Z"
   },
   {
    "duration": 139,
    "start_time": "2023-01-19T21:07:40.076Z"
   },
   {
    "duration": 80,
    "start_time": "2023-01-19T21:09:00.672Z"
   },
   {
    "duration": 6,
    "start_time": "2023-01-19T21:12:38.973Z"
   },
   {
    "duration": 65,
    "start_time": "2023-01-19T21:14:41.358Z"
   },
   {
    "duration": 3,
    "start_time": "2023-01-19T21:16:00.341Z"
   },
   {
    "duration": 242,
    "start_time": "2023-01-19T21:17:24.422Z"
   },
   {
    "duration": 146,
    "start_time": "2023-01-19T21:17:27.926Z"
   },
   {
    "duration": 74,
    "start_time": "2023-01-19T21:18:11.446Z"
   },
   {
    "duration": 4,
    "start_time": "2023-01-19T21:18:56.846Z"
   },
   {
    "duration": 4,
    "start_time": "2023-01-19T21:25:07.128Z"
   },
   {
    "duration": 3,
    "start_time": "2023-01-19T21:25:57.546Z"
   },
   {
    "duration": 110,
    "start_time": "2023-01-19T21:34:06.165Z"
   },
   {
    "duration": 112,
    "start_time": "2023-01-19T21:37:10.374Z"
   },
   {
    "duration": 21,
    "start_time": "2023-01-19T21:50:50.835Z"
   },
   {
    "duration": 23,
    "start_time": "2023-01-19T21:52:45.849Z"
   },
   {
    "duration": 23,
    "start_time": "2023-01-19T21:53:15.130Z"
   },
   {
    "duration": 156,
    "start_time": "2023-01-19T21:53:25.521Z"
   },
   {
    "duration": 168,
    "start_time": "2023-01-19T21:54:17.965Z"
   },
   {
    "duration": 178,
    "start_time": "2023-01-19T21:56:54.842Z"
   },
   {
    "duration": 174,
    "start_time": "2023-01-19T21:57:54.104Z"
   },
   {
    "duration": 38,
    "start_time": "2023-01-19T22:04:09.957Z"
   },
   {
    "duration": 42,
    "start_time": "2023-01-19T22:04:38.939Z"
   },
   {
    "duration": 1302,
    "start_time": "2023-01-21T14:53:20.758Z"
   },
   {
    "duration": 172,
    "start_time": "2023-01-21T14:53:22.063Z"
   },
   {
    "duration": 16,
    "start_time": "2023-01-21T14:53:22.236Z"
   },
   {
    "duration": 11,
    "start_time": "2023-01-21T14:53:22.255Z"
   },
   {
    "duration": 181,
    "start_time": "2023-01-21T14:53:22.268Z"
   },
   {
    "duration": 311,
    "start_time": "2023-01-21T14:53:22.451Z"
   },
   {
    "duration": 295,
    "start_time": "2023-01-21T14:53:22.764Z"
   },
   {
    "duration": 195,
    "start_time": "2023-01-21T14:53:23.061Z"
   },
   {
    "duration": 321,
    "start_time": "2023-01-21T14:53:23.258Z"
   },
   {
    "duration": 222,
    "start_time": "2023-01-21T14:53:23.581Z"
   },
   {
    "duration": 357,
    "start_time": "2023-01-21T14:53:23.805Z"
   },
   {
    "duration": 149,
    "start_time": "2023-01-21T14:53:24.164Z"
   },
   {
    "duration": 176,
    "start_time": "2023-01-21T14:53:24.315Z"
   },
   {
    "duration": 5,
    "start_time": "2023-01-21T14:53:24.493Z"
   },
   {
    "duration": 274,
    "start_time": "2023-01-21T14:53:24.500Z"
   },
   {
    "duration": 251,
    "start_time": "2023-01-21T14:53:24.776Z"
   },
   {
    "duration": 8,
    "start_time": "2023-01-21T14:53:25.029Z"
   },
   {
    "duration": 9,
    "start_time": "2023-01-21T14:53:25.039Z"
   },
   {
    "duration": 222,
    "start_time": "2023-01-21T14:53:25.050Z"
   },
   {
    "duration": 43,
    "start_time": "2023-01-21T14:53:25.274Z"
   },
   {
    "duration": 3,
    "start_time": "2023-01-21T14:54:24.701Z"
   },
   {
    "duration": 3,
    "start_time": "2023-01-21T14:54:27.513Z"
   },
   {
    "duration": 3,
    "start_time": "2023-01-21T14:54:59.796Z"
   },
   {
    "duration": 2,
    "start_time": "2023-01-21T15:26:04.001Z"
   },
   {
    "duration": 11,
    "start_time": "2023-01-21T15:45:01.289Z"
   },
   {
    "duration": 11,
    "start_time": "2023-01-21T15:45:34.417Z"
   },
   {
    "duration": 10,
    "start_time": "2023-01-21T15:45:41.104Z"
   },
   {
    "duration": 13,
    "start_time": "2023-01-21T15:45:45.871Z"
   },
   {
    "duration": 14,
    "start_time": "2023-01-21T15:45:50.896Z"
   },
   {
    "duration": 99,
    "start_time": "2023-01-21T15:56:18.959Z"
   },
   {
    "duration": 29,
    "start_time": "2023-01-21T15:57:42.782Z"
   },
   {
    "duration": 31,
    "start_time": "2023-01-21T16:03:19.425Z"
   },
   {
    "duration": 38,
    "start_time": "2023-01-21T16:03:37.127Z"
   },
   {
    "duration": 15,
    "start_time": "2023-01-21T16:06:17.552Z"
   },
   {
    "duration": 3,
    "start_time": "2023-01-21T16:14:14.070Z"
   },
   {
    "duration": 3,
    "start_time": "2023-01-21T16:14:32.425Z"
   },
   {
    "duration": 3,
    "start_time": "2023-01-21T16:14:59.502Z"
   },
   {
    "duration": 75,
    "start_time": "2023-01-21T17:21:37.990Z"
   },
   {
    "duration": 72,
    "start_time": "2023-01-21T17:24:27.785Z"
   },
   {
    "duration": 84,
    "start_time": "2023-01-21T17:31:02.325Z"
   },
   {
    "duration": 3,
    "start_time": "2023-01-21T17:46:59.692Z"
   },
   {
    "duration": 34,
    "start_time": "2023-01-21T17:57:57.455Z"
   },
   {
    "duration": 36,
    "start_time": "2023-01-21T17:58:05.936Z"
   },
   {
    "duration": 6,
    "start_time": "2023-01-21T17:58:10.469Z"
   },
   {
    "duration": 3,
    "start_time": "2023-01-21T18:05:55.302Z"
   },
   {
    "duration": 23,
    "start_time": "2023-01-21T18:07:36.297Z"
   },
   {
    "duration": 23,
    "start_time": "2023-01-21T18:08:58.730Z"
   },
   {
    "duration": 21,
    "start_time": "2023-01-21T18:09:16.520Z"
   },
   {
    "duration": 1077,
    "start_time": "2023-01-21T18:12:42.495Z"
   },
   {
    "duration": 97,
    "start_time": "2023-01-21T18:12:43.574Z"
   },
   {
    "duration": 10,
    "start_time": "2023-01-21T18:12:43.673Z"
   },
   {
    "duration": 10,
    "start_time": "2023-01-21T18:12:43.685Z"
   },
   {
    "duration": 74,
    "start_time": "2023-01-21T18:12:43.697Z"
   },
   {
    "duration": 22,
    "start_time": "2023-01-21T18:12:43.773Z"
   },
   {
    "duration": 20,
    "start_time": "2023-01-21T18:12:43.797Z"
   },
   {
    "duration": 284,
    "start_time": "2023-01-21T18:12:43.836Z"
   },
   {
    "duration": 259,
    "start_time": "2023-01-21T18:12:44.122Z"
   },
   {
    "duration": 198,
    "start_time": "2023-01-21T18:12:44.384Z"
   },
   {
    "duration": 281,
    "start_time": "2023-01-21T18:12:44.584Z"
   },
   {
    "duration": 209,
    "start_time": "2023-01-21T18:12:44.867Z"
   },
   {
    "duration": 301,
    "start_time": "2023-01-21T18:12:45.078Z"
   },
   {
    "duration": 136,
    "start_time": "2023-01-21T18:12:45.381Z"
   },
   {
    "duration": 137,
    "start_time": "2023-01-21T18:12:45.519Z"
   },
   {
    "duration": 5,
    "start_time": "2023-01-21T18:12:45.658Z"
   },
   {
    "duration": 250,
    "start_time": "2023-01-21T18:12:45.665Z"
   },
   {
    "duration": 225,
    "start_time": "2023-01-21T18:12:45.916Z"
   },
   {
    "duration": 5,
    "start_time": "2023-01-21T18:12:46.143Z"
   },
   {
    "duration": 203,
    "start_time": "2023-01-21T18:12:46.150Z"
   },
   {
    "duration": 34,
    "start_time": "2023-01-21T18:12:46.355Z"
   },
   {
    "duration": 9,
    "start_time": "2023-01-21T18:12:46.390Z"
   },
   {
    "duration": 50,
    "start_time": "2023-01-21T18:12:46.400Z"
   },
   {
    "duration": 16,
    "start_time": "2023-01-21T18:12:46.452Z"
   },
   {
    "duration": 1064,
    "start_time": "2023-01-21T18:35:16.577Z"
   },
   {
    "duration": 78,
    "start_time": "2023-01-21T18:35:17.642Z"
   },
   {
    "duration": 10,
    "start_time": "2023-01-21T18:35:17.722Z"
   },
   {
    "duration": 9,
    "start_time": "2023-01-21T18:35:17.734Z"
   },
   {
    "duration": 67,
    "start_time": "2023-01-21T18:35:17.744Z"
   },
   {
    "duration": 18,
    "start_time": "2023-01-21T18:35:17.812Z"
   },
   {
    "duration": 17,
    "start_time": "2023-01-21T18:35:17.832Z"
   },
   {
    "duration": 272,
    "start_time": "2023-01-21T18:35:17.850Z"
   },
   {
    "duration": 243,
    "start_time": "2023-01-21T18:35:18.124Z"
   },
   {
    "duration": 162,
    "start_time": "2023-01-21T18:35:18.369Z"
   },
   {
    "duration": 264,
    "start_time": "2023-01-21T18:35:18.536Z"
   },
   {
    "duration": 187,
    "start_time": "2023-01-21T18:35:18.802Z"
   },
   {
    "duration": 269,
    "start_time": "2023-01-21T18:35:18.991Z"
   },
   {
    "duration": 120,
    "start_time": "2023-01-21T18:35:19.262Z"
   },
   {
    "duration": 115,
    "start_time": "2023-01-21T18:35:19.384Z"
   },
   {
    "duration": 4,
    "start_time": "2023-01-21T18:35:19.500Z"
   },
   {
    "duration": 228,
    "start_time": "2023-01-21T18:35:19.505Z"
   },
   {
    "duration": 191,
    "start_time": "2023-01-21T18:35:19.736Z"
   },
   {
    "duration": 9,
    "start_time": "2023-01-21T18:35:19.928Z"
   },
   {
    "duration": 155,
    "start_time": "2023-01-21T18:35:19.939Z"
   },
   {
    "duration": 29,
    "start_time": "2023-01-21T18:35:20.095Z"
   },
   {
    "duration": 17,
    "start_time": "2023-01-21T18:35:20.126Z"
   },
   {
    "duration": 24,
    "start_time": "2023-01-21T18:35:20.145Z"
   },
   {
    "duration": 11,
    "start_time": "2023-01-21T18:35:20.171Z"
   },
   {
    "duration": 1369,
    "start_time": "2023-01-21T20:02:49.558Z"
   },
   {
    "duration": 162,
    "start_time": "2023-01-21T20:02:50.930Z"
   },
   {
    "duration": 12,
    "start_time": "2023-01-21T20:02:51.094Z"
   },
   {
    "duration": 10,
    "start_time": "2023-01-21T20:02:51.109Z"
   },
   {
    "duration": 192,
    "start_time": "2023-01-21T20:02:51.121Z"
   },
   {
    "duration": 31,
    "start_time": "2023-01-21T20:02:51.316Z"
   },
   {
    "duration": 41,
    "start_time": "2023-01-21T20:02:51.349Z"
   },
   {
    "duration": 369,
    "start_time": "2023-01-21T20:02:51.393Z"
   },
   {
    "duration": 298,
    "start_time": "2023-01-21T20:02:51.765Z"
   },
   {
    "duration": 211,
    "start_time": "2023-01-21T20:02:52.066Z"
   },
   {
    "duration": 403,
    "start_time": "2023-01-21T20:02:52.279Z"
   },
   {
    "duration": 264,
    "start_time": "2023-01-21T20:02:52.684Z"
   },
   {
    "duration": 337,
    "start_time": "2023-01-21T20:02:52.951Z"
   },
   {
    "duration": 156,
    "start_time": "2023-01-21T20:02:53.290Z"
   },
   {
    "duration": 153,
    "start_time": "2023-01-21T20:02:53.448Z"
   },
   {
    "duration": 5,
    "start_time": "2023-01-21T20:02:53.603Z"
   },
   {
    "duration": 276,
    "start_time": "2023-01-21T20:02:53.609Z"
   },
   {
    "duration": 233,
    "start_time": "2023-01-21T20:02:53.887Z"
   },
   {
    "duration": 16,
    "start_time": "2023-01-21T20:02:54.123Z"
   },
   {
    "duration": 236,
    "start_time": "2023-01-21T20:02:54.141Z"
   },
   {
    "duration": 33,
    "start_time": "2023-01-21T20:02:54.379Z"
   },
   {
    "duration": 30,
    "start_time": "2023-01-21T20:02:54.414Z"
   },
   {
    "duration": 56,
    "start_time": "2023-01-21T20:02:54.446Z"
   },
   {
    "duration": 17,
    "start_time": "2023-01-21T20:02:54.504Z"
   },
   {
    "duration": 57,
    "start_time": "2023-01-22T17:41:06.629Z"
   },
   {
    "duration": 45,
    "start_time": "2023-01-22T17:41:19.798Z"
   },
   {
    "duration": 49,
    "start_time": "2023-01-22T17:42:20.875Z"
   },
   {
    "duration": 55,
    "start_time": "2023-01-22T17:42:27.035Z"
   },
   {
    "duration": 0,
    "start_time": "2023-01-22T17:42:27.092Z"
   },
   {
    "duration": 0,
    "start_time": "2023-01-22T17:42:27.093Z"
   },
   {
    "duration": 0,
    "start_time": "2023-01-22T17:42:27.095Z"
   },
   {
    "duration": 0,
    "start_time": "2023-01-22T17:42:27.096Z"
   },
   {
    "duration": 0,
    "start_time": "2023-01-22T17:42:27.096Z"
   },
   {
    "duration": 1,
    "start_time": "2023-01-22T17:42:27.097Z"
   },
   {
    "duration": 0,
    "start_time": "2023-01-22T17:42:27.099Z"
   },
   {
    "duration": 0,
    "start_time": "2023-01-22T17:42:27.100Z"
   },
   {
    "duration": 0,
    "start_time": "2023-01-22T17:42:27.101Z"
   },
   {
    "duration": 0,
    "start_time": "2023-01-22T17:42:27.102Z"
   },
   {
    "duration": 0,
    "start_time": "2023-01-22T17:42:27.103Z"
   },
   {
    "duration": 0,
    "start_time": "2023-01-22T17:42:27.104Z"
   },
   {
    "duration": 0,
    "start_time": "2023-01-22T17:42:27.105Z"
   },
   {
    "duration": 0,
    "start_time": "2023-01-22T17:42:27.106Z"
   },
   {
    "duration": 0,
    "start_time": "2023-01-22T17:42:27.108Z"
   },
   {
    "duration": 0,
    "start_time": "2023-01-22T17:42:27.108Z"
   },
   {
    "duration": 0,
    "start_time": "2023-01-22T17:42:27.109Z"
   },
   {
    "duration": 0,
    "start_time": "2023-01-22T17:42:27.110Z"
   },
   {
    "duration": 0,
    "start_time": "2023-01-22T17:42:27.111Z"
   },
   {
    "duration": 0,
    "start_time": "2023-01-22T17:42:27.112Z"
   },
   {
    "duration": 0,
    "start_time": "2023-01-22T17:42:27.113Z"
   },
   {
    "duration": 0,
    "start_time": "2023-01-22T17:42:27.114Z"
   },
   {
    "duration": 0,
    "start_time": "2023-01-22T17:42:27.115Z"
   },
   {
    "duration": 0,
    "start_time": "2023-01-22T17:42:27.116Z"
   },
   {
    "duration": 61,
    "start_time": "2023-01-22T17:43:32.979Z"
   },
   {
    "duration": 45,
    "start_time": "2023-01-22T17:44:00.070Z"
   },
   {
    "duration": 41,
    "start_time": "2023-01-22T17:44:06.239Z"
   },
   {
    "duration": 53,
    "start_time": "2023-01-22T17:44:19.658Z"
   },
   {
    "duration": 54,
    "start_time": "2023-01-22T17:44:33.016Z"
   },
   {
    "duration": 40,
    "start_time": "2023-01-22T17:44:52.119Z"
   },
   {
    "duration": 47,
    "start_time": "2023-01-22T17:45:06.772Z"
   },
   {
    "duration": 42,
    "start_time": "2023-01-22T17:45:18.725Z"
   },
   {
    "duration": 6,
    "start_time": "2023-01-22T17:45:20.675Z"
   },
   {
    "duration": 1227,
    "start_time": "2023-01-22T17:45:25.831Z"
   },
   {
    "duration": 131,
    "start_time": "2023-01-22T17:45:27.060Z"
   },
   {
    "duration": 16,
    "start_time": "2023-01-22T17:45:27.193Z"
   },
   {
    "duration": 16,
    "start_time": "2023-01-22T17:45:27.211Z"
   },
   {
    "duration": 148,
    "start_time": "2023-01-22T17:45:27.228Z"
   },
   {
    "duration": 22,
    "start_time": "2023-01-22T17:45:27.378Z"
   },
   {
    "duration": 18,
    "start_time": "2023-01-22T17:45:27.402Z"
   },
   {
    "duration": 338,
    "start_time": "2023-01-22T17:45:27.422Z"
   },
   {
    "duration": 270,
    "start_time": "2023-01-22T17:45:27.761Z"
   },
   {
    "duration": 203,
    "start_time": "2023-01-22T17:45:28.035Z"
   },
   {
    "duration": 309,
    "start_time": "2023-01-22T17:45:28.240Z"
   },
   {
    "duration": 220,
    "start_time": "2023-01-22T17:45:28.551Z"
   },
   {
    "duration": 295,
    "start_time": "2023-01-22T17:45:28.773Z"
   },
   {
    "duration": 129,
    "start_time": "2023-01-22T17:45:29.069Z"
   },
   {
    "duration": 136,
    "start_time": "2023-01-22T17:45:29.200Z"
   },
   {
    "duration": 5,
    "start_time": "2023-01-22T17:45:29.338Z"
   },
   {
    "duration": 254,
    "start_time": "2023-01-22T17:45:29.344Z"
   },
   {
    "duration": 240,
    "start_time": "2023-01-22T17:45:29.600Z"
   },
   {
    "duration": 4,
    "start_time": "2023-01-22T17:45:29.842Z"
   },
   {
    "duration": 193,
    "start_time": "2023-01-22T17:45:29.848Z"
   },
   {
    "duration": 35,
    "start_time": "2023-01-22T17:45:30.043Z"
   },
   {
    "duration": 9,
    "start_time": "2023-01-22T17:45:30.080Z"
   },
   {
    "duration": 46,
    "start_time": "2023-01-22T17:45:30.091Z"
   },
   {
    "duration": 15,
    "start_time": "2023-01-22T17:45:30.139Z"
   },
   {
    "duration": 80,
    "start_time": "2023-01-22T17:46:04.919Z"
   },
   {
    "duration": 44,
    "start_time": "2023-01-22T17:46:29.359Z"
   },
   {
    "duration": 32,
    "start_time": "2023-01-22T17:46:37.039Z"
   },
   {
    "duration": 48,
    "start_time": "2023-01-22T17:47:31.558Z"
   },
   {
    "duration": 105,
    "start_time": "2023-01-22T17:51:34.648Z"
   },
   {
    "duration": 16,
    "start_time": "2023-01-22T17:51:51.921Z"
   },
   {
    "duration": 11,
    "start_time": "2023-01-22T17:53:30.723Z"
   },
   {
    "duration": 11,
    "start_time": "2023-01-22T17:53:44.241Z"
   },
   {
    "duration": 11,
    "start_time": "2023-01-22T17:53:55.380Z"
   },
   {
    "duration": 55,
    "start_time": "2023-01-22T17:54:18.763Z"
   },
   {
    "duration": 10,
    "start_time": "2023-01-22T17:57:34.872Z"
   },
   {
    "duration": 12,
    "start_time": "2023-01-22T17:58:49.083Z"
   },
   {
    "duration": 43,
    "start_time": "2023-01-22T18:09:36.276Z"
   },
   {
    "duration": 27,
    "start_time": "2023-01-22T18:10:10.450Z"
   },
   {
    "duration": 48,
    "start_time": "2023-01-22T18:10:28.883Z"
   },
   {
    "duration": 43,
    "start_time": "2023-01-22T18:11:28.340Z"
   },
   {
    "duration": 13,
    "start_time": "2023-01-22T18:11:49.424Z"
   },
   {
    "duration": 9,
    "start_time": "2023-01-22T18:12:49.616Z"
   },
   {
    "duration": 38,
    "start_time": "2023-01-22T18:20:38.968Z"
   },
   {
    "duration": 4,
    "start_time": "2023-01-22T18:28:57.120Z"
   },
   {
    "duration": 23,
    "start_time": "2023-01-22T18:30:44.558Z"
   },
   {
    "duration": 6,
    "start_time": "2023-01-22T18:31:06.312Z"
   },
   {
    "duration": 3,
    "start_time": "2023-01-22T18:31:21.458Z"
   },
   {
    "duration": 4,
    "start_time": "2023-01-22T18:32:12.404Z"
   },
   {
    "duration": 5,
    "start_time": "2023-01-22T18:33:02.647Z"
   },
   {
    "duration": 45,
    "start_time": "2023-01-22T18:34:52.883Z"
   },
   {
    "duration": 188,
    "start_time": "2023-01-22T18:46:56.684Z"
   },
   {
    "duration": 199,
    "start_time": "2023-01-22T18:47:38.387Z"
   },
   {
    "duration": 210,
    "start_time": "2023-01-22T18:47:49.140Z"
   },
   {
    "duration": 212,
    "start_time": "2023-01-22T18:48:44.330Z"
   },
   {
    "duration": 212,
    "start_time": "2023-01-22T18:48:49.682Z"
   },
   {
    "duration": 238,
    "start_time": "2023-01-22T18:49:10.083Z"
   },
   {
    "duration": 217,
    "start_time": "2023-01-22T18:49:17.244Z"
   },
   {
    "duration": 379,
    "start_time": "2023-01-22T18:50:12.721Z"
   },
   {
    "duration": 302,
    "start_time": "2023-01-22T18:50:24.440Z"
   },
   {
    "duration": 273,
    "start_time": "2023-01-22T18:51:01.373Z"
   },
   {
    "duration": 230,
    "start_time": "2023-01-22T18:51:09.782Z"
   },
   {
    "duration": 302,
    "start_time": "2023-01-22T18:52:15.340Z"
   },
   {
    "duration": 350,
    "start_time": "2023-01-22T18:54:42.916Z"
   },
   {
    "duration": 241,
    "start_time": "2023-01-22T18:56:24.570Z"
   },
   {
    "duration": 331,
    "start_time": "2023-01-22T18:57:52.042Z"
   },
   {
    "duration": 314,
    "start_time": "2023-01-22T18:58:21.589Z"
   },
   {
    "duration": 199,
    "start_time": "2023-01-22T19:03:09.356Z"
   },
   {
    "duration": 345,
    "start_time": "2023-01-22T19:03:16.996Z"
   },
   {
    "duration": 314,
    "start_time": "2023-01-22T19:07:28.592Z"
   },
   {
    "duration": 360,
    "start_time": "2023-01-22T19:07:36.303Z"
   },
   {
    "duration": 348,
    "start_time": "2023-01-22T19:09:56.419Z"
   },
   {
    "duration": 327,
    "start_time": "2023-01-22T19:10:16.554Z"
   },
   {
    "duration": 336,
    "start_time": "2023-01-22T19:11:02.840Z"
   },
   {
    "duration": 342,
    "start_time": "2023-01-22T19:11:13.739Z"
   },
   {
    "duration": 43,
    "start_time": "2023-01-22T19:36:43.662Z"
   },
   {
    "duration": 45,
    "start_time": "2023-01-22T19:38:29.640Z"
   },
   {
    "duration": 4,
    "start_time": "2023-01-22T19:38:40.204Z"
   },
   {
    "duration": 3,
    "start_time": "2023-01-22T19:47:00.350Z"
   },
   {
    "duration": 3,
    "start_time": "2023-01-22T19:47:39.364Z"
   },
   {
    "duration": 8,
    "start_time": "2023-01-22T19:47:54.355Z"
   },
   {
    "duration": 9,
    "start_time": "2023-01-22T19:48:06.773Z"
   },
   {
    "duration": 3,
    "start_time": "2023-01-22T19:49:29.674Z"
   },
   {
    "duration": 10,
    "start_time": "2023-01-22T19:50:14.874Z"
   },
   {
    "duration": 60,
    "start_time": "2023-01-22T19:53:33.315Z"
   },
   {
    "duration": 72,
    "start_time": "2023-01-22T19:54:35.416Z"
   },
   {
    "duration": 1323,
    "start_time": "2023-01-23T04:31:39.003Z"
   },
   {
    "duration": 199,
    "start_time": "2023-01-23T04:31:40.329Z"
   },
   {
    "duration": 16,
    "start_time": "2023-01-23T04:31:40.529Z"
   },
   {
    "duration": 12,
    "start_time": "2023-01-23T04:31:40.547Z"
   },
   {
    "duration": 183,
    "start_time": "2023-01-23T04:31:40.560Z"
   },
   {
    "duration": 27,
    "start_time": "2023-01-23T04:31:40.744Z"
   },
   {
    "duration": 10,
    "start_time": "2023-01-23T04:31:40.773Z"
   },
   {
    "duration": 54,
    "start_time": "2023-01-23T04:31:40.784Z"
   },
   {
    "duration": 310,
    "start_time": "2023-01-23T04:31:40.840Z"
   },
   {
    "duration": 4,
    "start_time": "2023-01-23T04:31:41.153Z"
   },
   {
    "duration": 10,
    "start_time": "2023-01-23T04:31:41.159Z"
   },
   {
    "duration": 9,
    "start_time": "2023-01-23T04:31:41.171Z"
   },
   {
    "duration": 331,
    "start_time": "2023-01-23T04:31:41.182Z"
   },
   {
    "duration": 218,
    "start_time": "2023-01-23T04:31:41.515Z"
   },
   {
    "duration": 367,
    "start_time": "2023-01-23T04:31:41.738Z"
   },
   {
    "duration": 264,
    "start_time": "2023-01-23T04:31:42.107Z"
   },
   {
    "duration": 377,
    "start_time": "2023-01-23T04:31:42.372Z"
   },
   {
    "duration": 140,
    "start_time": "2023-01-23T04:31:42.750Z"
   },
   {
    "duration": 147,
    "start_time": "2023-01-23T04:31:42.892Z"
   },
   {
    "duration": 4,
    "start_time": "2023-01-23T04:31:43.041Z"
   },
   {
    "duration": 10,
    "start_time": "2023-01-23T04:31:43.047Z"
   },
   {
    "duration": 360,
    "start_time": "2023-01-23T04:31:43.058Z"
   },
   {
    "duration": 167,
    "start_time": "2023-01-23T04:31:43.421Z"
   },
   {
    "duration": 4,
    "start_time": "2023-01-23T04:31:43.590Z"
   },
   {
    "duration": 14,
    "start_time": "2023-01-23T04:31:43.596Z"
   },
   {
    "duration": 221,
    "start_time": "2023-01-23T04:31:43.611Z"
   },
   {
    "duration": 37,
    "start_time": "2023-01-23T04:31:43.837Z"
   },
   {
    "duration": 9,
    "start_time": "2023-01-23T04:31:43.878Z"
   },
   {
    "duration": 55,
    "start_time": "2023-01-23T04:31:43.889Z"
   },
   {
    "duration": 15,
    "start_time": "2023-01-23T04:31:43.946Z"
   },
   {
    "duration": 316,
    "start_time": "2023-01-23T04:35:38.249Z"
   },
   {
    "duration": 55,
    "start_time": "2023-01-23T05:25:19.506Z"
   },
   {
    "duration": 1269,
    "start_time": "2023-01-23T05:25:30.827Z"
   },
   {
    "duration": 191,
    "start_time": "2023-01-23T05:25:32.099Z"
   },
   {
    "duration": 14,
    "start_time": "2023-01-23T05:25:32.291Z"
   },
   {
    "duration": 32,
    "start_time": "2023-01-23T05:25:32.307Z"
   },
   {
    "duration": 221,
    "start_time": "2023-01-23T05:25:32.341Z"
   },
   {
    "duration": 27,
    "start_time": "2023-01-23T05:25:32.565Z"
   },
   {
    "duration": 37,
    "start_time": "2023-01-23T05:25:32.594Z"
   },
   {
    "duration": 52,
    "start_time": "2023-01-23T05:25:32.633Z"
   },
   {
    "duration": 336,
    "start_time": "2023-01-23T05:25:32.687Z"
   },
   {
    "duration": 4,
    "start_time": "2023-01-23T05:25:33.026Z"
   },
   {
    "duration": 39,
    "start_time": "2023-01-23T05:25:33.032Z"
   },
   {
    "duration": 38,
    "start_time": "2023-01-23T05:25:33.072Z"
   },
   {
    "duration": 362,
    "start_time": "2023-01-23T05:25:33.111Z"
   },
   {
    "duration": 242,
    "start_time": "2023-01-23T05:25:33.475Z"
   },
   {
    "duration": 378,
    "start_time": "2023-01-23T05:25:33.719Z"
   },
   {
    "duration": 251,
    "start_time": "2023-01-23T05:25:34.099Z"
   },
   {
    "duration": 351,
    "start_time": "2023-01-23T05:25:34.351Z"
   },
   {
    "duration": 135,
    "start_time": "2023-01-23T05:25:34.704Z"
   },
   {
    "duration": 152,
    "start_time": "2023-01-23T05:25:34.842Z"
   },
   {
    "duration": 5,
    "start_time": "2023-01-23T05:25:34.995Z"
   },
   {
    "duration": 42,
    "start_time": "2023-01-23T05:25:35.001Z"
   },
   {
    "duration": 385,
    "start_time": "2023-01-23T05:25:35.045Z"
   },
   {
    "duration": 180,
    "start_time": "2023-01-23T05:25:35.432Z"
   },
   {
    "duration": 4,
    "start_time": "2023-01-23T05:25:35.614Z"
   },
   {
    "duration": 55,
    "start_time": "2023-01-23T05:25:35.620Z"
   },
   {
    "duration": 206,
    "start_time": "2023-01-23T05:25:35.677Z"
   },
   {
    "duration": 32,
    "start_time": "2023-01-23T05:25:35.885Z"
   },
   {
    "duration": 23,
    "start_time": "2023-01-23T05:25:35.920Z"
   },
   {
    "duration": 52,
    "start_time": "2023-01-23T05:25:35.945Z"
   },
   {
    "duration": 17,
    "start_time": "2023-01-23T05:25:35.999Z"
   },
   {
    "duration": 47,
    "start_time": "2023-01-23T05:26:57.473Z"
   },
   {
    "duration": 3,
    "start_time": "2023-01-23T05:27:38.829Z"
   },
   {
    "duration": 3,
    "start_time": "2023-01-23T05:28:29.508Z"
   },
   {
    "duration": 65,
    "start_time": "2023-01-23T05:29:12.257Z"
   },
   {
    "duration": 1072,
    "start_time": "2023-01-23T05:31:19.779Z"
   },
   {
    "duration": 117,
    "start_time": "2023-01-23T05:31:20.854Z"
   },
   {
    "duration": 13,
    "start_time": "2023-01-23T05:31:20.972Z"
   },
   {
    "duration": 10,
    "start_time": "2023-01-23T05:31:20.987Z"
   },
   {
    "duration": 83,
    "start_time": "2023-01-23T05:31:20.999Z"
   },
   {
    "duration": 24,
    "start_time": "2023-01-23T05:31:21.084Z"
   },
   {
    "duration": 20,
    "start_time": "2023-01-23T05:31:21.109Z"
   },
   {
    "duration": 20,
    "start_time": "2023-01-23T05:31:21.130Z"
   },
   {
    "duration": 312,
    "start_time": "2023-01-23T05:31:21.152Z"
   },
   {
    "duration": 4,
    "start_time": "2023-01-23T05:31:21.467Z"
   },
   {
    "duration": 6,
    "start_time": "2023-01-23T05:31:21.472Z"
   },
   {
    "duration": 7,
    "start_time": "2023-01-23T05:31:21.480Z"
   },
   {
    "duration": 317,
    "start_time": "2023-01-23T05:31:21.488Z"
   },
   {
    "duration": 217,
    "start_time": "2023-01-23T05:31:21.807Z"
   },
   {
    "duration": 366,
    "start_time": "2023-01-23T05:31:22.026Z"
   },
   {
    "duration": 246,
    "start_time": "2023-01-23T05:31:22.393Z"
   },
   {
    "duration": 342,
    "start_time": "2023-01-23T05:31:22.641Z"
   },
   {
    "duration": 129,
    "start_time": "2023-01-23T05:31:22.985Z"
   },
   {
    "duration": 137,
    "start_time": "2023-01-23T05:31:23.116Z"
   },
   {
    "duration": 5,
    "start_time": "2023-01-23T05:31:23.256Z"
   },
   {
    "duration": 15,
    "start_time": "2023-01-23T05:31:23.262Z"
   },
   {
    "duration": 333,
    "start_time": "2023-01-23T05:31:23.279Z"
   },
   {
    "duration": 164,
    "start_time": "2023-01-23T05:31:23.614Z"
   },
   {
    "duration": 4,
    "start_time": "2023-01-23T05:31:23.779Z"
   },
   {
    "duration": 6,
    "start_time": "2023-01-23T05:31:23.784Z"
   },
   {
    "duration": 196,
    "start_time": "2023-01-23T05:31:23.791Z"
   },
   {
    "duration": 33,
    "start_time": "2023-01-23T05:31:23.988Z"
   },
   {
    "duration": 9,
    "start_time": "2023-01-23T05:31:24.024Z"
   },
   {
    "duration": 51,
    "start_time": "2023-01-23T05:31:24.034Z"
   },
   {
    "duration": 14,
    "start_time": "2023-01-23T05:31:24.086Z"
   },
   {
    "duration": 1247,
    "start_time": "2023-01-23T07:55:30.387Z"
   },
   {
    "duration": 198,
    "start_time": "2023-01-23T07:55:31.636Z"
   },
   {
    "duration": 13,
    "start_time": "2023-01-23T07:55:31.836Z"
   },
   {
    "duration": 25,
    "start_time": "2023-01-23T07:55:31.851Z"
   },
   {
    "duration": 222,
    "start_time": "2023-01-23T07:55:31.877Z"
   },
   {
    "duration": 25,
    "start_time": "2023-01-23T07:55:32.100Z"
   },
   {
    "duration": 12,
    "start_time": "2023-01-23T07:55:32.127Z"
   },
   {
    "duration": 24,
    "start_time": "2023-01-23T07:55:32.141Z"
   },
   {
    "duration": 311,
    "start_time": "2023-01-23T07:55:32.167Z"
   },
   {
    "duration": 5,
    "start_time": "2023-01-23T07:55:32.480Z"
   },
   {
    "duration": 9,
    "start_time": "2023-01-23T07:55:32.487Z"
   },
   {
    "duration": 22,
    "start_time": "2023-01-23T07:55:32.498Z"
   },
   {
    "duration": 305,
    "start_time": "2023-01-23T07:55:32.523Z"
   },
   {
    "duration": 207,
    "start_time": "2023-01-23T07:55:32.830Z"
   },
   {
    "duration": 336,
    "start_time": "2023-01-23T07:55:33.039Z"
   },
   {
    "duration": 253,
    "start_time": "2023-01-23T07:55:33.376Z"
   },
   {
    "duration": 350,
    "start_time": "2023-01-23T07:55:33.630Z"
   },
   {
    "duration": 150,
    "start_time": "2023-01-23T07:55:33.982Z"
   },
   {
    "duration": 151,
    "start_time": "2023-01-23T07:55:34.133Z"
   },
   {
    "duration": 5,
    "start_time": "2023-01-23T07:55:34.287Z"
   },
   {
    "duration": 9,
    "start_time": "2023-01-23T07:55:34.294Z"
   },
   {
    "duration": 412,
    "start_time": "2023-01-23T07:55:34.304Z"
   },
   {
    "duration": 165,
    "start_time": "2023-01-23T07:55:34.721Z"
   },
   {
    "duration": 3,
    "start_time": "2023-01-23T07:55:34.888Z"
   },
   {
    "duration": 15,
    "start_time": "2023-01-23T07:55:34.893Z"
   },
   {
    "duration": 215,
    "start_time": "2023-01-23T07:55:34.909Z"
   },
   {
    "duration": 33,
    "start_time": "2023-01-23T07:55:35.126Z"
   },
   {
    "duration": 9,
    "start_time": "2023-01-23T07:55:35.162Z"
   },
   {
    "duration": 51,
    "start_time": "2023-01-23T07:55:35.172Z"
   },
   {
    "duration": 13,
    "start_time": "2023-01-23T07:55:35.225Z"
   },
   {
    "duration": 1053,
    "start_time": "2023-01-23T20:53:26.368Z"
   },
   {
    "duration": 124,
    "start_time": "2023-01-23T20:53:27.423Z"
   },
   {
    "duration": 14,
    "start_time": "2023-01-23T20:53:27.548Z"
   },
   {
    "duration": 12,
    "start_time": "2023-01-23T20:53:27.564Z"
   },
   {
    "duration": 151,
    "start_time": "2023-01-23T20:53:27.578Z"
   },
   {
    "duration": 23,
    "start_time": "2023-01-23T20:53:27.730Z"
   },
   {
    "duration": 16,
    "start_time": "2023-01-23T20:53:27.755Z"
   },
   {
    "duration": 39,
    "start_time": "2023-01-23T20:53:27.773Z"
   },
   {
    "duration": 283,
    "start_time": "2023-01-23T20:53:27.814Z"
   },
   {
    "duration": 4,
    "start_time": "2023-01-23T20:53:28.102Z"
   },
   {
    "duration": 33,
    "start_time": "2023-01-23T20:53:28.108Z"
   },
   {
    "duration": 7,
    "start_time": "2023-01-23T20:53:28.143Z"
   },
   {
    "duration": 296,
    "start_time": "2023-01-23T20:53:28.151Z"
   },
   {
    "duration": 194,
    "start_time": "2023-01-23T20:53:28.449Z"
   },
   {
    "duration": 271,
    "start_time": "2023-01-23T20:53:28.644Z"
   },
   {
    "duration": 263,
    "start_time": "2023-01-23T20:53:28.916Z"
   },
   {
    "duration": 345,
    "start_time": "2023-01-23T20:53:29.181Z"
   },
   {
    "duration": 166,
    "start_time": "2023-01-23T20:53:29.529Z"
   },
   {
    "duration": 134,
    "start_time": "2023-01-23T20:53:29.703Z"
   },
   {
    "duration": 4,
    "start_time": "2023-01-23T20:53:29.839Z"
   },
   {
    "duration": 27,
    "start_time": "2023-01-23T20:53:29.844Z"
   },
   {
    "duration": 317,
    "start_time": "2023-01-23T20:53:29.873Z"
   },
   {
    "duration": 145,
    "start_time": "2023-01-23T20:53:30.192Z"
   },
   {
    "duration": 4,
    "start_time": "2023-01-23T20:53:30.338Z"
   },
   {
    "duration": 19,
    "start_time": "2023-01-23T20:53:30.344Z"
   },
   {
    "duration": 192,
    "start_time": "2023-01-23T20:53:30.364Z"
   },
   {
    "duration": 45,
    "start_time": "2023-01-23T20:53:30.558Z"
   },
   {
    "duration": 31,
    "start_time": "2023-01-23T20:53:30.606Z"
   },
   {
    "duration": 48,
    "start_time": "2023-01-23T20:53:30.639Z"
   },
   {
    "duration": 55,
    "start_time": "2023-01-23T20:53:30.689Z"
   },
   {
    "duration": 1062,
    "start_time": "2023-04-13T18:43:12.515Z"
   },
   {
    "duration": 147,
    "start_time": "2023-04-13T18:43:13.579Z"
   },
   {
    "duration": 13,
    "start_time": "2023-04-13T18:43:13.728Z"
   },
   {
    "duration": 23,
    "start_time": "2023-04-13T18:43:13.744Z"
   },
   {
    "duration": 195,
    "start_time": "2023-04-13T18:43:13.769Z"
   },
   {
    "duration": 42,
    "start_time": "2023-04-13T18:43:13.966Z"
   },
   {
    "duration": 12,
    "start_time": "2023-04-13T18:43:14.011Z"
   },
   {
    "duration": 42,
    "start_time": "2023-04-13T18:43:14.024Z"
   },
   {
    "duration": 348,
    "start_time": "2023-04-13T18:43:14.068Z"
   },
   {
    "duration": 5,
    "start_time": "2023-04-13T18:43:14.418Z"
   },
   {
    "duration": 16,
    "start_time": "2023-04-13T18:43:14.425Z"
   },
   {
    "duration": 4,
    "start_time": "2023-04-13T18:43:14.443Z"
   },
   {
    "duration": 362,
    "start_time": "2023-04-13T18:43:14.449Z"
   },
   {
    "duration": 237,
    "start_time": "2023-04-13T18:43:14.812Z"
   },
   {
    "duration": 317,
    "start_time": "2023-04-13T18:43:15.051Z"
   },
   {
    "duration": 300,
    "start_time": "2023-04-13T18:43:15.370Z"
   },
   {
    "duration": 391,
    "start_time": "2023-04-13T18:43:15.672Z"
   },
   {
    "duration": 159,
    "start_time": "2023-04-13T18:43:16.066Z"
   },
   {
    "duration": 152,
    "start_time": "2023-04-13T18:43:16.227Z"
   },
   {
    "duration": 15,
    "start_time": "2023-04-13T18:43:16.381Z"
   },
   {
    "duration": 10,
    "start_time": "2023-04-13T18:43:16.398Z"
   },
   {
    "duration": 367,
    "start_time": "2023-04-13T18:43:16.414Z"
   },
   {
    "duration": 204,
    "start_time": "2023-04-13T18:43:16.782Z"
   },
   {
    "duration": 20,
    "start_time": "2023-04-13T18:43:16.988Z"
   },
   {
    "duration": 5,
    "start_time": "2023-04-13T18:43:17.010Z"
   },
   {
    "duration": 239,
    "start_time": "2023-04-13T18:43:17.016Z"
   },
   {
    "duration": 53,
    "start_time": "2023-04-13T18:43:17.257Z"
   },
   {
    "duration": 11,
    "start_time": "2023-04-13T18:43:17.313Z"
   },
   {
    "duration": 38,
    "start_time": "2023-04-13T18:43:17.326Z"
   },
   {
    "duration": 41,
    "start_time": "2023-04-13T18:43:17.367Z"
   }
  ],
  "kernelspec": {
   "display_name": "Python 3 (ipykernel)",
   "language": "python",
   "name": "python3"
  },
  "language_info": {
   "codemirror_mode": {
    "name": "ipython",
    "version": 3
   },
   "file_extension": ".py",
   "mimetype": "text/x-python",
   "name": "python",
   "nbconvert_exporter": "python",
   "pygments_lexer": "ipython3",
   "version": "3.9.7"
  },
  "toc": {
   "base_numbering": 1,
   "nav_menu": {
    "height": "87px",
    "width": "229px"
   },
   "number_sections": true,
   "sideBar": true,
   "skip_h1_title": true,
   "title_cell": "Table of Contents",
   "title_sidebar": "Contents",
   "toc_cell": false,
   "toc_position": {},
   "toc_section_display": true,
   "toc_window_display": true
  }
 },
 "nbformat": 4,
 "nbformat_minor": 2
}

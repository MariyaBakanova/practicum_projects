{
 "cells": [
  {
   "cell_type": "markdown",
   "metadata": {},
   "source": [
    "# Банки - Анализ оттока клиентов"
   ]
  },
  {
   "cell_type": "markdown",
   "metadata": {},
   "source": [
    "### Описание проекта"
   ]
  },
  {
   "cell_type": "markdown",
   "metadata": {},
   "source": [
    "Банк «Метанпром» располагается в Ярославле и областных городах: Ростов Великий и Рыбинск. В последнее время в банке очень сильно повысился отток клиентов, это становится критичной проблемой, которая угрожает существованию банка. \n",
    "\n",
    "На данный момент отделу маркетинга требуется максимально точная информация о сегментации клиентов банка. Результаты планируют использовать для того, чтобы зачсет маркетингового воздействия на эти сегменты уменьшить отток клиентов. \n",
    "\n",
    "Цель: Проанализировать клиентов банка и выделить сегменты клиентов, которые склонны уходить из банка\n",
    "\n",
    "Задачи: \n",
    "\n",
    "- Провести исследовательский анализ данных;\n",
    "- Выделить портреты клиентов, которые склонны уходить из банка;\n",
    "- Сформулировать и проверить статистические гипотезы."
   ]
  },
  {
   "cell_type": "markdown",
   "metadata": {},
   "source": [
    "### Описание данных "
   ]
  },
  {
   "cell_type": "markdown",
   "metadata": {},
   "source": [
    "*userid* — идентификатор пользователя,\n",
    "\n",
    "*score* — баллы кредитного скоринга,\n",
    "\n",
    "*city* — город,\n",
    "\n",
    "*gender* — пол,\n",
    "\n",
    "*age* — возраст,\n",
    "\n",
    "*equity* — приблизительная оценка собственности клиента,\n",
    "\n",
    "*balance* — баланс на счёте,\n",
    "\n",
    "*products* — количество продуктов, которыми пользуется клиент,\n",
    "\n",
    "*credit_card* — есть ли кредитная карта,\n",
    "\n",
    "*last_activity* — был ли клиент активен последнее время,\n",
    "\n",
    "*est_salary* — заработная плата клиента\n",
    "\n",
    "*churn* — уходит или нет."
   ]
  },
  {
   "cell_type": "markdown",
   "metadata": {},
   "source": [
    "## Загрузка данных и изучение общей информации"
   ]
  },
  {
   "cell_type": "code",
   "execution_count": 1,
   "metadata": {},
   "outputs": [],
   "source": [
    "#Импортирую необходимые для работы билиоетки\n",
    "\n",
    "import pandas as pd\n",
    "import numpy as np\n",
    "import matplotlib.pyplot as plt\n",
    "import seaborn as sns\n",
    "from plotly import graph_objects as go \n",
    "from scipy import stats as st\n",
    "\n",
    "import warnings\n",
    "warnings.filterwarnings('ignore')"
   ]
  },
  {
   "cell_type": "code",
   "execution_count": 2,
   "metadata": {},
   "outputs": [],
   "source": [
    "#Чтение файла bank_scrooge.csv с данными и сохранение его в переменную\n",
    "path = \"https://drive.google.com/uc?export=download&id=1-U61mhTz_N1ARjy2XSAZ7IlQqGjeqP0F\" \n",
    "df = pd.read_csv(path)"
   ]
  },
  {
   "cell_type": "code",
   "execution_count": 3,
   "metadata": {},
   "outputs": [
    {
     "data": {
      "text/html": [
       "<div>\n",
       "<style scoped>\n",
       "    .dataframe tbody tr th:only-of-type {\n",
       "        vertical-align: middle;\n",
       "    }\n",
       "\n",
       "    .dataframe tbody tr th {\n",
       "        vertical-align: top;\n",
       "    }\n",
       "\n",
       "    .dataframe thead th {\n",
       "        text-align: right;\n",
       "    }\n",
       "</style>\n",
       "<table border=\"1\" class=\"dataframe\">\n",
       "  <thead>\n",
       "    <tr style=\"text-align: right;\">\n",
       "      <th></th>\n",
       "      <th>USERID</th>\n",
       "      <th>score</th>\n",
       "      <th>city</th>\n",
       "      <th>gender</th>\n",
       "      <th>age</th>\n",
       "      <th>equity</th>\n",
       "      <th>balance</th>\n",
       "      <th>products</th>\n",
       "      <th>credit_card</th>\n",
       "      <th>last_activity</th>\n",
       "      <th>EST_SALARY</th>\n",
       "      <th>churn</th>\n",
       "    </tr>\n",
       "  </thead>\n",
       "  <tbody>\n",
       "    <tr>\n",
       "      <th>0</th>\n",
       "      <td>183012</td>\n",
       "      <td>850.0</td>\n",
       "      <td>Рыбинск</td>\n",
       "      <td>Ж</td>\n",
       "      <td>25.0</td>\n",
       "      <td>1</td>\n",
       "      <td>59214.82</td>\n",
       "      <td>2</td>\n",
       "      <td>0</td>\n",
       "      <td>1</td>\n",
       "      <td>75719.14</td>\n",
       "      <td>1</td>\n",
       "    </tr>\n",
       "    <tr>\n",
       "      <th>1</th>\n",
       "      <td>146556</td>\n",
       "      <td>861.0</td>\n",
       "      <td>Рыбинск</td>\n",
       "      <td>Ж</td>\n",
       "      <td>37.0</td>\n",
       "      <td>5</td>\n",
       "      <td>850594.33</td>\n",
       "      <td>3</td>\n",
       "      <td>1</td>\n",
       "      <td>0</td>\n",
       "      <td>86621.77</td>\n",
       "      <td>0</td>\n",
       "    </tr>\n",
       "    <tr>\n",
       "      <th>2</th>\n",
       "      <td>120722</td>\n",
       "      <td>892.0</td>\n",
       "      <td>Рыбинск</td>\n",
       "      <td>Ж</td>\n",
       "      <td>30.0</td>\n",
       "      <td>0</td>\n",
       "      <td>NaN</td>\n",
       "      <td>1</td>\n",
       "      <td>1</td>\n",
       "      <td>1</td>\n",
       "      <td>107683.34</td>\n",
       "      <td>0</td>\n",
       "    </tr>\n",
       "    <tr>\n",
       "      <th>3</th>\n",
       "      <td>225363</td>\n",
       "      <td>866.0</td>\n",
       "      <td>Ярославль</td>\n",
       "      <td>Ж</td>\n",
       "      <td>51.0</td>\n",
       "      <td>5</td>\n",
       "      <td>1524746.26</td>\n",
       "      <td>2</td>\n",
       "      <td>0</td>\n",
       "      <td>1</td>\n",
       "      <td>174423.53</td>\n",
       "      <td>1</td>\n",
       "    </tr>\n",
       "    <tr>\n",
       "      <th>4</th>\n",
       "      <td>157978</td>\n",
       "      <td>730.0</td>\n",
       "      <td>Ярославль</td>\n",
       "      <td>М</td>\n",
       "      <td>34.0</td>\n",
       "      <td>5</td>\n",
       "      <td>174.00</td>\n",
       "      <td>1</td>\n",
       "      <td>1</td>\n",
       "      <td>0</td>\n",
       "      <td>67353.16</td>\n",
       "      <td>1</td>\n",
       "    </tr>\n",
       "    <tr>\n",
       "      <th>5</th>\n",
       "      <td>202305</td>\n",
       "      <td>856.0</td>\n",
       "      <td>Рыбинск</td>\n",
       "      <td>М</td>\n",
       "      <td>56.0</td>\n",
       "      <td>4</td>\n",
       "      <td>863687.24</td>\n",
       "      <td>3</td>\n",
       "      <td>1</td>\n",
       "      <td>0</td>\n",
       "      <td>156619.80</td>\n",
       "      <td>0</td>\n",
       "    </tr>\n",
       "    <tr>\n",
       "      <th>6</th>\n",
       "      <td>177259</td>\n",
       "      <td>807.0</td>\n",
       "      <td>Ярославль</td>\n",
       "      <td>Ж</td>\n",
       "      <td>39.0</td>\n",
       "      <td>3</td>\n",
       "      <td>405042.44</td>\n",
       "      <td>3</td>\n",
       "      <td>0</td>\n",
       "      <td>1</td>\n",
       "      <td>103838.32</td>\n",
       "      <td>0</td>\n",
       "    </tr>\n",
       "    <tr>\n",
       "      <th>7</th>\n",
       "      <td>218868</td>\n",
       "      <td>825.0</td>\n",
       "      <td>Ярославль</td>\n",
       "      <td>Ж</td>\n",
       "      <td>38.0</td>\n",
       "      <td>4</td>\n",
       "      <td>458145.40</td>\n",
       "      <td>2</td>\n",
       "      <td>1</td>\n",
       "      <td>1</td>\n",
       "      <td>68085.48</td>\n",
       "      <td>0</td>\n",
       "    </tr>\n",
       "    <tr>\n",
       "      <th>8</th>\n",
       "      <td>211686</td>\n",
       "      <td>923.0</td>\n",
       "      <td>Ярославль</td>\n",
       "      <td>М</td>\n",
       "      <td>54.0</td>\n",
       "      <td>5</td>\n",
       "      <td>1206337.87</td>\n",
       "      <td>2</td>\n",
       "      <td>1</td>\n",
       "      <td>0</td>\n",
       "      <td>155371.79</td>\n",
       "      <td>0</td>\n",
       "    </tr>\n",
       "    <tr>\n",
       "      <th>9</th>\n",
       "      <td>133130</td>\n",
       "      <td>906.0</td>\n",
       "      <td>Ярославль</td>\n",
       "      <td>Ж</td>\n",
       "      <td>67.0</td>\n",
       "      <td>0</td>\n",
       "      <td>NaN</td>\n",
       "      <td>1</td>\n",
       "      <td>0</td>\n",
       "      <td>1</td>\n",
       "      <td>238055.53</td>\n",
       "      <td>0</td>\n",
       "    </tr>\n",
       "  </tbody>\n",
       "</table>\n",
       "</div>"
      ],
      "text/plain": [
       "   USERID  score       city gender   age  equity     balance  products  \\\n",
       "0  183012  850.0    Рыбинск      Ж  25.0       1    59214.82         2   \n",
       "1  146556  861.0    Рыбинск      Ж  37.0       5   850594.33         3   \n",
       "2  120722  892.0    Рыбинск      Ж  30.0       0         NaN         1   \n",
       "3  225363  866.0  Ярославль      Ж  51.0       5  1524746.26         2   \n",
       "4  157978  730.0  Ярославль      М  34.0       5      174.00         1   \n",
       "5  202305  856.0    Рыбинск      М  56.0       4   863687.24         3   \n",
       "6  177259  807.0  Ярославль      Ж  39.0       3   405042.44         3   \n",
       "7  218868  825.0  Ярославль      Ж  38.0       4   458145.40         2   \n",
       "8  211686  923.0  Ярославль      М  54.0       5  1206337.87         2   \n",
       "9  133130  906.0  Ярославль      Ж  67.0       0         NaN         1   \n",
       "\n",
       "   credit_card  last_activity  EST_SALARY  churn  \n",
       "0            0              1    75719.14      1  \n",
       "1            1              0    86621.77      0  \n",
       "2            1              1   107683.34      0  \n",
       "3            0              1   174423.53      1  \n",
       "4            1              0    67353.16      1  \n",
       "5            1              0   156619.80      0  \n",
       "6            0              1   103838.32      0  \n",
       "7            1              1    68085.48      0  \n",
       "8            1              0   155371.79      0  \n",
       "9            0              1   238055.53      0  "
      ]
     },
     "metadata": {},
     "output_type": "display_data"
    },
    {
     "name": "stdout",
     "output_type": "stream",
     "text": [
      "<class 'pandas.core.frame.DataFrame'>\n",
      "RangeIndex: 10000 entries, 0 to 9999\n",
      "Data columns (total 12 columns):\n",
      " #   Column         Non-Null Count  Dtype  \n",
      "---  ------         --------------  -----  \n",
      " 0   USERID         10000 non-null  int64  \n",
      " 1   score          10000 non-null  float64\n",
      " 2   city           10000 non-null  object \n",
      " 3   gender         10000 non-null  object \n",
      " 4   age            9974 non-null   float64\n",
      " 5   equity         10000 non-null  int64  \n",
      " 6   balance        7705 non-null   float64\n",
      " 7   products       10000 non-null  int64  \n",
      " 8   credit_card    10000 non-null  int64  \n",
      " 9   last_activity  10000 non-null  int64  \n",
      " 10  EST_SALARY     10000 non-null  float64\n",
      " 11  churn          10000 non-null  int64  \n",
      "dtypes: float64(4), int64(6), object(2)\n",
      "memory usage: 937.6+ KB\n"
     ]
    },
    {
     "data": {
      "text/plain": [
       "None"
      ]
     },
     "metadata": {},
     "output_type": "display_data"
    },
    {
     "name": "stdout",
     "output_type": "stream",
     "text": [
      "Количество пропусков: USERID              0\n",
      "score               0\n",
      "city                0\n",
      "gender              0\n",
      "age                26\n",
      "equity              0\n",
      "balance          2295\n",
      "products            0\n",
      "credit_card         0\n",
      "last_activity       0\n",
      "EST_SALARY          0\n",
      "churn               0\n",
      "dtype: int64\n",
      "Количество дубликатов: 0\n"
     ]
    }
   ],
   "source": [
    "#Моя стандартная функция для ознакомления с данными\n",
    "def info_data(data):\n",
    "    display(data.head(10)) #Выведет первые 10 строк датафрейма\n",
    "    display(data.info()) #Выведет общую информацию о таблице\n",
    "    print('Количество пропусков:', data.isnull().sum()) #Покажет количество пропусков\n",
    "    print('Количество дубликатов:',data.duplicated().sum()) #Покажет количество будликатов соответственно\n",
    "    \n",
    "info_data(df)"
   ]
  },
  {
   "cell_type": "markdown",
   "metadata": {},
   "source": [
    "В датасете 10 000 строк, есть 1 явный дубликат т.е. после удаления дубликата будет доступна информация о 9999 клиентах. \n",
    "\n",
    "Всего у нас 12 столбцов, в которых содержится информация о клиентах. Не все названия столбцов корректные: например, USERID, EST_SALARY необходимо будет их переименовать, привести к нижнему регистру, записать по правилам.  \n",
    "\n",
    "Пропуски есть только в столбце balance - это баланс на счете. \n",
    "\n",
    "Кажется, что в столбце score в данных после запятой содержатся только нули, если это так (нужно проверить), то эти данные можно привести к типу int64, убрать ненужные хвостики. "
   ]
  },
  {
   "cell_type": "markdown",
   "metadata": {},
   "source": [
    "## Предобработка данных"
   ]
  },
  {
   "cell_type": "markdown",
   "metadata": {},
   "source": [
    "### Переименование столбцов"
   ]
  },
  {
   "cell_type": "markdown",
   "metadata": {},
   "source": [
    "Как я уже ранее выяснила, некорректные названия у столбцов USERID, EST_SALARY. Запишу их в нижнем регистре с применением змеиного"
   ]
  },
  {
   "cell_type": "code",
   "execution_count": 4,
   "metadata": {
    "scrolled": true
   },
   "outputs": [
    {
     "data": {
      "text/html": [
       "<div>\n",
       "<style scoped>\n",
       "    .dataframe tbody tr th:only-of-type {\n",
       "        vertical-align: middle;\n",
       "    }\n",
       "\n",
       "    .dataframe tbody tr th {\n",
       "        vertical-align: top;\n",
       "    }\n",
       "\n",
       "    .dataframe thead th {\n",
       "        text-align: right;\n",
       "    }\n",
       "</style>\n",
       "<table border=\"1\" class=\"dataframe\">\n",
       "  <thead>\n",
       "    <tr style=\"text-align: right;\">\n",
       "      <th></th>\n",
       "      <th>user_id</th>\n",
       "      <th>score</th>\n",
       "      <th>city</th>\n",
       "      <th>gender</th>\n",
       "      <th>age</th>\n",
       "      <th>equity</th>\n",
       "      <th>balance</th>\n",
       "      <th>products</th>\n",
       "      <th>credit_card</th>\n",
       "      <th>last_activity</th>\n",
       "      <th>est_salary</th>\n",
       "      <th>churn</th>\n",
       "    </tr>\n",
       "  </thead>\n",
       "  <tbody>\n",
       "    <tr>\n",
       "      <th>0</th>\n",
       "      <td>183012</td>\n",
       "      <td>850.0</td>\n",
       "      <td>Рыбинск</td>\n",
       "      <td>Ж</td>\n",
       "      <td>25.0</td>\n",
       "      <td>1</td>\n",
       "      <td>59214.82</td>\n",
       "      <td>2</td>\n",
       "      <td>0</td>\n",
       "      <td>1</td>\n",
       "      <td>75719.14</td>\n",
       "      <td>1</td>\n",
       "    </tr>\n",
       "    <tr>\n",
       "      <th>1</th>\n",
       "      <td>146556</td>\n",
       "      <td>861.0</td>\n",
       "      <td>Рыбинск</td>\n",
       "      <td>Ж</td>\n",
       "      <td>37.0</td>\n",
       "      <td>5</td>\n",
       "      <td>850594.33</td>\n",
       "      <td>3</td>\n",
       "      <td>1</td>\n",
       "      <td>0</td>\n",
       "      <td>86621.77</td>\n",
       "      <td>0</td>\n",
       "    </tr>\n",
       "    <tr>\n",
       "      <th>2</th>\n",
       "      <td>120722</td>\n",
       "      <td>892.0</td>\n",
       "      <td>Рыбинск</td>\n",
       "      <td>Ж</td>\n",
       "      <td>30.0</td>\n",
       "      <td>0</td>\n",
       "      <td>NaN</td>\n",
       "      <td>1</td>\n",
       "      <td>1</td>\n",
       "      <td>1</td>\n",
       "      <td>107683.34</td>\n",
       "      <td>0</td>\n",
       "    </tr>\n",
       "    <tr>\n",
       "      <th>3</th>\n",
       "      <td>225363</td>\n",
       "      <td>866.0</td>\n",
       "      <td>Ярославль</td>\n",
       "      <td>Ж</td>\n",
       "      <td>51.0</td>\n",
       "      <td>5</td>\n",
       "      <td>1524746.26</td>\n",
       "      <td>2</td>\n",
       "      <td>0</td>\n",
       "      <td>1</td>\n",
       "      <td>174423.53</td>\n",
       "      <td>1</td>\n",
       "    </tr>\n",
       "    <tr>\n",
       "      <th>4</th>\n",
       "      <td>157978</td>\n",
       "      <td>730.0</td>\n",
       "      <td>Ярославль</td>\n",
       "      <td>М</td>\n",
       "      <td>34.0</td>\n",
       "      <td>5</td>\n",
       "      <td>174.00</td>\n",
       "      <td>1</td>\n",
       "      <td>1</td>\n",
       "      <td>0</td>\n",
       "      <td>67353.16</td>\n",
       "      <td>1</td>\n",
       "    </tr>\n",
       "  </tbody>\n",
       "</table>\n",
       "</div>"
      ],
      "text/plain": [
       "   user_id  score       city gender   age  equity     balance  products  \\\n",
       "0   183012  850.0    Рыбинск      Ж  25.0       1    59214.82         2   \n",
       "1   146556  861.0    Рыбинск      Ж  37.0       5   850594.33         3   \n",
       "2   120722  892.0    Рыбинск      Ж  30.0       0         NaN         1   \n",
       "3   225363  866.0  Ярославль      Ж  51.0       5  1524746.26         2   \n",
       "4   157978  730.0  Ярославль      М  34.0       5      174.00         1   \n",
       "\n",
       "   credit_card  last_activity  est_salary  churn  \n",
       "0            0              1    75719.14      1  \n",
       "1            1              0    86621.77      0  \n",
       "2            1              1   107683.34      0  \n",
       "3            0              1   174423.53      1  \n",
       "4            1              0    67353.16      1  "
      ]
     },
     "execution_count": 4,
     "metadata": {},
     "output_type": "execute_result"
    }
   ],
   "source": [
    "#Переименовываю\n",
    "df = df.rename (columns = {'USERID':'user_id', 'EST_SALARY':'est_salary'})\n",
    "df.head()"
   ]
  },
  {
   "cell_type": "markdown",
   "metadata": {},
   "source": [
    "### Удаление дубликатов"
   ]
  },
  {
   "cell_type": "code",
   "execution_count": 5,
   "metadata": {},
   "outputs": [
    {
     "name": "stdout",
     "output_type": "stream",
     "text": [
      "Количество дубликатов: 0\n"
     ]
    }
   ],
   "source": [
    "#Удаляю явный дубликат и проверяю\n",
    "df = df.drop_duplicates()\n",
    "print('Количество дубликатов:', df.duplicated().sum())"
   ]
  },
  {
   "cell_type": "markdown",
   "metadata": {},
   "source": [
    "Также, думаю, что нужно проверить на дубликаты отдельно столбец user_id, т.к. он должен содержать только уникальные значение без повторов:"
   ]
  },
  {
   "cell_type": "code",
   "execution_count": 6,
   "metadata": {},
   "outputs": [
    {
     "data": {
      "text/plain": [
       "73"
      ]
     },
     "execution_count": 6,
     "metadata": {},
     "output_type": "execute_result"
    }
   ],
   "source": [
    "#Проверяю\n",
    "df.duplicated(subset = ['user_id']).sum()"
   ]
  },
  {
   "cell_type": "markdown",
   "metadata": {},
   "source": [
    "Т.е., у нас также есть неявные дубликаты - это пользователи, id которых задвоились, но, видимо, отсальная информация отличается. \n",
    "Считаю, что эти дубли тоже нужно удалить, т.к. это совсем небольшое количество от общего числа пользователей. "
   ]
  },
  {
   "cell_type": "code",
   "execution_count": 7,
   "metadata": {},
   "outputs": [
    {
     "name": "stdout",
     "output_type": "stream",
     "text": [
      "<class 'pandas.core.frame.DataFrame'>\n",
      "Int64Index: 9927 entries, 0 to 9999\n",
      "Data columns (total 12 columns):\n",
      " #   Column         Non-Null Count  Dtype  \n",
      "---  ------         --------------  -----  \n",
      " 0   user_id        9927 non-null   int64  \n",
      " 1   score          9927 non-null   float64\n",
      " 2   city           9927 non-null   object \n",
      " 3   gender         9927 non-null   object \n",
      " 4   age            9923 non-null   float64\n",
      " 5   equity         9927 non-null   int64  \n",
      " 6   balance        7667 non-null   float64\n",
      " 7   products       9927 non-null   int64  \n",
      " 8   credit_card    9927 non-null   int64  \n",
      " 9   last_activity  9927 non-null   int64  \n",
      " 10  est_salary     9927 non-null   float64\n",
      " 11  churn          9927 non-null   int64  \n",
      "dtypes: float64(4), int64(6), object(2)\n",
      "memory usage: 1008.2+ KB\n"
     ]
    }
   ],
   "source": [
    "#Удалю и проверю\n",
    "df = df.drop_duplicates(subset = ['user_id'])\n",
    "df.info()"
   ]
  },
  {
   "cell_type": "markdown",
   "metadata": {},
   "source": [
    "Таким образом, после удаления явных и неявных дубликатов в датасете осталась информация о 9927 клиентах банка."
   ]
  },
  {
   "cell_type": "markdown",
   "metadata": {},
   "source": [
    "### Обработка пропущенных значений"
   ]
  },
  {
   "cell_type": "markdown",
   "metadata": {},
   "source": [
    "Пропущенные значения видим только в столбце balance, в нем содержится информация о балансе денежных средств на счете. \n",
    "Удалять их точно некорректно, т.к. пропусков достаточно много и это серьезно повлияет на результаты исследования.\n",
    "\n",
    "Поэтому попробую посмотреть на этих клиентов в разрезе других показателей, возможно, получится найти какие-то закономерности, которые помогут решить, нужно ли заполнить или оставить пропуски без изменений. "
   ]
  },
  {
   "cell_type": "code",
   "execution_count": 8,
   "metadata": {},
   "outputs": [
    {
     "data": {
      "text/html": [
       "<div>\n",
       "<style scoped>\n",
       "    .dataframe tbody tr th:only-of-type {\n",
       "        vertical-align: middle;\n",
       "    }\n",
       "\n",
       "    .dataframe tbody tr th {\n",
       "        vertical-align: top;\n",
       "    }\n",
       "\n",
       "    .dataframe thead th {\n",
       "        text-align: right;\n",
       "    }\n",
       "</style>\n",
       "<table border=\"1\" class=\"dataframe\">\n",
       "  <thead>\n",
       "    <tr style=\"text-align: right;\">\n",
       "      <th></th>\n",
       "      <th>user_id</th>\n",
       "      <th>score</th>\n",
       "      <th>city</th>\n",
       "      <th>gender</th>\n",
       "      <th>age</th>\n",
       "      <th>equity</th>\n",
       "      <th>balance</th>\n",
       "      <th>products</th>\n",
       "      <th>credit_card</th>\n",
       "      <th>last_activity</th>\n",
       "      <th>est_salary</th>\n",
       "      <th>churn</th>\n",
       "    </tr>\n",
       "  </thead>\n",
       "  <tbody>\n",
       "    <tr>\n",
       "      <th>count</th>\n",
       "      <td>9927.000000</td>\n",
       "      <td>9927.000000</td>\n",
       "      <td>9927</td>\n",
       "      <td>9927</td>\n",
       "      <td>9923.000000</td>\n",
       "      <td>9927.000000</td>\n",
       "      <td>7.667000e+03</td>\n",
       "      <td>9927.000000</td>\n",
       "      <td>9927.000000</td>\n",
       "      <td>9927.000000</td>\n",
       "      <td>9.927000e+03</td>\n",
       "      <td>9927.000000</td>\n",
       "    </tr>\n",
       "    <tr>\n",
       "      <th>unique</th>\n",
       "      <td>NaN</td>\n",
       "      <td>NaN</td>\n",
       "      <td>3</td>\n",
       "      <td>2</td>\n",
       "      <td>NaN</td>\n",
       "      <td>NaN</td>\n",
       "      <td>NaN</td>\n",
       "      <td>NaN</td>\n",
       "      <td>NaN</td>\n",
       "      <td>NaN</td>\n",
       "      <td>NaN</td>\n",
       "      <td>NaN</td>\n",
       "    </tr>\n",
       "    <tr>\n",
       "      <th>top</th>\n",
       "      <td>NaN</td>\n",
       "      <td>NaN</td>\n",
       "      <td>Ярославль</td>\n",
       "      <td>М</td>\n",
       "      <td>NaN</td>\n",
       "      <td>NaN</td>\n",
       "      <td>NaN</td>\n",
       "      <td>NaN</td>\n",
       "      <td>NaN</td>\n",
       "      <td>NaN</td>\n",
       "      <td>NaN</td>\n",
       "      <td>NaN</td>\n",
       "    </tr>\n",
       "    <tr>\n",
       "      <th>freq</th>\n",
       "      <td>NaN</td>\n",
       "      <td>NaN</td>\n",
       "      <td>5856</td>\n",
       "      <td>4972</td>\n",
       "      <td>NaN</td>\n",
       "      <td>NaN</td>\n",
       "      <td>NaN</td>\n",
       "      <td>NaN</td>\n",
       "      <td>NaN</td>\n",
       "      <td>NaN</td>\n",
       "      <td>NaN</td>\n",
       "      <td>NaN</td>\n",
       "    </tr>\n",
       "    <tr>\n",
       "      <th>mean</th>\n",
       "      <td>171739.076257</td>\n",
       "      <td>848.735973</td>\n",
       "      <td>NaN</td>\n",
       "      <td>NaN</td>\n",
       "      <td>42.729215</td>\n",
       "      <td>2.634633</td>\n",
       "      <td>8.289016e+05</td>\n",
       "      <td>1.871562</td>\n",
       "      <td>0.679863</td>\n",
       "      <td>0.523522</td>\n",
       "      <td>1.478914e+05</td>\n",
       "      <td>0.183338</td>\n",
       "    </tr>\n",
       "    <tr>\n",
       "      <th>std</th>\n",
       "      <td>33696.488963</td>\n",
       "      <td>65.392866</td>\n",
       "      <td>NaN</td>\n",
       "      <td>NaN</td>\n",
       "      <td>12.177008</td>\n",
       "      <td>1.979286</td>\n",
       "      <td>1.985272e+06</td>\n",
       "      <td>0.792955</td>\n",
       "      <td>0.466552</td>\n",
       "      <td>0.499472</td>\n",
       "      <td>1.393658e+05</td>\n",
       "      <td>0.386963</td>\n",
       "    </tr>\n",
       "    <tr>\n",
       "      <th>min</th>\n",
       "      <td>94561.000000</td>\n",
       "      <td>642.000000</td>\n",
       "      <td>NaN</td>\n",
       "      <td>NaN</td>\n",
       "      <td>18.000000</td>\n",
       "      <td>0.000000</td>\n",
       "      <td>0.000000e+00</td>\n",
       "      <td>0.000000</td>\n",
       "      <td>0.000000</td>\n",
       "      <td>0.000000</td>\n",
       "      <td>2.546300e+03</td>\n",
       "      <td>0.000000</td>\n",
       "    </tr>\n",
       "    <tr>\n",
       "      <th>25%</th>\n",
       "      <td>142720.000000</td>\n",
       "      <td>802.000000</td>\n",
       "      <td>NaN</td>\n",
       "      <td>NaN</td>\n",
       "      <td>33.000000</td>\n",
       "      <td>0.000000</td>\n",
       "      <td>2.952611e+05</td>\n",
       "      <td>1.000000</td>\n",
       "      <td>0.000000</td>\n",
       "      <td>0.000000</td>\n",
       "      <td>7.525178e+04</td>\n",
       "      <td>0.000000</td>\n",
       "    </tr>\n",
       "    <tr>\n",
       "      <th>50%</th>\n",
       "      <td>172651.000000</td>\n",
       "      <td>853.000000</td>\n",
       "      <td>NaN</td>\n",
       "      <td>NaN</td>\n",
       "      <td>40.000000</td>\n",
       "      <td>3.000000</td>\n",
       "      <td>5.248943e+05</td>\n",
       "      <td>2.000000</td>\n",
       "      <td>1.000000</td>\n",
       "      <td>1.000000</td>\n",
       "      <td>1.197114e+05</td>\n",
       "      <td>0.000000</td>\n",
       "    </tr>\n",
       "    <tr>\n",
       "      <th>75%</th>\n",
       "      <td>201160.500000</td>\n",
       "      <td>900.000000</td>\n",
       "      <td>NaN</td>\n",
       "      <td>NaN</td>\n",
       "      <td>51.000000</td>\n",
       "      <td>4.000000</td>\n",
       "      <td>9.808015e+05</td>\n",
       "      <td>2.000000</td>\n",
       "      <td>1.000000</td>\n",
       "      <td>1.000000</td>\n",
       "      <td>1.746733e+05</td>\n",
       "      <td>0.000000</td>\n",
       "    </tr>\n",
       "    <tr>\n",
       "      <th>max</th>\n",
       "      <td>229145.000000</td>\n",
       "      <td>1000.000000</td>\n",
       "      <td>NaN</td>\n",
       "      <td>NaN</td>\n",
       "      <td>86.000000</td>\n",
       "      <td>9.000000</td>\n",
       "      <td>1.191136e+08</td>\n",
       "      <td>5.000000</td>\n",
       "      <td>1.000000</td>\n",
       "      <td>1.000000</td>\n",
       "      <td>1.395064e+06</td>\n",
       "      <td>1.000000</td>\n",
       "    </tr>\n",
       "  </tbody>\n",
       "</table>\n",
       "</div>"
      ],
      "text/plain": [
       "              user_id        score       city gender          age  \\\n",
       "count     9927.000000  9927.000000       9927   9927  9923.000000   \n",
       "unique            NaN          NaN          3      2          NaN   \n",
       "top               NaN          NaN  Ярославль      М          NaN   \n",
       "freq              NaN          NaN       5856   4972          NaN   \n",
       "mean    171739.076257   848.735973        NaN    NaN    42.729215   \n",
       "std      33696.488963    65.392866        NaN    NaN    12.177008   \n",
       "min      94561.000000   642.000000        NaN    NaN    18.000000   \n",
       "25%     142720.000000   802.000000        NaN    NaN    33.000000   \n",
       "50%     172651.000000   853.000000        NaN    NaN    40.000000   \n",
       "75%     201160.500000   900.000000        NaN    NaN    51.000000   \n",
       "max     229145.000000  1000.000000        NaN    NaN    86.000000   \n",
       "\n",
       "             equity       balance     products  credit_card  last_activity  \\\n",
       "count   9927.000000  7.667000e+03  9927.000000  9927.000000    9927.000000   \n",
       "unique          NaN           NaN          NaN          NaN            NaN   \n",
       "top             NaN           NaN          NaN          NaN            NaN   \n",
       "freq            NaN           NaN          NaN          NaN            NaN   \n",
       "mean       2.634633  8.289016e+05     1.871562     0.679863       0.523522   \n",
       "std        1.979286  1.985272e+06     0.792955     0.466552       0.499472   \n",
       "min        0.000000  0.000000e+00     0.000000     0.000000       0.000000   \n",
       "25%        0.000000  2.952611e+05     1.000000     0.000000       0.000000   \n",
       "50%        3.000000  5.248943e+05     2.000000     1.000000       1.000000   \n",
       "75%        4.000000  9.808015e+05     2.000000     1.000000       1.000000   \n",
       "max        9.000000  1.191136e+08     5.000000     1.000000       1.000000   \n",
       "\n",
       "          est_salary        churn  \n",
       "count   9.927000e+03  9927.000000  \n",
       "unique           NaN          NaN  \n",
       "top              NaN          NaN  \n",
       "freq             NaN          NaN  \n",
       "mean    1.478914e+05     0.183338  \n",
       "std     1.393658e+05     0.386963  \n",
       "min     2.546300e+03     0.000000  \n",
       "25%     7.525178e+04     0.000000  \n",
       "50%     1.197114e+05     0.000000  \n",
       "75%     1.746733e+05     0.000000  \n",
       "max     1.395064e+06     1.000000  "
      ]
     },
     "execution_count": 8,
     "metadata": {},
     "output_type": "execute_result"
    }
   ],
   "source": [
    "#Просмотрю статистическую сводку по каждому столбцу с помощью метода describe()\n",
    "df.describe(include = \"all\")"
   ]
  },
  {
   "cell_type": "code",
   "execution_count": 9,
   "metadata": {
    "scrolled": true
   },
   "outputs": [
    {
     "data": {
      "text/html": [
       "<div>\n",
       "<style scoped>\n",
       "    .dataframe tbody tr th:only-of-type {\n",
       "        vertical-align: middle;\n",
       "    }\n",
       "\n",
       "    .dataframe tbody tr th {\n",
       "        vertical-align: top;\n",
       "    }\n",
       "\n",
       "    .dataframe thead th {\n",
       "        text-align: right;\n",
       "    }\n",
       "</style>\n",
       "<table border=\"1\" class=\"dataframe\">\n",
       "  <thead>\n",
       "    <tr style=\"text-align: right;\">\n",
       "      <th></th>\n",
       "      <th>user_id</th>\n",
       "      <th>score</th>\n",
       "      <th>city</th>\n",
       "      <th>gender</th>\n",
       "      <th>age</th>\n",
       "      <th>equity</th>\n",
       "      <th>balance</th>\n",
       "      <th>products</th>\n",
       "      <th>credit_card</th>\n",
       "      <th>last_activity</th>\n",
       "      <th>est_salary</th>\n",
       "      <th>churn</th>\n",
       "    </tr>\n",
       "  </thead>\n",
       "  <tbody>\n",
       "    <tr>\n",
       "      <th>count</th>\n",
       "      <td>2260.000000</td>\n",
       "      <td>2260.000000</td>\n",
       "      <td>2260</td>\n",
       "      <td>2260</td>\n",
       "      <td>2260.000000</td>\n",
       "      <td>2260.000000</td>\n",
       "      <td>0.0</td>\n",
       "      <td>2260.000000</td>\n",
       "      <td>2260.000000</td>\n",
       "      <td>2260.000000</td>\n",
       "      <td>2.260000e+03</td>\n",
       "      <td>2260.000000</td>\n",
       "    </tr>\n",
       "    <tr>\n",
       "      <th>unique</th>\n",
       "      <td>NaN</td>\n",
       "      <td>NaN</td>\n",
       "      <td>3</td>\n",
       "      <td>2</td>\n",
       "      <td>NaN</td>\n",
       "      <td>NaN</td>\n",
       "      <td>NaN</td>\n",
       "      <td>NaN</td>\n",
       "      <td>NaN</td>\n",
       "      <td>NaN</td>\n",
       "      <td>NaN</td>\n",
       "      <td>NaN</td>\n",
       "    </tr>\n",
       "    <tr>\n",
       "      <th>top</th>\n",
       "      <td>NaN</td>\n",
       "      <td>NaN</td>\n",
       "      <td>Ярославль</td>\n",
       "      <td>М</td>\n",
       "      <td>NaN</td>\n",
       "      <td>NaN</td>\n",
       "      <td>NaN</td>\n",
       "      <td>NaN</td>\n",
       "      <td>NaN</td>\n",
       "      <td>NaN</td>\n",
       "      <td>NaN</td>\n",
       "      <td>NaN</td>\n",
       "    </tr>\n",
       "    <tr>\n",
       "      <th>freq</th>\n",
       "      <td>NaN</td>\n",
       "      <td>NaN</td>\n",
       "      <td>1449</td>\n",
       "      <td>1263</td>\n",
       "      <td>NaN</td>\n",
       "      <td>NaN</td>\n",
       "      <td>NaN</td>\n",
       "      <td>NaN</td>\n",
       "      <td>NaN</td>\n",
       "      <td>NaN</td>\n",
       "      <td>NaN</td>\n",
       "      <td>NaN</td>\n",
       "    </tr>\n",
       "    <tr>\n",
       "      <th>mean</th>\n",
       "      <td>171975.568584</td>\n",
       "      <td>865.334956</td>\n",
       "      <td>NaN</td>\n",
       "      <td>NaN</td>\n",
       "      <td>42.125664</td>\n",
       "      <td>0.051770</td>\n",
       "      <td>NaN</td>\n",
       "      <td>1.161504</td>\n",
       "      <td>0.815487</td>\n",
       "      <td>0.549115</td>\n",
       "      <td>2.267006e+05</td>\n",
       "      <td>0.005752</td>\n",
       "    </tr>\n",
       "    <tr>\n",
       "      <th>std</th>\n",
       "      <td>33277.188448</td>\n",
       "      <td>89.669447</td>\n",
       "      <td>NaN</td>\n",
       "      <td>NaN</td>\n",
       "      <td>11.953138</td>\n",
       "      <td>0.227525</td>\n",
       "      <td>NaN</td>\n",
       "      <td>0.401442</td>\n",
       "      <td>0.387988</td>\n",
       "      <td>0.497692</td>\n",
       "      <td>1.999817e+05</td>\n",
       "      <td>0.075642</td>\n",
       "    </tr>\n",
       "    <tr>\n",
       "      <th>min</th>\n",
       "      <td>114182.000000</td>\n",
       "      <td>642.000000</td>\n",
       "      <td>NaN</td>\n",
       "      <td>NaN</td>\n",
       "      <td>18.000000</td>\n",
       "      <td>0.000000</td>\n",
       "      <td>NaN</td>\n",
       "      <td>0.000000</td>\n",
       "      <td>0.000000</td>\n",
       "      <td>0.000000</td>\n",
       "      <td>2.027403e+04</td>\n",
       "      <td>0.000000</td>\n",
       "    </tr>\n",
       "    <tr>\n",
       "      <th>25%</th>\n",
       "      <td>143067.000000</td>\n",
       "      <td>871.000000</td>\n",
       "      <td>NaN</td>\n",
       "      <td>NaN</td>\n",
       "      <td>33.000000</td>\n",
       "      <td>0.000000</td>\n",
       "      <td>NaN</td>\n",
       "      <td>1.000000</td>\n",
       "      <td>1.000000</td>\n",
       "      <td>0.000000</td>\n",
       "      <td>1.204570e+05</td>\n",
       "      <td>0.000000</td>\n",
       "    </tr>\n",
       "    <tr>\n",
       "      <th>50%</th>\n",
       "      <td>172498.500000</td>\n",
       "      <td>903.000000</td>\n",
       "      <td>NaN</td>\n",
       "      <td>NaN</td>\n",
       "      <td>40.000000</td>\n",
       "      <td>0.000000</td>\n",
       "      <td>NaN</td>\n",
       "      <td>1.000000</td>\n",
       "      <td>1.000000</td>\n",
       "      <td>1.000000</td>\n",
       "      <td>1.747554e+05</td>\n",
       "      <td>0.000000</td>\n",
       "    </tr>\n",
       "    <tr>\n",
       "      <th>75%</th>\n",
       "      <td>201354.250000</td>\n",
       "      <td>922.000000</td>\n",
       "      <td>NaN</td>\n",
       "      <td>NaN</td>\n",
       "      <td>49.000000</td>\n",
       "      <td>0.000000</td>\n",
       "      <td>NaN</td>\n",
       "      <td>1.000000</td>\n",
       "      <td>1.000000</td>\n",
       "      <td>1.000000</td>\n",
       "      <td>2.404518e+05</td>\n",
       "      <td>0.000000</td>\n",
       "    </tr>\n",
       "    <tr>\n",
       "      <th>max</th>\n",
       "      <td>229145.000000</td>\n",
       "      <td>990.000000</td>\n",
       "      <td>NaN</td>\n",
       "      <td>NaN</td>\n",
       "      <td>86.000000</td>\n",
       "      <td>3.000000</td>\n",
       "      <td>NaN</td>\n",
       "      <td>3.000000</td>\n",
       "      <td>1.000000</td>\n",
       "      <td>1.000000</td>\n",
       "      <td>1.333687e+06</td>\n",
       "      <td>1.000000</td>\n",
       "    </tr>\n",
       "  </tbody>\n",
       "</table>\n",
       "</div>"
      ],
      "text/plain": [
       "              user_id        score       city gender          age  \\\n",
       "count     2260.000000  2260.000000       2260   2260  2260.000000   \n",
       "unique            NaN          NaN          3      2          NaN   \n",
       "top               NaN          NaN  Ярославль      М          NaN   \n",
       "freq              NaN          NaN       1449   1263          NaN   \n",
       "mean    171975.568584   865.334956        NaN    NaN    42.125664   \n",
       "std      33277.188448    89.669447        NaN    NaN    11.953138   \n",
       "min     114182.000000   642.000000        NaN    NaN    18.000000   \n",
       "25%     143067.000000   871.000000        NaN    NaN    33.000000   \n",
       "50%     172498.500000   903.000000        NaN    NaN    40.000000   \n",
       "75%     201354.250000   922.000000        NaN    NaN    49.000000   \n",
       "max     229145.000000   990.000000        NaN    NaN    86.000000   \n",
       "\n",
       "             equity  balance     products  credit_card  last_activity  \\\n",
       "count   2260.000000      0.0  2260.000000  2260.000000    2260.000000   \n",
       "unique          NaN      NaN          NaN          NaN            NaN   \n",
       "top             NaN      NaN          NaN          NaN            NaN   \n",
       "freq            NaN      NaN          NaN          NaN            NaN   \n",
       "mean       0.051770      NaN     1.161504     0.815487       0.549115   \n",
       "std        0.227525      NaN     0.401442     0.387988       0.497692   \n",
       "min        0.000000      NaN     0.000000     0.000000       0.000000   \n",
       "25%        0.000000      NaN     1.000000     1.000000       0.000000   \n",
       "50%        0.000000      NaN     1.000000     1.000000       1.000000   \n",
       "75%        0.000000      NaN     1.000000     1.000000       1.000000   \n",
       "max        3.000000      NaN     3.000000     1.000000       1.000000   \n",
       "\n",
       "          est_salary        churn  \n",
       "count   2.260000e+03  2260.000000  \n",
       "unique           NaN          NaN  \n",
       "top              NaN          NaN  \n",
       "freq             NaN          NaN  \n",
       "mean    2.267006e+05     0.005752  \n",
       "std     1.999817e+05     0.075642  \n",
       "min     2.027403e+04     0.000000  \n",
       "25%     1.204570e+05     0.000000  \n",
       "50%     1.747554e+05     0.000000  \n",
       "75%     2.404518e+05     0.000000  \n",
       "max     1.333687e+06     1.000000  "
      ]
     },
     "execution_count": 9,
     "metadata": {},
     "output_type": "execute_result"
    }
   ],
   "source": [
    "#Просмотрю статистическую сводку по каждому столбцу с помощью метода describe() для клиентов, баланс которыхнеизвестен \n",
    "df[df['balance'].isna()].describe(include = \"all\")"
   ]
  },
  {
   "cell_type": "markdown",
   "metadata": {},
   "source": [
    "Какие можно сделать выводы:\n",
    "   \n",
    "    - Баллы кредитного скоринга практически не отличаются;\n",
    "    - Самое большое кличество клиентов находятся в Ярославле и в первом, и во втором случае;\n",
    "    - Мужчин больше, чем женщин в обоих случаях;\n",
    "    - Отличий по возврасту нет;\n",
    "    - Наличие кредитной карты, активность также практически не отличаются для все выборки и выборки клиентов с неизвестным балансом. \n",
    "\n",
    "    - Клиенты с неизвестным балансом реже являются собственниками недвижимости;\n",
    "    - Количество используемых продуктов банка среди них ниже; \n",
    "    - Зарплаты этой категории клиентов выше. "
   ]
  },
  {
   "cell_type": "markdown",
   "metadata": {},
   "source": [
    "В данном случае я не считаю, что будет корректно заполнять пропуски сердними или медианными значениями, т.к. это не та величина, которая зависит от других параметров, я не вижу корреляций и возможности корректно заполнить пропуски.\n",
    "\n",
    "Некорректное заполнение может серьезно повлиять на результаты исследования, особенно, если учитывать, что количество пропусков довольно большое. "
   ]
  },
  {
   "cell_type": "markdown",
   "metadata": {},
   "source": [
    "Также проверю нет ли отклонений и \"заглушек\" в значениях других столбцов: age, products, credit_card, \tlast_activity."
   ]
  },
  {
   "cell_type": "code",
   "execution_count": 10,
   "metadata": {},
   "outputs": [
    {
     "data": {
      "text/plain": [
       "array([25., 37., 30., 51., 34., 56., 39., 38., 54., 67., 52., 41., 31.,\n",
       "       28., 35., 42., 45., 53., 40., 43., 47., 48., 61., 62., 36., 26.,\n",
       "       27., 60., 72., 50., 46., 55., 58., 71., 44., 49., 33., 32., 66.,\n",
       "       29., 68., 73., 69., 59., 21., 65., 57., 63., 80., 24., 70., 77.,\n",
       "       64., 23., 20., 18., 19., 78., 74., 76., 22., 75., nan, 83., 82.,\n",
       "       81., 84., 79., 86.])"
      ]
     },
     "execution_count": 10,
     "metadata": {},
     "output_type": "execute_result"
    }
   ],
   "source": [
    "df['age'].unique()"
   ]
  },
  {
   "cell_type": "code",
   "execution_count": 11,
   "metadata": {},
   "outputs": [
    {
     "data": {
      "text/plain": [
       "array([2, 3, 1, 4, 5, 0], dtype=int64)"
      ]
     },
     "execution_count": 11,
     "metadata": {},
     "output_type": "execute_result"
    }
   ],
   "source": [
    "df['products'].unique()"
   ]
  },
  {
   "cell_type": "code",
   "execution_count": 12,
   "metadata": {},
   "outputs": [
    {
     "data": {
      "text/plain": [
       "array([0, 1], dtype=int64)"
      ]
     },
     "execution_count": 12,
     "metadata": {},
     "output_type": "execute_result"
    }
   ],
   "source": [
    "df['credit_card'].unique()"
   ]
  },
  {
   "cell_type": "code",
   "execution_count": 13,
   "metadata": {},
   "outputs": [
    {
     "data": {
      "text/plain": [
       "array([1, 0], dtype=int64)"
      ]
     },
     "execution_count": 13,
     "metadata": {},
     "output_type": "execute_result"
    }
   ],
   "source": [
    "df['last_activity'].unique()"
   ]
  },
  {
   "cell_type": "markdown",
   "metadata": {},
   "source": [
    "В целом видим, что в остальных столбцах все значения нормальные.\n"
   ]
  },
  {
   "cell_type": "markdown",
   "metadata": {},
   "source": [
    "Также меня заинтересовало значение 0 в столбце products. \n",
    "\n",
    "Кажется, что если человек является клиентом банка, то он должен пользоваться хотя бы одним продуктом и такого значения быть не должно. \n",
    "\n",
    "Посмотрю, что это за клиенты, у которых нет продуктов банка и какое их количество. "
   ]
  },
  {
   "cell_type": "code",
   "execution_count": 14,
   "metadata": {},
   "outputs": [
    {
     "data": {
      "text/html": [
       "<div>\n",
       "<style scoped>\n",
       "    .dataframe tbody tr th:only-of-type {\n",
       "        vertical-align: middle;\n",
       "    }\n",
       "\n",
       "    .dataframe tbody tr th {\n",
       "        vertical-align: top;\n",
       "    }\n",
       "\n",
       "    .dataframe thead th {\n",
       "        text-align: right;\n",
       "    }\n",
       "</style>\n",
       "<table border=\"1\" class=\"dataframe\">\n",
       "  <thead>\n",
       "    <tr style=\"text-align: right;\">\n",
       "      <th></th>\n",
       "      <th>user_id</th>\n",
       "      <th>score</th>\n",
       "      <th>city</th>\n",
       "      <th>gender</th>\n",
       "      <th>age</th>\n",
       "      <th>equity</th>\n",
       "      <th>balance</th>\n",
       "      <th>products</th>\n",
       "      <th>credit_card</th>\n",
       "      <th>last_activity</th>\n",
       "      <th>est_salary</th>\n",
       "      <th>churn</th>\n",
       "    </tr>\n",
       "  </thead>\n",
       "  <tbody>\n",
       "    <tr>\n",
       "      <th>8957</th>\n",
       "      <td>147837</td>\n",
       "      <td>962.0</td>\n",
       "      <td>Рыбинск</td>\n",
       "      <td>Ж</td>\n",
       "      <td>79.0</td>\n",
       "      <td>3</td>\n",
       "      <td>NaN</td>\n",
       "      <td>0</td>\n",
       "      <td>0</td>\n",
       "      <td>0</td>\n",
       "      <td>25063.96</td>\n",
       "      <td>1</td>\n",
       "    </tr>\n",
       "  </tbody>\n",
       "</table>\n",
       "</div>"
      ],
      "text/plain": [
       "      user_id  score     city gender   age  equity  balance  products  \\\n",
       "8957   147837  962.0  Рыбинск      Ж  79.0       3      NaN         0   \n",
       "\n",
       "      credit_card  last_activity  est_salary  churn  \n",
       "8957            0              0    25063.96      1  "
      ]
     },
     "execution_count": 14,
     "metadata": {},
     "output_type": "execute_result"
    }
   ],
   "source": [
    "df[df['products']==0]"
   ]
  },
  {
   "cell_type": "markdown",
   "metadata": {},
   "source": [
    "Видим, что это всего 1 клиент, т.к. для анализа нам нужны клиенты, которые пользовались продуктами бранка и затем ушли, думаю, что лучше его удалить. Возможно, наличие такого значения связано с ошибкой заполнения данных. "
   ]
  },
  {
   "cell_type": "code",
   "execution_count": 15,
   "metadata": {},
   "outputs": [
    {
     "name": "stdout",
     "output_type": "stream",
     "text": [
      "<class 'pandas.core.frame.DataFrame'>\n",
      "Int64Index: 9926 entries, 0 to 9999\n",
      "Data columns (total 12 columns):\n",
      " #   Column         Non-Null Count  Dtype  \n",
      "---  ------         --------------  -----  \n",
      " 0   user_id        9926 non-null   int64  \n",
      " 1   score          9926 non-null   float64\n",
      " 2   city           9926 non-null   object \n",
      " 3   gender         9926 non-null   object \n",
      " 4   age            9922 non-null   float64\n",
      " 5   equity         9926 non-null   int64  \n",
      " 6   balance        7667 non-null   float64\n",
      " 7   products       9926 non-null   int64  \n",
      " 8   credit_card    9926 non-null   int64  \n",
      " 9   last_activity  9926 non-null   int64  \n",
      " 10  est_salary     9926 non-null   float64\n",
      " 11  churn          9926 non-null   int64  \n",
      "dtypes: float64(4), int64(6), object(2)\n",
      "memory usage: 1008.1+ KB\n"
     ]
    }
   ],
   "source": [
    "#Удаляю\n",
    "df = df[df['products']!=0]\n",
    "df.info()"
   ]
  },
  {
   "cell_type": "markdown",
   "metadata": {},
   "source": [
    "### Преобразование типов данных"
   ]
  },
  {
   "cell_type": "code",
   "execution_count": 16,
   "metadata": {},
   "outputs": [
    {
     "data": {
      "text/plain": [
       "array([ 850.,  861.,  892.,  866.,  730.,  856.,  807.,  825.,  923.,\n",
       "        906.,  927.,  921.,  845.,  837.,  815.,  731.,  829.,  793.,\n",
       "        876.,  922.,  772.,  896.,  871.,  732.,  898.,  806.,  766.,\n",
       "        776.,  868.,  946.,  828.,  786.,  944.,  863.,  822.,  794.,\n",
       "        924.,  811.,  814.,  956.,  935.,  826.,  849.,  901.,  893.,\n",
       "        792.,  888.,  831.,  748.,  820.,  860.,  914.,  930.,  948.,\n",
       "        789.,  737.,  812.,  933.,  809.,  749.,  873.,  859.,  950.,\n",
       "        937.,  835.,  768.,  767.,  785.,  846.,  750.,  816.,  894.,\n",
       "        891.,  788.,  758.,  787.,  821.,  855.,  779.,  791.,  838.,\n",
       "        971.,  797.,  841.,  915.,  985.,  870.,  897.,  763.,  774.,\n",
       "        686., 1000.,  875.,  819.,  869.,  854.,  810.,  761.,  802.,\n",
       "        958.,  917.,  745.,  736.,  908.,  928.,  884.,  853.,  780.,\n",
       "        726.,  881.,  975.,  852.,  965.,  899.,  890.,  836.,  818.,\n",
       "        880.,  795.,  916.,  775.,  902.,  918.,  842.,  771.,  895.,\n",
       "        801.,  721.,  966.,  804.,  885.,  986.,  753.,  832.,  979.,\n",
       "        798.,  754.,  756.,  823.,  658.,  734.,  954.,  827.,  929.,\n",
       "        760.,  688.,  659.,  817.,  718.,  705.,  920.,  652.,  649.,\n",
       "        862.,  770.,  824.,  934.,  952.,  977.,  840.,  709.,  878.,\n",
       "        808.,  900.,  778.,  800.,  813.,  905.,  925.,  697.,  942.,\n",
       "        848.,  717.,  712.,  973.,  879.,  987.,  805.,  872.,  904.,\n",
       "        939.,  993.,  790.,  799.,  943.,  903.,  839.,  882.,  765.,\n",
       "        883.,  964.,  833.,  739.,  911.,  926.,  751.,  803.,  762.,\n",
       "        907.,  910.,  694.,  867.,  877.,  706.,  708.,  691.,  742.,\n",
       "        889.,  919.,  864.,  663.,  913.,  940.,  887.,  953.,  746.,\n",
       "        699.,  858.,  834.,  847.,  727.,  782.,  720.,  938.,  711.,\n",
       "        725.,  912.,  851.,  743.,  685.,  830.,  701.,  733.,  777.,\n",
       "        784.,  949.,  724.,  769.,  687.,  773.,  857.,  963.,  741.,\n",
       "        931.,  974.,  764.,  886.,  844.,  874.,  909.,  951.,  947.,\n",
       "        689.,  715.,  865.,  945.,  796.,  682.,  714.,  976.,  992.,\n",
       "        707.,  713.,  781.,  668.,  843.,  932.,  752.,  962.,  759.,\n",
       "        757.,  967.,  646.,  738.,  722.,  936.,  664.,  661.,  728.,\n",
       "        997.,  755.,  673.,  703.,  941.,  988.,  695.,  961.,  960.,\n",
       "        651.,  696.,  653.,  983.,  972.,  716.,  692.,  959.,  783.,\n",
       "        735.,  968.,  702.,  740.,  747.,  955.,  970.,  990.,  681.,\n",
       "        744.,  729.,  982.,  969.,  980.,  978.,  710.,  719.,  655.,\n",
       "        650.,  991.,  642.,  700.,  981.,  657.,  996.,  669.,  999.,\n",
       "        698.,  989.,  957.,  666.,  671.,  678.,  693.,  648.,  690.,\n",
       "        684.,  994.,  984.,  723.,  667.,  654.,  680.,  998.,  660.,\n",
       "        670.,  656.,  665.,  662.,  704.,  995.])"
      ]
     },
     "execution_count": 16,
     "metadata": {},
     "output_type": "execute_result"
    }
   ],
   "source": [
    "#Проверяю значения в столбце score, как и планировала в первом блоке\n",
    "df['score'].unique()"
   ]
  },
  {
   "cell_type": "markdown",
   "metadata": {},
   "source": [
    "Видим, что значения, действительно, не содержат сотых/десятых, поэтому значения в столбце округлю до целых и приведу к типу int64"
   ]
  },
  {
   "cell_type": "code",
   "execution_count": 17,
   "metadata": {
    "scrolled": true
   },
   "outputs": [
    {
     "name": "stdout",
     "output_type": "stream",
     "text": [
      "<class 'pandas.core.frame.DataFrame'>\n",
      "Int64Index: 9926 entries, 0 to 9999\n",
      "Data columns (total 12 columns):\n",
      " #   Column         Non-Null Count  Dtype  \n",
      "---  ------         --------------  -----  \n",
      " 0   user_id        9926 non-null   int64  \n",
      " 1   score          9926 non-null   int64  \n",
      " 2   city           9926 non-null   object \n",
      " 3   gender         9926 non-null   object \n",
      " 4   age            9922 non-null   float64\n",
      " 5   equity         9926 non-null   int64  \n",
      " 6   balance        7667 non-null   float64\n",
      " 7   products       9926 non-null   int64  \n",
      " 8   credit_card    9926 non-null   int64  \n",
      " 9   last_activity  9926 non-null   int64  \n",
      " 10  est_salary     9926 non-null   float64\n",
      " 11  churn          9926 non-null   int64  \n",
      "dtypes: float64(3), int64(7), object(2)\n",
      "memory usage: 1008.1+ KB\n"
     ]
    }
   ],
   "source": [
    "#Меняю тип, проверяю\n",
    "df = df.astype({'score': np.int64})\n",
    "df.info()"
   ]
  },
  {
   "cell_type": "markdown",
   "metadata": {},
   "source": [
    "### Выводы по блоку:"
   ]
  },
  {
   "cell_type": "markdown",
   "metadata": {},
   "source": [
    "Изначально в датасете было 10 000 строк, 1 явный дубликат. Также в ходе предобработки на дубликаты был проверен столбец user_id, т.к. он должен содержать только уникальные значение без повторов. В итоге было найдено и удалено ещё 72 дуюликата. \n",
    "\n",
    "Всего в датасете - 12 столбцов, в которых содержится информация о клиентах. Не все названия столбцов были корректные: например, USERID, EST_SALARY. В ходе предобработки столбцы были переименованы, приведены к нижнему регистру, также записаны с учетом змеиного регистра.  \n",
    "\n",
    "Пропущенные значения есть только в столбце balance, в нем содержится информация о балансе денежных средств на счете. \n",
    "\n",
    "Поскольку не было обнаружено каких-либо закономерностей по признакам клиентов, баланс которых не был указан, заполнить пропуски \n",
    "не получилось. Все-таки это не та величина, которая напрямую зависит от других параметров.\n",
    "\n",
    "Некорректное заполнение, удаление пропусков может серьезно повлиять на результаты исследования, особенно, если учитывать, что количество пропусков довольно большое, поэтому приняла решение оставить их как есть. \n",
    "\n",
    "Также в столбце score тип данныех изменила на int64.\n",
    "\n",
    "Таким образом, по итогу предобработки количество клиентов,на данных которых будем проводить исследование -  9926. \n",
    "\n",
    "В целом данные готовы к дальнейшей работы, по мере необходимости смогу что-то менять/добавлять в ходе исследования. "
   ]
  },
  {
   "cell_type": "markdown",
   "metadata": {},
   "source": [
    "## Исследовательский анализ данных"
   ]
  },
  {
   "cell_type": "markdown",
   "metadata": {},
   "source": [
    "### Тепловая карта матрицы корреляций для количественных переменных"
   ]
  },
  {
   "cell_type": "markdown",
   "metadata": {},
   "source": [
    "Построю тепловую карту матрицы корреляций для столбцов с количественными значениями: score, age, balance,est_salary"
   ]
  },
  {
   "cell_type": "code",
   "execution_count": 18,
   "metadata": {},
   "outputs": [
    {
     "data": {
      "text/html": [
       "<div>\n",
       "<style scoped>\n",
       "    .dataframe tbody tr th:only-of-type {\n",
       "        vertical-align: middle;\n",
       "    }\n",
       "\n",
       "    .dataframe tbody tr th {\n",
       "        vertical-align: top;\n",
       "    }\n",
       "\n",
       "    .dataframe thead th {\n",
       "        text-align: right;\n",
       "    }\n",
       "</style>\n",
       "<table border=\"1\" class=\"dataframe\">\n",
       "  <thead>\n",
       "    <tr style=\"text-align: right;\">\n",
       "      <th></th>\n",
       "      <th>user_id</th>\n",
       "      <th>score</th>\n",
       "      <th>age</th>\n",
       "      <th>balance</th>\n",
       "      <th>est_salary</th>\n",
       "      <th>churn</th>\n",
       "    </tr>\n",
       "  </thead>\n",
       "  <tbody>\n",
       "    <tr>\n",
       "      <th>0</th>\n",
       "      <td>183012</td>\n",
       "      <td>850</td>\n",
       "      <td>25.0</td>\n",
       "      <td>59214.82</td>\n",
       "      <td>75719.14</td>\n",
       "      <td>1</td>\n",
       "    </tr>\n",
       "    <tr>\n",
       "      <th>1</th>\n",
       "      <td>146556</td>\n",
       "      <td>861</td>\n",
       "      <td>37.0</td>\n",
       "      <td>850594.33</td>\n",
       "      <td>86621.77</td>\n",
       "      <td>0</td>\n",
       "    </tr>\n",
       "    <tr>\n",
       "      <th>2</th>\n",
       "      <td>120722</td>\n",
       "      <td>892</td>\n",
       "      <td>30.0</td>\n",
       "      <td>NaN</td>\n",
       "      <td>107683.34</td>\n",
       "      <td>0</td>\n",
       "    </tr>\n",
       "    <tr>\n",
       "      <th>3</th>\n",
       "      <td>225363</td>\n",
       "      <td>866</td>\n",
       "      <td>51.0</td>\n",
       "      <td>1524746.26</td>\n",
       "      <td>174423.53</td>\n",
       "      <td>1</td>\n",
       "    </tr>\n",
       "    <tr>\n",
       "      <th>4</th>\n",
       "      <td>157978</td>\n",
       "      <td>730</td>\n",
       "      <td>34.0</td>\n",
       "      <td>174.00</td>\n",
       "      <td>67353.16</td>\n",
       "      <td>1</td>\n",
       "    </tr>\n",
       "  </tbody>\n",
       "</table>\n",
       "</div>"
      ],
      "text/plain": [
       "   user_id  score   age     balance  est_salary  churn\n",
       "0   183012    850  25.0    59214.82    75719.14      1\n",
       "1   146556    861  37.0   850594.33    86621.77      0\n",
       "2   120722    892  30.0         NaN   107683.34      0\n",
       "3   225363    866  51.0  1524746.26   174423.53      1\n",
       "4   157978    730  34.0      174.00    67353.16      1"
      ]
     },
     "execution_count": 18,
     "metadata": {},
     "output_type": "execute_result"
    }
   ],
   "source": [
    "#Уберу из датафрейма лишние столбцы, чтобы на хитмэпе остались только нужные мне данные\n",
    "corr_df = df.drop(columns = ['city','gender', 'equity', 'products','credit_card','last_activity'])\n",
    "corr_df.head()"
   ]
  },
  {
   "cell_type": "code",
   "execution_count": 19,
   "metadata": {},
   "outputs": [
    {
     "data": {
      "image/png": "[encoded data removed]",
      "text/plain": [
       "<Figure size 864x864 with 2 Axes>"
      ]
     },
     "metadata": {
      "needs_background": "light"
     },
     "output_type": "display_data"
    }
   ],
   "source": [
    "#Строю хитмэп\n",
    "cmap = corr_df.corr()\n",
    "plt.figure(figsize=(12, 12))\n",
    "sns.heatmap(cmap, annot = True, square=True, cmap= 'YlGnBu')\n",
    "plt.title('Тепловая карта матрицы корреляций');"
   ]
  },
  {
   "cell_type": "markdown",
   "metadata": {},
   "source": [
    "В целом все признаки коррелируют с признаком churn (отток) незначительно. \n",
    "\n",
    "Самый высокий показатель корреляции с признаком score — баллы кредитного скоринга; т.е. чем выше баллы, тем выше вероятность того, что клиент попадет в отток. С учетом шкалы Чеддока зависимость прямая, слабая. "
   ]
  },
  {
   "cell_type": "markdown",
   "metadata": {},
   "source": [
    "### Корреляция Спирмена для категориальных переменных"
   ]
  },
  {
   "cell_type": "markdown",
   "metadata": {},
   "source": [
    "Посчитаем корреляцию для категориальных переменных методом Спирмена:"
   ]
  },
  {
   "cell_type": "code",
   "execution_count": 20,
   "metadata": {
    "scrolled": true
   },
   "outputs": [
    {
     "name": "stdout",
     "output_type": "stream",
     "text": [
      "Ранговая корреляция Спирмена city 0.017958383933544063\n",
      "p-значение city 0.07359864976634894\n",
      "Ранговая корреляция Спирмена gender 0.14158417728978254\n",
      "p-значение gender 1.2969318457987584e-45\n",
      "Ранговая корреляция Спирмена equity 0.26784791851816503\n",
      "p-значение equity 1.111855761801253e-162\n",
      "Ранговая корреляция Спирмена products 0.27219925238263365\n",
      "p-значение products 3.773554770393501e-168\n",
      "Ранговая корреляция Спирмена credit_card -0.1305074935924475\n",
      "p-значение credit_card 5.826560599921932e-39\n",
      "Ранговая корреляция Спирмена last_activity 0.16977561886248874\n",
      "p-значение last_activity 4.417380668205432e-65\n"
     ]
    }
   ],
   "source": [
    "from scipy.stats import spearmanr\n",
    "for column in ['city','gender', 'equity', 'products','credit_card','last_activity']:\n",
    "    rho, p = spearmanr( df[column], df['churn']) #Считаем корреляцию Спирмена и p-value\n",
    "    print('Ранговая корреляция Спирмена', column, rho) #Напечатать ранговая корреляция Спирмена и p-значение\n",
    "    print('p-значение', column, p)"
   ]
  },
  {
   "cell_type": "markdown",
   "metadata": {},
   "source": [
    "Также видим, что все признаки коррелируют с признаком churn (отток) незначительно. \n",
    "\n",
    "Самые высокие показатели корреляции с признаками equity — приблизительная оценка собственности клиента, products — количество продуктов, которыми пользуется клиент. По шкале Чеддока - зависимость прямая, слабая."
   ]
  },
  {
   "cell_type": "markdown",
   "metadata": {},
   "source": [
    "### Сравнение количества оставшихся и ушедших из банка клиентов по признакам"
   ]
  },
  {
   "cell_type": "markdown",
   "metadata": {},
   "source": [
    "Теперь я собираюсь сравнить количество оставшихся и ушедших из банка клиентов по каждому признаку: score, city, gender, age\tequity и т.д. "
   ]
  },
  {
   "cell_type": "code",
   "execution_count": 21,
   "metadata": {},
   "outputs": [
    {
     "data": {
      "text/html": [
       "<div>\n",
       "<style scoped>\n",
       "    .dataframe tbody tr th:only-of-type {\n",
       "        vertical-align: middle;\n",
       "    }\n",
       "\n",
       "    .dataframe tbody tr th {\n",
       "        vertical-align: top;\n",
       "    }\n",
       "\n",
       "    .dataframe thead th {\n",
       "        text-align: right;\n",
       "    }\n",
       "</style>\n",
       "<table border=\"1\" class=\"dataframe\">\n",
       "  <thead>\n",
       "    <tr style=\"text-align: right;\">\n",
       "      <th></th>\n",
       "      <th>user_id</th>\n",
       "      <th>score</th>\n",
       "      <th>city</th>\n",
       "      <th>gender</th>\n",
       "      <th>age</th>\n",
       "      <th>equity</th>\n",
       "      <th>balance</th>\n",
       "      <th>products</th>\n",
       "      <th>credit_card</th>\n",
       "      <th>last_activity</th>\n",
       "      <th>est_salary</th>\n",
       "      <th>churn</th>\n",
       "    </tr>\n",
       "  </thead>\n",
       "  <tbody>\n",
       "    <tr>\n",
       "      <th>0</th>\n",
       "      <td>183012</td>\n",
       "      <td>850</td>\n",
       "      <td>Рыбинск</td>\n",
       "      <td>Ж</td>\n",
       "      <td>25.0</td>\n",
       "      <td>1</td>\n",
       "      <td>59214.82</td>\n",
       "      <td>2</td>\n",
       "      <td>0</td>\n",
       "      <td>1</td>\n",
       "      <td>75719.14</td>\n",
       "      <td>Ушедшие</td>\n",
       "    </tr>\n",
       "    <tr>\n",
       "      <th>1</th>\n",
       "      <td>146556</td>\n",
       "      <td>861</td>\n",
       "      <td>Рыбинск</td>\n",
       "      <td>Ж</td>\n",
       "      <td>37.0</td>\n",
       "      <td>5</td>\n",
       "      <td>850594.33</td>\n",
       "      <td>3</td>\n",
       "      <td>1</td>\n",
       "      <td>0</td>\n",
       "      <td>86621.77</td>\n",
       "      <td>Оставшиеся</td>\n",
       "    </tr>\n",
       "    <tr>\n",
       "      <th>2</th>\n",
       "      <td>120722</td>\n",
       "      <td>892</td>\n",
       "      <td>Рыбинск</td>\n",
       "      <td>Ж</td>\n",
       "      <td>30.0</td>\n",
       "      <td>0</td>\n",
       "      <td>NaN</td>\n",
       "      <td>1</td>\n",
       "      <td>1</td>\n",
       "      <td>1</td>\n",
       "      <td>107683.34</td>\n",
       "      <td>Оставшиеся</td>\n",
       "    </tr>\n",
       "    <tr>\n",
       "      <th>3</th>\n",
       "      <td>225363</td>\n",
       "      <td>866</td>\n",
       "      <td>Ярославль</td>\n",
       "      <td>Ж</td>\n",
       "      <td>51.0</td>\n",
       "      <td>5</td>\n",
       "      <td>1524746.26</td>\n",
       "      <td>2</td>\n",
       "      <td>0</td>\n",
       "      <td>1</td>\n",
       "      <td>174423.53</td>\n",
       "      <td>Ушедшие</td>\n",
       "    </tr>\n",
       "    <tr>\n",
       "      <th>4</th>\n",
       "      <td>157978</td>\n",
       "      <td>730</td>\n",
       "      <td>Ярославль</td>\n",
       "      <td>М</td>\n",
       "      <td>34.0</td>\n",
       "      <td>5</td>\n",
       "      <td>174.00</td>\n",
       "      <td>1</td>\n",
       "      <td>1</td>\n",
       "      <td>0</td>\n",
       "      <td>67353.16</td>\n",
       "      <td>Ушедшие</td>\n",
       "    </tr>\n",
       "  </tbody>\n",
       "</table>\n",
       "</div>"
      ],
      "text/plain": [
       "   user_id  score       city gender   age  equity     balance  products  \\\n",
       "0   183012    850    Рыбинск      Ж  25.0       1    59214.82         2   \n",
       "1   146556    861    Рыбинск      Ж  37.0       5   850594.33         3   \n",
       "2   120722    892    Рыбинск      Ж  30.0       0         NaN         1   \n",
       "3   225363    866  Ярославль      Ж  51.0       5  1524746.26         2   \n",
       "4   157978    730  Ярославль      М  34.0       5      174.00         1   \n",
       "\n",
       "   credit_card  last_activity  est_salary       churn  \n",
       "0            0              1    75719.14     Ушедшие  \n",
       "1            1              0    86621.77  Оставшиеся  \n",
       "2            1              1   107683.34  Оставшиеся  \n",
       "3            0              1   174423.53     Ушедшие  \n",
       "4            1              0    67353.16     Ушедшие  "
      ]
     },
     "execution_count": 21,
     "metadata": {},
     "output_type": "execute_result"
    }
   ],
   "source": [
    "#Заменю значения в столбце churn, чтобы презентации были понятнее\n",
    "def churn_name(churn):\n",
    "    '''Возвращает название группы'''\n",
    "    if churn == 0:\n",
    "        return 'Оставшиеся'\n",
    "    if churn == 1:\n",
    "        return 'Ушедшие'\n",
    "\n",
    "df['churn'] = df['churn'].apply(churn_name)\n",
    "df.head(5)"
   ]
  },
  {
   "cell_type": "code",
   "execution_count": 22,
   "metadata": {
    "scrolled": false
   },
   "outputs": [
    {
     "data": {
      "image/png": "[encoded data removed]",
      "text/plain": [
       "<Figure size 1080x720 with 1 Axes>"
      ]
     },
     "metadata": {
      "needs_background": "light"
     },
     "output_type": "display_data"
    },
    {
     "data": {
      "image/png": "[encoded data removed]",
      "text/plain": [
       "<Figure size 1080x720 with 1 Axes>"
      ]
     },
     "metadata": {
      "needs_background": "light"
     },
     "output_type": "display_data"
    },
    {
     "data": {
      "image/png": "[encoded data removed]",
      "text/plain": [
       "<Figure size 1080x720 with 1 Axes>"
      ]
     },
     "metadata": {
      "needs_background": "light"
     },
     "output_type": "display_data"
    },
    {
     "data": {
      "image/png": "[encoded data removed]",
      "text/plain": [
       "<Figure size 1080x720 with 1 Axes>"
      ]
     },
     "metadata": {
      "needs_background": "light"
     },
     "output_type": "display_data"
    },
    {
     "data": {
      "image/png": "[encoded data removed]",
      "text/plain": [
       "<Figure size 1080x720 with 1 Axes>"
      ]
     },
     "metadata": {
      "needs_background": "light"
     },
     "output_type": "display_data"
    },
    {
     "data": {
      "image/png": "[encoded data removed]",
      "text/plain": [
       "<Figure size 1080x720 with 1 Axes>"
      ]
     },
     "metadata": {
      "needs_background": "light"
     },
     "output_type": "display_data"
    },
    {
     "data": {
      "image/png": "[encoded data removed]",
      "text/plain": [
       "<Figure size 1080x720 with 1 Axes>"
      ]
     },
     "metadata": {
      "needs_background": "light"
     },
     "output_type": "display_data"
    },
    {
     "data": {
      "image/png": "[encoded data removed]",
      "text/plain": [
       "<Figure size 1080x720 with 1 Axes>"
      ]
     },
     "metadata": {
      "needs_background": "light"
     },
     "output_type": "display_data"
    },
    {
     "data": {
      "image/png": "[encoded data removed]",
      "text/plain": [
       "<Figure size 1080x720 with 1 Axes>"
      ]
     },
     "metadata": {
      "needs_background": "light"
     },
     "output_type": "display_data"
    },
    {
     "data": {
      "image/png": "[encoded data removed]",
      "text/plain": [
       "<Figure size 1080x720 with 1 Axes>"
      ]
     },
     "metadata": {
      "needs_background": "light"
     },
     "output_type": "display_data"
    }
   ],
   "source": [
    "for column in ['score', 'city', 'gender','age', 'equity', 'balance', 'products', 'credit_card', 'last_activity', 'est_salary']:\n",
    "    plt.figure(figsize=(15, 10))\n",
    "    sns.histplot(x = df[column], hue='churn', data=df, common_norm = False, stat = 'density', palette = 'YlGnBu', kde = bool)\n",
    "    plt.title('Распределение для признака ' + ' ' + column, fontsize=12)\n",
    "    plt.xlabel('Признак')\n",
    "    plt.ylabel('Количество')\n",
    "    plt.show()"
   ]
  },
  {
   "cell_type": "markdown",
   "metadata": {},
   "source": [
    "Для признака balance гистограмма не очень показательна, посмотрю подробнее"
   ]
  },
  {
   "cell_type": "code",
   "execution_count": 23,
   "metadata": {
    "scrolled": false
   },
   "outputs": [
    {
     "data": {
      "image/png": "[encoded data removed]",
      "text/plain": [
       "<Figure size 1080x720 with 1 Axes>"
      ]
     },
     "metadata": {
      "needs_background": "light"
     },
     "output_type": "display_data"
    }
   ],
   "source": [
    "plt.figure(figsize=(15, 10))\n",
    "sns.histplot(x = df['balance'], hue='churn', data=df, common_norm = False, stat = 'density', palette = 'YlGnBu', kde = bool)\n",
    "plt.xlim([0, 5000000])\n",
    "plt.title('Распределение для признака balance', fontsize=12)\n",
    "plt.xlabel('Признак')\n",
    "plt.ylabel('Количество')\n",
    "plt.show()"
   ]
  },
  {
   "cell_type": "code",
   "execution_count": 24,
   "metadata": {
    "scrolled": false
   },
   "outputs": [
    {
     "data": {
      "image/png": "[encoded data removed]",
      "text/plain": [
       "<Figure size 1080x720 with 1 Axes>"
      ]
     },
     "metadata": {
      "needs_background": "light"
     },
     "output_type": "display_data"
    }
   ],
   "source": [
    "plt.figure(figsize=(15, 10))\n",
    "sns.histplot(x = df['balance'], hue='churn', data=df, common_norm = False, stat = 'density', palette = 'YlGnBu', kde = bool)\n",
    "plt.xlim([0, 1200000])\n",
    "plt.title('Распределение для признака balance', fontsize=12)\n",
    "plt.xlabel('Признак')\n",
    "plt.ylabel('Количество')\n",
    "plt.show()"
   ]
  },
  {
   "cell_type": "markdown",
   "metadata": {},
   "source": [
    "Для признака est_salary тоже смотрю подробнее"
   ]
  },
  {
   "cell_type": "code",
   "execution_count": 25,
   "metadata": {
    "scrolled": false
   },
   "outputs": [
    {
     "data": {
      "image/png": "[encoded data removed]",
      "text/plain": [
       "<Figure size 1080x720 with 1 Axes>"
      ]
     },
     "metadata": {
      "needs_background": "light"
     },
     "output_type": "display_data"
    }
   ],
   "source": [
    "plt.figure(figsize=(15, 10))\n",
    "sns.histplot(x = df['est_salary'], hue='churn', data=df, common_norm = False, stat = 'density', palette = 'YlGnBu', kde = bool)\n",
    "plt.xlim([50000, 300000])\n",
    "plt.title('Распределение для признака  est_salary', fontsize=12)\n",
    "plt.xlabel('Признак')\n",
    "plt.ylabel('Количество')\n",
    "plt.show()"
   ]
  },
  {
   "cell_type": "code",
   "execution_count": 26,
   "metadata": {},
   "outputs": [
    {
     "data": {
      "image/png": "[encoded data removed]",
      "text/plain": [
       "<Figure size 1080x720 with 1 Axes>"
      ]
     },
     "metadata": {
      "needs_background": "light"
     },
     "output_type": "display_data"
    }
   ],
   "source": [
    "plt.figure(figsize=(15, 10))\n",
    "sns.histplot(x = df['est_salary'], hue='churn', data=df, common_norm = False, stat = 'density', palette = 'YlGnBu', kde = bool)\n",
    "plt.xlim([250000, 500000])\n",
    "plt.title('Распределение для признака  est_salary', fontsize=12)\n",
    "plt.xlabel('Признак')\n",
    "plt.ylabel('Количество')\n",
    "plt.show()"
   ]
  },
  {
   "cell_type": "markdown",
   "metadata": {},
   "source": [
    "Гистограммы помогают определить пирзнаки, характерные для ушедших и оставшихся клиентов, таким образом, мы уже видим черты клиентов, склонных к оттоку:\n",
    " - По признаку score склонны к оттоку клиенты с уровнем кредитного рейтинга 825 - 910 балллов и 920 - 935.\n",
    "\n",
    " - По признаку city склонны к оттоку клиенты из Ярославля.\n",
    "\n",
    " - По признаку gender склонны к оттоку мужчины.\n",
    "\n",
    " - По признаку age склонны к оттоку возрастные группы: 24-35 лет, 50-61 год. \n",
    "\n",
    " - По признаку equity склонны к оттоку клиенты, собственность которых оценивается выше 3 баллов. \n",
    "\n",
    " - По признаку balance склонны к оттоку клиенты, на балансе которых примерно 760-840 т.р.; 910 - 1050 т.р.; свыше 1120 т.р.\n",
    "\n",
    " - По признаку products склонны к оттоку клиенты, которые используют от 2 продуктов банка, наиболее - 4 продукта. \n",
    "\n",
    " - По признаку credit_card склонны к оттоку клиенты, не оформившие кредитную карту. \n",
    "\n",
    " - По признаку last_activity склонны к оттоку клиенты, которые были активны и использовали продукты банка в последнее время. \n",
    "\n",
    " - По признаку est_salary склонны к оттоку клиенты с зарплатами 90 - 140 т.р., 150 - 215 т.р.\n",
    " "
   ]
  },
  {
   "cell_type": "markdown",
   "metadata": {},
   "source": [
    "### Выводы по блоку"
   ]
  },
  {
   "cell_type": "markdown",
   "metadata": {},
   "source": [
    "В основном все признаки коррелируют с признаком churn (отток) незначительно. \n",
    "\n",
    "Самый высокий показатель корреляции Пирсона с признаком score — баллы кредитного скоринга; т.е. чем выше баллы, тем выше вероятность того, что клиент попадет в отток.\n",
    "\n",
    "Самые высокие показатели корреляции Спирмена с признаками equity — приблизительная оценка собственности клиента, products — количество продуктов, которыми пользуется клиент. \n",
    "\n",
    "Во всех случаях зависимость оценивается по шкале Чеддока как прямая и слабая.\n",
    "\n",
    "Что касается распределения клиентов оттока и оставшихся по признакам:\n",
    "\n",
    " - По признаку score склонны к оттоку клиенты с уровнем кредитного рейтинга 825 - 910 балллов и 920 - 935.\n",
    "\n",
    " - По признаку city склонны к оттоку клиенты из Ярославля.\n",
    "\n",
    " - По признаку gender склонны к оттоку мужчины.\n",
    "\n",
    " - По признаку age склонны к оттоку возрастные группы: 24-35 лет, 50-61 год. \n",
    "\n",
    " - По признаку equity склонны к оттоку клиенты, собственность которых оценивается выше 3 баллов. \n",
    "\n",
    " - По признаку balance склонны к оттоку клиенты, на балансе которых примерно 760-840 т.р.; 910 - 1050 т.р.; свыше 1120 т.р.\n",
    "\n",
    " - По признаку products склонны к оттоку клиенты, которые используют от 2 продуктов банка, наиболее - 4 продукта. \n",
    "\n",
    " - По признаку credit_card склонны к оттоку клиенты, не оформившие кредитную карту. \n",
    "\n",
    " - По признаку last_activity склонны к оттоку клиенты, которые были активны и использовали продукты банка в последнее время. \n",
    "\n",
    " - По признаку est_salary склонны к оттоку клиенты с зарплатами 90 - 140 т.р., 150 - 215 т.р.\n",
    " \n",
    " Таким образом, у нас есть понимание о характерных для клиентов оттока признаках.\n",
    " \n",
    " Их следует учитывать при формировании портретов. \n",
    " "
   ]
  },
  {
   "cell_type": "markdown",
   "metadata": {},
   "source": [
    "## Статистический анализ данных"
   ]
  },
  {
   "cell_type": "markdown",
   "metadata": {},
   "source": [
    "Т.к. будем сравнивать данные дух выборок: оставшихся клиентов и ушедших, основной датасет разделю на 2 по признаку оттока:"
   ]
  },
  {
   "cell_type": "code",
   "execution_count": 27,
   "metadata": {},
   "outputs": [
    {
     "data": {
      "text/html": [
       "<div>\n",
       "<style scoped>\n",
       "    .dataframe tbody tr th:only-of-type {\n",
       "        vertical-align: middle;\n",
       "    }\n",
       "\n",
       "    .dataframe tbody tr th {\n",
       "        vertical-align: top;\n",
       "    }\n",
       "\n",
       "    .dataframe thead th {\n",
       "        text-align: right;\n",
       "    }\n",
       "</style>\n",
       "<table border=\"1\" class=\"dataframe\">\n",
       "  <thead>\n",
       "    <tr style=\"text-align: right;\">\n",
       "      <th></th>\n",
       "      <th>user_id</th>\n",
       "      <th>score</th>\n",
       "      <th>city</th>\n",
       "      <th>gender</th>\n",
       "      <th>age</th>\n",
       "      <th>equity</th>\n",
       "      <th>balance</th>\n",
       "      <th>products</th>\n",
       "      <th>credit_card</th>\n",
       "      <th>last_activity</th>\n",
       "      <th>est_salary</th>\n",
       "      <th>churn</th>\n",
       "    </tr>\n",
       "  </thead>\n",
       "  <tbody>\n",
       "    <tr>\n",
       "      <th>0</th>\n",
       "      <td>183012</td>\n",
       "      <td>850</td>\n",
       "      <td>Рыбинск</td>\n",
       "      <td>Ж</td>\n",
       "      <td>25.0</td>\n",
       "      <td>1</td>\n",
       "      <td>59214.82</td>\n",
       "      <td>2</td>\n",
       "      <td>0</td>\n",
       "      <td>1</td>\n",
       "      <td>75719.14</td>\n",
       "      <td>Ушедшие</td>\n",
       "    </tr>\n",
       "    <tr>\n",
       "      <th>3</th>\n",
       "      <td>225363</td>\n",
       "      <td>866</td>\n",
       "      <td>Ярославль</td>\n",
       "      <td>Ж</td>\n",
       "      <td>51.0</td>\n",
       "      <td>5</td>\n",
       "      <td>1524746.26</td>\n",
       "      <td>2</td>\n",
       "      <td>0</td>\n",
       "      <td>1</td>\n",
       "      <td>174423.53</td>\n",
       "      <td>Ушедшие</td>\n",
       "    </tr>\n",
       "    <tr>\n",
       "      <th>4</th>\n",
       "      <td>157978</td>\n",
       "      <td>730</td>\n",
       "      <td>Ярославль</td>\n",
       "      <td>М</td>\n",
       "      <td>34.0</td>\n",
       "      <td>5</td>\n",
       "      <td>174.00</td>\n",
       "      <td>1</td>\n",
       "      <td>1</td>\n",
       "      <td>0</td>\n",
       "      <td>67353.16</td>\n",
       "      <td>Ушедшие</td>\n",
       "    </tr>\n",
       "    <tr>\n",
       "      <th>12</th>\n",
       "      <td>132970</td>\n",
       "      <td>845</td>\n",
       "      <td>Ярославль</td>\n",
       "      <td>Ж</td>\n",
       "      <td>31.0</td>\n",
       "      <td>3</td>\n",
       "      <td>591928.52</td>\n",
       "      <td>2</td>\n",
       "      <td>1</td>\n",
       "      <td>1</td>\n",
       "      <td>112697.16</td>\n",
       "      <td>Ушедшие</td>\n",
       "    </tr>\n",
       "    <tr>\n",
       "      <th>40</th>\n",
       "      <td>129705</td>\n",
       "      <td>811</td>\n",
       "      <td>Рыбинск</td>\n",
       "      <td>М</td>\n",
       "      <td>34.0</td>\n",
       "      <td>2</td>\n",
       "      <td>129799.35</td>\n",
       "      <td>1</td>\n",
       "      <td>0</td>\n",
       "      <td>0</td>\n",
       "      <td>96242.71</td>\n",
       "      <td>Ушедшие</td>\n",
       "    </tr>\n",
       "  </tbody>\n",
       "</table>\n",
       "</div>"
      ],
      "text/plain": [
       "    user_id  score       city gender   age  equity     balance  products  \\\n",
       "0    183012    850    Рыбинск      Ж  25.0       1    59214.82         2   \n",
       "3    225363    866  Ярославль      Ж  51.0       5  1524746.26         2   \n",
       "4    157978    730  Ярославль      М  34.0       5      174.00         1   \n",
       "12   132970    845  Ярославль      Ж  31.0       3   591928.52         2   \n",
       "40   129705    811    Рыбинск      М  34.0       2   129799.35         1   \n",
       "\n",
       "    credit_card  last_activity  est_salary    churn  \n",
       "0             0              1    75719.14  Ушедшие  \n",
       "3             0              1   174423.53  Ушедшие  \n",
       "4             1              0    67353.16  Ушедшие  \n",
       "12            1              1   112697.16  Ушедшие  \n",
       "40            0              0    96242.71  Ушедшие  "
      ]
     },
     "execution_count": 27,
     "metadata": {},
     "output_type": "execute_result"
    }
   ],
   "source": [
    "churn_df = df[df['churn'] == 'Ушедшие']\n",
    "churn_df.head()"
   ]
  },
  {
   "cell_type": "code",
   "execution_count": 28,
   "metadata": {},
   "outputs": [
    {
     "data": {
      "text/html": [
       "<div>\n",
       "<style scoped>\n",
       "    .dataframe tbody tr th:only-of-type {\n",
       "        vertical-align: middle;\n",
       "    }\n",
       "\n",
       "    .dataframe tbody tr th {\n",
       "        vertical-align: top;\n",
       "    }\n",
       "\n",
       "    .dataframe thead th {\n",
       "        text-align: right;\n",
       "    }\n",
       "</style>\n",
       "<table border=\"1\" class=\"dataframe\">\n",
       "  <thead>\n",
       "    <tr style=\"text-align: right;\">\n",
       "      <th></th>\n",
       "      <th>user_id</th>\n",
       "      <th>score</th>\n",
       "      <th>city</th>\n",
       "      <th>gender</th>\n",
       "      <th>age</th>\n",
       "      <th>equity</th>\n",
       "      <th>balance</th>\n",
       "      <th>products</th>\n",
       "      <th>credit_card</th>\n",
       "      <th>last_activity</th>\n",
       "      <th>est_salary</th>\n",
       "      <th>churn</th>\n",
       "    </tr>\n",
       "  </thead>\n",
       "  <tbody>\n",
       "    <tr>\n",
       "      <th>1</th>\n",
       "      <td>146556</td>\n",
       "      <td>861</td>\n",
       "      <td>Рыбинск</td>\n",
       "      <td>Ж</td>\n",
       "      <td>37.0</td>\n",
       "      <td>5</td>\n",
       "      <td>850594.33</td>\n",
       "      <td>3</td>\n",
       "      <td>1</td>\n",
       "      <td>0</td>\n",
       "      <td>86621.77</td>\n",
       "      <td>Оставшиеся</td>\n",
       "    </tr>\n",
       "    <tr>\n",
       "      <th>2</th>\n",
       "      <td>120722</td>\n",
       "      <td>892</td>\n",
       "      <td>Рыбинск</td>\n",
       "      <td>Ж</td>\n",
       "      <td>30.0</td>\n",
       "      <td>0</td>\n",
       "      <td>NaN</td>\n",
       "      <td>1</td>\n",
       "      <td>1</td>\n",
       "      <td>1</td>\n",
       "      <td>107683.34</td>\n",
       "      <td>Оставшиеся</td>\n",
       "    </tr>\n",
       "    <tr>\n",
       "      <th>5</th>\n",
       "      <td>202305</td>\n",
       "      <td>856</td>\n",
       "      <td>Рыбинск</td>\n",
       "      <td>М</td>\n",
       "      <td>56.0</td>\n",
       "      <td>4</td>\n",
       "      <td>863687.24</td>\n",
       "      <td>3</td>\n",
       "      <td>1</td>\n",
       "      <td>0</td>\n",
       "      <td>156619.80</td>\n",
       "      <td>Оставшиеся</td>\n",
       "    </tr>\n",
       "    <tr>\n",
       "      <th>6</th>\n",
       "      <td>177259</td>\n",
       "      <td>807</td>\n",
       "      <td>Ярославль</td>\n",
       "      <td>Ж</td>\n",
       "      <td>39.0</td>\n",
       "      <td>3</td>\n",
       "      <td>405042.44</td>\n",
       "      <td>3</td>\n",
       "      <td>0</td>\n",
       "      <td>1</td>\n",
       "      <td>103838.32</td>\n",
       "      <td>Оставшиеся</td>\n",
       "    </tr>\n",
       "    <tr>\n",
       "      <th>7</th>\n",
       "      <td>218868</td>\n",
       "      <td>825</td>\n",
       "      <td>Ярославль</td>\n",
       "      <td>Ж</td>\n",
       "      <td>38.0</td>\n",
       "      <td>4</td>\n",
       "      <td>458145.40</td>\n",
       "      <td>2</td>\n",
       "      <td>1</td>\n",
       "      <td>1</td>\n",
       "      <td>68085.48</td>\n",
       "      <td>Оставшиеся</td>\n",
       "    </tr>\n",
       "  </tbody>\n",
       "</table>\n",
       "</div>"
      ],
      "text/plain": [
       "   user_id  score       city gender   age  equity    balance  products  \\\n",
       "1   146556    861    Рыбинск      Ж  37.0       5  850594.33         3   \n",
       "2   120722    892    Рыбинск      Ж  30.0       0        NaN         1   \n",
       "5   202305    856    Рыбинск      М  56.0       4  863687.24         3   \n",
       "6   177259    807  Ярославль      Ж  39.0       3  405042.44         3   \n",
       "7   218868    825  Ярославль      Ж  38.0       4  458145.40         2   \n",
       "\n",
       "   credit_card  last_activity  est_salary       churn  \n",
       "1            1              0    86621.77  Оставшиеся  \n",
       "2            1              1   107683.34  Оставшиеся  \n",
       "5            1              0   156619.80  Оставшиеся  \n",
       "6            0              1   103838.32  Оставшиеся  \n",
       "7            1              1    68085.48  Оставшиеся  "
      ]
     },
     "execution_count": 28,
     "metadata": {},
     "output_type": "execute_result"
    }
   ],
   "source": [
    "active_df = df[df['churn'] == 'Оставшиеся']\n",
    "active_df.head()"
   ]
  },
  {
   "cell_type": "markdown",
   "metadata": {},
   "source": [
    "### Гипотеза 1. Гипотеза  различия дохода между клиентами, которые ушли/остались"
   ]
  },
  {
   "cell_type": "markdown",
   "metadata": {},
   "source": [
    "Нулевая гипотеза: средний доход клиента из оттока равен среднему доходу оставшегося клиента.\n",
    "\n",
    "Альтернативная гипотеза: средний доход клеинтов отличается.\n",
    "\n",
    "Критический уровень статистической значимости задам на уровне общепринятого порогового значения — 5%.\n",
    "\n",
    "Использовать для проверки гипотезы буду метод scipy.stats.ttest_ind (array1, array2, equal_var)"
   ]
  },
  {
   "cell_type": "code",
   "execution_count": 29,
   "metadata": {},
   "outputs": [
    {
     "name": "stdout",
     "output_type": "stream",
     "text": [
      "P-value: 0.8796213894730411\n",
      "Не получилось отвергнуть нулевую гипотезу\n"
     ]
    }
   ],
   "source": [
    "alpha = .05\n",
    "results = st.ttest_ind(churn_df ['est_salary'], active_df['est_salary'], equal_var = False)\n",
    "print('P-value:', results.pvalue)\n",
    "\n",
    "if (results.pvalue < alpha):\n",
    "    print(\"Отвергаем нулевую гипотезу\")\n",
    "else:\n",
    "    print(\"Не получилось отвергнуть нулевую гипотезу\")"
   ]
  },
  {
   "cell_type": "markdown",
   "metadata": {},
   "source": [
    "Вывод: по итогу проверки гипотезы делаем вывод, что средний доход клиента из оттока равен среднему доходу оставшегося клиента."
   ]
  },
  {
   "cell_type": "markdown",
   "metadata": {},
   "source": [
    "### Гипотеза 2.  Гипотеза различия количества используемых продуктов между клиентами, которые ушли/остались"
   ]
  },
  {
   "cell_type": "markdown",
   "metadata": {},
   "source": [
    "Нулевая гипотеза: среднее количество используемых продуктов клиентом из оттока равно среднему количеству продуктов, которое использует оставшийся клиент.\n",
    "\n",
    "Альтернативная гипотеза: среднее количество используемых продуктов отличается.\n",
    "\n",
    "Критический уровень статистической значимости задам на уровне общепринятого порогового значения — 5%.\n",
    "\n",
    "Использовать для проверки гипотезы буду метод scipy.stats.ttest_ind (array1, array2, equal_var)"
   ]
  },
  {
   "cell_type": "code",
   "execution_count": 30,
   "metadata": {},
   "outputs": [
    {
     "name": "stdout",
     "output_type": "stream",
     "text": [
      "P-value: 7.964667361392785e-139\n",
      "Отвергаем нулевую гипотезу\n"
     ]
    }
   ],
   "source": [
    "alpha = .05\n",
    "results = st.ttest_ind(churn_df['products'], active_df['products'], equal_var = False)\n",
    "print('P-value:', results.pvalue)\n",
    "\n",
    "if (results.pvalue < alpha):\n",
    "    print(\"Отвергаем нулевую гипотезу\")\n",
    "else:\n",
    "    print(\"Не получилось отвергнуть нулевую гипотезу\")"
   ]
  },
  {
   "cell_type": "markdown",
   "metadata": {},
   "source": [
    "Вывод: По итогу проверки гипотезы делаем вывод, что среднее количество продуктов, которое используют клиенты из оттока не равно среднему количеству продуктов, которое использует оставшийся клиент. "
   ]
  },
  {
   "cell_type": "code",
   "execution_count": 31,
   "metadata": {},
   "outputs": [
    {
     "name": "stdout",
     "output_type": "stream",
     "text": [
      "Среднее количество продуктов, используемых клиентом оттока: 2.377130291368884\n",
      "Среднее количество продуктов у оставшихся клиентов: 1.758356975453312\n"
     ]
    }
   ],
   "source": [
    "print('Среднее количество продуктов, используемых клиентом оттока:', churn_df['products'].describe()['mean'])\n",
    "print('Среднее количество продуктов у оставшихся клиентов:', active_df['products'].describe()['mean'])"
   ]
  },
  {
   "cell_type": "markdown",
   "metadata": {},
   "source": [
    "### Гипотеза 3.  Гипотеза различия количества баллов кредитного скоринга между клиентами, которые ушли /остались "
   ]
  },
  {
   "cell_type": "markdown",
   "metadata": {},
   "source": [
    "Нулевая гипотеза: среднее количество баллов кредитного скоринга у клиентов из оттока равно среднему количеству баллов кредитного скоринга, оставшихся клиентов.\n",
    "\n",
    "Альтернативная гипотеза: среднее количество количества баллов кредитного скоринга отличается.\n",
    "\n",
    "Критический уровень статистической значимости задам на уровне общепринятого порогового значения — 5%.\n",
    "\n",
    "Использовать для проверки гипотезы буду метод scipy.stats.ttest_ind (array1, array2, equal_var)"
   ]
  },
  {
   "cell_type": "code",
   "execution_count": 32,
   "metadata": {},
   "outputs": [
    {
     "name": "stdout",
     "output_type": "stream",
     "text": [
      "P-value: 2.525891079515767e-37\n",
      "Отвергаем нулевую гипотезу\n"
     ]
    }
   ],
   "source": [
    "alpha = .05\n",
    "results = st.ttest_ind(churn_df['score'], active_df['score'], equal_var = False)\n",
    "print('P-value:', results.pvalue)\n",
    "\n",
    "if (results.pvalue < alpha):\n",
    "    print(\"Отвергаем нулевую гипотезу\")\n",
    "else:\n",
    "    print(\"Не получилось отвергнуть нулевую гипотезу\")"
   ]
  },
  {
   "cell_type": "markdown",
   "metadata": {},
   "source": [
    "По итогу проверки гипотезы делаем вывод, что среднее количество баллов кредитного скоринга, у клиентов из оттока не равно среднему количеству баллов кредитного скоринга, оставшихся клиентов."
   ]
  },
  {
   "cell_type": "code",
   "execution_count": 33,
   "metadata": {},
   "outputs": [
    {
     "name": "stdout",
     "output_type": "stream",
     "text": [
      "Среднее количество баллов кредитного скоринга у клиентов оттока: 863.346893897746\n",
      "Среднее количество баллов кредитного скоринга у оставшихся клиентов: 845.4436906377205\n"
     ]
    }
   ],
   "source": [
    "print('Среднее количество баллов кредитного скоринга у клиентов оттока:', churn_df['score'].describe()['mean'])\n",
    "print('Среднее количество баллов кредитного скоринга у оставшихся клиентов:', active_df['score'].describe()['mean'])"
   ]
  },
  {
   "cell_type": "markdown",
   "metadata": {},
   "source": [
    "### Гипотеза 4.  Гипотеза различия оценки собственности между клиентами, которые ушли /остались "
   ]
  },
  {
   "cell_type": "markdown",
   "metadata": {},
   "source": [
    "Нулевая гипотеза: средняя оценка собственности клиентов из оттока равна средней оценке собственности оставшихся клиентов.\n",
    "\n",
    "Альтернативная гипотеза: средняя оценка собственности отличается.\n",
    "\n",
    "Критический уровень статистической значимости задам на уровне общепринятого порогового значения — 5%.\n",
    "\n",
    "Использовать для проверки гипотезы буду метод scipy.stats.ttest_ind (array1, array2, equal_var)"
   ]
  },
  {
   "cell_type": "code",
   "execution_count": 34,
   "metadata": {},
   "outputs": [
    {
     "name": "stdout",
     "output_type": "stream",
     "text": [
      "P-value: 8.694555982492184e-196\n",
      "Отвергаем нулевую гипотезу\n"
     ]
    }
   ],
   "source": [
    "alpha = .05\n",
    "results = st.ttest_ind(churn_df['equity'], active_df['equity'], equal_var = False)\n",
    "print('P-value:', results.pvalue)\n",
    "\n",
    "if (results.pvalue < alpha):\n",
    "    print(\"Отвергаем нулевую гипотезу\")\n",
    "else:\n",
    "    print(\"Не получилось отвергнуть нулевую гипотезу\")"
   ]
  },
  {
   "cell_type": "markdown",
   "metadata": {},
   "source": [
    "По итогу проверки гипотезы делаем вывод, что средняя оценка собственности клиентов из оттока не равна средней оценке собственности оставшихся клиентов."
   ]
  },
  {
   "cell_type": "code",
   "execution_count": 35,
   "metadata": {},
   "outputs": [
    {
     "name": "stdout",
     "output_type": "stream",
     "text": [
      "Средняя оценка собственности клиентов оттока: 3.7641561297416164\n",
      "Средняя оценка собственности оставшихся клиентов: 2.381152090785741\n"
     ]
    }
   ],
   "source": [
    "print('Средняя оценка собственности клиентов оттока:', churn_df['equity'].describe()['mean'])\n",
    "print('Средняя оценка собственности оставшихся клиентов:', active_df['equity'].describe()['mean'])"
   ]
  },
  {
   "cell_type": "markdown",
   "metadata": {},
   "source": [
    "### Гипотеза 5.  Гипотеза различия возраста между клиентами, которые ушли /остались "
   ]
  },
  {
   "cell_type": "markdown",
   "metadata": {},
   "source": [
    "Нулевая гипотеза: средний возраст клиентов из оттока равен среднему возрасту оставшихся клиентов.\n",
    "\n",
    "Альтернативная гипотеза: средний возраст клиентов отличается.\n",
    "\n",
    "Критический уровень статистической значимости задам на уровне общепринятого порогового значения — 5%.\n",
    "\n",
    "Использовать для проверки гипотезы буду метод scipy.stats.ttest_ind (array1, array2, equal_var)"
   ]
  },
  {
   "cell_type": "code",
   "execution_count": 36,
   "metadata": {},
   "outputs": [
    {
     "name": "stdout",
     "output_type": "stream",
     "text": [
      "P-value: nan\n",
      "Не получилось отвергнуть нулевую гипотезу\n"
     ]
    }
   ],
   "source": [
    "alpha = .05\n",
    "results = st.ttest_ind(churn_df['age'], active_df['age'], equal_var = False)\n",
    "print('P-value:', results.pvalue)\n",
    "\n",
    "if (results.pvalue < alpha):\n",
    "    print(\"Отвергаем нулевую гипотезу\")\n",
    "else:\n",
    "    print(\"Не получилось отвергнуть нулевую гипотезу\")"
   ]
  },
  {
   "cell_type": "markdown",
   "metadata": {},
   "source": [
    "По итогу проверки гипотезы делаем вывод, средний возраст клиентов из оттока не равен среднему возрасту оставшихся клиентов."
   ]
  },
  {
   "cell_type": "code",
   "execution_count": 37,
   "metadata": {},
   "outputs": [
    {
     "name": "stdout",
     "output_type": "stream",
     "text": [
      "Средний возраст клиентов оттока: 41.42959295929593\n",
      "Среднийвозраст оставшихся клиентов: 43.01628825271471\n"
     ]
    }
   ],
   "source": [
    "print('Средний возраст клиентов оттока:', churn_df['age'].describe()['mean'])\n",
    "print('Среднийвозраст оставшихся клиентов:', active_df['age'].describe()['mean'])"
   ]
  },
  {
   "cell_type": "markdown",
   "metadata": {},
   "source": [
    "### Выводы по блоку"
   ]
  },
  {
   "cell_type": "markdown",
   "metadata": {},
   "source": [
    "Были проверены 5 гипотез:\n",
    "    \n",
    "Гипотеза различия дохода между между клиентами, которые ушли /остались\n",
    "\n",
    "Гипотеза различия количества используемых продкутов между между клиентами, которые ушли /остались\n",
    "\n",
    "Гипотеза различия количества баллов кредитного скоринга между между клиентами, которые ушли /остались\n",
    "\n",
    "Гипотеза различия оценки собственности между клиентами, которые ушли /остались\n",
    "\n",
    "Гипотеза различия возраста между клиентами, которые ушли /остались\n",
    "\n",
    "Для проверки гипотез критический уровень статистической значимости задавала на уровне общепринятого порогового значения — 5%, использовала метод  метод scipy.stats.ttest_ind (array1, array2, equal_var).\n",
    "\n",
    "В 4 из 5 случаев нулевая гипотеза была отвергнута. \n",
    "\n",
    "По итогу проверки гипотезы различия дохода между теми клиентами, которые ушли и теми, которые остались пришли к выводу, что  средний доход клиента из оттока равен среднему доходу оставшегося клиента.\n",
    "\n",
    "По итогу проверки гипотезы различия количества используемых продуктов делаем вывод, что среднее количество продуктов, которое используют клиенты из оттока не равно среднему количеству продуктов, которое использует оставшийся клиент.\n",
    "\n",
    "По итогу проверки гипотезы различия количества баллов кредитного скоринга делаем вывод, что  среднее количество баллов кредитного скоринга, у клиентов из оттока не равно среднему количеству баллов кредитного скоринга, оставшихся клиентов.\n",
    "\n",
    "По итогу проверки гипотезы различия оценки собственности делаем вывод, что средняя оценка собственности клиентов из оттока не равна средней оценке собственности оставшихся клиентов.\n",
    "\n",
    "По итогу проверки гипотезы различия возраста делаем вывод, что средний возраст клиентов из оттока не равен среднему возрасту оставшихся клиентов.\n",
    "\n",
    "Таким образом, при формировании портретов немаловажно учитывать показатели: products, score, equity, age.\n"
   ]
  },
  {
   "cell_type": "markdown",
   "metadata": {},
   "source": [
    "## Формирование портретов пользователей, склонных к оттоку"
   ]
  },
  {
   "cell_type": "markdown",
   "metadata": {},
   "source": [
    "### Портрет №1"
   ]
  },
  {
   "cell_type": "markdown",
   "metadata": {},
   "source": [
    "Мужчины и женщины до 50 лет с кредитным рейтингом от 825 баллов\n",
    "\n",
    "Используют от 2 продуктов банка и были активны в последнее время\n",
    "\n",
    "На балансе более 800 т.р."
   ]
  },
  {
   "cell_type": "code",
   "execution_count": 38,
   "metadata": {},
   "outputs": [
    {
     "name": "stdout",
     "output_type": "stream",
     "text": [
      "Количество клиентов в портрете: 582\n"
     ]
    }
   ],
   "source": [
    "#Делаю срез по выбранным параметрам, сохраняю в новый датафрейм\n",
    "p1_df = df.query('age < 50 and balance >= 800000 and score > 825 and last_activity == 1 and products >=2') \n",
    "print('Количество клиентов в портрете:', len(p1_df))"
   ]
  },
  {
   "cell_type": "code",
   "execution_count": 47,
   "metadata": {},
   "outputs": [
    {
     "data": {
      "application/vnd.plotly.v1+json": {
       "config": {
        "plotlyServerURL": "https://plot.ly"
       },
       "data": [
        {
         "labels": [
          "Ушедшие",
          "Оставшиеся"
         ],
         "type": "pie",
         "values": [
          381,
          201
         ]
        }
       ],
       "layout": {
        "template": {
         "data": {
          "bar": [
           {
            "error_x": {
             "color": "#2a3f5f"
            },
            "error_y": {
             "color": "#2a3f5f"
            },
            "marker": {
             "line": {
              "color": "#E5ECF6",
              "width": 0.5
             },
             "pattern": {
              "fillmode": "overlay",
              "size": 10,
              "solidity": 0.2
             }
            },
            "type": "bar"
           }
          ],
          "barpolar": [
           {
            "marker": {
             "line": {
              "color": "#E5ECF6",
              "width": 0.5
             },
             "pattern": {
              "fillmode": "overlay",
              "size": 10,
              "solidity": 0.2
             }
            },
            "type": "barpolar"
           }
          ],
          "carpet": [
           {
            "aaxis": {
             "endlinecolor": "#2a3f5f",
             "gridcolor": "white",
             "linecolor": "white",
             "minorgridcolor": "white",
             "startlinecolor": "#2a3f5f"
            },
            "baxis": {
             "endlinecolor": "#2a3f5f",
             "gridcolor": "white",
             "linecolor": "white",
             "minorgridcolor": "white",
             "startlinecolor": "#2a3f5f"
            },
            "type": "carpet"
           }
          ],
          "choropleth": [
           {
            "colorbar": {
             "outlinewidth": 0,
             "ticks": ""
            },
            "type": "choropleth"
           }
          ],
          "contour": [
           {
            "colorbar": {
             "outlinewidth": 0,
             "ticks": ""
            },
            "colorscale": [
             [
              0,
              "#0d0887"
             ],
             [
              0.1111111111111111,
              "#46039f"
             ],
             [
              0.2222222222222222,
              "#7201a8"
             ],
             [
              0.3333333333333333,
              "#9c179e"
             ],
             [
              0.4444444444444444,
              "#bd3786"
             ],
             [
              0.5555555555555556,
              "#d8576b"
             ],
             [
              0.6666666666666666,
              "#ed7953"
             ],
             [
              0.7777777777777778,
              "#fb9f3a"
             ],
             [
              0.8888888888888888,
              "#fdca26"
             ],
             [
              1,
              "#f0f921"
             ]
            ],
            "type": "contour"
           }
          ],
          "contourcarpet": [
           {
            "colorbar": {
             "outlinewidth": 0,
             "ticks": ""
            },
            "type": "contourcarpet"
           }
          ],
          "heatmap": [
           {
            "colorbar": {
             "outlinewidth": 0,
             "ticks": ""
            },
            "colorscale": [
             [
              0,
              "#0d0887"
             ],
             [
              0.1111111111111111,
              "#46039f"
             ],
             [
              0.2222222222222222,
              "#7201a8"
             ],
             [
              0.3333333333333333,
              "#9c179e"
             ],
             [
              0.4444444444444444,
              "#bd3786"
             ],
             [
              0.5555555555555556,
              "#d8576b"
             ],
             [
              0.6666666666666666,
              "#ed7953"
             ],
             [
              0.7777777777777778,
              "#fb9f3a"
             ],
             [
              0.8888888888888888,
              "#fdca26"
             ],
             [
              1,
              "#f0f921"
             ]
            ],
            "type": "heatmap"
           }
          ],
          "heatmapgl": [
           {
            "colorbar": {
             "outlinewidth": 0,
             "ticks": ""
            },
            "colorscale": [
             [
              0,
              "#0d0887"
             ],
             [
              0.1111111111111111,
              "#46039f"
             ],
             [
              0.2222222222222222,
              "#7201a8"
             ],
             [
              0.3333333333333333,
              "#9c179e"
             ],
             [
              0.4444444444444444,
              "#bd3786"
             ],
             [
              0.5555555555555556,
              "#d8576b"
             ],
             [
              0.6666666666666666,
              "#ed7953"
             ],
             [
              0.7777777777777778,
              "#fb9f3a"
             ],
             [
              0.8888888888888888,
              "#fdca26"
             ],
             [
              1,
              "#f0f921"
             ]
            ],
            "type": "heatmapgl"
           }
          ],
          "histogram": [
           {
            "marker": {
             "pattern": {
              "fillmode": "overlay",
              "size": 10,
              "solidity": 0.2
             }
            },
            "type": "histogram"
           }
          ],
          "histogram2d": [
           {
            "colorbar": {
             "outlinewidth": 0,
             "ticks": ""
            },
            "colorscale": [
             [
              0,
              "#0d0887"
             ],
             [
              0.1111111111111111,
              "#46039f"
             ],
             [
              0.2222222222222222,
              "#7201a8"
             ],
             [
              0.3333333333333333,
              "#9c179e"
             ],
             [
              0.4444444444444444,
              "#bd3786"
             ],
             [
              0.5555555555555556,
              "#d8576b"
             ],
             [
              0.6666666666666666,
              "#ed7953"
             ],
             [
              0.7777777777777778,
              "#fb9f3a"
             ],
             [
              0.8888888888888888,
              "#fdca26"
             ],
             [
              1,
              "#f0f921"
             ]
            ],
            "type": "histogram2d"
           }
          ],
          "histogram2dcontour": [
           {
            "colorbar": {
             "outlinewidth": 0,
             "ticks": ""
            },
            "colorscale": [
             [
              0,
              "#0d0887"
             ],
             [
              0.1111111111111111,
              "#46039f"
             ],
             [
              0.2222222222222222,
              "#7201a8"
             ],
             [
              0.3333333333333333,
              "#9c179e"
             ],
             [
              0.4444444444444444,
              "#bd3786"
             ],
             [
              0.5555555555555556,
              "#d8576b"
             ],
             [
              0.6666666666666666,
              "#ed7953"
             ],
             [
              0.7777777777777778,
              "#fb9f3a"
             ],
             [
              0.8888888888888888,
              "#fdca26"
             ],
             [
              1,
              "#f0f921"
             ]
            ],
            "type": "histogram2dcontour"
           }
          ],
          "mesh3d": [
           {
            "colorbar": {
             "outlinewidth": 0,
             "ticks": ""
            },
            "type": "mesh3d"
           }
          ],
          "parcoords": [
           {
            "line": {
             "colorbar": {
              "outlinewidth": 0,
              "ticks": ""
             }
            },
            "type": "parcoords"
           }
          ],
          "pie": [
           {
            "automargin": true,
            "type": "pie"
           }
          ],
          "scatter": [
           {
            "fillpattern": {
             "fillmode": "overlay",
             "size": 10,
             "solidity": 0.2
            },
            "type": "scatter"
           }
          ],
          "scatter3d": [
           {
            "line": {
             "colorbar": {
              "outlinewidth": 0,
              "ticks": ""
             }
            },
            "marker": {
             "colorbar": {
              "outlinewidth": 0,
              "ticks": ""
             }
            },
            "type": "scatter3d"
           }
          ],
          "scattercarpet": [
           {
            "marker": {
             "colorbar": {
              "outlinewidth": 0,
              "ticks": ""
             }
            },
            "type": "scattercarpet"
           }
          ],
          "scattergeo": [
           {
            "marker": {
             "colorbar": {
              "outlinewidth": 0,
              "ticks": ""
             }
            },
            "type": "scattergeo"
           }
          ],
          "scattergl": [
           {
            "marker": {
             "colorbar": {
              "outlinewidth": 0,
              "ticks": ""
             }
            },
            "type": "scattergl"
           }
          ],
          "scattermapbox": [
           {
            "marker": {
             "colorbar": {
              "outlinewidth": 0,
              "ticks": ""
             }
            },
            "type": "scattermapbox"
           }
          ],
          "scatterpolar": [
           {
            "marker": {
             "colorbar": {
              "outlinewidth": 0,
              "ticks": ""
             }
            },
            "type": "scatterpolar"
           }
          ],
          "scatterpolargl": [
           {
            "marker": {
             "colorbar": {
              "outlinewidth": 0,
              "ticks": ""
             }
            },
            "type": "scatterpolargl"
           }
          ],
          "scatterternary": [
           {
            "marker": {
             "colorbar": {
              "outlinewidth": 0,
              "ticks": ""
             }
            },
            "type": "scatterternary"
           }
          ],
          "surface": [
           {
            "colorbar": {
             "outlinewidth": 0,
             "ticks": ""
            },
            "colorscale": [
             [
              0,
              "#0d0887"
             ],
             [
              0.1111111111111111,
              "#46039f"
             ],
             [
              0.2222222222222222,
              "#7201a8"
             ],
             [
              0.3333333333333333,
              "#9c179e"
             ],
             [
              0.4444444444444444,
              "#bd3786"
             ],
             [
              0.5555555555555556,
              "#d8576b"
             ],
             [
              0.6666666666666666,
              "#ed7953"
             ],
             [
              0.7777777777777778,
              "#fb9f3a"
             ],
             [
              0.8888888888888888,
              "#fdca26"
             ],
             [
              1,
              "#f0f921"
             ]
            ],
            "type": "surface"
           }
          ],
          "table": [
           {
            "cells": {
             "fill": {
              "color": "#EBF0F8"
             },
             "line": {
              "color": "white"
             }
            },
            "header": {
             "fill": {
              "color": "#C8D4E3"
             },
             "line": {
              "color": "white"
             }
            },
            "type": "table"
           }
          ]
         },
         "layout": {
          "annotationdefaults": {
           "arrowcolor": "#2a3f5f",
           "arrowhead": 0,
           "arrowwidth": 1
          },
          "autotypenumbers": "strict",
          "coloraxis": {
           "colorbar": {
            "outlinewidth": 0,
            "ticks": ""
           }
          },
          "colorscale": {
           "diverging": [
            [
             0,
             "#8e0152"
            ],
            [
             0.1,
             "#c51b7d"
            ],
            [
             0.2,
             "#de77ae"
            ],
            [
             0.3,
             "#f1b6da"
            ],
            [
             0.4,
             "#fde0ef"
            ],
            [
             0.5,
             "#f7f7f7"
            ],
            [
             0.6,
             "#e6f5d0"
            ],
            [
             0.7,
             "#b8e186"
            ],
            [
             0.8,
             "#7fbc41"
            ],
            [
             0.9,
             "#4d9221"
            ],
            [
             1,
             "#276419"
            ]
           ],
           "sequential": [
            [
             0,
             "#0d0887"
            ],
            [
             0.1111111111111111,
             "#46039f"
            ],
            [
             0.2222222222222222,
             "#7201a8"
            ],
            [
             0.3333333333333333,
             "#9c179e"
            ],
            [
             0.4444444444444444,
             "#bd3786"
            ],
            [
             0.5555555555555556,
             "#d8576b"
            ],
            [
             0.6666666666666666,
             "#ed7953"
            ],
            [
             0.7777777777777778,
             "#fb9f3a"
            ],
            [
             0.8888888888888888,
             "#fdca26"
            ],
            [
             1,
             "#f0f921"
            ]
           ],
           "sequentialminus": [
            [
             0,
             "#0d0887"
            ],
            [
             0.1111111111111111,
             "#46039f"
            ],
            [
             0.2222222222222222,
             "#7201a8"
            ],
            [
             0.3333333333333333,
             "#9c179e"
            ],
            [
             0.4444444444444444,
             "#bd3786"
            ],
            [
             0.5555555555555556,
             "#d8576b"
            ],
            [
             0.6666666666666666,
             "#ed7953"
            ],
            [
             0.7777777777777778,
             "#fb9f3a"
            ],
            [
             0.8888888888888888,
             "#fdca26"
            ],
            [
             1,
             "#f0f921"
            ]
           ]
          },
          "colorway": [
           "#636efa",
           "#EF553B",
           "#00cc96",
           "#ab63fa",
           "#FFA15A",
           "#19d3f3",
           "#FF6692",
           "#B6E880",
           "#FF97FF",
           "#FECB52"
          ],
          "font": {
           "color": "#2a3f5f"
          },
          "geo": {
           "bgcolor": "white",
           "lakecolor": "white",
           "landcolor": "#E5ECF6",
           "showlakes": true,
           "showland": true,
           "subunitcolor": "white"
          },
          "hoverlabel": {
           "align": "left"
          },
          "hovermode": "closest",
          "mapbox": {
           "style": "light"
          },
          "paper_bgcolor": "white",
          "plot_bgcolor": "#E5ECF6",
          "polar": {
           "angularaxis": {
            "gridcolor": "white",
            "linecolor": "white",
            "ticks": ""
           },
           "bgcolor": "#E5ECF6",
           "radialaxis": {
            "gridcolor": "white",
            "linecolor": "white",
            "ticks": ""
           }
          },
          "scene": {
           "xaxis": {
            "backgroundcolor": "#E5ECF6",
            "gridcolor": "white",
            "gridwidth": 2,
            "linecolor": "white",
            "showbackground": true,
            "ticks": "",
            "zerolinecolor": "white"
           },
           "yaxis": {
            "backgroundcolor": "#E5ECF6",
            "gridcolor": "white",
            "gridwidth": 2,
            "linecolor": "white",
            "showbackground": true,
            "ticks": "",
            "zerolinecolor": "white"
           },
           "zaxis": {
            "backgroundcolor": "#E5ECF6",
            "gridcolor": "white",
            "gridwidth": 2,
            "linecolor": "white",
            "showbackground": true,
            "ticks": "",
            "zerolinecolor": "white"
           }
          },
          "shapedefaults": {
           "line": {
            "color": "#2a3f5f"
           }
          },
          "ternary": {
           "aaxis": {
            "gridcolor": "white",
            "linecolor": "white",
            "ticks": ""
           },
           "baxis": {
            "gridcolor": "white",
            "linecolor": "white",
            "ticks": ""
           },
           "bgcolor": "#E5ECF6",
           "caxis": {
            "gridcolor": "white",
            "linecolor": "white",
            "ticks": ""
           }
          },
          "title": {
           "x": 0.05
          },
          "xaxis": {
           "automargin": true,
           "gridcolor": "white",
           "linecolor": "white",
           "ticks": "",
           "title": {
            "standoff": 15
           },
           "zerolinecolor": "white",
           "zerolinewidth": 2
          },
          "yaxis": {
           "automargin": true,
           "gridcolor": "white",
           "linecolor": "white",
           "ticks": "",
           "title": {
            "standoff": 15
           },
           "zerolinecolor": "white",
           "zerolinewidth": 2
          }
         }
        }
       }
      },
      "text/html": [
       "<div>                            <div id=\"f8ae76d8-5165-4301-9140-c38e0359f583\" class=\"plotly-graph-div\" style=\"height:525px; width:100%;\"></div>            <script type=\"text/javascript\">                require([\"plotly\"], function(Plotly) {                    window.PLOTLYENV=window.PLOTLYENV || {};                                    if (document.getElementById(\"f8ae76d8-5165-4301-9140-c38e0359f583\")) {                    Plotly.newPlot(                        \"f8ae76d8-5165-4301-9140-c38e0359f583\",                        [{\"labels\":[\"\\u0423\\u0448\\u0435\\u0434\\u0448\\u0438\\u0435\",\"\\u041e\\u0441\\u0442\\u0430\\u0432\\u0448\\u0438\\u0435\\u0441\\u044f\"],\"values\":[381,201],\"type\":\"pie\"}],                        {\"template\":{\"data\":{\"histogram2dcontour\":[{\"type\":\"histogram2dcontour\",\"colorbar\":{\"outlinewidth\":0,\"ticks\":\"\"},\"colorscale\":[[0.0,\"#0d0887\"],[0.1111111111111111,\"#46039f\"],[0.2222222222222222,\"#7201a8\"],[0.3333333333333333,\"#9c179e\"],[0.4444444444444444,\"#bd3786\"],[0.5555555555555556,\"#d8576b\"],[0.6666666666666666,\"#ed7953\"],[0.7777777777777778,\"#fb9f3a\"],[0.8888888888888888,\"#fdca26\"],[1.0,\"#f0f921\"]]}],\"choropleth\":[{\"type\":\"choropleth\",\"colorbar\":{\"outlinewidth\":0,\"ticks\":\"\"}}],\"histogram2d\":[{\"type\":\"histogram2d\",\"colorbar\":{\"outlinewidth\":0,\"ticks\":\"\"},\"colorscale\":[[0.0,\"#0d0887\"],[0.1111111111111111,\"#46039f\"],[0.2222222222222222,\"#7201a8\"],[0.3333333333333333,\"#9c179e\"],[0.4444444444444444,\"#bd3786\"],[0.5555555555555556,\"#d8576b\"],[0.6666666666666666,\"#ed7953\"],[0.7777777777777778,\"#fb9f3a\"],[0.8888888888888888,\"#fdca26\"],[1.0,\"#f0f921\"]]}],\"heatmap\":[{\"type\":\"heatmap\",\"colorbar\":{\"outlinewidth\":0,\"ticks\":\"\"},\"colorscale\":[[0.0,\"#0d0887\"],[0.1111111111111111,\"#46039f\"],[0.2222222222222222,\"#7201a8\"],[0.3333333333333333,\"#9c179e\"],[0.4444444444444444,\"#bd3786\"],[0.5555555555555556,\"#d8576b\"],[0.6666666666666666,\"#ed7953\"],[0.7777777777777778,\"#fb9f3a\"],[0.8888888888888888,\"#fdca26\"],[1.0,\"#f0f921\"]]}],\"heatmapgl\":[{\"type\":\"heatmapgl\",\"colorbar\":{\"outlinewidth\":0,\"ticks\":\"\"},\"colorscale\":[[0.0,\"#0d0887\"],[0.1111111111111111,\"#46039f\"],[0.2222222222222222,\"#7201a8\"],[0.3333333333333333,\"#9c179e\"],[0.4444444444444444,\"#bd3786\"],[0.5555555555555556,\"#d8576b\"],[0.6666666666666666,\"#ed7953\"],[0.7777777777777778,\"#fb9f3a\"],[0.8888888888888888,\"#fdca26\"],[1.0,\"#f0f921\"]]}],\"contourcarpet\":[{\"type\":\"contourcarpet\",\"colorbar\":{\"outlinewidth\":0,\"ticks\":\"\"}}],\"contour\":[{\"type\":\"contour\",\"colorbar\":{\"outlinewidth\":0,\"ticks\":\"\"},\"colorscale\":[[0.0,\"#0d0887\"],[0.1111111111111111,\"#46039f\"],[0.2222222222222222,\"#7201a8\"],[0.3333333333333333,\"#9c179e\"],[0.4444444444444444,\"#bd3786\"],[0.5555555555555556,\"#d8576b\"],[0.6666666666666666,\"#ed7953\"],[0.7777777777777778,\"#fb9f3a\"],[0.8888888888888888,\"#fdca26\"],[1.0,\"#f0f921\"]]}],\"surface\":[{\"type\":\"surface\",\"colorbar\":{\"outlinewidth\":0,\"ticks\":\"\"},\"colorscale\":[[0.0,\"#0d0887\"],[0.1111111111111111,\"#46039f\"],[0.2222222222222222,\"#7201a8\"],[0.3333333333333333,\"#9c179e\"],[0.4444444444444444,\"#bd3786\"],[0.5555555555555556,\"#d8576b\"],[0.6666666666666666,\"#ed7953\"],[0.7777777777777778,\"#fb9f3a\"],[0.8888888888888888,\"#fdca26\"],[1.0,\"#f0f921\"]]}],\"mesh3d\":[{\"type\":\"mesh3d\",\"colorbar\":{\"outlinewidth\":0,\"ticks\":\"\"}}],\"scatter\":[{\"fillpattern\":{\"fillmode\":\"overlay\",\"size\":10,\"solidity\":0.2},\"type\":\"scatter\"}],\"parcoords\":[{\"type\":\"parcoords\",\"line\":{\"colorbar\":{\"outlinewidth\":0,\"ticks\":\"\"}}}],\"scatterpolargl\":[{\"type\":\"scatterpolargl\",\"marker\":{\"colorbar\":{\"outlinewidth\":0,\"ticks\":\"\"}}}],\"bar\":[{\"error_x\":{\"color\":\"#2a3f5f\"},\"error_y\":{\"color\":\"#2a3f5f\"},\"marker\":{\"line\":{\"color\":\"#E5ECF6\",\"width\":0.5},\"pattern\":{\"fillmode\":\"overlay\",\"size\":10,\"solidity\":0.2}},\"type\":\"bar\"}],\"scattergeo\":[{\"type\":\"scattergeo\",\"marker\":{\"colorbar\":{\"outlinewidth\":0,\"ticks\":\"\"}}}],\"scatterpolar\":[{\"type\":\"scatterpolar\",\"marker\":{\"colorbar\":{\"outlinewidth\":0,\"ticks\":\"\"}}}],\"histogram\":[{\"marker\":{\"pattern\":{\"fillmode\":\"overlay\",\"size\":10,\"solidity\":0.2}},\"type\":\"histogram\"}],\"scattergl\":[{\"type\":\"scattergl\",\"marker\":{\"colorbar\":{\"outlinewidth\":0,\"ticks\":\"\"}}}],\"scatter3d\":[{\"type\":\"scatter3d\",\"line\":{\"colorbar\":{\"outlinewidth\":0,\"ticks\":\"\"}},\"marker\":{\"colorbar\":{\"outlinewidth\":0,\"ticks\":\"\"}}}],\"scattermapbox\":[{\"type\":\"scattermapbox\",\"marker\":{\"colorbar\":{\"outlinewidth\":0,\"ticks\":\"\"}}}],\"scatterternary\":[{\"type\":\"scatterternary\",\"marker\":{\"colorbar\":{\"outlinewidth\":0,\"ticks\":\"\"}}}],\"scattercarpet\":[{\"type\":\"scattercarpet\",\"marker\":{\"colorbar\":{\"outlinewidth\":0,\"ticks\":\"\"}}}],\"carpet\":[{\"aaxis\":{\"endlinecolor\":\"#2a3f5f\",\"gridcolor\":\"white\",\"linecolor\":\"white\",\"minorgridcolor\":\"white\",\"startlinecolor\":\"#2a3f5f\"},\"baxis\":{\"endlinecolor\":\"#2a3f5f\",\"gridcolor\":\"white\",\"linecolor\":\"white\",\"minorgridcolor\":\"white\",\"startlinecolor\":\"#2a3f5f\"},\"type\":\"carpet\"}],\"table\":[{\"cells\":{\"fill\":{\"color\":\"#EBF0F8\"},\"line\":{\"color\":\"white\"}},\"header\":{\"fill\":{\"color\":\"#C8D4E3\"},\"line\":{\"color\":\"white\"}},\"type\":\"table\"}],\"barpolar\":[{\"marker\":{\"line\":{\"color\":\"#E5ECF6\",\"width\":0.5},\"pattern\":{\"fillmode\":\"overlay\",\"size\":10,\"solidity\":0.2}},\"type\":\"barpolar\"}],\"pie\":[{\"automargin\":true,\"type\":\"pie\"}]},\"layout\":{\"autotypenumbers\":\"strict\",\"colorway\":[\"#636efa\",\"#EF553B\",\"#00cc96\",\"#ab63fa\",\"#FFA15A\",\"#19d3f3\",\"#FF6692\",\"#B6E880\",\"#FF97FF\",\"#FECB52\"],\"font\":{\"color\":\"#2a3f5f\"},\"hovermode\":\"closest\",\"hoverlabel\":{\"align\":\"left\"},\"paper_bgcolor\":\"white\",\"plot_bgcolor\":\"#E5ECF6\",\"polar\":{\"bgcolor\":\"#E5ECF6\",\"angularaxis\":{\"gridcolor\":\"white\",\"linecolor\":\"white\",\"ticks\":\"\"},\"radialaxis\":{\"gridcolor\":\"white\",\"linecolor\":\"white\",\"ticks\":\"\"}},\"ternary\":{\"bgcolor\":\"#E5ECF6\",\"aaxis\":{\"gridcolor\":\"white\",\"linecolor\":\"white\",\"ticks\":\"\"},\"baxis\":{\"gridcolor\":\"white\",\"linecolor\":\"white\",\"ticks\":\"\"},\"caxis\":{\"gridcolor\":\"white\",\"linecolor\":\"white\",\"ticks\":\"\"}},\"coloraxis\":{\"colorbar\":{\"outlinewidth\":0,\"ticks\":\"\"}},\"colorscale\":{\"sequential\":[[0.0,\"#0d0887\"],[0.1111111111111111,\"#46039f\"],[0.2222222222222222,\"#7201a8\"],[0.3333333333333333,\"#9c179e\"],[0.4444444444444444,\"#bd3786\"],[0.5555555555555556,\"#d8576b\"],[0.6666666666666666,\"#ed7953\"],[0.7777777777777778,\"#fb9f3a\"],[0.8888888888888888,\"#fdca26\"],[1.0,\"#f0f921\"]],\"sequentialminus\":[[0.0,\"#0d0887\"],[0.1111111111111111,\"#46039f\"],[0.2222222222222222,\"#7201a8\"],[0.3333333333333333,\"#9c179e\"],[0.4444444444444444,\"#bd3786\"],[0.5555555555555556,\"#d8576b\"],[0.6666666666666666,\"#ed7953\"],[0.7777777777777778,\"#fb9f3a\"],[0.8888888888888888,\"#fdca26\"],[1.0,\"#f0f921\"]],\"diverging\":[[0,\"#8e0152\"],[0.1,\"#c51b7d\"],[0.2,\"#de77ae\"],[0.3,\"#f1b6da\"],[0.4,\"#fde0ef\"],[0.5,\"#f7f7f7\"],[0.6,\"#e6f5d0\"],[0.7,\"#b8e186\"],[0.8,\"#7fbc41\"],[0.9,\"#4d9221\"],[1,\"#276419\"]]},\"xaxis\":{\"gridcolor\":\"white\",\"linecolor\":\"white\",\"ticks\":\"\",\"title\":{\"standoff\":15},\"zerolinecolor\":\"white\",\"automargin\":true,\"zerolinewidth\":2},\"yaxis\":{\"gridcolor\":\"white\",\"linecolor\":\"white\",\"ticks\":\"\",\"title\":{\"standoff\":15},\"zerolinecolor\":\"white\",\"automargin\":true,\"zerolinewidth\":2},\"scene\":{\"xaxis\":{\"backgroundcolor\":\"#E5ECF6\",\"gridcolor\":\"white\",\"linecolor\":\"white\",\"showbackground\":true,\"ticks\":\"\",\"zerolinecolor\":\"white\",\"gridwidth\":2},\"yaxis\":{\"backgroundcolor\":\"#E5ECF6\",\"gridcolor\":\"white\",\"linecolor\":\"white\",\"showbackground\":true,\"ticks\":\"\",\"zerolinecolor\":\"white\",\"gridwidth\":2},\"zaxis\":{\"backgroundcolor\":\"#E5ECF6\",\"gridcolor\":\"white\",\"linecolor\":\"white\",\"showbackground\":true,\"ticks\":\"\",\"zerolinecolor\":\"white\",\"gridwidth\":2}},\"shapedefaults\":{\"line\":{\"color\":\"#2a3f5f\"}},\"annotationdefaults\":{\"arrowcolor\":\"#2a3f5f\",\"arrowhead\":0,\"arrowwidth\":1},\"geo\":{\"bgcolor\":\"white\",\"landcolor\":\"#E5ECF6\",\"subunitcolor\":\"white\",\"showland\":true,\"showlakes\":true,\"lakecolor\":\"white\"},\"title\":{\"x\":0.05},\"mapbox\":{\"style\":\"light\"}}}},                        {\"responsive\": true}                    ).then(function(){\n",
       "                            \n",
       "var gd = document.getElementById('f8ae76d8-5165-4301-9140-c38e0359f583');\n",
       "var x = new MutationObserver(function (mutations, observer) {{\n",
       "        var display = window.getComputedStyle(gd).display;\n",
       "        if (!display || display === 'none') {{\n",
       "            console.log([gd, 'removed!']);\n",
       "            Plotly.purge(gd);\n",
       "            observer.disconnect();\n",
       "        }}\n",
       "}});\n",
       "\n",
       "// Listen for the removal of the full notebook cells\n",
       "var notebookContainer = gd.closest('#notebook-container');\n",
       "if (notebookContainer) {{\n",
       "    x.observe(notebookContainer, {childList: true});\n",
       "}}\n",
       "\n",
       "// Listen for the clearing of the current output cell\n",
       "var outputEl = gd.closest('.output');\n",
       "if (outputEl) {{\n",
       "    x.observe(outputEl, {childList: true});\n",
       "}}\n",
       "\n",
       "                        })                };                });            </script>        </div>"
      ]
     },
     "metadata": {},
     "output_type": "display_data"
    }
   ],
   "source": [
    "#Покажу процент оттока на круговой диаграмме\n",
    "fig = go.Figure(\n",
    "    data = [go.Pie(labels= p1_df['churn'].unique(), values = p1_df['churn'].value_counts())])\n",
    "fig.show()"
   ]
  },
  {
   "cell_type": "markdown",
   "metadata": {},
   "source": [
    "### Портрет №2"
   ]
  },
  {
   "cell_type": "markdown",
   "metadata": {},
   "source": [
    "Мужчины и женщины в возрасте от 50 лет.\n",
    "\n",
    "Собственность которых оценивается на 3 балла и выше. \n",
    "\n",
    "Без оформленнных кредитных карт."
   ]
  },
  {
   "cell_type": "code",
   "execution_count": 40,
   "metadata": {},
   "outputs": [
    {
     "name": "stdout",
     "output_type": "stream",
     "text": [
      "Количество клиентов в портрете: 743\n"
     ]
    }
   ],
   "source": [
    "#Делаю срез по выбранным параметрам, сохраняю в новый датафрейм\n",
    "p2_df = df.query('age >= 50 and equity >= 3 and credit_card == 0') \n",
    "print('Количество клиентов в портрете:', len(p2_df))"
   ]
  },
  {
   "cell_type": "code",
   "execution_count": 41,
   "metadata": {},
   "outputs": [
    {
     "data": {
      "application/vnd.plotly.v1+json": {
       "config": {
        "plotlyServerURL": "https://plot.ly"
       },
       "data": [
        {
         "labels": [
          "Ушедшие",
          "Оставшиеся"
         ],
         "type": "pie",
         "values": [
          513,
          230
         ]
        }
       ],
       "layout": {
        "template": {
         "data": {
          "bar": [
           {
            "error_x": {
             "color": "#2a3f5f"
            },
            "error_y": {
             "color": "#2a3f5f"
            },
            "marker": {
             "line": {
              "color": "#E5ECF6",
              "width": 0.5
             },
             "pattern": {
              "fillmode": "overlay",
              "size": 10,
              "solidity": 0.2
             }
            },
            "type": "bar"
           }
          ],
          "barpolar": [
           {
            "marker": {
             "line": {
              "color": "#E5ECF6",
              "width": 0.5
             },
             "pattern": {
              "fillmode": "overlay",
              "size": 10,
              "solidity": 0.2
             }
            },
            "type": "barpolar"
           }
          ],
          "carpet": [
           {
            "aaxis": {
             "endlinecolor": "#2a3f5f",
             "gridcolor": "white",
             "linecolor": "white",
             "minorgridcolor": "white",
             "startlinecolor": "#2a3f5f"
            },
            "baxis": {
             "endlinecolor": "#2a3f5f",
             "gridcolor": "white",
             "linecolor": "white",
             "minorgridcolor": "white",
             "startlinecolor": "#2a3f5f"
            },
            "type": "carpet"
           }
          ],
          "choropleth": [
           {
            "colorbar": {
             "outlinewidth": 0,
             "ticks": ""
            },
            "type": "choropleth"
           }
          ],
          "contour": [
           {
            "colorbar": {
             "outlinewidth": 0,
             "ticks": ""
            },
            "colorscale": [
             [
              0,
              "#0d0887"
             ],
             [
              0.1111111111111111,
              "#46039f"
             ],
             [
              0.2222222222222222,
              "#7201a8"
             ],
             [
              0.3333333333333333,
              "#9c179e"
             ],
             [
              0.4444444444444444,
              "#bd3786"
             ],
             [
              0.5555555555555556,
              "#d8576b"
             ],
             [
              0.6666666666666666,
              "#ed7953"
             ],
             [
              0.7777777777777778,
              "#fb9f3a"
             ],
             [
              0.8888888888888888,
              "#fdca26"
             ],
             [
              1,
              "#f0f921"
             ]
            ],
            "type": "contour"
           }
          ],
          "contourcarpet": [
           {
            "colorbar": {
             "outlinewidth": 0,
             "ticks": ""
            },
            "type": "contourcarpet"
           }
          ],
          "heatmap": [
           {
            "colorbar": {
             "outlinewidth": 0,
             "ticks": ""
            },
            "colorscale": [
             [
              0,
              "#0d0887"
             ],
             [
              0.1111111111111111,
              "#46039f"
             ],
             [
              0.2222222222222222,
              "#7201a8"
             ],
             [
              0.3333333333333333,
              "#9c179e"
             ],
             [
              0.4444444444444444,
              "#bd3786"
             ],
             [
              0.5555555555555556,
              "#d8576b"
             ],
             [
              0.6666666666666666,
              "#ed7953"
             ],
             [
              0.7777777777777778,
              "#fb9f3a"
             ],
             [
              0.8888888888888888,
              "#fdca26"
             ],
             [
              1,
              "#f0f921"
             ]
            ],
            "type": "heatmap"
           }
          ],
          "heatmapgl": [
           {
            "colorbar": {
             "outlinewidth": 0,
             "ticks": ""
            },
            "colorscale": [
             [
              0,
              "#0d0887"
             ],
             [
              0.1111111111111111,
              "#46039f"
             ],
             [
              0.2222222222222222,
              "#7201a8"
             ],
             [
              0.3333333333333333,
              "#9c179e"
             ],
             [
              0.4444444444444444,
              "#bd3786"
             ],
             [
              0.5555555555555556,
              "#d8576b"
             ],
             [
              0.6666666666666666,
              "#ed7953"
             ],
             [
              0.7777777777777778,
              "#fb9f3a"
             ],
             [
              0.8888888888888888,
              "#fdca26"
             ],
             [
              1,
              "#f0f921"
             ]
            ],
            "type": "heatmapgl"
           }
          ],
          "histogram": [
           {
            "marker": {
             "pattern": {
              "fillmode": "overlay",
              "size": 10,
              "solidity": 0.2
             }
            },
            "type": "histogram"
           }
          ],
          "histogram2d": [
           {
            "colorbar": {
             "outlinewidth": 0,
             "ticks": ""
            },
            "colorscale": [
             [
              0,
              "#0d0887"
             ],
             [
              0.1111111111111111,
              "#46039f"
             ],
             [
              0.2222222222222222,
              "#7201a8"
             ],
             [
              0.3333333333333333,
              "#9c179e"
             ],
             [
              0.4444444444444444,
              "#bd3786"
             ],
             [
              0.5555555555555556,
              "#d8576b"
             ],
             [
              0.6666666666666666,
              "#ed7953"
             ],
             [
              0.7777777777777778,
              "#fb9f3a"
             ],
             [
              0.8888888888888888,
              "#fdca26"
             ],
             [
              1,
              "#f0f921"
             ]
            ],
            "type": "histogram2d"
           }
          ],
          "histogram2dcontour": [
           {
            "colorbar": {
             "outlinewidth": 0,
             "ticks": ""
            },
            "colorscale": [
             [
              0,
              "#0d0887"
             ],
             [
              0.1111111111111111,
              "#46039f"
             ],
             [
              0.2222222222222222,
              "#7201a8"
             ],
             [
              0.3333333333333333,
              "#9c179e"
             ],
             [
              0.4444444444444444,
              "#bd3786"
             ],
             [
              0.5555555555555556,
              "#d8576b"
             ],
             [
              0.6666666666666666,
              "#ed7953"
             ],
             [
              0.7777777777777778,
              "#fb9f3a"
             ],
             [
              0.8888888888888888,
              "#fdca26"
             ],
             [
              1,
              "#f0f921"
             ]
            ],
            "type": "histogram2dcontour"
           }
          ],
          "mesh3d": [
           {
            "colorbar": {
             "outlinewidth": 0,
             "ticks": ""
            },
            "type": "mesh3d"
           }
          ],
          "parcoords": [
           {
            "line": {
             "colorbar": {
              "outlinewidth": 0,
              "ticks": ""
             }
            },
            "type": "parcoords"
           }
          ],
          "pie": [
           {
            "automargin": true,
            "type": "pie"
           }
          ],
          "scatter": [
           {
            "fillpattern": {
             "fillmode": "overlay",
             "size": 10,
             "solidity": 0.2
            },
            "type": "scatter"
           }
          ],
          "scatter3d": [
           {
            "line": {
             "colorbar": {
              "outlinewidth": 0,
              "ticks": ""
             }
            },
            "marker": {
             "colorbar": {
              "outlinewidth": 0,
              "ticks": ""
             }
            },
            "type": "scatter3d"
           }
          ],
          "scattercarpet": [
           {
            "marker": {
             "colorbar": {
              "outlinewidth": 0,
              "ticks": ""
             }
            },
            "type": "scattercarpet"
           }
          ],
          "scattergeo": [
           {
            "marker": {
             "colorbar": {
              "outlinewidth": 0,
              "ticks": ""
             }
            },
            "type": "scattergeo"
           }
          ],
          "scattergl": [
           {
            "marker": {
             "colorbar": {
              "outlinewidth": 0,
              "ticks": ""
             }
            },
            "type": "scattergl"
           }
          ],
          "scattermapbox": [
           {
            "marker": {
             "colorbar": {
              "outlinewidth": 0,
              "ticks": ""
             }
            },
            "type": "scattermapbox"
           }
          ],
          "scatterpolar": [
           {
            "marker": {
             "colorbar": {
              "outlinewidth": 0,
              "ticks": ""
             }
            },
            "type": "scatterpolar"
           }
          ],
          "scatterpolargl": [
           {
            "marker": {
             "colorbar": {
              "outlinewidth": 0,
              "ticks": ""
             }
            },
            "type": "scatterpolargl"
           }
          ],
          "scatterternary": [
           {
            "marker": {
             "colorbar": {
              "outlinewidth": 0,
              "ticks": ""
             }
            },
            "type": "scatterternary"
           }
          ],
          "surface": [
           {
            "colorbar": {
             "outlinewidth": 0,
             "ticks": ""
            },
            "colorscale": [
             [
              0,
              "#0d0887"
             ],
             [
              0.1111111111111111,
              "#46039f"
             ],
             [
              0.2222222222222222,
              "#7201a8"
             ],
             [
              0.3333333333333333,
              "#9c179e"
             ],
             [
              0.4444444444444444,
              "#bd3786"
             ],
             [
              0.5555555555555556,
              "#d8576b"
             ],
             [
              0.6666666666666666,
              "#ed7953"
             ],
             [
              0.7777777777777778,
              "#fb9f3a"
             ],
             [
              0.8888888888888888,
              "#fdca26"
             ],
             [
              1,
              "#f0f921"
             ]
            ],
            "type": "surface"
           }
          ],
          "table": [
           {
            "cells": {
             "fill": {
              "color": "#EBF0F8"
             },
             "line": {
              "color": "white"
             }
            },
            "header": {
             "fill": {
              "color": "#C8D4E3"
             },
             "line": {
              "color": "white"
             }
            },
            "type": "table"
           }
          ]
         },
         "layout": {
          "annotationdefaults": {
           "arrowcolor": "#2a3f5f",
           "arrowhead": 0,
           "arrowwidth": 1
          },
          "autotypenumbers": "strict",
          "coloraxis": {
           "colorbar": {
            "outlinewidth": 0,
            "ticks": ""
           }
          },
          "colorscale": {
           "diverging": [
            [
             0,
             "#8e0152"
            ],
            [
             0.1,
             "#c51b7d"
            ],
            [
             0.2,
             "#de77ae"
            ],
            [
             0.3,
             "#f1b6da"
            ],
            [
             0.4,
             "#fde0ef"
            ],
            [
             0.5,
             "#f7f7f7"
            ],
            [
             0.6,
             "#e6f5d0"
            ],
            [
             0.7,
             "#b8e186"
            ],
            [
             0.8,
             "#7fbc41"
            ],
            [
             0.9,
             "#4d9221"
            ],
            [
             1,
             "#276419"
            ]
           ],
           "sequential": [
            [
             0,
             "#0d0887"
            ],
            [
             0.1111111111111111,
             "#46039f"
            ],
            [
             0.2222222222222222,
             "#7201a8"
            ],
            [
             0.3333333333333333,
             "#9c179e"
            ],
            [
             0.4444444444444444,
             "#bd3786"
            ],
            [
             0.5555555555555556,
             "#d8576b"
            ],
            [
             0.6666666666666666,
             "#ed7953"
            ],
            [
             0.7777777777777778,
             "#fb9f3a"
            ],
            [
             0.8888888888888888,
             "#fdca26"
            ],
            [
             1,
             "#f0f921"
            ]
           ],
           "sequentialminus": [
            [
             0,
             "#0d0887"
            ],
            [
             0.1111111111111111,
             "#46039f"
            ],
            [
             0.2222222222222222,
             "#7201a8"
            ],
            [
             0.3333333333333333,
             "#9c179e"
            ],
            [
             0.4444444444444444,
             "#bd3786"
            ],
            [
             0.5555555555555556,
             "#d8576b"
            ],
            [
             0.6666666666666666,
             "#ed7953"
            ],
            [
             0.7777777777777778,
             "#fb9f3a"
            ],
            [
             0.8888888888888888,
             "#fdca26"
            ],
            [
             1,
             "#f0f921"
            ]
           ]
          },
          "colorway": [
           "#636efa",
           "#EF553B",
           "#00cc96",
           "#ab63fa",
           "#FFA15A",
           "#19d3f3",
           "#FF6692",
           "#B6E880",
           "#FF97FF",
           "#FECB52"
          ],
          "font": {
           "color": "#2a3f5f"
          },
          "geo": {
           "bgcolor": "white",
           "lakecolor": "white",
           "landcolor": "#E5ECF6",
           "showlakes": true,
           "showland": true,
           "subunitcolor": "white"
          },
          "hoverlabel": {
           "align": "left"
          },
          "hovermode": "closest",
          "mapbox": {
           "style": "light"
          },
          "paper_bgcolor": "white",
          "plot_bgcolor": "#E5ECF6",
          "polar": {
           "angularaxis": {
            "gridcolor": "white",
            "linecolor": "white",
            "ticks": ""
           },
           "bgcolor": "#E5ECF6",
           "radialaxis": {
            "gridcolor": "white",
            "linecolor": "white",
            "ticks": ""
           }
          },
          "scene": {
           "xaxis": {
            "backgroundcolor": "#E5ECF6",
            "gridcolor": "white",
            "gridwidth": 2,
            "linecolor": "white",
            "showbackground": true,
            "ticks": "",
            "zerolinecolor": "white"
           },
           "yaxis": {
            "backgroundcolor": "#E5ECF6",
            "gridcolor": "white",
            "gridwidth": 2,
            "linecolor": "white",
            "showbackground": true,
            "ticks": "",
            "zerolinecolor": "white"
           },
           "zaxis": {
            "backgroundcolor": "#E5ECF6",
            "gridcolor": "white",
            "gridwidth": 2,
            "linecolor": "white",
            "showbackground": true,
            "ticks": "",
            "zerolinecolor": "white"
           }
          },
          "shapedefaults": {
           "line": {
            "color": "#2a3f5f"
           }
          },
          "ternary": {
           "aaxis": {
            "gridcolor": "white",
            "linecolor": "white",
            "ticks": ""
           },
           "baxis": {
            "gridcolor": "white",
            "linecolor": "white",
            "ticks": ""
           },
           "bgcolor": "#E5ECF6",
           "caxis": {
            "gridcolor": "white",
            "linecolor": "white",
            "ticks": ""
           }
          },
          "title": {
           "x": 0.05
          },
          "xaxis": {
           "automargin": true,
           "gridcolor": "white",
           "linecolor": "white",
           "ticks": "",
           "title": {
            "standoff": 15
           },
           "zerolinecolor": "white",
           "zerolinewidth": 2
          },
          "yaxis": {
           "automargin": true,
           "gridcolor": "white",
           "linecolor": "white",
           "ticks": "",
           "title": {
            "standoff": 15
           },
           "zerolinecolor": "white",
           "zerolinewidth": 2
          }
         }
        }
       }
      },
      "text/html": [
       "<div>                            <div id=\"b002679a-9882-4d58-8bd2-bea7322697bf\" class=\"plotly-graph-div\" style=\"height:525px; width:100%;\"></div>            <script type=\"text/javascript\">                require([\"plotly\"], function(Plotly) {                    window.PLOTLYENV=window.PLOTLYENV || {};                                    if (document.getElementById(\"b002679a-9882-4d58-8bd2-bea7322697bf\")) {                    Plotly.newPlot(                        \"b002679a-9882-4d58-8bd2-bea7322697bf\",                        [{\"labels\":[\"\\u0423\\u0448\\u0435\\u0434\\u0448\\u0438\\u0435\",\"\\u041e\\u0441\\u0442\\u0430\\u0432\\u0448\\u0438\\u0435\\u0441\\u044f\"],\"values\":[513,230],\"type\":\"pie\"}],                        {\"template\":{\"data\":{\"histogram2dcontour\":[{\"type\":\"histogram2dcontour\",\"colorbar\":{\"outlinewidth\":0,\"ticks\":\"\"},\"colorscale\":[[0.0,\"#0d0887\"],[0.1111111111111111,\"#46039f\"],[0.2222222222222222,\"#7201a8\"],[0.3333333333333333,\"#9c179e\"],[0.4444444444444444,\"#bd3786\"],[0.5555555555555556,\"#d8576b\"],[0.6666666666666666,\"#ed7953\"],[0.7777777777777778,\"#fb9f3a\"],[0.8888888888888888,\"#fdca26\"],[1.0,\"#f0f921\"]]}],\"choropleth\":[{\"type\":\"choropleth\",\"colorbar\":{\"outlinewidth\":0,\"ticks\":\"\"}}],\"histogram2d\":[{\"type\":\"histogram2d\",\"colorbar\":{\"outlinewidth\":0,\"ticks\":\"\"},\"colorscale\":[[0.0,\"#0d0887\"],[0.1111111111111111,\"#46039f\"],[0.2222222222222222,\"#7201a8\"],[0.3333333333333333,\"#9c179e\"],[0.4444444444444444,\"#bd3786\"],[0.5555555555555556,\"#d8576b\"],[0.6666666666666666,\"#ed7953\"],[0.7777777777777778,\"#fb9f3a\"],[0.8888888888888888,\"#fdca26\"],[1.0,\"#f0f921\"]]}],\"heatmap\":[{\"type\":\"heatmap\",\"colorbar\":{\"outlinewidth\":0,\"ticks\":\"\"},\"colorscale\":[[0.0,\"#0d0887\"],[0.1111111111111111,\"#46039f\"],[0.2222222222222222,\"#7201a8\"],[0.3333333333333333,\"#9c179e\"],[0.4444444444444444,\"#bd3786\"],[0.5555555555555556,\"#d8576b\"],[0.6666666666666666,\"#ed7953\"],[0.7777777777777778,\"#fb9f3a\"],[0.8888888888888888,\"#fdca26\"],[1.0,\"#f0f921\"]]}],\"heatmapgl\":[{\"type\":\"heatmapgl\",\"colorbar\":{\"outlinewidth\":0,\"ticks\":\"\"},\"colorscale\":[[0.0,\"#0d0887\"],[0.1111111111111111,\"#46039f\"],[0.2222222222222222,\"#7201a8\"],[0.3333333333333333,\"#9c179e\"],[0.4444444444444444,\"#bd3786\"],[0.5555555555555556,\"#d8576b\"],[0.6666666666666666,\"#ed7953\"],[0.7777777777777778,\"#fb9f3a\"],[0.8888888888888888,\"#fdca26\"],[1.0,\"#f0f921\"]]}],\"contourcarpet\":[{\"type\":\"contourcarpet\",\"colorbar\":{\"outlinewidth\":0,\"ticks\":\"\"}}],\"contour\":[{\"type\":\"contour\",\"colorbar\":{\"outlinewidth\":0,\"ticks\":\"\"},\"colorscale\":[[0.0,\"#0d0887\"],[0.1111111111111111,\"#46039f\"],[0.2222222222222222,\"#7201a8\"],[0.3333333333333333,\"#9c179e\"],[0.4444444444444444,\"#bd3786\"],[0.5555555555555556,\"#d8576b\"],[0.6666666666666666,\"#ed7953\"],[0.7777777777777778,\"#fb9f3a\"],[0.8888888888888888,\"#fdca26\"],[1.0,\"#f0f921\"]]}],\"surface\":[{\"type\":\"surface\",\"colorbar\":{\"outlinewidth\":0,\"ticks\":\"\"},\"colorscale\":[[0.0,\"#0d0887\"],[0.1111111111111111,\"#46039f\"],[0.2222222222222222,\"#7201a8\"],[0.3333333333333333,\"#9c179e\"],[0.4444444444444444,\"#bd3786\"],[0.5555555555555556,\"#d8576b\"],[0.6666666666666666,\"#ed7953\"],[0.7777777777777778,\"#fb9f3a\"],[0.8888888888888888,\"#fdca26\"],[1.0,\"#f0f921\"]]}],\"mesh3d\":[{\"type\":\"mesh3d\",\"colorbar\":{\"outlinewidth\":0,\"ticks\":\"\"}}],\"scatter\":[{\"fillpattern\":{\"fillmode\":\"overlay\",\"size\":10,\"solidity\":0.2},\"type\":\"scatter\"}],\"parcoords\":[{\"type\":\"parcoords\",\"line\":{\"colorbar\":{\"outlinewidth\":0,\"ticks\":\"\"}}}],\"scatterpolargl\":[{\"type\":\"scatterpolargl\",\"marker\":{\"colorbar\":{\"outlinewidth\":0,\"ticks\":\"\"}}}],\"bar\":[{\"error_x\":{\"color\":\"#2a3f5f\"},\"error_y\":{\"color\":\"#2a3f5f\"},\"marker\":{\"line\":{\"color\":\"#E5ECF6\",\"width\":0.5},\"pattern\":{\"fillmode\":\"overlay\",\"size\":10,\"solidity\":0.2}},\"type\":\"bar\"}],\"scattergeo\":[{\"type\":\"scattergeo\",\"marker\":{\"colorbar\":{\"outlinewidth\":0,\"ticks\":\"\"}}}],\"scatterpolar\":[{\"type\":\"scatterpolar\",\"marker\":{\"colorbar\":{\"outlinewidth\":0,\"ticks\":\"\"}}}],\"histogram\":[{\"marker\":{\"pattern\":{\"fillmode\":\"overlay\",\"size\":10,\"solidity\":0.2}},\"type\":\"histogram\"}],\"scattergl\":[{\"type\":\"scattergl\",\"marker\":{\"colorbar\":{\"outlinewidth\":0,\"ticks\":\"\"}}}],\"scatter3d\":[{\"type\":\"scatter3d\",\"line\":{\"colorbar\":{\"outlinewidth\":0,\"ticks\":\"\"}},\"marker\":{\"colorbar\":{\"outlinewidth\":0,\"ticks\":\"\"}}}],\"scattermapbox\":[{\"type\":\"scattermapbox\",\"marker\":{\"colorbar\":{\"outlinewidth\":0,\"ticks\":\"\"}}}],\"scatterternary\":[{\"type\":\"scatterternary\",\"marker\":{\"colorbar\":{\"outlinewidth\":0,\"ticks\":\"\"}}}],\"scattercarpet\":[{\"type\":\"scattercarpet\",\"marker\":{\"colorbar\":{\"outlinewidth\":0,\"ticks\":\"\"}}}],\"carpet\":[{\"aaxis\":{\"endlinecolor\":\"#2a3f5f\",\"gridcolor\":\"white\",\"linecolor\":\"white\",\"minorgridcolor\":\"white\",\"startlinecolor\":\"#2a3f5f\"},\"baxis\":{\"endlinecolor\":\"#2a3f5f\",\"gridcolor\":\"white\",\"linecolor\":\"white\",\"minorgridcolor\":\"white\",\"startlinecolor\":\"#2a3f5f\"},\"type\":\"carpet\"}],\"table\":[{\"cells\":{\"fill\":{\"color\":\"#EBF0F8\"},\"line\":{\"color\":\"white\"}},\"header\":{\"fill\":{\"color\":\"#C8D4E3\"},\"line\":{\"color\":\"white\"}},\"type\":\"table\"}],\"barpolar\":[{\"marker\":{\"line\":{\"color\":\"#E5ECF6\",\"width\":0.5},\"pattern\":{\"fillmode\":\"overlay\",\"size\":10,\"solidity\":0.2}},\"type\":\"barpolar\"}],\"pie\":[{\"automargin\":true,\"type\":\"pie\"}]},\"layout\":{\"autotypenumbers\":\"strict\",\"colorway\":[\"#636efa\",\"#EF553B\",\"#00cc96\",\"#ab63fa\",\"#FFA15A\",\"#19d3f3\",\"#FF6692\",\"#B6E880\",\"#FF97FF\",\"#FECB52\"],\"font\":{\"color\":\"#2a3f5f\"},\"hovermode\":\"closest\",\"hoverlabel\":{\"align\":\"left\"},\"paper_bgcolor\":\"white\",\"plot_bgcolor\":\"#E5ECF6\",\"polar\":{\"bgcolor\":\"#E5ECF6\",\"angularaxis\":{\"gridcolor\":\"white\",\"linecolor\":\"white\",\"ticks\":\"\"},\"radialaxis\":{\"gridcolor\":\"white\",\"linecolor\":\"white\",\"ticks\":\"\"}},\"ternary\":{\"bgcolor\":\"#E5ECF6\",\"aaxis\":{\"gridcolor\":\"white\",\"linecolor\":\"white\",\"ticks\":\"\"},\"baxis\":{\"gridcolor\":\"white\",\"linecolor\":\"white\",\"ticks\":\"\"},\"caxis\":{\"gridcolor\":\"white\",\"linecolor\":\"white\",\"ticks\":\"\"}},\"coloraxis\":{\"colorbar\":{\"outlinewidth\":0,\"ticks\":\"\"}},\"colorscale\":{\"sequential\":[[0.0,\"#0d0887\"],[0.1111111111111111,\"#46039f\"],[0.2222222222222222,\"#7201a8\"],[0.3333333333333333,\"#9c179e\"],[0.4444444444444444,\"#bd3786\"],[0.5555555555555556,\"#d8576b\"],[0.6666666666666666,\"#ed7953\"],[0.7777777777777778,\"#fb9f3a\"],[0.8888888888888888,\"#fdca26\"],[1.0,\"#f0f921\"]],\"sequentialminus\":[[0.0,\"#0d0887\"],[0.1111111111111111,\"#46039f\"],[0.2222222222222222,\"#7201a8\"],[0.3333333333333333,\"#9c179e\"],[0.4444444444444444,\"#bd3786\"],[0.5555555555555556,\"#d8576b\"],[0.6666666666666666,\"#ed7953\"],[0.7777777777777778,\"#fb9f3a\"],[0.8888888888888888,\"#fdca26\"],[1.0,\"#f0f921\"]],\"diverging\":[[0,\"#8e0152\"],[0.1,\"#c51b7d\"],[0.2,\"#de77ae\"],[0.3,\"#f1b6da\"],[0.4,\"#fde0ef\"],[0.5,\"#f7f7f7\"],[0.6,\"#e6f5d0\"],[0.7,\"#b8e186\"],[0.8,\"#7fbc41\"],[0.9,\"#4d9221\"],[1,\"#276419\"]]},\"xaxis\":{\"gridcolor\":\"white\",\"linecolor\":\"white\",\"ticks\":\"\",\"title\":{\"standoff\":15},\"zerolinecolor\":\"white\",\"automargin\":true,\"zerolinewidth\":2},\"yaxis\":{\"gridcolor\":\"white\",\"linecolor\":\"white\",\"ticks\":\"\",\"title\":{\"standoff\":15},\"zerolinecolor\":\"white\",\"automargin\":true,\"zerolinewidth\":2},\"scene\":{\"xaxis\":{\"backgroundcolor\":\"#E5ECF6\",\"gridcolor\":\"white\",\"linecolor\":\"white\",\"showbackground\":true,\"ticks\":\"\",\"zerolinecolor\":\"white\",\"gridwidth\":2},\"yaxis\":{\"backgroundcolor\":\"#E5ECF6\",\"gridcolor\":\"white\",\"linecolor\":\"white\",\"showbackground\":true,\"ticks\":\"\",\"zerolinecolor\":\"white\",\"gridwidth\":2},\"zaxis\":{\"backgroundcolor\":\"#E5ECF6\",\"gridcolor\":\"white\",\"linecolor\":\"white\",\"showbackground\":true,\"ticks\":\"\",\"zerolinecolor\":\"white\",\"gridwidth\":2}},\"shapedefaults\":{\"line\":{\"color\":\"#2a3f5f\"}},\"annotationdefaults\":{\"arrowcolor\":\"#2a3f5f\",\"arrowhead\":0,\"arrowwidth\":1},\"geo\":{\"bgcolor\":\"white\",\"landcolor\":\"#E5ECF6\",\"subunitcolor\":\"white\",\"showland\":true,\"showlakes\":true,\"lakecolor\":\"white\"},\"title\":{\"x\":0.05},\"mapbox\":{\"style\":\"light\"}}}},                        {\"responsive\": true}                    ).then(function(){\n",
       "                            \n",
       "var gd = document.getElementById('b002679a-9882-4d58-8bd2-bea7322697bf');\n",
       "var x = new MutationObserver(function (mutations, observer) {{\n",
       "        var display = window.getComputedStyle(gd).display;\n",
       "        if (!display || display === 'none') {{\n",
       "            console.log([gd, 'removed!']);\n",
       "            Plotly.purge(gd);\n",
       "            observer.disconnect();\n",
       "        }}\n",
       "}});\n",
       "\n",
       "// Listen for the removal of the full notebook cells\n",
       "var notebookContainer = gd.closest('#notebook-container');\n",
       "if (notebookContainer) {{\n",
       "    x.observe(notebookContainer, {childList: true});\n",
       "}}\n",
       "\n",
       "// Listen for the clearing of the current output cell\n",
       "var outputEl = gd.closest('.output');\n",
       "if (outputEl) {{\n",
       "    x.observe(outputEl, {childList: true});\n",
       "}}\n",
       "\n",
       "                        })                };                });            </script>        </div>"
      ]
     },
     "metadata": {},
     "output_type": "display_data"
    }
   ],
   "source": [
    "#Покажу процент оттока на круговой диаграмме\n",
    "fig = go.Figure(\n",
    "    data = [go.Pie(labels= p2_df['churn'].unique(), values = p2_df['churn'].value_counts())])\n",
    "fig.show()"
   ]
  },
  {
   "cell_type": "markdown",
   "metadata": {},
   "source": [
    "### Портрет №3"
   ]
  },
  {
   "cell_type": "markdown",
   "metadata": {},
   "source": [
    "Мужчины и женщины до 50 лет\n",
    "\n",
    "На балансе менее 800000  р.,  кредитный рейтинг - больше 825 баллов"
   ]
  },
  {
   "cell_type": "code",
   "execution_count": 42,
   "metadata": {},
   "outputs": [
    {
     "name": "stdout",
     "output_type": "stream",
     "text": [
      "Количество клиентов в портрете: 1970\n"
     ]
    }
   ],
   "source": [
    "#Делаю срез по выбранным параметрам, сохраняю в новый датафрейм\n",
    "p3_df = df.query('age < 50 and balance < 800000 and score > 825') \n",
    "print('Количество клиентов в портрете:', len(p3_df))"
   ]
  },
  {
   "cell_type": "code",
   "execution_count": 43,
   "metadata": {},
   "outputs": [
    {
     "data": {
      "application/vnd.plotly.v1+json": {
       "config": {
        "plotlyServerURL": "https://plot.ly"
       },
       "data": [
        {
         "labels": [
          "Ушедшие",
          "Оставшиеся"
         ],
         "type": "pie",
         "values": [
          1487,
          483
         ]
        }
       ],
       "layout": {
        "template": {
         "data": {
          "bar": [
           {
            "error_x": {
             "color": "#2a3f5f"
            },
            "error_y": {
             "color": "#2a3f5f"
            },
            "marker": {
             "line": {
              "color": "#E5ECF6",
              "width": 0.5
             },
             "pattern": {
              "fillmode": "overlay",
              "size": 10,
              "solidity": 0.2
             }
            },
            "type": "bar"
           }
          ],
          "barpolar": [
           {
            "marker": {
             "line": {
              "color": "#E5ECF6",
              "width": 0.5
             },
             "pattern": {
              "fillmode": "overlay",
              "size": 10,
              "solidity": 0.2
             }
            },
            "type": "barpolar"
           }
          ],
          "carpet": [
           {
            "aaxis": {
             "endlinecolor": "#2a3f5f",
             "gridcolor": "white",
             "linecolor": "white",
             "minorgridcolor": "white",
             "startlinecolor": "#2a3f5f"
            },
            "baxis": {
             "endlinecolor": "#2a3f5f",
             "gridcolor": "white",
             "linecolor": "white",
             "minorgridcolor": "white",
             "startlinecolor": "#2a3f5f"
            },
            "type": "carpet"
           }
          ],
          "choropleth": [
           {
            "colorbar": {
             "outlinewidth": 0,
             "ticks": ""
            },
            "type": "choropleth"
           }
          ],
          "contour": [
           {
            "colorbar": {
             "outlinewidth": 0,
             "ticks": ""
            },
            "colorscale": [
             [
              0,
              "#0d0887"
             ],
             [
              0.1111111111111111,
              "#46039f"
             ],
             [
              0.2222222222222222,
              "#7201a8"
             ],
             [
              0.3333333333333333,
              "#9c179e"
             ],
             [
              0.4444444444444444,
              "#bd3786"
             ],
             [
              0.5555555555555556,
              "#d8576b"
             ],
             [
              0.6666666666666666,
              "#ed7953"
             ],
             [
              0.7777777777777778,
              "#fb9f3a"
             ],
             [
              0.8888888888888888,
              "#fdca26"
             ],
             [
              1,
              "#f0f921"
             ]
            ],
            "type": "contour"
           }
          ],
          "contourcarpet": [
           {
            "colorbar": {
             "outlinewidth": 0,
             "ticks": ""
            },
            "type": "contourcarpet"
           }
          ],
          "heatmap": [
           {
            "colorbar": {
             "outlinewidth": 0,
             "ticks": ""
            },
            "colorscale": [
             [
              0,
              "#0d0887"
             ],
             [
              0.1111111111111111,
              "#46039f"
             ],
             [
              0.2222222222222222,
              "#7201a8"
             ],
             [
              0.3333333333333333,
              "#9c179e"
             ],
             [
              0.4444444444444444,
              "#bd3786"
             ],
             [
              0.5555555555555556,
              "#d8576b"
             ],
             [
              0.6666666666666666,
              "#ed7953"
             ],
             [
              0.7777777777777778,
              "#fb9f3a"
             ],
             [
              0.8888888888888888,
              "#fdca26"
             ],
             [
              1,
              "#f0f921"
             ]
            ],
            "type": "heatmap"
           }
          ],
          "heatmapgl": [
           {
            "colorbar": {
             "outlinewidth": 0,
             "ticks": ""
            },
            "colorscale": [
             [
              0,
              "#0d0887"
             ],
             [
              0.1111111111111111,
              "#46039f"
             ],
             [
              0.2222222222222222,
              "#7201a8"
             ],
             [
              0.3333333333333333,
              "#9c179e"
             ],
             [
              0.4444444444444444,
              "#bd3786"
             ],
             [
              0.5555555555555556,
              "#d8576b"
             ],
             [
              0.6666666666666666,
              "#ed7953"
             ],
             [
              0.7777777777777778,
              "#fb9f3a"
             ],
             [
              0.8888888888888888,
              "#fdca26"
             ],
             [
              1,
              "#f0f921"
             ]
            ],
            "type": "heatmapgl"
           }
          ],
          "histogram": [
           {
            "marker": {
             "pattern": {
              "fillmode": "overlay",
              "size": 10,
              "solidity": 0.2
             }
            },
            "type": "histogram"
           }
          ],
          "histogram2d": [
           {
            "colorbar": {
             "outlinewidth": 0,
             "ticks": ""
            },
            "colorscale": [
             [
              0,
              "#0d0887"
             ],
             [
              0.1111111111111111,
              "#46039f"
             ],
             [
              0.2222222222222222,
              "#7201a8"
             ],
             [
              0.3333333333333333,
              "#9c179e"
             ],
             [
              0.4444444444444444,
              "#bd3786"
             ],
             [
              0.5555555555555556,
              "#d8576b"
             ],
             [
              0.6666666666666666,
              "#ed7953"
             ],
             [
              0.7777777777777778,
              "#fb9f3a"
             ],
             [
              0.8888888888888888,
              "#fdca26"
             ],
             [
              1,
              "#f0f921"
             ]
            ],
            "type": "histogram2d"
           }
          ],
          "histogram2dcontour": [
           {
            "colorbar": {
             "outlinewidth": 0,
             "ticks": ""
            },
            "colorscale": [
             [
              0,
              "#0d0887"
             ],
             [
              0.1111111111111111,
              "#46039f"
             ],
             [
              0.2222222222222222,
              "#7201a8"
             ],
             [
              0.3333333333333333,
              "#9c179e"
             ],
             [
              0.4444444444444444,
              "#bd3786"
             ],
             [
              0.5555555555555556,
              "#d8576b"
             ],
             [
              0.6666666666666666,
              "#ed7953"
             ],
             [
              0.7777777777777778,
              "#fb9f3a"
             ],
             [
              0.8888888888888888,
              "#fdca26"
             ],
             [
              1,
              "#f0f921"
             ]
            ],
            "type": "histogram2dcontour"
           }
          ],
          "mesh3d": [
           {
            "colorbar": {
             "outlinewidth": 0,
             "ticks": ""
            },
            "type": "mesh3d"
           }
          ],
          "parcoords": [
           {
            "line": {
             "colorbar": {
              "outlinewidth": 0,
              "ticks": ""
             }
            },
            "type": "parcoords"
           }
          ],
          "pie": [
           {
            "automargin": true,
            "type": "pie"
           }
          ],
          "scatter": [
           {
            "fillpattern": {
             "fillmode": "overlay",
             "size": 10,
             "solidity": 0.2
            },
            "type": "scatter"
           }
          ],
          "scatter3d": [
           {
            "line": {
             "colorbar": {
              "outlinewidth": 0,
              "ticks": ""
             }
            },
            "marker": {
             "colorbar": {
              "outlinewidth": 0,
              "ticks": ""
             }
            },
            "type": "scatter3d"
           }
          ],
          "scattercarpet": [
           {
            "marker": {
             "colorbar": {
              "outlinewidth": 0,
              "ticks": ""
             }
            },
            "type": "scattercarpet"
           }
          ],
          "scattergeo": [
           {
            "marker": {
             "colorbar": {
              "outlinewidth": 0,
              "ticks": ""
             }
            },
            "type": "scattergeo"
           }
          ],
          "scattergl": [
           {
            "marker": {
             "colorbar": {
              "outlinewidth": 0,
              "ticks": ""
             }
            },
            "type": "scattergl"
           }
          ],
          "scattermapbox": [
           {
            "marker": {
             "colorbar": {
              "outlinewidth": 0,
              "ticks": ""
             }
            },
            "type": "scattermapbox"
           }
          ],
          "scatterpolar": [
           {
            "marker": {
             "colorbar": {
              "outlinewidth": 0,
              "ticks": ""
             }
            },
            "type": "scatterpolar"
           }
          ],
          "scatterpolargl": [
           {
            "marker": {
             "colorbar": {
              "outlinewidth": 0,
              "ticks": ""
             }
            },
            "type": "scatterpolargl"
           }
          ],
          "scatterternary": [
           {
            "marker": {
             "colorbar": {
              "outlinewidth": 0,
              "ticks": ""
             }
            },
            "type": "scatterternary"
           }
          ],
          "surface": [
           {
            "colorbar": {
             "outlinewidth": 0,
             "ticks": ""
            },
            "colorscale": [
             [
              0,
              "#0d0887"
             ],
             [
              0.1111111111111111,
              "#46039f"
             ],
             [
              0.2222222222222222,
              "#7201a8"
             ],
             [
              0.3333333333333333,
              "#9c179e"
             ],
             [
              0.4444444444444444,
              "#bd3786"
             ],
             [
              0.5555555555555556,
              "#d8576b"
             ],
             [
              0.6666666666666666,
              "#ed7953"
             ],
             [
              0.7777777777777778,
              "#fb9f3a"
             ],
             [
              0.8888888888888888,
              "#fdca26"
             ],
             [
              1,
              "#f0f921"
             ]
            ],
            "type": "surface"
           }
          ],
          "table": [
           {
            "cells": {
             "fill": {
              "color": "#EBF0F8"
             },
             "line": {
              "color": "white"
             }
            },
            "header": {
             "fill": {
              "color": "#C8D4E3"
             },
             "line": {
              "color": "white"
             }
            },
            "type": "table"
           }
          ]
         },
         "layout": {
          "annotationdefaults": {
           "arrowcolor": "#2a3f5f",
           "arrowhead": 0,
           "arrowwidth": 1
          },
          "autotypenumbers": "strict",
          "coloraxis": {
           "colorbar": {
            "outlinewidth": 0,
            "ticks": ""
           }
          },
          "colorscale": {
           "diverging": [
            [
             0,
             "#8e0152"
            ],
            [
             0.1,
             "#c51b7d"
            ],
            [
             0.2,
             "#de77ae"
            ],
            [
             0.3,
             "#f1b6da"
            ],
            [
             0.4,
             "#fde0ef"
            ],
            [
             0.5,
             "#f7f7f7"
            ],
            [
             0.6,
             "#e6f5d0"
            ],
            [
             0.7,
             "#b8e186"
            ],
            [
             0.8,
             "#7fbc41"
            ],
            [
             0.9,
             "#4d9221"
            ],
            [
             1,
             "#276419"
            ]
           ],
           "sequential": [
            [
             0,
             "#0d0887"
            ],
            [
             0.1111111111111111,
             "#46039f"
            ],
            [
             0.2222222222222222,
             "#7201a8"
            ],
            [
             0.3333333333333333,
             "#9c179e"
            ],
            [
             0.4444444444444444,
             "#bd3786"
            ],
            [
             0.5555555555555556,
             "#d8576b"
            ],
            [
             0.6666666666666666,
             "#ed7953"
            ],
            [
             0.7777777777777778,
             "#fb9f3a"
            ],
            [
             0.8888888888888888,
             "#fdca26"
            ],
            [
             1,
             "#f0f921"
            ]
           ],
           "sequentialminus": [
            [
             0,
             "#0d0887"
            ],
            [
             0.1111111111111111,
             "#46039f"
            ],
            [
             0.2222222222222222,
             "#7201a8"
            ],
            [
             0.3333333333333333,
             "#9c179e"
            ],
            [
             0.4444444444444444,
             "#bd3786"
            ],
            [
             0.5555555555555556,
             "#d8576b"
            ],
            [
             0.6666666666666666,
             "#ed7953"
            ],
            [
             0.7777777777777778,
             "#fb9f3a"
            ],
            [
             0.8888888888888888,
             "#fdca26"
            ],
            [
             1,
             "#f0f921"
            ]
           ]
          },
          "colorway": [
           "#636efa",
           "#EF553B",
           "#00cc96",
           "#ab63fa",
           "#FFA15A",
           "#19d3f3",
           "#FF6692",
           "#B6E880",
           "#FF97FF",
           "#FECB52"
          ],
          "font": {
           "color": "#2a3f5f"
          },
          "geo": {
           "bgcolor": "white",
           "lakecolor": "white",
           "landcolor": "#E5ECF6",
           "showlakes": true,
           "showland": true,
           "subunitcolor": "white"
          },
          "hoverlabel": {
           "align": "left"
          },
          "hovermode": "closest",
          "mapbox": {
           "style": "light"
          },
          "paper_bgcolor": "white",
          "plot_bgcolor": "#E5ECF6",
          "polar": {
           "angularaxis": {
            "gridcolor": "white",
            "linecolor": "white",
            "ticks": ""
           },
           "bgcolor": "#E5ECF6",
           "radialaxis": {
            "gridcolor": "white",
            "linecolor": "white",
            "ticks": ""
           }
          },
          "scene": {
           "xaxis": {
            "backgroundcolor": "#E5ECF6",
            "gridcolor": "white",
            "gridwidth": 2,
            "linecolor": "white",
            "showbackground": true,
            "ticks": "",
            "zerolinecolor": "white"
           },
           "yaxis": {
            "backgroundcolor": "#E5ECF6",
            "gridcolor": "white",
            "gridwidth": 2,
            "linecolor": "white",
            "showbackground": true,
            "ticks": "",
            "zerolinecolor": "white"
           },
           "zaxis": {
            "backgroundcolor": "#E5ECF6",
            "gridcolor": "white",
            "gridwidth": 2,
            "linecolor": "white",
            "showbackground": true,
            "ticks": "",
            "zerolinecolor": "white"
           }
          },
          "shapedefaults": {
           "line": {
            "color": "#2a3f5f"
           }
          },
          "ternary": {
           "aaxis": {
            "gridcolor": "white",
            "linecolor": "white",
            "ticks": ""
           },
           "baxis": {
            "gridcolor": "white",
            "linecolor": "white",
            "ticks": ""
           },
           "bgcolor": "#E5ECF6",
           "caxis": {
            "gridcolor": "white",
            "linecolor": "white",
            "ticks": ""
           }
          },
          "title": {
           "x": 0.05
          },
          "xaxis": {
           "automargin": true,
           "gridcolor": "white",
           "linecolor": "white",
           "ticks": "",
           "title": {
            "standoff": 15
           },
           "zerolinecolor": "white",
           "zerolinewidth": 2
          },
          "yaxis": {
           "automargin": true,
           "gridcolor": "white",
           "linecolor": "white",
           "ticks": "",
           "title": {
            "standoff": 15
           },
           "zerolinecolor": "white",
           "zerolinewidth": 2
          }
         }
        }
       }
      },
      "text/html": [
       "<div>                            <div id=\"0b8e03a3-1a29-418d-939a-9da268571236\" class=\"plotly-graph-div\" style=\"height:525px; width:100%;\"></div>            <script type=\"text/javascript\">                require([\"plotly\"], function(Plotly) {                    window.PLOTLYENV=window.PLOTLYENV || {};                                    if (document.getElementById(\"0b8e03a3-1a29-418d-939a-9da268571236\")) {                    Plotly.newPlot(                        \"0b8e03a3-1a29-418d-939a-9da268571236\",                        [{\"labels\":[\"\\u0423\\u0448\\u0435\\u0434\\u0448\\u0438\\u0435\",\"\\u041e\\u0441\\u0442\\u0430\\u0432\\u0448\\u0438\\u0435\\u0441\\u044f\"],\"values\":[1487,483],\"type\":\"pie\"}],                        {\"template\":{\"data\":{\"histogram2dcontour\":[{\"type\":\"histogram2dcontour\",\"colorbar\":{\"outlinewidth\":0,\"ticks\":\"\"},\"colorscale\":[[0.0,\"#0d0887\"],[0.1111111111111111,\"#46039f\"],[0.2222222222222222,\"#7201a8\"],[0.3333333333333333,\"#9c179e\"],[0.4444444444444444,\"#bd3786\"],[0.5555555555555556,\"#d8576b\"],[0.6666666666666666,\"#ed7953\"],[0.7777777777777778,\"#fb9f3a\"],[0.8888888888888888,\"#fdca26\"],[1.0,\"#f0f921\"]]}],\"choropleth\":[{\"type\":\"choropleth\",\"colorbar\":{\"outlinewidth\":0,\"ticks\":\"\"}}],\"histogram2d\":[{\"type\":\"histogram2d\",\"colorbar\":{\"outlinewidth\":0,\"ticks\":\"\"},\"colorscale\":[[0.0,\"#0d0887\"],[0.1111111111111111,\"#46039f\"],[0.2222222222222222,\"#7201a8\"],[0.3333333333333333,\"#9c179e\"],[0.4444444444444444,\"#bd3786\"],[0.5555555555555556,\"#d8576b\"],[0.6666666666666666,\"#ed7953\"],[0.7777777777777778,\"#fb9f3a\"],[0.8888888888888888,\"#fdca26\"],[1.0,\"#f0f921\"]]}],\"heatmap\":[{\"type\":\"heatmap\",\"colorbar\":{\"outlinewidth\":0,\"ticks\":\"\"},\"colorscale\":[[0.0,\"#0d0887\"],[0.1111111111111111,\"#46039f\"],[0.2222222222222222,\"#7201a8\"],[0.3333333333333333,\"#9c179e\"],[0.4444444444444444,\"#bd3786\"],[0.5555555555555556,\"#d8576b\"],[0.6666666666666666,\"#ed7953\"],[0.7777777777777778,\"#fb9f3a\"],[0.8888888888888888,\"#fdca26\"],[1.0,\"#f0f921\"]]}],\"heatmapgl\":[{\"type\":\"heatmapgl\",\"colorbar\":{\"outlinewidth\":0,\"ticks\":\"\"},\"colorscale\":[[0.0,\"#0d0887\"],[0.1111111111111111,\"#46039f\"],[0.2222222222222222,\"#7201a8\"],[0.3333333333333333,\"#9c179e\"],[0.4444444444444444,\"#bd3786\"],[0.5555555555555556,\"#d8576b\"],[0.6666666666666666,\"#ed7953\"],[0.7777777777777778,\"#fb9f3a\"],[0.8888888888888888,\"#fdca26\"],[1.0,\"#f0f921\"]]}],\"contourcarpet\":[{\"type\":\"contourcarpet\",\"colorbar\":{\"outlinewidth\":0,\"ticks\":\"\"}}],\"contour\":[{\"type\":\"contour\",\"colorbar\":{\"outlinewidth\":0,\"ticks\":\"\"},\"colorscale\":[[0.0,\"#0d0887\"],[0.1111111111111111,\"#46039f\"],[0.2222222222222222,\"#7201a8\"],[0.3333333333333333,\"#9c179e\"],[0.4444444444444444,\"#bd3786\"],[0.5555555555555556,\"#d8576b\"],[0.6666666666666666,\"#ed7953\"],[0.7777777777777778,\"#fb9f3a\"],[0.8888888888888888,\"#fdca26\"],[1.0,\"#f0f921\"]]}],\"surface\":[{\"type\":\"surface\",\"colorbar\":{\"outlinewidth\":0,\"ticks\":\"\"},\"colorscale\":[[0.0,\"#0d0887\"],[0.1111111111111111,\"#46039f\"],[0.2222222222222222,\"#7201a8\"],[0.3333333333333333,\"#9c179e\"],[0.4444444444444444,\"#bd3786\"],[0.5555555555555556,\"#d8576b\"],[0.6666666666666666,\"#ed7953\"],[0.7777777777777778,\"#fb9f3a\"],[0.8888888888888888,\"#fdca26\"],[1.0,\"#f0f921\"]]}],\"mesh3d\":[{\"type\":\"mesh3d\",\"colorbar\":{\"outlinewidth\":0,\"ticks\":\"\"}}],\"scatter\":[{\"fillpattern\":{\"fillmode\":\"overlay\",\"size\":10,\"solidity\":0.2},\"type\":\"scatter\"}],\"parcoords\":[{\"type\":\"parcoords\",\"line\":{\"colorbar\":{\"outlinewidth\":0,\"ticks\":\"\"}}}],\"scatterpolargl\":[{\"type\":\"scatterpolargl\",\"marker\":{\"colorbar\":{\"outlinewidth\":0,\"ticks\":\"\"}}}],\"bar\":[{\"error_x\":{\"color\":\"#2a3f5f\"},\"error_y\":{\"color\":\"#2a3f5f\"},\"marker\":{\"line\":{\"color\":\"#E5ECF6\",\"width\":0.5},\"pattern\":{\"fillmode\":\"overlay\",\"size\":10,\"solidity\":0.2}},\"type\":\"bar\"}],\"scattergeo\":[{\"type\":\"scattergeo\",\"marker\":{\"colorbar\":{\"outlinewidth\":0,\"ticks\":\"\"}}}],\"scatterpolar\":[{\"type\":\"scatterpolar\",\"marker\":{\"colorbar\":{\"outlinewidth\":0,\"ticks\":\"\"}}}],\"histogram\":[{\"marker\":{\"pattern\":{\"fillmode\":\"overlay\",\"size\":10,\"solidity\":0.2}},\"type\":\"histogram\"}],\"scattergl\":[{\"type\":\"scattergl\",\"marker\":{\"colorbar\":{\"outlinewidth\":0,\"ticks\":\"\"}}}],\"scatter3d\":[{\"type\":\"scatter3d\",\"line\":{\"colorbar\":{\"outlinewidth\":0,\"ticks\":\"\"}},\"marker\":{\"colorbar\":{\"outlinewidth\":0,\"ticks\":\"\"}}}],\"scattermapbox\":[{\"type\":\"scattermapbox\",\"marker\":{\"colorbar\":{\"outlinewidth\":0,\"ticks\":\"\"}}}],\"scatterternary\":[{\"type\":\"scatterternary\",\"marker\":{\"colorbar\":{\"outlinewidth\":0,\"ticks\":\"\"}}}],\"scattercarpet\":[{\"type\":\"scattercarpet\",\"marker\":{\"colorbar\":{\"outlinewidth\":0,\"ticks\":\"\"}}}],\"carpet\":[{\"aaxis\":{\"endlinecolor\":\"#2a3f5f\",\"gridcolor\":\"white\",\"linecolor\":\"white\",\"minorgridcolor\":\"white\",\"startlinecolor\":\"#2a3f5f\"},\"baxis\":{\"endlinecolor\":\"#2a3f5f\",\"gridcolor\":\"white\",\"linecolor\":\"white\",\"minorgridcolor\":\"white\",\"startlinecolor\":\"#2a3f5f\"},\"type\":\"carpet\"}],\"table\":[{\"cells\":{\"fill\":{\"color\":\"#EBF0F8\"},\"line\":{\"color\":\"white\"}},\"header\":{\"fill\":{\"color\":\"#C8D4E3\"},\"line\":{\"color\":\"white\"}},\"type\":\"table\"}],\"barpolar\":[{\"marker\":{\"line\":{\"color\":\"#E5ECF6\",\"width\":0.5},\"pattern\":{\"fillmode\":\"overlay\",\"size\":10,\"solidity\":0.2}},\"type\":\"barpolar\"}],\"pie\":[{\"automargin\":true,\"type\":\"pie\"}]},\"layout\":{\"autotypenumbers\":\"strict\",\"colorway\":[\"#636efa\",\"#EF553B\",\"#00cc96\",\"#ab63fa\",\"#FFA15A\",\"#19d3f3\",\"#FF6692\",\"#B6E880\",\"#FF97FF\",\"#FECB52\"],\"font\":{\"color\":\"#2a3f5f\"},\"hovermode\":\"closest\",\"hoverlabel\":{\"align\":\"left\"},\"paper_bgcolor\":\"white\",\"plot_bgcolor\":\"#E5ECF6\",\"polar\":{\"bgcolor\":\"#E5ECF6\",\"angularaxis\":{\"gridcolor\":\"white\",\"linecolor\":\"white\",\"ticks\":\"\"},\"radialaxis\":{\"gridcolor\":\"white\",\"linecolor\":\"white\",\"ticks\":\"\"}},\"ternary\":{\"bgcolor\":\"#E5ECF6\",\"aaxis\":{\"gridcolor\":\"white\",\"linecolor\":\"white\",\"ticks\":\"\"},\"baxis\":{\"gridcolor\":\"white\",\"linecolor\":\"white\",\"ticks\":\"\"},\"caxis\":{\"gridcolor\":\"white\",\"linecolor\":\"white\",\"ticks\":\"\"}},\"coloraxis\":{\"colorbar\":{\"outlinewidth\":0,\"ticks\":\"\"}},\"colorscale\":{\"sequential\":[[0.0,\"#0d0887\"],[0.1111111111111111,\"#46039f\"],[0.2222222222222222,\"#7201a8\"],[0.3333333333333333,\"#9c179e\"],[0.4444444444444444,\"#bd3786\"],[0.5555555555555556,\"#d8576b\"],[0.6666666666666666,\"#ed7953\"],[0.7777777777777778,\"#fb9f3a\"],[0.8888888888888888,\"#fdca26\"],[1.0,\"#f0f921\"]],\"sequentialminus\":[[0.0,\"#0d0887\"],[0.1111111111111111,\"#46039f\"],[0.2222222222222222,\"#7201a8\"],[0.3333333333333333,\"#9c179e\"],[0.4444444444444444,\"#bd3786\"],[0.5555555555555556,\"#d8576b\"],[0.6666666666666666,\"#ed7953\"],[0.7777777777777778,\"#fb9f3a\"],[0.8888888888888888,\"#fdca26\"],[1.0,\"#f0f921\"]],\"diverging\":[[0,\"#8e0152\"],[0.1,\"#c51b7d\"],[0.2,\"#de77ae\"],[0.3,\"#f1b6da\"],[0.4,\"#fde0ef\"],[0.5,\"#f7f7f7\"],[0.6,\"#e6f5d0\"],[0.7,\"#b8e186\"],[0.8,\"#7fbc41\"],[0.9,\"#4d9221\"],[1,\"#276419\"]]},\"xaxis\":{\"gridcolor\":\"white\",\"linecolor\":\"white\",\"ticks\":\"\",\"title\":{\"standoff\":15},\"zerolinecolor\":\"white\",\"automargin\":true,\"zerolinewidth\":2},\"yaxis\":{\"gridcolor\":\"white\",\"linecolor\":\"white\",\"ticks\":\"\",\"title\":{\"standoff\":15},\"zerolinecolor\":\"white\",\"automargin\":true,\"zerolinewidth\":2},\"scene\":{\"xaxis\":{\"backgroundcolor\":\"#E5ECF6\",\"gridcolor\":\"white\",\"linecolor\":\"white\",\"showbackground\":true,\"ticks\":\"\",\"zerolinecolor\":\"white\",\"gridwidth\":2},\"yaxis\":{\"backgroundcolor\":\"#E5ECF6\",\"gridcolor\":\"white\",\"linecolor\":\"white\",\"showbackground\":true,\"ticks\":\"\",\"zerolinecolor\":\"white\",\"gridwidth\":2},\"zaxis\":{\"backgroundcolor\":\"#E5ECF6\",\"gridcolor\":\"white\",\"linecolor\":\"white\",\"showbackground\":true,\"ticks\":\"\",\"zerolinecolor\":\"white\",\"gridwidth\":2}},\"shapedefaults\":{\"line\":{\"color\":\"#2a3f5f\"}},\"annotationdefaults\":{\"arrowcolor\":\"#2a3f5f\",\"arrowhead\":0,\"arrowwidth\":1},\"geo\":{\"bgcolor\":\"white\",\"landcolor\":\"#E5ECF6\",\"subunitcolor\":\"white\",\"showland\":true,\"showlakes\":true,\"lakecolor\":\"white\"},\"title\":{\"x\":0.05},\"mapbox\":{\"style\":\"light\"}}}},                        {\"responsive\": true}                    ).then(function(){\n",
       "                            \n",
       "var gd = document.getElementById('0b8e03a3-1a29-418d-939a-9da268571236');\n",
       "var x = new MutationObserver(function (mutations, observer) {{\n",
       "        var display = window.getComputedStyle(gd).display;\n",
       "        if (!display || display === 'none') {{\n",
       "            console.log([gd, 'removed!']);\n",
       "            Plotly.purge(gd);\n",
       "            observer.disconnect();\n",
       "        }}\n",
       "}});\n",
       "\n",
       "// Listen for the removal of the full notebook cells\n",
       "var notebookContainer = gd.closest('#notebook-container');\n",
       "if (notebookContainer) {{\n",
       "    x.observe(notebookContainer, {childList: true});\n",
       "}}\n",
       "\n",
       "// Listen for the clearing of the current output cell\n",
       "var outputEl = gd.closest('.output');\n",
       "if (outputEl) {{\n",
       "    x.observe(outputEl, {childList: true});\n",
       "}}\n",
       "\n",
       "                        })                };                });            </script>        </div>"
      ]
     },
     "metadata": {},
     "output_type": "display_data"
    }
   ],
   "source": [
    "fig = go.Figure(\n",
    "    data = [go.Pie(labels= p3_df['churn'].unique(), values = p3_df['churn'].value_counts())])\n",
    "fig.show()"
   ]
  },
  {
   "cell_type": "markdown",
   "metadata": {},
   "source": [
    "### Портрет № 4"
   ]
  },
  {
   "cell_type": "markdown",
   "metadata": {},
   "source": [
    "Мужчины из Ярославля\n",
    "\n",
    "Собственность которых оценивается в 3 и более баллов. "
   ]
  },
  {
   "cell_type": "code",
   "execution_count": 44,
   "metadata": {},
   "outputs": [
    {
     "name": "stdout",
     "output_type": "stream",
     "text": [
      "Количество клиентов в портрете: 1190\n"
     ]
    }
   ],
   "source": [
    "#Делаю срез по выбранным параметрам, сохраняю в новый датафрейм\n",
    "p4_df = df.query('gender == \"М\" and city == \"Ярославль\" and equity > 3') \n",
    "print('Количество клиентов в портрете:', len(p4_df))"
   ]
  },
  {
   "cell_type": "code",
   "execution_count": 45,
   "metadata": {},
   "outputs": [
    {
     "data": {
      "application/vnd.plotly.v1+json": {
       "config": {
        "plotlyServerURL": "https://plot.ly"
       },
       "data": [
        {
         "labels": [
          "Ушедшие",
          "Оставшиеся"
         ],
         "type": "pie",
         "values": [
          720,
          470
         ]
        }
       ],
       "layout": {
        "template": {
         "data": {
          "bar": [
           {
            "error_x": {
             "color": "#2a3f5f"
            },
            "error_y": {
             "color": "#2a3f5f"
            },
            "marker": {
             "line": {
              "color": "#E5ECF6",
              "width": 0.5
             },
             "pattern": {
              "fillmode": "overlay",
              "size": 10,
              "solidity": 0.2
             }
            },
            "type": "bar"
           }
          ],
          "barpolar": [
           {
            "marker": {
             "line": {
              "color": "#E5ECF6",
              "width": 0.5
             },
             "pattern": {
              "fillmode": "overlay",
              "size": 10,
              "solidity": 0.2
             }
            },
            "type": "barpolar"
           }
          ],
          "carpet": [
           {
            "aaxis": {
             "endlinecolor": "#2a3f5f",
             "gridcolor": "white",
             "linecolor": "white",
             "minorgridcolor": "white",
             "startlinecolor": "#2a3f5f"
            },
            "baxis": {
             "endlinecolor": "#2a3f5f",
             "gridcolor": "white",
             "linecolor": "white",
             "minorgridcolor": "white",
             "startlinecolor": "#2a3f5f"
            },
            "type": "carpet"
           }
          ],
          "choropleth": [
           {
            "colorbar": {
             "outlinewidth": 0,
             "ticks": ""
            },
            "type": "choropleth"
           }
          ],
          "contour": [
           {
            "colorbar": {
             "outlinewidth": 0,
             "ticks": ""
            },
            "colorscale": [
             [
              0,
              "#0d0887"
             ],
             [
              0.1111111111111111,
              "#46039f"
             ],
             [
              0.2222222222222222,
              "#7201a8"
             ],
             [
              0.3333333333333333,
              "#9c179e"
             ],
             [
              0.4444444444444444,
              "#bd3786"
             ],
             [
              0.5555555555555556,
              "#d8576b"
             ],
             [
              0.6666666666666666,
              "#ed7953"
             ],
             [
              0.7777777777777778,
              "#fb9f3a"
             ],
             [
              0.8888888888888888,
              "#fdca26"
             ],
             [
              1,
              "#f0f921"
             ]
            ],
            "type": "contour"
           }
          ],
          "contourcarpet": [
           {
            "colorbar": {
             "outlinewidth": 0,
             "ticks": ""
            },
            "type": "contourcarpet"
           }
          ],
          "heatmap": [
           {
            "colorbar": {
             "outlinewidth": 0,
             "ticks": ""
            },
            "colorscale": [
             [
              0,
              "#0d0887"
             ],
             [
              0.1111111111111111,
              "#46039f"
             ],
             [
              0.2222222222222222,
              "#7201a8"
             ],
             [
              0.3333333333333333,
              "#9c179e"
             ],
             [
              0.4444444444444444,
              "#bd3786"
             ],
             [
              0.5555555555555556,
              "#d8576b"
             ],
             [
              0.6666666666666666,
              "#ed7953"
             ],
             [
              0.7777777777777778,
              "#fb9f3a"
             ],
             [
              0.8888888888888888,
              "#fdca26"
             ],
             [
              1,
              "#f0f921"
             ]
            ],
            "type": "heatmap"
           }
          ],
          "heatmapgl": [
           {
            "colorbar": {
             "outlinewidth": 0,
             "ticks": ""
            },
            "colorscale": [
             [
              0,
              "#0d0887"
             ],
             [
              0.1111111111111111,
              "#46039f"
             ],
             [
              0.2222222222222222,
              "#7201a8"
             ],
             [
              0.3333333333333333,
              "#9c179e"
             ],
             [
              0.4444444444444444,
              "#bd3786"
             ],
             [
              0.5555555555555556,
              "#d8576b"
             ],
             [
              0.6666666666666666,
              "#ed7953"
             ],
             [
              0.7777777777777778,
              "#fb9f3a"
             ],
             [
              0.8888888888888888,
              "#fdca26"
             ],
             [
              1,
              "#f0f921"
             ]
            ],
            "type": "heatmapgl"
           }
          ],
          "histogram": [
           {
            "marker": {
             "pattern": {
              "fillmode": "overlay",
              "size": 10,
              "solidity": 0.2
             }
            },
            "type": "histogram"
           }
          ],
          "histogram2d": [
           {
            "colorbar": {
             "outlinewidth": 0,
             "ticks": ""
            },
            "colorscale": [
             [
              0,
              "#0d0887"
             ],
             [
              0.1111111111111111,
              "#46039f"
             ],
             [
              0.2222222222222222,
              "#7201a8"
             ],
             [
              0.3333333333333333,
              "#9c179e"
             ],
             [
              0.4444444444444444,
              "#bd3786"
             ],
             [
              0.5555555555555556,
              "#d8576b"
             ],
             [
              0.6666666666666666,
              "#ed7953"
             ],
             [
              0.7777777777777778,
              "#fb9f3a"
             ],
             [
              0.8888888888888888,
              "#fdca26"
             ],
             [
              1,
              "#f0f921"
             ]
            ],
            "type": "histogram2d"
           }
          ],
          "histogram2dcontour": [
           {
            "colorbar": {
             "outlinewidth": 0,
             "ticks": ""
            },
            "colorscale": [
             [
              0,
              "#0d0887"
             ],
             [
              0.1111111111111111,
              "#46039f"
             ],
             [
              0.2222222222222222,
              "#7201a8"
             ],
             [
              0.3333333333333333,
              "#9c179e"
             ],
             [
              0.4444444444444444,
              "#bd3786"
             ],
             [
              0.5555555555555556,
              "#d8576b"
             ],
             [
              0.6666666666666666,
              "#ed7953"
             ],
             [
              0.7777777777777778,
              "#fb9f3a"
             ],
             [
              0.8888888888888888,
              "#fdca26"
             ],
             [
              1,
              "#f0f921"
             ]
            ],
            "type": "histogram2dcontour"
           }
          ],
          "mesh3d": [
           {
            "colorbar": {
             "outlinewidth": 0,
             "ticks": ""
            },
            "type": "mesh3d"
           }
          ],
          "parcoords": [
           {
            "line": {
             "colorbar": {
              "outlinewidth": 0,
              "ticks": ""
             }
            },
            "type": "parcoords"
           }
          ],
          "pie": [
           {
            "automargin": true,
            "type": "pie"
           }
          ],
          "scatter": [
           {
            "fillpattern": {
             "fillmode": "overlay",
             "size": 10,
             "solidity": 0.2
            },
            "type": "scatter"
           }
          ],
          "scatter3d": [
           {
            "line": {
             "colorbar": {
              "outlinewidth": 0,
              "ticks": ""
             }
            },
            "marker": {
             "colorbar": {
              "outlinewidth": 0,
              "ticks": ""
             }
            },
            "type": "scatter3d"
           }
          ],
          "scattercarpet": [
           {
            "marker": {
             "colorbar": {
              "outlinewidth": 0,
              "ticks": ""
             }
            },
            "type": "scattercarpet"
           }
          ],
          "scattergeo": [
           {
            "marker": {
             "colorbar": {
              "outlinewidth": 0,
              "ticks": ""
             }
            },
            "type": "scattergeo"
           }
          ],
          "scattergl": [
           {
            "marker": {
             "colorbar": {
              "outlinewidth": 0,
              "ticks": ""
             }
            },
            "type": "scattergl"
           }
          ],
          "scattermapbox": [
           {
            "marker": {
             "colorbar": {
              "outlinewidth": 0,
              "ticks": ""
             }
            },
            "type": "scattermapbox"
           }
          ],
          "scatterpolar": [
           {
            "marker": {
             "colorbar": {
              "outlinewidth": 0,
              "ticks": ""
             }
            },
            "type": "scatterpolar"
           }
          ],
          "scatterpolargl": [
           {
            "marker": {
             "colorbar": {
              "outlinewidth": 0,
              "ticks": ""
             }
            },
            "type": "scatterpolargl"
           }
          ],
          "scatterternary": [
           {
            "marker": {
             "colorbar": {
              "outlinewidth": 0,
              "ticks": ""
             }
            },
            "type": "scatterternary"
           }
          ],
          "surface": [
           {
            "colorbar": {
             "outlinewidth": 0,
             "ticks": ""
            },
            "colorscale": [
             [
              0,
              "#0d0887"
             ],
             [
              0.1111111111111111,
              "#46039f"
             ],
             [
              0.2222222222222222,
              "#7201a8"
             ],
             [
              0.3333333333333333,
              "#9c179e"
             ],
             [
              0.4444444444444444,
              "#bd3786"
             ],
             [
              0.5555555555555556,
              "#d8576b"
             ],
             [
              0.6666666666666666,
              "#ed7953"
             ],
             [
              0.7777777777777778,
              "#fb9f3a"
             ],
             [
              0.8888888888888888,
              "#fdca26"
             ],
             [
              1,
              "#f0f921"
             ]
            ],
            "type": "surface"
           }
          ],
          "table": [
           {
            "cells": {
             "fill": {
              "color": "#EBF0F8"
             },
             "line": {
              "color": "white"
             }
            },
            "header": {
             "fill": {
              "color": "#C8D4E3"
             },
             "line": {
              "color": "white"
             }
            },
            "type": "table"
           }
          ]
         },
         "layout": {
          "annotationdefaults": {
           "arrowcolor": "#2a3f5f",
           "arrowhead": 0,
           "arrowwidth": 1
          },
          "autotypenumbers": "strict",
          "coloraxis": {
           "colorbar": {
            "outlinewidth": 0,
            "ticks": ""
           }
          },
          "colorscale": {
           "diverging": [
            [
             0,
             "#8e0152"
            ],
            [
             0.1,
             "#c51b7d"
            ],
            [
             0.2,
             "#de77ae"
            ],
            [
             0.3,
             "#f1b6da"
            ],
            [
             0.4,
             "#fde0ef"
            ],
            [
             0.5,
             "#f7f7f7"
            ],
            [
             0.6,
             "#e6f5d0"
            ],
            [
             0.7,
             "#b8e186"
            ],
            [
             0.8,
             "#7fbc41"
            ],
            [
             0.9,
             "#4d9221"
            ],
            [
             1,
             "#276419"
            ]
           ],
           "sequential": [
            [
             0,
             "#0d0887"
            ],
            [
             0.1111111111111111,
             "#46039f"
            ],
            [
             0.2222222222222222,
             "#7201a8"
            ],
            [
             0.3333333333333333,
             "#9c179e"
            ],
            [
             0.4444444444444444,
             "#bd3786"
            ],
            [
             0.5555555555555556,
             "#d8576b"
            ],
            [
             0.6666666666666666,
             "#ed7953"
            ],
            [
             0.7777777777777778,
             "#fb9f3a"
            ],
            [
             0.8888888888888888,
             "#fdca26"
            ],
            [
             1,
             "#f0f921"
            ]
           ],
           "sequentialminus": [
            [
             0,
             "#0d0887"
            ],
            [
             0.1111111111111111,
             "#46039f"
            ],
            [
             0.2222222222222222,
             "#7201a8"
            ],
            [
             0.3333333333333333,
             "#9c179e"
            ],
            [
             0.4444444444444444,
             "#bd3786"
            ],
            [
             0.5555555555555556,
             "#d8576b"
            ],
            [
             0.6666666666666666,
             "#ed7953"
            ],
            [
             0.7777777777777778,
             "#fb9f3a"
            ],
            [
             0.8888888888888888,
             "#fdca26"
            ],
            [
             1,
             "#f0f921"
            ]
           ]
          },
          "colorway": [
           "#636efa",
           "#EF553B",
           "#00cc96",
           "#ab63fa",
           "#FFA15A",
           "#19d3f3",
           "#FF6692",
           "#B6E880",
           "#FF97FF",
           "#FECB52"
          ],
          "font": {
           "color": "#2a3f5f"
          },
          "geo": {
           "bgcolor": "white",
           "lakecolor": "white",
           "landcolor": "#E5ECF6",
           "showlakes": true,
           "showland": true,
           "subunitcolor": "white"
          },
          "hoverlabel": {
           "align": "left"
          },
          "hovermode": "closest",
          "mapbox": {
           "style": "light"
          },
          "paper_bgcolor": "white",
          "plot_bgcolor": "#E5ECF6",
          "polar": {
           "angularaxis": {
            "gridcolor": "white",
            "linecolor": "white",
            "ticks": ""
           },
           "bgcolor": "#E5ECF6",
           "radialaxis": {
            "gridcolor": "white",
            "linecolor": "white",
            "ticks": ""
           }
          },
          "scene": {
           "xaxis": {
            "backgroundcolor": "#E5ECF6",
            "gridcolor": "white",
            "gridwidth": 2,
            "linecolor": "white",
            "showbackground": true,
            "ticks": "",
            "zerolinecolor": "white"
           },
           "yaxis": {
            "backgroundcolor": "#E5ECF6",
            "gridcolor": "white",
            "gridwidth": 2,
            "linecolor": "white",
            "showbackground": true,
            "ticks": "",
            "zerolinecolor": "white"
           },
           "zaxis": {
            "backgroundcolor": "#E5ECF6",
            "gridcolor": "white",
            "gridwidth": 2,
            "linecolor": "white",
            "showbackground": true,
            "ticks": "",
            "zerolinecolor": "white"
           }
          },
          "shapedefaults": {
           "line": {
            "color": "#2a3f5f"
           }
          },
          "ternary": {
           "aaxis": {
            "gridcolor": "white",
            "linecolor": "white",
            "ticks": ""
           },
           "baxis": {
            "gridcolor": "white",
            "linecolor": "white",
            "ticks": ""
           },
           "bgcolor": "#E5ECF6",
           "caxis": {
            "gridcolor": "white",
            "linecolor": "white",
            "ticks": ""
           }
          },
          "title": {
           "x": 0.05
          },
          "xaxis": {
           "automargin": true,
           "gridcolor": "white",
           "linecolor": "white",
           "ticks": "",
           "title": {
            "standoff": 15
           },
           "zerolinecolor": "white",
           "zerolinewidth": 2
          },
          "yaxis": {
           "automargin": true,
           "gridcolor": "white",
           "linecolor": "white",
           "ticks": "",
           "title": {
            "standoff": 15
           },
           "zerolinecolor": "white",
           "zerolinewidth": 2
          }
         }
        }
       }
      },
      "text/html": [
       "<div>                            <div id=\"e8e0ff7d-ba72-45c1-8cc2-4862b322e110\" class=\"plotly-graph-div\" style=\"height:525px; width:100%;\"></div>            <script type=\"text/javascript\">                require([\"plotly\"], function(Plotly) {                    window.PLOTLYENV=window.PLOTLYENV || {};                                    if (document.getElementById(\"e8e0ff7d-ba72-45c1-8cc2-4862b322e110\")) {                    Plotly.newPlot(                        \"e8e0ff7d-ba72-45c1-8cc2-4862b322e110\",                        [{\"labels\":[\"\\u0423\\u0448\\u0435\\u0434\\u0448\\u0438\\u0435\",\"\\u041e\\u0441\\u0442\\u0430\\u0432\\u0448\\u0438\\u0435\\u0441\\u044f\"],\"values\":[720,470],\"type\":\"pie\"}],                        {\"template\":{\"data\":{\"histogram2dcontour\":[{\"type\":\"histogram2dcontour\",\"colorbar\":{\"outlinewidth\":0,\"ticks\":\"\"},\"colorscale\":[[0.0,\"#0d0887\"],[0.1111111111111111,\"#46039f\"],[0.2222222222222222,\"#7201a8\"],[0.3333333333333333,\"#9c179e\"],[0.4444444444444444,\"#bd3786\"],[0.5555555555555556,\"#d8576b\"],[0.6666666666666666,\"#ed7953\"],[0.7777777777777778,\"#fb9f3a\"],[0.8888888888888888,\"#fdca26\"],[1.0,\"#f0f921\"]]}],\"choropleth\":[{\"type\":\"choropleth\",\"colorbar\":{\"outlinewidth\":0,\"ticks\":\"\"}}],\"histogram2d\":[{\"type\":\"histogram2d\",\"colorbar\":{\"outlinewidth\":0,\"ticks\":\"\"},\"colorscale\":[[0.0,\"#0d0887\"],[0.1111111111111111,\"#46039f\"],[0.2222222222222222,\"#7201a8\"],[0.3333333333333333,\"#9c179e\"],[0.4444444444444444,\"#bd3786\"],[0.5555555555555556,\"#d8576b\"],[0.6666666666666666,\"#ed7953\"],[0.7777777777777778,\"#fb9f3a\"],[0.8888888888888888,\"#fdca26\"],[1.0,\"#f0f921\"]]}],\"heatmap\":[{\"type\":\"heatmap\",\"colorbar\":{\"outlinewidth\":0,\"ticks\":\"\"},\"colorscale\":[[0.0,\"#0d0887\"],[0.1111111111111111,\"#46039f\"],[0.2222222222222222,\"#7201a8\"],[0.3333333333333333,\"#9c179e\"],[0.4444444444444444,\"#bd3786\"],[0.5555555555555556,\"#d8576b\"],[0.6666666666666666,\"#ed7953\"],[0.7777777777777778,\"#fb9f3a\"],[0.8888888888888888,\"#fdca26\"],[1.0,\"#f0f921\"]]}],\"heatmapgl\":[{\"type\":\"heatmapgl\",\"colorbar\":{\"outlinewidth\":0,\"ticks\":\"\"},\"colorscale\":[[0.0,\"#0d0887\"],[0.1111111111111111,\"#46039f\"],[0.2222222222222222,\"#7201a8\"],[0.3333333333333333,\"#9c179e\"],[0.4444444444444444,\"#bd3786\"],[0.5555555555555556,\"#d8576b\"],[0.6666666666666666,\"#ed7953\"],[0.7777777777777778,\"#fb9f3a\"],[0.8888888888888888,\"#fdca26\"],[1.0,\"#f0f921\"]]}],\"contourcarpet\":[{\"type\":\"contourcarpet\",\"colorbar\":{\"outlinewidth\":0,\"ticks\":\"\"}}],\"contour\":[{\"type\":\"contour\",\"colorbar\":{\"outlinewidth\":0,\"ticks\":\"\"},\"colorscale\":[[0.0,\"#0d0887\"],[0.1111111111111111,\"#46039f\"],[0.2222222222222222,\"#7201a8\"],[0.3333333333333333,\"#9c179e\"],[0.4444444444444444,\"#bd3786\"],[0.5555555555555556,\"#d8576b\"],[0.6666666666666666,\"#ed7953\"],[0.7777777777777778,\"#fb9f3a\"],[0.8888888888888888,\"#fdca26\"],[1.0,\"#f0f921\"]]}],\"surface\":[{\"type\":\"surface\",\"colorbar\":{\"outlinewidth\":0,\"ticks\":\"\"},\"colorscale\":[[0.0,\"#0d0887\"],[0.1111111111111111,\"#46039f\"],[0.2222222222222222,\"#7201a8\"],[0.3333333333333333,\"#9c179e\"],[0.4444444444444444,\"#bd3786\"],[0.5555555555555556,\"#d8576b\"],[0.6666666666666666,\"#ed7953\"],[0.7777777777777778,\"#fb9f3a\"],[0.8888888888888888,\"#fdca26\"],[1.0,\"#f0f921\"]]}],\"mesh3d\":[{\"type\":\"mesh3d\",\"colorbar\":{\"outlinewidth\":0,\"ticks\":\"\"}}],\"scatter\":[{\"fillpattern\":{\"fillmode\":\"overlay\",\"size\":10,\"solidity\":0.2},\"type\":\"scatter\"}],\"parcoords\":[{\"type\":\"parcoords\",\"line\":{\"colorbar\":{\"outlinewidth\":0,\"ticks\":\"\"}}}],\"scatterpolargl\":[{\"type\":\"scatterpolargl\",\"marker\":{\"colorbar\":{\"outlinewidth\":0,\"ticks\":\"\"}}}],\"bar\":[{\"error_x\":{\"color\":\"#2a3f5f\"},\"error_y\":{\"color\":\"#2a3f5f\"},\"marker\":{\"line\":{\"color\":\"#E5ECF6\",\"width\":0.5},\"pattern\":{\"fillmode\":\"overlay\",\"size\":10,\"solidity\":0.2}},\"type\":\"bar\"}],\"scattergeo\":[{\"type\":\"scattergeo\",\"marker\":{\"colorbar\":{\"outlinewidth\":0,\"ticks\":\"\"}}}],\"scatterpolar\":[{\"type\":\"scatterpolar\",\"marker\":{\"colorbar\":{\"outlinewidth\":0,\"ticks\":\"\"}}}],\"histogram\":[{\"marker\":{\"pattern\":{\"fillmode\":\"overlay\",\"size\":10,\"solidity\":0.2}},\"type\":\"histogram\"}],\"scattergl\":[{\"type\":\"scattergl\",\"marker\":{\"colorbar\":{\"outlinewidth\":0,\"ticks\":\"\"}}}],\"scatter3d\":[{\"type\":\"scatter3d\",\"line\":{\"colorbar\":{\"outlinewidth\":0,\"ticks\":\"\"}},\"marker\":{\"colorbar\":{\"outlinewidth\":0,\"ticks\":\"\"}}}],\"scattermapbox\":[{\"type\":\"scattermapbox\",\"marker\":{\"colorbar\":{\"outlinewidth\":0,\"ticks\":\"\"}}}],\"scatterternary\":[{\"type\":\"scatterternary\",\"marker\":{\"colorbar\":{\"outlinewidth\":0,\"ticks\":\"\"}}}],\"scattercarpet\":[{\"type\":\"scattercarpet\",\"marker\":{\"colorbar\":{\"outlinewidth\":0,\"ticks\":\"\"}}}],\"carpet\":[{\"aaxis\":{\"endlinecolor\":\"#2a3f5f\",\"gridcolor\":\"white\",\"linecolor\":\"white\",\"minorgridcolor\":\"white\",\"startlinecolor\":\"#2a3f5f\"},\"baxis\":{\"endlinecolor\":\"#2a3f5f\",\"gridcolor\":\"white\",\"linecolor\":\"white\",\"minorgridcolor\":\"white\",\"startlinecolor\":\"#2a3f5f\"},\"type\":\"carpet\"}],\"table\":[{\"cells\":{\"fill\":{\"color\":\"#EBF0F8\"},\"line\":{\"color\":\"white\"}},\"header\":{\"fill\":{\"color\":\"#C8D4E3\"},\"line\":{\"color\":\"white\"}},\"type\":\"table\"}],\"barpolar\":[{\"marker\":{\"line\":{\"color\":\"#E5ECF6\",\"width\":0.5},\"pattern\":{\"fillmode\":\"overlay\",\"size\":10,\"solidity\":0.2}},\"type\":\"barpolar\"}],\"pie\":[{\"automargin\":true,\"type\":\"pie\"}]},\"layout\":{\"autotypenumbers\":\"strict\",\"colorway\":[\"#636efa\",\"#EF553B\",\"#00cc96\",\"#ab63fa\",\"#FFA15A\",\"#19d3f3\",\"#FF6692\",\"#B6E880\",\"#FF97FF\",\"#FECB52\"],\"font\":{\"color\":\"#2a3f5f\"},\"hovermode\":\"closest\",\"hoverlabel\":{\"align\":\"left\"},\"paper_bgcolor\":\"white\",\"plot_bgcolor\":\"#E5ECF6\",\"polar\":{\"bgcolor\":\"#E5ECF6\",\"angularaxis\":{\"gridcolor\":\"white\",\"linecolor\":\"white\",\"ticks\":\"\"},\"radialaxis\":{\"gridcolor\":\"white\",\"linecolor\":\"white\",\"ticks\":\"\"}},\"ternary\":{\"bgcolor\":\"#E5ECF6\",\"aaxis\":{\"gridcolor\":\"white\",\"linecolor\":\"white\",\"ticks\":\"\"},\"baxis\":{\"gridcolor\":\"white\",\"linecolor\":\"white\",\"ticks\":\"\"},\"caxis\":{\"gridcolor\":\"white\",\"linecolor\":\"white\",\"ticks\":\"\"}},\"coloraxis\":{\"colorbar\":{\"outlinewidth\":0,\"ticks\":\"\"}},\"colorscale\":{\"sequential\":[[0.0,\"#0d0887\"],[0.1111111111111111,\"#46039f\"],[0.2222222222222222,\"#7201a8\"],[0.3333333333333333,\"#9c179e\"],[0.4444444444444444,\"#bd3786\"],[0.5555555555555556,\"#d8576b\"],[0.6666666666666666,\"#ed7953\"],[0.7777777777777778,\"#fb9f3a\"],[0.8888888888888888,\"#fdca26\"],[1.0,\"#f0f921\"]],\"sequentialminus\":[[0.0,\"#0d0887\"],[0.1111111111111111,\"#46039f\"],[0.2222222222222222,\"#7201a8\"],[0.3333333333333333,\"#9c179e\"],[0.4444444444444444,\"#bd3786\"],[0.5555555555555556,\"#d8576b\"],[0.6666666666666666,\"#ed7953\"],[0.7777777777777778,\"#fb9f3a\"],[0.8888888888888888,\"#fdca26\"],[1.0,\"#f0f921\"]],\"diverging\":[[0,\"#8e0152\"],[0.1,\"#c51b7d\"],[0.2,\"#de77ae\"],[0.3,\"#f1b6da\"],[0.4,\"#fde0ef\"],[0.5,\"#f7f7f7\"],[0.6,\"#e6f5d0\"],[0.7,\"#b8e186\"],[0.8,\"#7fbc41\"],[0.9,\"#4d9221\"],[1,\"#276419\"]]},\"xaxis\":{\"gridcolor\":\"white\",\"linecolor\":\"white\",\"ticks\":\"\",\"title\":{\"standoff\":15},\"zerolinecolor\":\"white\",\"automargin\":true,\"zerolinewidth\":2},\"yaxis\":{\"gridcolor\":\"white\",\"linecolor\":\"white\",\"ticks\":\"\",\"title\":{\"standoff\":15},\"zerolinecolor\":\"white\",\"automargin\":true,\"zerolinewidth\":2},\"scene\":{\"xaxis\":{\"backgroundcolor\":\"#E5ECF6\",\"gridcolor\":\"white\",\"linecolor\":\"white\",\"showbackground\":true,\"ticks\":\"\",\"zerolinecolor\":\"white\",\"gridwidth\":2},\"yaxis\":{\"backgroundcolor\":\"#E5ECF6\",\"gridcolor\":\"white\",\"linecolor\":\"white\",\"showbackground\":true,\"ticks\":\"\",\"zerolinecolor\":\"white\",\"gridwidth\":2},\"zaxis\":{\"backgroundcolor\":\"#E5ECF6\",\"gridcolor\":\"white\",\"linecolor\":\"white\",\"showbackground\":true,\"ticks\":\"\",\"zerolinecolor\":\"white\",\"gridwidth\":2}},\"shapedefaults\":{\"line\":{\"color\":\"#2a3f5f\"}},\"annotationdefaults\":{\"arrowcolor\":\"#2a3f5f\",\"arrowhead\":0,\"arrowwidth\":1},\"geo\":{\"bgcolor\":\"white\",\"landcolor\":\"#E5ECF6\",\"subunitcolor\":\"white\",\"showland\":true,\"showlakes\":true,\"lakecolor\":\"white\"},\"title\":{\"x\":0.05},\"mapbox\":{\"style\":\"light\"}}}},                        {\"responsive\": true}                    ).then(function(){\n",
       "                            \n",
       "var gd = document.getElementById('e8e0ff7d-ba72-45c1-8cc2-4862b322e110');\n",
       "var x = new MutationObserver(function (mutations, observer) {{\n",
       "        var display = window.getComputedStyle(gd).display;\n",
       "        if (!display || display === 'none') {{\n",
       "            console.log([gd, 'removed!']);\n",
       "            Plotly.purge(gd);\n",
       "            observer.disconnect();\n",
       "        }}\n",
       "}});\n",
       "\n",
       "// Listen for the removal of the full notebook cells\n",
       "var notebookContainer = gd.closest('#notebook-container');\n",
       "if (notebookContainer) {{\n",
       "    x.observe(notebookContainer, {childList: true});\n",
       "}}\n",
       "\n",
       "// Listen for the clearing of the current output cell\n",
       "var outputEl = gd.closest('.output');\n",
       "if (outputEl) {{\n",
       "    x.observe(outputEl, {childList: true});\n",
       "}}\n",
       "\n",
       "                        })                };                });            </script>        </div>"
      ]
     },
     "metadata": {},
     "output_type": "display_data"
    }
   ],
   "source": [
    "fig = go.Figure(\n",
    "    data = [go.Pie(labels= p4_df['churn'].unique(), values = p4_df['churn'].value_counts())])\n",
    "fig.show()"
   ]
  },
  {
   "cell_type": "markdown",
   "metadata": {},
   "source": [
    "### Приоритизация портретов"
   ]
  },
  {
   "cell_type": "markdown",
   "metadata": {},
   "source": [
    "Если учитывать порядок убывания доли клиентов в оттоке, то получим следующую приоритизацию:\n",
    "    \n",
    "1 место - **Портрет № 3**\n",
    "\n",
    "Мужчины и женщины до 50 лет\n",
    "\n",
    "На балансе менее 800000  р.,  кредитный рейтинг - больше 825 баллов"
   ]
  },
  {
   "cell_type": "markdown",
   "metadata": {},
   "source": [
    "2 место - **Портрет № 2**\n",
    "\n",
    "Мужчины и женщины в возрасте от 50 лет.\n",
    "\n",
    "Собственность которых оценивается на 3 балла и выше. \n",
    "\n",
    "Без оформленнных кредитных карт."
   ]
  },
  {
   "cell_type": "markdown",
   "metadata": {},
   "source": [
    "3 место - **Портрет № 1**\n",
    "\n",
    "Мужчины и женщины до 50 лет с кредитным рейтингом от 825 баллов\n",
    "\n",
    "Используют от 2 продуктов банка и были активны в последнее время\n",
    "\n",
    "На балансе более 800 т.р."
   ]
  },
  {
   "cell_type": "markdown",
   "metadata": {},
   "source": [
    "4 место - **Портрет № 4**\n",
    "\n",
    "Мужчины из Ярославля\n",
    "\n",
    "Собственность которых оценивается в 3 и более баллов."
   ]
  },
  {
   "cell_type": "markdown",
   "metadata": {},
   "source": [
    "## Общие выводы"
   ]
  },
  {
   "cell_type": "markdown",
   "metadata": {},
   "source": [
    "В рамках исследования были изучены характеристики клиентов банка склонных и не склонных к оттоку, их взаимосвязь и влияение на отточность клиентов.\n",
    "\n",
    "В основном все признаки коррелируют с признаком churn (отток) незначительно. \n",
    "\n",
    "Самый высокий показатель корреляции Пирсона признак churn (отток) имеет с признаком score (баллы кредитного скоринга).\n",
    "\n",
    "Самые высокие показатели корреляции Спирмена признак churn (отток) имеет  с признаками equity (приблизительная оценка собственности клиента), products (количество продуктов, которыми пользуется клиент). \n",
    "\n",
    "По шкале Чеддока зависимость между этими признаками оценивается как прямая и слабая.\n",
    "\n",
    "По итогам исследовательского анализа удалось выделить следующие признаки, характерные для отточных клиентов:\n",
    "\n",
    " - По признаку score склонны к оттоку клиенты с уровнем кредитного рейтинга 825 - 910 балллов и 920 - 935.\n",
    "\n",
    " - По признаку city склонны к оттоку клиенты из Ярославля.\n",
    "\n",
    " - По признаку gender склонны к оттоку мужчины.\n",
    "\n",
    " - По признаку age склонны к оттоку возрастные группы: 24-35 лет, 50-61 год. \n",
    "\n",
    " - По признаку equity склонны к оттоку клиенты, собственность которых оценивается выше 3 баллов. \n",
    "\n",
    " - По признаку balance склонны к оттоку клиенты, на балансе которых примерно 760-840 т.р.; 910 - 1050 т.р.; свыше 1120 т.р.\n",
    "\n",
    " - По признаку products склонны к оттоку клиенты, которые используют от 2 продуктов банка, наиболее - 4 продукта. \n",
    "\n",
    " - По признаку credit_card склонны к оттоку клиенты, не оформившие кредитную карту. \n",
    "\n",
    " - По признаку last_activity склонны к оттоку клиенты, которые были активны и использовали продукты банка в последнее время. \n",
    "\n",
    " - По признаку est_salary склонны к оттоку клиенты с зарплатами 90 - 140 т.р., 150 - 215 т.р.\n",
    " \n",
    "Эти признаки учитываю при формировании портретов клиентов. \n",
    "\n",
    "Также в ходе исследования были проверены 5 гипотез, чтобы сравнить признаки между клиентами из оттока и оставшимися на обслуживании в банке:\n",
    "\n",
    " - По итогу проверки гипотезы различия дохода между теми клиентами, которые ушли и теми, которые остались пришли к выводу, что средний доход клиента из оттока равен среднему доходу оставшегося клиента.\n",
    "\n",
    " - По итогу проверки гипотезы различия количества используемых продуктов делаем вывод, что среднее количество продуктов, которое используют клиенты из оттока не равно среднему количеству продуктов, которое использует оставшийся клиент.\n",
    "\n",
    " - По итогу проверки гипотезы различия количества баллов кредитного скоринга делаем вывод, что среднее количество баллов кредитного скоринга, у клиентов из оттока не равно среднему количеству баллов кредитного скоринга, оставшихся клиентов.\n",
    "\n",
    " - По итогу проверки гипотезы различия оценки собственности делаем вывод, что средняя оценка собственности клиентов из оттока не равна средней оценке собственности оставшихся клиентов.\n",
    "\n",
    " - По итогу проверки гипотезы различия возраста делаем вывод, что средний возраст клиентов из оттока не равен среднему возрасту оставшихся клиентов.\n",
    "\n",
    "Таким образом, при формировании портретов также учитывала признаки: products, score, equity, age.\n",
    "\n",
    "Мне удалось сформировать 4 портрета клиентов, с долей оттока от 60%. Описание портетов привожу в порядке убывания доли отточных клиентов:\n",
    "\n",
    "1 место - **Портрет № 3**\n",
    "\n",
    "Мужчины и женщины до 50 лет\n",
    "\n",
    "На балансе менее 800000 р., кредитный рейтинг - больше 825 баллов\n",
    "\n",
    "Самый высокоотточный сегмент: **Доля оттока - 75%**\n",
    "\n",
    "2 место - **Портрет № 2**\n",
    "\n",
    "Мужчины и женщины в возрасте от 50 лет.\n",
    "\n",
    "Собственность которых оценивается на 3 балла и выше.\n",
    "\n",
    "Без оформленнных кредитных карт.\n",
    "\n",
    "**Доля оттока - 69,4%**\n",
    "\n",
    "3 место - **Портрет № 1**\n",
    "\n",
    "Мужчины и женщины до 50 лет с кредитным рейтингом от 825 баллов\n",
    "\n",
    "Используют от 2 продуктов банка и были активны в последнее время\n",
    "\n",
    "На балансе более 800 т.р.\n",
    "\n",
    "**Доля оттока - 65,9%**\n",
    "\n",
    "4 место - **Портрет № 4**\n",
    "\n",
    "Мужчины из Ярославля\n",
    "\n",
    "Собственность которых оценивается в 3 и более баллов.\n",
    "\n",
    "**Доля оттока - 60,5%**\n",
    "\n",
    "Если говорить о рекомендациях, то я бы выстраивала работу последовательно и сначала предложила обратить внимание на 2 первых самых высокоотточных портрета. \n",
    "\n",
    "Клиентам из Портрета № 3 (1 место по оттоку): мужчины и женщины до 50 лет, на балансе менее 800000 р., кредитный рейтинг - больше 825 баллов. Скорее всего могут быть интересны различные виды ипотек, сниженный первоначальный взнос,и более доступные процентные ставки. \n",
    "\n",
    "Клиентам из Портрета № 2 (2 место по оттоку): мужчины и женщины в возрасте от 50 лет, собственность которых оценивается на 3 балла и выше, без оформленнных кредитных карт могут быть интересны сниженные тарифы на обслуживание, нестандартные категории кэшбека, возможно, предложения по вкладам с интересным процентом. "
   ]
  }
 ],
 "metadata": {
  "ExecuteTimeLog": [
   {
    "duration": 3,
    "start_time": "2023-03-11T16:16:51.138Z"
   },
   {
    "duration": 3,
    "start_time": "2023-03-11T16:23:24.276Z"
   },
   {
    "duration": 2,
    "start_time": "2023-03-11T16:23:35.287Z"
   },
   {
    "duration": 3,
    "start_time": "2023-03-11T16:35:54.857Z"
   },
   {
    "duration": 404,
    "start_time": "2023-03-11T16:36:37.103Z"
   },
   {
    "duration": 810,
    "start_time": "2023-03-11T16:37:14.575Z"
   },
   {
    "duration": 61,
    "start_time": "2023-03-11T16:37:32.153Z"
   },
   {
    "duration": 81,
    "start_time": "2023-03-11T16:38:15.615Z"
   },
   {
    "duration": 2,
    "start_time": "2023-03-11T16:38:43.232Z"
   },
   {
    "duration": 3,
    "start_time": "2023-03-11T16:48:06.668Z"
   },
   {
    "duration": 14,
    "start_time": "2023-03-11T16:48:27.470Z"
   },
   {
    "duration": 16,
    "start_time": "2023-03-11T16:49:27.805Z"
   },
   {
    "duration": 27,
    "start_time": "2023-03-11T16:53:16.928Z"
   },
   {
    "duration": 3,
    "start_time": "2023-03-11T16:54:51.163Z"
   },
   {
    "duration": 7,
    "start_time": "2023-03-11T16:54:55.236Z"
   },
   {
    "duration": 67,
    "start_time": "2023-03-11T16:56:43.669Z"
   },
   {
    "duration": 16,
    "start_time": "2023-03-11T16:57:34.587Z"
   },
   {
    "duration": 69,
    "start_time": "2023-03-11T16:58:28.721Z"
   },
   {
    "duration": 63,
    "start_time": "2023-03-11T17:36:30.512Z"
   },
   {
    "duration": 9,
    "start_time": "2023-03-11T17:36:39.511Z"
   },
   {
    "duration": 5,
    "start_time": "2023-03-11T17:38:43.543Z"
   },
   {
    "duration": 5,
    "start_time": "2023-03-11T17:38:56.837Z"
   },
   {
    "duration": 4,
    "start_time": "2023-03-11T17:39:07.501Z"
   },
   {
    "duration": 5,
    "start_time": "2023-03-11T17:39:19.972Z"
   },
   {
    "duration": 4,
    "start_time": "2023-03-11T17:39:45.881Z"
   },
   {
    "duration": 5,
    "start_time": "2023-03-11T17:39:59.761Z"
   },
   {
    "duration": 6,
    "start_time": "2023-03-11T17:40:14.462Z"
   },
   {
    "duration": 6,
    "start_time": "2023-03-11T17:40:29.457Z"
   },
   {
    "duration": 5,
    "start_time": "2023-03-11T17:40:53.229Z"
   },
   {
    "duration": 73,
    "start_time": "2023-03-11T17:46:55.767Z"
   },
   {
    "duration": 12,
    "start_time": "2023-03-11T17:51:47.359Z"
   },
   {
    "duration": 62,
    "start_time": "2023-03-11T17:54:26.959Z"
   },
   {
    "duration": 13,
    "start_time": "2023-03-11T17:56:15.557Z"
   },
   {
    "duration": 10,
    "start_time": "2023-03-11T17:56:26.911Z"
   },
   {
    "duration": 472,
    "start_time": "2023-03-11T17:56:40.442Z"
   },
   {
    "duration": 1128,
    "start_time": "2023-03-11T17:56:40.916Z"
   },
   {
    "duration": 45,
    "start_time": "2023-03-11T17:56:42.046Z"
   },
   {
    "duration": 15,
    "start_time": "2023-03-11T17:56:42.093Z"
   },
   {
    "duration": 18,
    "start_time": "2023-03-11T17:56:42.110Z"
   },
   {
    "duration": 35,
    "start_time": "2023-03-11T17:56:42.129Z"
   },
   {
    "duration": 17,
    "start_time": "2023-03-11T17:56:42.167Z"
   },
   {
    "duration": 9,
    "start_time": "2023-03-11T17:56:42.186Z"
   },
   {
    "duration": 7,
    "start_time": "2023-03-11T17:56:42.196Z"
   },
   {
    "duration": 6,
    "start_time": "2023-03-11T17:56:42.205Z"
   },
   {
    "duration": 12,
    "start_time": "2023-03-11T17:56:42.213Z"
   },
   {
    "duration": 43,
    "start_time": "2023-03-11T17:56:42.227Z"
   },
   {
    "duration": 5,
    "start_time": "2023-03-11T17:56:42.272Z"
   },
   {
    "duration": 6,
    "start_time": "2023-03-11T17:56:42.279Z"
   },
   {
    "duration": 6,
    "start_time": "2023-03-11T17:56:42.287Z"
   },
   {
    "duration": 7,
    "start_time": "2023-03-11T17:56:42.295Z"
   },
   {
    "duration": 14,
    "start_time": "2023-03-11T17:56:42.304Z"
   },
   {
    "duration": 52,
    "start_time": "2023-03-11T17:56:42.320Z"
   },
   {
    "duration": 89,
    "start_time": "2023-03-11T18:02:19.146Z"
   },
   {
    "duration": 77,
    "start_time": "2023-03-11T18:11:26.688Z"
   },
   {
    "duration": 42,
    "start_time": "2023-03-11T18:11:39.619Z"
   },
   {
    "duration": 57,
    "start_time": "2023-03-11T18:15:03.191Z"
   },
   {
    "duration": 53,
    "start_time": "2023-03-11T18:15:09.902Z"
   },
   {
    "duration": 46,
    "start_time": "2023-03-11T18:17:00.906Z"
   },
   {
    "duration": 42,
    "start_time": "2023-03-11T18:17:05.616Z"
   },
   {
    "duration": 62,
    "start_time": "2023-03-11T18:17:45.526Z"
   },
   {
    "duration": 81,
    "start_time": "2023-03-11T18:29:16.981Z"
   },
   {
    "duration": 92,
    "start_time": "2023-03-11T18:33:20.302Z"
   },
   {
    "duration": 3,
    "start_time": "2023-03-11T18:33:59.188Z"
   },
   {
    "duration": 8,
    "start_time": "2023-03-11T18:34:56.031Z"
   },
   {
    "duration": 6,
    "start_time": "2023-03-11T18:35:01.316Z"
   },
   {
    "duration": 10,
    "start_time": "2023-03-11T18:49:30.944Z"
   },
   {
    "duration": 38,
    "start_time": "2023-03-11T18:50:50.391Z"
   },
   {
    "duration": 21,
    "start_time": "2023-03-11T18:50:59.729Z"
   },
   {
    "duration": 9,
    "start_time": "2023-03-11T18:52:11.019Z"
   },
   {
    "duration": 9,
    "start_time": "2023-03-11T18:57:23.693Z"
   },
   {
    "duration": 3,
    "start_time": "2023-03-11T18:57:50.225Z"
   },
   {
    "duration": 10,
    "start_time": "2023-03-11T18:57:56.052Z"
   },
   {
    "duration": 16,
    "start_time": "2023-03-11T18:58:09.284Z"
   },
   {
    "duration": 15,
    "start_time": "2023-03-11T18:58:25.898Z"
   },
   {
    "duration": 3,
    "start_time": "2023-03-11T18:58:44.691Z"
   },
   {
    "duration": 122,
    "start_time": "2023-03-11T19:20:55.251Z"
   },
   {
    "duration": 394,
    "start_time": "2023-03-13T18:41:00.258Z"
   },
   {
    "duration": 1717,
    "start_time": "2023-03-13T18:41:00.655Z"
   },
   {
    "duration": 39,
    "start_time": "2023-03-13T18:41:02.373Z"
   },
   {
    "duration": 13,
    "start_time": "2023-03-13T18:41:02.414Z"
   },
   {
    "duration": 17,
    "start_time": "2023-03-13T18:41:02.429Z"
   },
   {
    "duration": 6,
    "start_time": "2023-03-13T18:41:02.448Z"
   },
   {
    "duration": 20,
    "start_time": "2023-03-13T18:41:02.456Z"
   },
   {
    "duration": 80,
    "start_time": "2023-03-13T18:41:02.478Z"
   },
   {
    "duration": 41,
    "start_time": "2023-03-13T18:41:02.560Z"
   },
   {
    "duration": 21,
    "start_time": "2023-03-13T18:41:02.604Z"
   },
   {
    "duration": 5,
    "start_time": "2023-03-13T18:41:02.626Z"
   },
   {
    "duration": 14,
    "start_time": "2023-03-13T18:41:02.633Z"
   },
   {
    "duration": 14,
    "start_time": "2023-03-13T18:41:02.648Z"
   },
   {
    "duration": 24,
    "start_time": "2023-03-13T18:41:02.664Z"
   },
   {
    "duration": 25,
    "start_time": "2023-03-13T18:41:02.690Z"
   },
   {
    "duration": 30,
    "start_time": "2023-03-13T18:41:02.717Z"
   },
   {
    "duration": 15,
    "start_time": "2023-03-13T18:41:02.749Z"
   },
   {
    "duration": 110,
    "start_time": "2023-03-13T18:48:37.578Z"
   },
   {
    "duration": 119,
    "start_time": "2023-03-13T18:51:29.504Z"
   },
   {
    "duration": 43,
    "start_time": "2023-03-13T18:51:48.938Z"
   },
   {
    "duration": 41,
    "start_time": "2023-03-13T18:52:09.548Z"
   },
   {
    "duration": 8,
    "start_time": "2023-03-13T19:19:58.645Z"
   },
   {
    "duration": 942,
    "start_time": "2023-03-13T19:20:40.950Z"
   },
   {
    "duration": 61,
    "start_time": "2023-03-13T19:20:48.094Z"
   },
   {
    "duration": 975,
    "start_time": "2023-03-13T19:21:05.795Z"
   },
   {
    "duration": 1024,
    "start_time": "2023-03-13T19:22:03.242Z"
   },
   {
    "duration": 1065,
    "start_time": "2023-03-13T19:22:29.600Z"
   },
   {
    "duration": 1224,
    "start_time": "2023-03-13T19:26:58.696Z"
   },
   {
    "duration": 103,
    "start_time": "2023-03-13T19:40:44.208Z"
   },
   {
    "duration": 11,
    "start_time": "2023-03-13T19:41:06.150Z"
   },
   {
    "duration": 12,
    "start_time": "2023-03-13T19:41:12.288Z"
   },
   {
    "duration": 563,
    "start_time": "2023-03-13T19:41:22.089Z"
   },
   {
    "duration": 572,
    "start_time": "2023-03-13T19:43:15.769Z"
   },
   {
    "duration": 580,
    "start_time": "2023-03-13T19:45:43.096Z"
   },
   {
    "duration": 652,
    "start_time": "2023-03-13T19:45:48.200Z"
   },
   {
    "duration": 115,
    "start_time": "2023-03-13T19:48:11.796Z"
   },
   {
    "duration": 559,
    "start_time": "2023-03-13T19:48:20.508Z"
   },
   {
    "duration": 556,
    "start_time": "2023-03-13T19:49:05.990Z"
   },
   {
    "duration": 572,
    "start_time": "2023-03-13T19:50:29.399Z"
   },
   {
    "duration": 544,
    "start_time": "2023-03-13T19:50:45.786Z"
   },
   {
    "duration": 510,
    "start_time": "2023-03-13T19:50:54.698Z"
   },
   {
    "duration": 478,
    "start_time": "2023-03-13T19:51:04.749Z"
   },
   {
    "duration": 516,
    "start_time": "2023-03-13T19:51:20.942Z"
   },
   {
    "duration": 628,
    "start_time": "2023-03-13T19:51:31.797Z"
   },
   {
    "duration": 544,
    "start_time": "2023-03-13T19:51:46.785Z"
   },
   {
    "duration": 563,
    "start_time": "2023-03-13T19:52:37.987Z"
   },
   {
    "duration": 492,
    "start_time": "2023-03-13T19:52:48.241Z"
   },
   {
    "duration": 528,
    "start_time": "2023-03-13T19:53:21.487Z"
   },
   {
    "duration": 13,
    "start_time": "2023-03-13T20:06:58.701Z"
   },
   {
    "duration": 25,
    "start_time": "2023-03-13T20:07:14.923Z"
   },
   {
    "duration": 15,
    "start_time": "2023-03-13T20:09:36.219Z"
   },
   {
    "duration": 1349,
    "start_time": "2023-03-13T20:09:57.924Z"
   },
   {
    "duration": 3863,
    "start_time": "2023-03-13T20:09:59.275Z"
   },
   {
    "duration": 36,
    "start_time": "2023-03-13T20:10:03.139Z"
   },
   {
    "duration": 13,
    "start_time": "2023-03-13T20:10:03.177Z"
   },
   {
    "duration": 46,
    "start_time": "2023-03-13T20:10:03.192Z"
   },
   {
    "duration": 5,
    "start_time": "2023-03-13T20:10:03.240Z"
   },
   {
    "duration": 18,
    "start_time": "2023-03-13T20:10:03.246Z"
   },
   {
    "duration": 78,
    "start_time": "2023-03-13T20:10:03.266Z"
   },
   {
    "duration": 51,
    "start_time": "2023-03-13T20:10:03.346Z"
   },
   {
    "duration": 6,
    "start_time": "2023-03-13T20:10:03.400Z"
   },
   {
    "duration": 20,
    "start_time": "2023-03-13T20:10:03.407Z"
   },
   {
    "duration": 5,
    "start_time": "2023-03-13T20:10:03.428Z"
   },
   {
    "duration": 4,
    "start_time": "2023-03-13T20:10:03.435Z"
   },
   {
    "duration": 11,
    "start_time": "2023-03-13T20:10:03.440Z"
   },
   {
    "duration": 14,
    "start_time": "2023-03-13T20:10:03.452Z"
   },
   {
    "duration": 7,
    "start_time": "2023-03-13T20:10:03.467Z"
   },
   {
    "duration": 59,
    "start_time": "2023-03-13T20:10:03.475Z"
   },
   {
    "duration": 10,
    "start_time": "2023-03-13T20:10:03.535Z"
   },
   {
    "duration": 498,
    "start_time": "2023-03-13T20:10:03.547Z"
   },
   {
    "duration": 126,
    "start_time": "2023-03-13T20:10:04.047Z"
   },
   {
    "duration": 0,
    "start_time": "2023-03-13T20:10:04.175Z"
   },
   {
    "duration": 552,
    "start_time": "2023-03-13T20:13:50.513Z"
   },
   {
    "duration": 106,
    "start_time": "2023-03-13T20:14:13.585Z"
   },
   {
    "duration": 3,
    "start_time": "2023-03-13T20:15:50.946Z"
   },
   {
    "duration": 10,
    "start_time": "2023-03-13T20:17:07.488Z"
   },
   {
    "duration": 707,
    "start_time": "2023-03-13T20:17:16.592Z"
   },
   {
    "duration": 11,
    "start_time": "2023-03-13T20:18:33.697Z"
   },
   {
    "duration": 511,
    "start_time": "2023-03-13T20:18:36.549Z"
   },
   {
    "duration": 3,
    "start_time": "2023-03-13T20:19:56.173Z"
   },
   {
    "duration": 1240,
    "start_time": "2023-03-13T20:20:15.393Z"
   },
   {
    "duration": 112,
    "start_time": "2023-03-13T20:26:02.504Z"
   },
   {
    "duration": 38,
    "start_time": "2023-03-13T20:27:45.022Z"
   },
   {
    "duration": 4,
    "start_time": "2023-03-13T20:28:57.575Z"
   },
   {
    "duration": 15,
    "start_time": "2023-03-13T20:29:06.639Z"
   },
   {
    "duration": 114,
    "start_time": "2023-03-13T20:36:40.337Z"
   },
   {
    "duration": 236,
    "start_time": "2023-03-13T20:37:01.621Z"
   },
   {
    "duration": 27,
    "start_time": "2023-03-13T20:42:16.240Z"
   },
   {
    "duration": 20,
    "start_time": "2023-03-13T20:44:20.021Z"
   },
   {
    "duration": 43,
    "start_time": "2023-03-13T20:45:52.199Z"
   },
   {
    "duration": 3,
    "start_time": "2023-03-13T20:59:18.260Z"
   },
   {
    "duration": 4,
    "start_time": "2023-03-13T21:10:39.048Z"
   },
   {
    "duration": 5,
    "start_time": "2023-03-13T21:11:17.508Z"
   },
   {
    "duration": 5,
    "start_time": "2023-03-13T21:11:28.958Z"
   },
   {
    "duration": 4,
    "start_time": "2023-03-13T21:12:04.019Z"
   },
   {
    "duration": 4,
    "start_time": "2023-03-13T21:12:29.289Z"
   },
   {
    "duration": 106,
    "start_time": "2023-03-13T21:37:49.194Z"
   },
   {
    "duration": 99,
    "start_time": "2023-03-13T21:38:20.965Z"
   },
   {
    "duration": 106,
    "start_time": "2023-03-13T21:38:32.762Z"
   },
   {
    "duration": 11,
    "start_time": "2023-03-13T21:44:26.623Z"
   },
   {
    "duration": 90,
    "start_time": "2023-03-13T21:44:37.956Z"
   },
   {
    "duration": 94,
    "start_time": "2023-03-13T21:45:03.469Z"
   },
   {
    "duration": 6,
    "start_time": "2023-03-13T21:46:45.848Z"
   },
   {
    "duration": 106,
    "start_time": "2023-03-13T21:50:47.393Z"
   },
   {
    "duration": 20,
    "start_time": "2023-03-13T21:51:53.848Z"
   },
   {
    "duration": 124,
    "start_time": "2023-03-13T21:52:08.249Z"
   },
   {
    "duration": 1370,
    "start_time": "2023-03-13T21:54:58.638Z"
   },
   {
    "duration": 107,
    "start_time": "2023-03-13T21:58:09.621Z"
   },
   {
    "duration": 5,
    "start_time": "2023-03-13T21:58:47.030Z"
   },
   {
    "duration": 9,
    "start_time": "2023-03-13T22:00:06.517Z"
   },
   {
    "duration": 105,
    "start_time": "2023-03-13T22:01:07.205Z"
   },
   {
    "duration": 108,
    "start_time": "2023-03-13T22:03:01.410Z"
   },
   {
    "duration": 98,
    "start_time": "2023-03-13T22:03:58.650Z"
   },
   {
    "duration": 8,
    "start_time": "2023-03-13T22:04:55.385Z"
   },
   {
    "duration": 6,
    "start_time": "2023-03-13T22:06:22.480Z"
   },
   {
    "duration": 17,
    "start_time": "2023-03-13T22:06:30.823Z"
   },
   {
    "duration": 112,
    "start_time": "2023-03-13T22:07:34.188Z"
   },
   {
    "duration": 122,
    "start_time": "2023-03-13T22:07:43.767Z"
   },
   {
    "duration": 1272,
    "start_time": "2023-03-13T22:07:58.752Z"
   },
   {
    "duration": 1139,
    "start_time": "2023-03-13T22:08:00.026Z"
   },
   {
    "duration": 47,
    "start_time": "2023-03-13T22:08:01.167Z"
   },
   {
    "duration": 14,
    "start_time": "2023-03-13T22:08:01.216Z"
   },
   {
    "duration": 57,
    "start_time": "2023-03-13T22:08:01.232Z"
   },
   {
    "duration": 22,
    "start_time": "2023-03-13T22:08:01.291Z"
   },
   {
    "duration": 21,
    "start_time": "2023-03-13T22:08:01.315Z"
   },
   {
    "duration": 80,
    "start_time": "2023-03-13T22:08:01.338Z"
   },
   {
    "duration": 45,
    "start_time": "2023-03-13T22:08:01.420Z"
   },
   {
    "duration": 6,
    "start_time": "2023-03-13T22:08:01.469Z"
   },
   {
    "duration": 53,
    "start_time": "2023-03-13T22:08:01.476Z"
   },
   {
    "duration": 46,
    "start_time": "2023-03-13T22:08:01.531Z"
   },
   {
    "duration": 52,
    "start_time": "2023-03-13T22:08:01.578Z"
   },
   {
    "duration": 66,
    "start_time": "2023-03-13T22:08:01.632Z"
   },
   {
    "duration": 53,
    "start_time": "2023-03-13T22:08:01.700Z"
   },
   {
    "duration": 11,
    "start_time": "2023-03-13T22:08:01.755Z"
   },
   {
    "duration": 30,
    "start_time": "2023-03-13T22:08:01.768Z"
   },
   {
    "duration": 34,
    "start_time": "2023-03-13T22:08:01.799Z"
   },
   {
    "duration": 524,
    "start_time": "2023-03-13T22:08:01.835Z"
   },
   {
    "duration": 31,
    "start_time": "2023-03-13T22:08:02.361Z"
   },
   {
    "duration": 5,
    "start_time": "2023-03-13T22:08:02.393Z"
   },
   {
    "duration": 137,
    "start_time": "2023-03-13T22:08:02.400Z"
   },
   {
    "duration": 5,
    "start_time": "2023-03-13T22:08:02.539Z"
   },
   {
    "duration": 122,
    "start_time": "2023-03-13T22:08:02.546Z"
   },
   {
    "duration": 5,
    "start_time": "2023-03-13T22:08:02.670Z"
   },
   {
    "duration": 31,
    "start_time": "2023-03-13T22:08:02.677Z"
   },
   {
    "duration": 30,
    "start_time": "2023-03-13T22:08:02.710Z"
   },
   {
    "duration": 119,
    "start_time": "2023-03-13T22:08:02.744Z"
   },
   {
    "duration": 14,
    "start_time": "2023-03-13T22:08:02.865Z"
   },
   {
    "duration": 20,
    "start_time": "2023-03-13T22:08:02.881Z"
   },
   {
    "duration": 6,
    "start_time": "2023-03-13T22:08:02.923Z"
   },
   {
    "duration": 1463,
    "start_time": "2023-03-13T22:08:02.930Z"
   },
   {
    "duration": 138,
    "start_time": "2023-03-13T22:08:30.120Z"
   },
   {
    "duration": 22,
    "start_time": "2023-03-13T22:08:48.721Z"
   },
   {
    "duration": 1327,
    "start_time": "2023-03-13T22:08:58.904Z"
   },
   {
    "duration": 4749,
    "start_time": "2023-03-13T22:09:00.233Z"
   },
   {
    "duration": 37,
    "start_time": "2023-03-13T22:09:04.984Z"
   },
   {
    "duration": 14,
    "start_time": "2023-03-13T22:09:05.022Z"
   },
   {
    "duration": 17,
    "start_time": "2023-03-13T22:09:05.038Z"
   },
   {
    "duration": 6,
    "start_time": "2023-03-13T22:09:05.056Z"
   },
   {
    "duration": 14,
    "start_time": "2023-03-13T22:09:05.063Z"
   },
   {
    "duration": 78,
    "start_time": "2023-03-13T22:09:05.079Z"
   },
   {
    "duration": 50,
    "start_time": "2023-03-13T22:09:05.159Z"
   },
   {
    "duration": 15,
    "start_time": "2023-03-13T22:09:05.210Z"
   },
   {
    "duration": 11,
    "start_time": "2023-03-13T22:09:05.227Z"
   },
   {
    "duration": 7,
    "start_time": "2023-03-13T22:09:05.240Z"
   },
   {
    "duration": 23,
    "start_time": "2023-03-13T22:09:05.248Z"
   },
   {
    "duration": 20,
    "start_time": "2023-03-13T22:09:05.274Z"
   },
   {
    "duration": 21,
    "start_time": "2023-03-13T22:09:05.296Z"
   },
   {
    "duration": 12,
    "start_time": "2023-03-13T22:09:05.318Z"
   },
   {
    "duration": 16,
    "start_time": "2023-03-13T22:09:05.332Z"
   },
   {
    "duration": 9,
    "start_time": "2023-03-13T22:09:05.350Z"
   },
   {
    "duration": 517,
    "start_time": "2023-03-13T22:09:05.361Z"
   },
   {
    "duration": 44,
    "start_time": "2023-03-13T22:09:05.880Z"
   },
   {
    "duration": 4,
    "start_time": "2023-03-13T22:09:05.926Z"
   },
   {
    "duration": 124,
    "start_time": "2023-03-13T22:09:05.932Z"
   },
   {
    "duration": 4,
    "start_time": "2023-03-13T22:09:06.058Z"
   },
   {
    "duration": 119,
    "start_time": "2023-03-13T22:09:06.064Z"
   },
   {
    "duration": 5,
    "start_time": "2023-03-13T22:09:06.184Z"
   },
   {
    "duration": 9,
    "start_time": "2023-03-13T22:09:06.191Z"
   },
   {
    "duration": 25,
    "start_time": "2023-03-13T22:09:06.202Z"
   },
   {
    "duration": 138,
    "start_time": "2023-03-13T22:09:06.229Z"
   },
   {
    "duration": 13,
    "start_time": "2023-03-13T22:09:06.368Z"
   },
   {
    "duration": 22,
    "start_time": "2023-03-13T22:09:06.383Z"
   },
   {
    "duration": 5,
    "start_time": "2023-03-13T22:09:06.424Z"
   },
   {
    "duration": 1447,
    "start_time": "2023-03-13T22:09:06.430Z"
   },
   {
    "duration": 23,
    "start_time": "2023-03-13T22:09:49.230Z"
   },
   {
    "duration": 1269,
    "start_time": "2023-03-13T22:10:02.842Z"
   },
   {
    "duration": 3939,
    "start_time": "2023-03-13T22:10:04.113Z"
   },
   {
    "duration": 38,
    "start_time": "2023-03-13T22:10:08.054Z"
   },
   {
    "duration": 13,
    "start_time": "2023-03-13T22:10:08.094Z"
   },
   {
    "duration": 28,
    "start_time": "2023-03-13T22:10:08.109Z"
   },
   {
    "duration": 7,
    "start_time": "2023-03-13T22:10:08.139Z"
   },
   {
    "duration": 19,
    "start_time": "2023-03-13T22:10:08.148Z"
   },
   {
    "duration": 79,
    "start_time": "2023-03-13T22:10:08.169Z"
   },
   {
    "duration": 44,
    "start_time": "2023-03-13T22:10:08.250Z"
   },
   {
    "duration": 6,
    "start_time": "2023-03-13T22:10:08.296Z"
   },
   {
    "duration": 10,
    "start_time": "2023-03-13T22:10:08.323Z"
   },
   {
    "duration": 8,
    "start_time": "2023-03-13T22:10:08.334Z"
   },
   {
    "duration": 5,
    "start_time": "2023-03-13T22:10:08.344Z"
   },
   {
    "duration": 11,
    "start_time": "2023-03-13T22:10:08.352Z"
   },
   {
    "duration": 13,
    "start_time": "2023-03-13T22:10:08.365Z"
   },
   {
    "duration": 7,
    "start_time": "2023-03-13T22:10:08.380Z"
   },
   {
    "duration": 45,
    "start_time": "2023-03-13T22:10:08.388Z"
   },
   {
    "duration": 10,
    "start_time": "2023-03-13T22:10:08.435Z"
   },
   {
    "duration": 527,
    "start_time": "2023-03-13T22:10:08.446Z"
   },
   {
    "duration": 32,
    "start_time": "2023-03-13T22:10:08.975Z"
   },
   {
    "duration": 5,
    "start_time": "2023-03-13T22:10:09.024Z"
   },
   {
    "duration": 123,
    "start_time": "2023-03-13T22:10:09.031Z"
   },
   {
    "duration": 5,
    "start_time": "2023-03-13T22:10:09.156Z"
   },
   {
    "duration": 119,
    "start_time": "2023-03-13T22:10:09.163Z"
   },
   {
    "duration": 4,
    "start_time": "2023-03-13T22:10:09.284Z"
   },
   {
    "duration": 15,
    "start_time": "2023-03-13T22:10:09.290Z"
   },
   {
    "duration": 19,
    "start_time": "2023-03-13T22:10:09.306Z"
   },
   {
    "duration": 146,
    "start_time": "2023-03-13T22:10:09.326Z"
   },
   {
    "duration": 13,
    "start_time": "2023-03-13T22:10:09.474Z"
   },
   {
    "duration": 40,
    "start_time": "2023-03-13T22:10:09.489Z"
   },
   {
    "duration": 5,
    "start_time": "2023-03-13T22:10:09.531Z"
   },
   {
    "duration": 1558,
    "start_time": "2023-03-13T22:10:09.538Z"
   },
   {
    "duration": 111,
    "start_time": "2023-03-13T22:10:54.463Z"
   },
   {
    "duration": 100,
    "start_time": "2023-03-13T22:15:43.609Z"
   },
   {
    "duration": 2,
    "start_time": "2023-03-13T22:18:52.719Z"
   },
   {
    "duration": 2,
    "start_time": "2023-03-13T22:19:00.254Z"
   },
   {
    "duration": 1892,
    "start_time": "2023-03-13T22:20:45.232Z"
   },
   {
    "duration": 1853,
    "start_time": "2023-03-13T22:20:56.700Z"
   },
   {
    "duration": 1839,
    "start_time": "2023-03-13T22:21:10.520Z"
   },
   {
    "duration": 1523,
    "start_time": "2023-03-14T17:12:42.140Z"
   },
   {
    "duration": 1452,
    "start_time": "2023-03-14T17:12:43.665Z"
   },
   {
    "duration": 46,
    "start_time": "2023-03-14T17:12:45.119Z"
   },
   {
    "duration": 13,
    "start_time": "2023-03-14T17:12:45.167Z"
   },
   {
    "duration": 18,
    "start_time": "2023-03-14T17:12:45.182Z"
   },
   {
    "duration": 12,
    "start_time": "2023-03-14T17:12:45.224Z"
   },
   {
    "duration": 14,
    "start_time": "2023-03-14T17:12:45.239Z"
   },
   {
    "duration": 42,
    "start_time": "2023-03-14T17:12:45.255Z"
   },
   {
    "duration": 70,
    "start_time": "2023-03-14T17:12:45.298Z"
   },
   {
    "duration": 6,
    "start_time": "2023-03-14T17:12:45.370Z"
   },
   {
    "duration": 14,
    "start_time": "2023-03-14T17:12:45.377Z"
   },
   {
    "duration": 11,
    "start_time": "2023-03-14T17:12:45.393Z"
   },
   {
    "duration": 4,
    "start_time": "2023-03-14T17:12:45.406Z"
   },
   {
    "duration": 14,
    "start_time": "2023-03-14T17:12:45.426Z"
   },
   {
    "duration": 16,
    "start_time": "2023-03-14T17:12:45.442Z"
   },
   {
    "duration": 9,
    "start_time": "2023-03-14T17:12:45.459Z"
   },
   {
    "duration": 17,
    "start_time": "2023-03-14T17:12:45.469Z"
   },
   {
    "duration": 10,
    "start_time": "2023-03-14T17:12:45.488Z"
   },
   {
    "duration": 618,
    "start_time": "2023-03-14T17:12:45.499Z"
   },
   {
    "duration": 39,
    "start_time": "2023-03-14T17:12:46.131Z"
   },
   {
    "duration": 4,
    "start_time": "2023-03-14T17:12:46.172Z"
   },
   {
    "duration": 136,
    "start_time": "2023-03-14T17:12:46.177Z"
   },
   {
    "duration": 10,
    "start_time": "2023-03-14T17:12:46.315Z"
   },
   {
    "duration": 113,
    "start_time": "2023-03-14T17:12:46.327Z"
   },
   {
    "duration": 6,
    "start_time": "2023-03-14T17:12:46.441Z"
   },
   {
    "duration": 10,
    "start_time": "2023-03-14T17:12:46.448Z"
   },
   {
    "duration": 5,
    "start_time": "2023-03-14T17:12:46.460Z"
   },
   {
    "duration": 163,
    "start_time": "2023-03-14T17:12:46.467Z"
   },
   {
    "duration": 6,
    "start_time": "2023-03-14T17:12:46.632Z"
   },
   {
    "duration": 111,
    "start_time": "2023-03-14T17:12:46.640Z"
   },
   {
    "duration": 2017,
    "start_time": "2023-03-14T17:12:46.753Z"
   },
   {
    "duration": 2009,
    "start_time": "2023-03-14T17:12:48.771Z"
   },
   {
    "duration": 113,
    "start_time": "2023-03-14T17:18:15.096Z"
   },
   {
    "duration": 98,
    "start_time": "2023-03-14T17:18:54.672Z"
   },
   {
    "duration": 2308,
    "start_time": "2023-03-14T17:20:11.138Z"
   },
   {
    "duration": 125,
    "start_time": "2023-03-14T17:24:03.073Z"
   },
   {
    "duration": 2351,
    "start_time": "2023-03-14T17:24:28.761Z"
   },
   {
    "duration": 13,
    "start_time": "2023-03-14T17:24:56.835Z"
   },
   {
    "duration": 2237,
    "start_time": "2023-03-14T17:28:30.668Z"
   },
   {
    "duration": 2107,
    "start_time": "2023-03-14T17:34:02.870Z"
   },
   {
    "duration": 2107,
    "start_time": "2023-03-14T17:34:56.341Z"
   },
   {
    "duration": 2115,
    "start_time": "2023-03-14T17:35:03.537Z"
   },
   {
    "duration": 146,
    "start_time": "2023-03-14T17:48:09.964Z"
   },
   {
    "duration": 2358,
    "start_time": "2023-03-14T17:48:19.651Z"
   },
   {
    "duration": 2574,
    "start_time": "2023-03-14T17:54:16.626Z"
   },
   {
    "duration": 2351,
    "start_time": "2023-03-14T17:55:03.205Z"
   },
   {
    "duration": 2395,
    "start_time": "2023-03-14T17:57:12.314Z"
   },
   {
    "duration": 2706,
    "start_time": "2023-03-14T18:00:50.532Z"
   },
   {
    "duration": 2780,
    "start_time": "2023-03-14T18:00:58.263Z"
   },
   {
    "duration": 10154,
    "start_time": "2023-03-14T18:04:44.898Z"
   },
   {
    "duration": 2104,
    "start_time": "2023-03-14T18:06:44.689Z"
   },
   {
    "duration": 6262,
    "start_time": "2023-03-14T18:08:07.119Z"
   },
   {
    "duration": 142,
    "start_time": "2023-03-14T18:09:01.818Z"
   },
   {
    "duration": 2443,
    "start_time": "2023-03-14T18:09:29.356Z"
   },
   {
    "duration": 3957,
    "start_time": "2023-03-14T18:10:40.904Z"
   },
   {
    "duration": 1252,
    "start_time": "2023-03-14T18:11:36.362Z"
   },
   {
    "duration": 1147,
    "start_time": "2023-03-14T18:11:37.616Z"
   },
   {
    "duration": 41,
    "start_time": "2023-03-14T18:11:38.765Z"
   },
   {
    "duration": 13,
    "start_time": "2023-03-14T18:11:38.808Z"
   },
   {
    "duration": 31,
    "start_time": "2023-03-14T18:11:38.828Z"
   },
   {
    "duration": 8,
    "start_time": "2023-03-14T18:11:38.866Z"
   },
   {
    "duration": 16,
    "start_time": "2023-03-14T18:11:38.876Z"
   },
   {
    "duration": 62,
    "start_time": "2023-03-14T18:11:38.893Z"
   },
   {
    "duration": 45,
    "start_time": "2023-03-14T18:11:38.957Z"
   },
   {
    "duration": 24,
    "start_time": "2023-03-14T18:11:39.006Z"
   },
   {
    "duration": 15,
    "start_time": "2023-03-14T18:11:39.032Z"
   },
   {
    "duration": 5,
    "start_time": "2023-03-14T18:11:39.049Z"
   },
   {
    "duration": 5,
    "start_time": "2023-03-14T18:11:39.056Z"
   },
   {
    "duration": 17,
    "start_time": "2023-03-14T18:11:39.063Z"
   },
   {
    "duration": 16,
    "start_time": "2023-03-14T18:11:39.083Z"
   },
   {
    "duration": 9,
    "start_time": "2023-03-14T18:11:39.126Z"
   },
   {
    "duration": 19,
    "start_time": "2023-03-14T18:11:39.137Z"
   },
   {
    "duration": 13,
    "start_time": "2023-03-14T18:11:39.158Z"
   },
   {
    "duration": 575,
    "start_time": "2023-03-14T18:11:39.173Z"
   },
   {
    "duration": 41,
    "start_time": "2023-03-14T18:11:39.750Z"
   },
   {
    "duration": 4,
    "start_time": "2023-03-14T18:11:39.794Z"
   },
   {
    "duration": 141,
    "start_time": "2023-03-14T18:11:39.800Z"
   },
   {
    "duration": 4,
    "start_time": "2023-03-14T18:11:39.943Z"
   },
   {
    "duration": 124,
    "start_time": "2023-03-14T18:11:39.949Z"
   },
   {
    "duration": 4,
    "start_time": "2023-03-14T18:11:40.075Z"
   },
   {
    "duration": 15,
    "start_time": "2023-03-14T18:11:40.081Z"
   },
   {
    "duration": 44,
    "start_time": "2023-03-14T18:11:40.098Z"
   },
   {
    "duration": 171,
    "start_time": "2023-03-14T18:11:40.146Z"
   },
   {
    "duration": 17,
    "start_time": "2023-03-14T18:11:40.318Z"
   },
   {
    "duration": 130,
    "start_time": "2023-03-14T18:11:40.337Z"
   },
   {
    "duration": 1943,
    "start_time": "2023-03-14T18:11:40.469Z"
   },
   {
    "duration": 2239,
    "start_time": "2023-03-14T18:11:42.414Z"
   },
   {
    "duration": 4084,
    "start_time": "2023-03-14T18:11:44.655Z"
   },
   {
    "duration": 114,
    "start_time": "2023-03-14T18:13:57.023Z"
   },
   {
    "duration": 258,
    "start_time": "2023-03-14T18:14:03.220Z"
   },
   {
    "duration": 6418,
    "start_time": "2023-03-14T18:14:20.093Z"
   },
   {
    "duration": 777,
    "start_time": "2023-03-14T18:15:43.960Z"
   },
   {
    "duration": 752,
    "start_time": "2023-03-14T18:15:57.324Z"
   },
   {
    "duration": 113,
    "start_time": "2023-03-14T18:16:11.839Z"
   },
   {
    "duration": 7268,
    "start_time": "2023-03-14T18:16:22.240Z"
   },
   {
    "duration": 621,
    "start_time": "2023-03-14T18:18:04.643Z"
   },
   {
    "duration": 2987,
    "start_time": "2023-03-14T18:18:52.650Z"
   },
   {
    "duration": 3530,
    "start_time": "2023-03-14T18:24:17.789Z"
   },
   {
    "duration": 6795,
    "start_time": "2023-03-14T18:26:10.100Z"
   },
   {
    "duration": 6387,
    "start_time": "2023-03-14T18:26:31.261Z"
   },
   {
    "duration": 116,
    "start_time": "2023-03-14T18:29:27.488Z"
   },
   {
    "duration": 117,
    "start_time": "2023-03-14T18:29:31.972Z"
   },
   {
    "duration": 22,
    "start_time": "2023-03-14T18:29:41.016Z"
   },
   {
    "duration": 6596,
    "start_time": "2023-03-14T18:29:49.873Z"
   },
   {
    "duration": 7151,
    "start_time": "2023-03-14T18:33:12.957Z"
   },
   {
    "duration": 6963,
    "start_time": "2023-03-14T18:33:48.872Z"
   },
   {
    "duration": 6676,
    "start_time": "2023-03-14T18:34:24.492Z"
   },
   {
    "duration": 6427,
    "start_time": "2023-03-14T18:35:33.921Z"
   },
   {
    "duration": 6548,
    "start_time": "2023-03-14T18:36:03.770Z"
   },
   {
    "duration": 9952,
    "start_time": "2023-03-14T18:37:30.754Z"
   },
   {
    "duration": 101,
    "start_time": "2023-03-14T18:38:34.614Z"
   },
   {
    "duration": 5,
    "start_time": "2023-03-14T18:39:49.269Z"
   },
   {
    "duration": 128,
    "start_time": "2023-03-14T18:42:40.845Z"
   },
   {
    "duration": 4,
    "start_time": "2023-03-14T18:42:58.553Z"
   },
   {
    "duration": 9827,
    "start_time": "2023-03-14T18:43:09.137Z"
   },
   {
    "duration": 1171,
    "start_time": "2023-03-14T18:49:32.373Z"
   },
   {
    "duration": 1268,
    "start_time": "2023-03-14T18:49:33.546Z"
   },
   {
    "duration": 35,
    "start_time": "2023-03-14T18:49:34.816Z"
   },
   {
    "duration": 11,
    "start_time": "2023-03-14T18:49:34.853Z"
   },
   {
    "duration": 25,
    "start_time": "2023-03-14T18:49:34.867Z"
   },
   {
    "duration": 4,
    "start_time": "2023-03-14T18:49:34.894Z"
   },
   {
    "duration": 28,
    "start_time": "2023-03-14T18:49:34.900Z"
   },
   {
    "duration": 40,
    "start_time": "2023-03-14T18:49:34.930Z"
   },
   {
    "duration": 54,
    "start_time": "2023-03-14T18:49:34.972Z"
   },
   {
    "duration": 4,
    "start_time": "2023-03-14T18:49:35.028Z"
   },
   {
    "duration": 29,
    "start_time": "2023-03-14T18:49:35.034Z"
   },
   {
    "duration": 43,
    "start_time": "2023-03-14T18:49:35.064Z"
   },
   {
    "duration": 31,
    "start_time": "2023-03-14T18:49:35.109Z"
   },
   {
    "duration": 61,
    "start_time": "2023-03-14T18:49:35.143Z"
   },
   {
    "duration": 31,
    "start_time": "2023-03-14T18:49:35.206Z"
   },
   {
    "duration": 12,
    "start_time": "2023-03-14T18:49:35.239Z"
   },
   {
    "duration": 21,
    "start_time": "2023-03-14T18:49:35.253Z"
   },
   {
    "duration": 25,
    "start_time": "2023-03-14T18:49:35.276Z"
   },
   {
    "duration": 520,
    "start_time": "2023-03-14T18:49:35.303Z"
   },
   {
    "duration": 33,
    "start_time": "2023-03-14T18:49:35.825Z"
   },
   {
    "duration": 5,
    "start_time": "2023-03-14T18:49:35.860Z"
   },
   {
    "duration": 118,
    "start_time": "2023-03-14T18:49:35.866Z"
   },
   {
    "duration": 4,
    "start_time": "2023-03-14T18:49:35.985Z"
   },
   {
    "duration": 103,
    "start_time": "2023-03-14T18:49:35.991Z"
   },
   {
    "duration": 5,
    "start_time": "2023-03-14T18:49:36.095Z"
   },
   {
    "duration": 13,
    "start_time": "2023-03-14T18:49:36.101Z"
   },
   {
    "duration": 17,
    "start_time": "2023-03-14T18:49:36.115Z"
   },
   {
    "duration": 10,
    "start_time": "2023-03-14T18:49:36.134Z"
   },
   {
    "duration": 9,
    "start_time": "2023-03-14T18:49:36.146Z"
   },
   {
    "duration": 92,
    "start_time": "2023-03-14T18:49:36.157Z"
   },
   {
    "duration": 2710,
    "start_time": "2023-03-14T18:49:36.251Z"
   },
   {
    "duration": 0,
    "start_time": "2023-03-14T18:49:38.963Z"
   },
   {
    "duration": 0,
    "start_time": "2023-03-14T18:49:38.965Z"
   },
   {
    "duration": 0,
    "start_time": "2023-03-14T18:49:38.966Z"
   },
   {
    "duration": 0,
    "start_time": "2023-03-14T18:49:38.968Z"
   },
   {
    "duration": 9551,
    "start_time": "2023-03-14T18:49:56.704Z"
   },
   {
    "duration": 6242,
    "start_time": "2023-03-14T18:52:20.365Z"
   },
   {
    "duration": 6233,
    "start_time": "2023-03-14T18:54:12.909Z"
   },
   {
    "duration": 6052,
    "start_time": "2023-03-14T18:54:49.891Z"
   },
   {
    "duration": 5868,
    "start_time": "2023-03-14T18:55:05.550Z"
   },
   {
    "duration": 5,
    "start_time": "2023-03-14T18:55:36.651Z"
   },
   {
    "duration": 6006,
    "start_time": "2023-03-14T18:56:41.137Z"
   },
   {
    "duration": 6410,
    "start_time": "2023-03-14T18:56:55.021Z"
   },
   {
    "duration": 6346,
    "start_time": "2023-03-14T18:58:10.603Z"
   },
   {
    "duration": 6396,
    "start_time": "2023-03-14T18:58:43.698Z"
   },
   {
    "duration": 6059,
    "start_time": "2023-03-14T18:58:58.866Z"
   },
   {
    "duration": 9,
    "start_time": "2023-03-14T19:05:58.259Z"
   },
   {
    "duration": 6,
    "start_time": "2023-03-14T19:06:01.118Z"
   },
   {
    "duration": 10406,
    "start_time": "2023-03-14T19:06:07.158Z"
   },
   {
    "duration": 9932,
    "start_time": "2023-03-14T19:12:23.744Z"
   },
   {
    "duration": 6349,
    "start_time": "2023-03-14T19:13:14.662Z"
   },
   {
    "duration": 1305,
    "start_time": "2023-03-14T19:13:36.312Z"
   },
   {
    "duration": 3367,
    "start_time": "2023-03-14T19:13:37.619Z"
   },
   {
    "duration": 38,
    "start_time": "2023-03-14T19:13:40.988Z"
   },
   {
    "duration": 13,
    "start_time": "2023-03-14T19:13:41.028Z"
   },
   {
    "duration": 27,
    "start_time": "2023-03-14T19:13:41.042Z"
   },
   {
    "duration": 5,
    "start_time": "2023-03-14T19:13:41.071Z"
   },
   {
    "duration": 19,
    "start_time": "2023-03-14T19:13:41.077Z"
   },
   {
    "duration": 64,
    "start_time": "2023-03-14T19:13:41.097Z"
   },
   {
    "duration": 40,
    "start_time": "2023-03-14T19:13:41.163Z"
   },
   {
    "duration": 5,
    "start_time": "2023-03-14T19:13:41.205Z"
   },
   {
    "duration": 4,
    "start_time": "2023-03-14T19:13:41.224Z"
   },
   {
    "duration": 8,
    "start_time": "2023-03-14T19:13:41.229Z"
   },
   {
    "duration": 6,
    "start_time": "2023-03-14T19:13:41.238Z"
   },
   {
    "duration": 20,
    "start_time": "2023-03-14T19:13:41.245Z"
   },
   {
    "duration": 16,
    "start_time": "2023-03-14T19:13:41.267Z"
   },
   {
    "duration": 7,
    "start_time": "2023-03-14T19:13:41.284Z"
   },
   {
    "duration": 42,
    "start_time": "2023-03-14T19:13:41.293Z"
   },
   {
    "duration": 10,
    "start_time": "2023-03-14T19:13:41.337Z"
   },
   {
    "duration": 525,
    "start_time": "2023-03-14T19:13:41.349Z"
   },
   {
    "duration": 49,
    "start_time": "2023-03-14T19:13:41.876Z"
   },
   {
    "duration": 10233,
    "start_time": "2023-03-14T19:13:41.927Z"
   },
   {
    "duration": 6,
    "start_time": "2023-03-14T19:13:52.162Z"
   },
   {
    "duration": 6229,
    "start_time": "2023-03-14T19:13:52.170Z"
   },
   {
    "duration": 96,
    "start_time": "2023-03-14T19:13:58.401Z"
   },
   {
    "duration": 6429,
    "start_time": "2023-03-14T19:23:02.523Z"
   },
   {
    "duration": 6715,
    "start_time": "2023-03-14T19:25:57.836Z"
   },
   {
    "duration": 1212,
    "start_time": "2023-03-14T19:36:00.357Z"
   },
   {
    "duration": 865,
    "start_time": "2023-03-14T19:36:33.544Z"
   },
   {
    "duration": 1125,
    "start_time": "2023-03-14T19:37:48.415Z"
   },
   {
    "duration": 999,
    "start_time": "2023-03-14T19:37:55.672Z"
   },
   {
    "duration": 1137,
    "start_time": "2023-03-14T19:41:02.163Z"
   },
   {
    "duration": 103,
    "start_time": "2023-03-14T19:42:15.478Z"
   },
   {
    "duration": 813,
    "start_time": "2023-03-14T19:42:28.361Z"
   },
   {
    "duration": 819,
    "start_time": "2023-03-14T19:42:37.899Z"
   },
   {
    "duration": 3,
    "start_time": "2023-03-14T19:44:22.069Z"
   },
   {
    "duration": 6,
    "start_time": "2023-03-14T19:45:00.232Z"
   },
   {
    "duration": 3,
    "start_time": "2023-03-14T19:47:38.487Z"
   },
   {
    "duration": 3,
    "start_time": "2023-03-14T19:48:15.248Z"
   },
   {
    "duration": 2,
    "start_time": "2023-03-14T19:48:54.522Z"
   },
   {
    "duration": 3,
    "start_time": "2023-03-14T19:49:40.450Z"
   },
   {
    "duration": 3,
    "start_time": "2023-03-14T19:50:37.462Z"
   },
   {
    "duration": 142,
    "start_time": "2023-03-14T20:20:55.135Z"
   },
   {
    "duration": 13,
    "start_time": "2023-03-14T20:22:26.685Z"
   },
   {
    "duration": 14,
    "start_time": "2023-03-14T20:22:41.320Z"
   },
   {
    "duration": 7,
    "start_time": "2023-03-14T20:23:44.377Z"
   },
   {
    "duration": 193,
    "start_time": "2023-03-14T20:27:25.650Z"
   },
   {
    "duration": 99,
    "start_time": "2023-03-14T20:33:07.139Z"
   },
   {
    "duration": 6,
    "start_time": "2023-03-14T20:33:52.102Z"
   },
   {
    "duration": 5,
    "start_time": "2023-03-14T20:35:21.916Z"
   },
   {
    "duration": 9,
    "start_time": "2023-03-14T20:35:50.207Z"
   },
   {
    "duration": 3,
    "start_time": "2023-03-14T20:39:51.232Z"
   },
   {
    "duration": 6,
    "start_time": "2023-03-14T20:41:45.149Z"
   },
   {
    "duration": 10,
    "start_time": "2023-03-14T20:42:40.207Z"
   },
   {
    "duration": 153,
    "start_time": "2023-03-14T21:15:26.851Z"
   },
   {
    "duration": 124,
    "start_time": "2023-03-14T21:17:31.734Z"
   },
   {
    "duration": 97,
    "start_time": "2023-03-14T21:17:36.785Z"
   },
   {
    "duration": 100,
    "start_time": "2023-03-14T21:21:05.401Z"
   },
   {
    "duration": 127,
    "start_time": "2023-03-14T21:21:13.917Z"
   },
   {
    "duration": 117,
    "start_time": "2023-03-14T21:21:24.496Z"
   },
   {
    "duration": 28,
    "start_time": "2023-03-14T21:21:38.832Z"
   },
   {
    "duration": 58,
    "start_time": "2023-03-14T21:21:59.770Z"
   },
   {
    "duration": 26,
    "start_time": "2023-03-14T21:22:05.658Z"
   },
   {
    "duration": 18,
    "start_time": "2023-03-14T21:22:19.217Z"
   },
   {
    "duration": 122,
    "start_time": "2023-03-14T21:24:39.264Z"
   },
   {
    "duration": 92,
    "start_time": "2023-03-14T21:24:41.759Z"
   },
   {
    "duration": 16,
    "start_time": "2023-03-14T21:30:17.870Z"
   },
   {
    "duration": 272,
    "start_time": "2023-03-14T21:33:25.120Z"
   },
   {
    "duration": 4,
    "start_time": "2023-03-14T21:35:01.928Z"
   },
   {
    "duration": 10,
    "start_time": "2023-03-14T21:35:25.807Z"
   },
   {
    "duration": 12,
    "start_time": "2023-03-14T21:37:37.576Z"
   },
   {
    "duration": 109,
    "start_time": "2023-03-14T21:38:35.645Z"
   },
   {
    "duration": 10,
    "start_time": "2023-03-14T21:38:47.197Z"
   },
   {
    "duration": 38,
    "start_time": "2023-03-14T21:39:48.677Z"
   },
   {
    "duration": 13,
    "start_time": "2023-03-14T21:40:07.870Z"
   },
   {
    "duration": 21,
    "start_time": "2023-03-14T21:40:35.929Z"
   },
   {
    "duration": 35,
    "start_time": "2023-03-14T21:41:00.434Z"
   },
   {
    "duration": 16,
    "start_time": "2023-03-14T21:42:12.393Z"
   },
   {
    "duration": 19,
    "start_time": "2023-03-14T21:42:27.819Z"
   },
   {
    "duration": 9,
    "start_time": "2023-03-14T21:43:06.775Z"
   },
   {
    "duration": 8,
    "start_time": "2023-03-14T21:44:13.912Z"
   },
   {
    "duration": 7,
    "start_time": "2023-03-14T21:44:43.946Z"
   },
   {
    "duration": 12,
    "start_time": "2023-03-14T21:45:42.426Z"
   },
   {
    "duration": 166,
    "start_time": "2023-03-14T21:49:06.897Z"
   },
   {
    "duration": 18,
    "start_time": "2023-03-14T21:49:17.896Z"
   },
   {
    "duration": 10,
    "start_time": "2023-03-14T21:49:27.176Z"
   },
   {
    "duration": 125,
    "start_time": "2023-03-14T21:50:04.192Z"
   },
   {
    "duration": 5,
    "start_time": "2023-03-14T21:52:19.146Z"
   },
   {
    "duration": 1234,
    "start_time": "2023-03-14T21:53:06.102Z"
   },
   {
    "duration": 1267,
    "start_time": "2023-03-14T21:53:07.338Z"
   },
   {
    "duration": 37,
    "start_time": "2023-03-14T21:53:08.606Z"
   },
   {
    "duration": 12,
    "start_time": "2023-03-14T21:53:08.645Z"
   },
   {
    "duration": 16,
    "start_time": "2023-03-14T21:53:08.659Z"
   },
   {
    "duration": 4,
    "start_time": "2023-03-14T21:53:08.676Z"
   },
   {
    "duration": 16,
    "start_time": "2023-03-14T21:53:08.682Z"
   },
   {
    "duration": 63,
    "start_time": "2023-03-14T21:53:08.699Z"
   },
   {
    "duration": 62,
    "start_time": "2023-03-14T21:53:08.763Z"
   },
   {
    "duration": 6,
    "start_time": "2023-03-14T21:53:08.828Z"
   },
   {
    "duration": 4,
    "start_time": "2023-03-14T21:53:08.836Z"
   },
   {
    "duration": 5,
    "start_time": "2023-03-14T21:53:08.843Z"
   },
   {
    "duration": 6,
    "start_time": "2023-03-14T21:53:08.850Z"
   },
   {
    "duration": 14,
    "start_time": "2023-03-14T21:53:08.858Z"
   },
   {
    "duration": 56,
    "start_time": "2023-03-14T21:53:08.874Z"
   },
   {
    "duration": 8,
    "start_time": "2023-03-14T21:53:08.932Z"
   },
   {
    "duration": 15,
    "start_time": "2023-03-14T21:53:08.941Z"
   },
   {
    "duration": 10,
    "start_time": "2023-03-14T21:53:08.957Z"
   },
   {
    "duration": 557,
    "start_time": "2023-03-14T21:53:08.968Z"
   },
   {
    "duration": 30,
    "start_time": "2023-03-14T21:53:09.527Z"
   },
   {
    "duration": 9765,
    "start_time": "2023-03-14T21:53:09.559Z"
   },
   {
    "duration": 5548,
    "start_time": "2023-03-14T21:53:19.326Z"
   },
   {
    "duration": 6773,
    "start_time": "2023-03-14T21:53:24.875Z"
   },
   {
    "duration": 705,
    "start_time": "2023-03-14T21:53:31.649Z"
   },
   {
    "duration": 1046,
    "start_time": "2023-03-14T21:53:32.356Z"
   },
   {
    "duration": 8,
    "start_time": "2023-03-14T21:53:33.404Z"
   },
   {
    "duration": 192,
    "start_time": "2023-03-14T21:53:33.424Z"
   },
   {
    "duration": 12,
    "start_time": "2023-03-14T21:53:33.620Z"
   },
   {
    "duration": 14,
    "start_time": "2023-03-14T21:53:33.634Z"
   },
   {
    "duration": 6,
    "start_time": "2023-03-14T21:53:33.649Z"
   },
   {
    "duration": 6,
    "start_time": "2023-03-14T21:53:33.657Z"
   },
   {
    "duration": 5,
    "start_time": "2023-03-14T21:53:33.664Z"
   },
   {
    "duration": 261,
    "start_time": "2023-03-14T21:56:15.601Z"
   },
   {
    "duration": 8,
    "start_time": "2023-03-14T21:58:09.369Z"
   },
   {
    "duration": 9,
    "start_time": "2023-03-14T21:58:37.275Z"
   },
   {
    "duration": 7,
    "start_time": "2023-03-14T21:59:51.028Z"
   },
   {
    "duration": 6,
    "start_time": "2023-03-14T22:00:05.569Z"
   },
   {
    "duration": 110,
    "start_time": "2023-03-14T22:02:01.067Z"
   },
   {
    "duration": 6,
    "start_time": "2023-03-14T22:03:12.956Z"
   },
   {
    "duration": 7,
    "start_time": "2023-03-14T22:03:23.060Z"
   },
   {
    "duration": 9,
    "start_time": "2023-03-14T22:04:48.450Z"
   },
   {
    "duration": 7,
    "start_time": "2023-03-14T22:06:00.365Z"
   },
   {
    "duration": 7,
    "start_time": "2023-03-14T22:06:16.017Z"
   },
   {
    "duration": 7,
    "start_time": "2023-03-14T22:06:22.516Z"
   },
   {
    "duration": 8,
    "start_time": "2023-03-14T22:06:40.919Z"
   },
   {
    "duration": 7,
    "start_time": "2023-03-14T22:06:52.080Z"
   },
   {
    "duration": 11,
    "start_time": "2023-03-14T22:07:16.749Z"
   },
   {
    "duration": 7,
    "start_time": "2023-03-14T22:10:01.170Z"
   },
   {
    "duration": 9,
    "start_time": "2023-03-14T22:10:05.201Z"
   },
   {
    "duration": 7,
    "start_time": "2023-03-14T22:11:27.191Z"
   },
   {
    "duration": 10,
    "start_time": "2023-03-14T22:11:30.782Z"
   },
   {
    "duration": 7,
    "start_time": "2023-03-14T22:11:52.758Z"
   },
   {
    "duration": 9,
    "start_time": "2023-03-14T22:12:17.041Z"
   },
   {
    "duration": 7,
    "start_time": "2023-03-14T22:12:26.253Z"
   },
   {
    "duration": 10,
    "start_time": "2023-03-14T22:12:37.217Z"
   },
   {
    "duration": 7,
    "start_time": "2023-03-14T22:15:01.094Z"
   },
   {
    "duration": 9,
    "start_time": "2023-03-14T22:15:04.648Z"
   },
   {
    "duration": 8,
    "start_time": "2023-03-14T22:18:43.199Z"
   },
   {
    "duration": 12,
    "start_time": "2023-03-14T22:18:52.259Z"
   },
   {
    "duration": 8,
    "start_time": "2023-03-14T22:19:34.226Z"
   },
   {
    "duration": 10,
    "start_time": "2023-03-14T22:19:42.441Z"
   },
   {
    "duration": 9,
    "start_time": "2023-03-14T22:20:21.673Z"
   },
   {
    "duration": 9,
    "start_time": "2023-03-14T22:20:24.703Z"
   },
   {
    "duration": 7,
    "start_time": "2023-03-14T22:20:45.198Z"
   },
   {
    "duration": 11,
    "start_time": "2023-03-14T22:20:47.328Z"
   },
   {
    "duration": 8,
    "start_time": "2023-03-14T22:20:55.780Z"
   },
   {
    "duration": 9,
    "start_time": "2023-03-14T22:20:58.067Z"
   },
   {
    "duration": 8,
    "start_time": "2023-03-14T22:21:48.439Z"
   },
   {
    "duration": 11,
    "start_time": "2023-03-14T22:21:50.874Z"
   },
   {
    "duration": 9,
    "start_time": "2023-03-14T22:24:12.945Z"
   },
   {
    "duration": 7,
    "start_time": "2023-03-14T22:24:19.174Z"
   },
   {
    "duration": 107,
    "start_time": "2023-03-14T22:24:40.289Z"
   },
   {
    "duration": 8,
    "start_time": "2023-03-14T22:24:48.994Z"
   },
   {
    "duration": 8,
    "start_time": "2023-03-14T22:24:59.249Z"
   },
   {
    "duration": 11,
    "start_time": "2023-03-14T22:25:02.581Z"
   },
   {
    "duration": 7,
    "start_time": "2023-03-14T22:26:12.994Z"
   },
   {
    "duration": 11,
    "start_time": "2023-03-14T22:26:16.141Z"
   },
   {
    "duration": 8,
    "start_time": "2023-03-14T22:26:40.492Z"
   },
   {
    "duration": 7,
    "start_time": "2023-03-14T22:27:01.012Z"
   },
   {
    "duration": 10,
    "start_time": "2023-03-14T22:27:03.487Z"
   },
   {
    "duration": 2,
    "start_time": "2023-03-14T22:40:19.396Z"
   },
   {
    "duration": 6,
    "start_time": "2023-03-14T22:42:06.335Z"
   },
   {
    "duration": 11,
    "start_time": "2023-03-14T22:44:08.732Z"
   },
   {
    "duration": 10,
    "start_time": "2023-03-14T22:45:14.501Z"
   },
   {
    "duration": 10,
    "start_time": "2023-03-14T22:45:43.239Z"
   },
   {
    "duration": 10,
    "start_time": "2023-03-14T22:46:58.028Z"
   },
   {
    "duration": 9,
    "start_time": "2023-03-14T22:47:11.765Z"
   },
   {
    "duration": 9,
    "start_time": "2023-03-14T22:47:27.257Z"
   },
   {
    "duration": 1709,
    "start_time": "2023-03-14T22:53:18.897Z"
   },
   {
    "duration": 1733,
    "start_time": "2023-03-14T22:53:28.933Z"
   },
   {
    "duration": 6,
    "start_time": "2023-03-14T22:53:39.739Z"
   },
   {
    "duration": 5,
    "start_time": "2023-03-14T22:53:59.086Z"
   },
   {
    "duration": 20,
    "start_time": "2023-03-14T22:55:23.682Z"
   },
   {
    "duration": 6,
    "start_time": "2023-03-14T22:56:39.612Z"
   },
   {
    "duration": 10,
    "start_time": "2023-03-14T22:56:56.944Z"
   },
   {
    "duration": 6,
    "start_time": "2023-03-14T22:58:36.636Z"
   },
   {
    "duration": 10,
    "start_time": "2023-03-14T22:59:29.508Z"
   },
   {
    "duration": 2,
    "start_time": "2023-03-14T23:05:21.413Z"
   },
   {
    "duration": 3,
    "start_time": "2023-03-14T23:07:17.646Z"
   },
   {
    "duration": 102,
    "start_time": "2023-03-14T23:07:30.412Z"
   },
   {
    "duration": 8,
    "start_time": "2023-03-14T23:07:57.949Z"
   },
   {
    "duration": 11,
    "start_time": "2023-03-14T23:08:00.251Z"
   },
   {
    "duration": 2,
    "start_time": "2023-03-14T23:08:39.078Z"
   },
   {
    "duration": 9,
    "start_time": "2023-03-14T23:09:35.464Z"
   },
   {
    "duration": 8,
    "start_time": "2023-03-14T23:09:37.881Z"
   },
   {
    "duration": 2,
    "start_time": "2023-03-14T23:10:01.184Z"
   },
   {
    "duration": 7,
    "start_time": "2023-03-14T23:11:12.033Z"
   },
   {
    "duration": 11,
    "start_time": "2023-03-14T23:11:14.112Z"
   },
   {
    "duration": 108,
    "start_time": "2023-03-14T23:11:55.494Z"
   },
   {
    "duration": 7,
    "start_time": "2023-03-14T23:12:43.521Z"
   },
   {
    "duration": 11,
    "start_time": "2023-03-14T23:12:45.364Z"
   },
   {
    "duration": 8,
    "start_time": "2023-03-14T23:16:23.882Z"
   },
   {
    "duration": 10,
    "start_time": "2023-03-14T23:16:26.212Z"
   },
   {
    "duration": 8,
    "start_time": "2023-03-14T23:17:17.364Z"
   },
   {
    "duration": 9,
    "start_time": "2023-03-14T23:17:19.954Z"
   },
   {
    "duration": 9,
    "start_time": "2023-03-14T23:17:40.629Z"
   },
   {
    "duration": 112,
    "start_time": "2023-03-14T23:18:22.646Z"
   },
   {
    "duration": 10,
    "start_time": "2023-03-14T23:19:38.295Z"
   },
   {
    "duration": 8,
    "start_time": "2023-03-14T23:20:10.526Z"
   },
   {
    "duration": 10,
    "start_time": "2023-03-14T23:20:12.705Z"
   },
   {
    "duration": 10,
    "start_time": "2023-03-14T23:20:26.256Z"
   },
   {
    "duration": 8,
    "start_time": "2023-03-14T23:24:37.028Z"
   },
   {
    "duration": 10,
    "start_time": "2023-03-14T23:24:39.856Z"
   },
   {
    "duration": 9,
    "start_time": "2023-03-14T23:24:55.718Z"
   },
   {
    "duration": 8,
    "start_time": "2023-03-14T23:25:21.782Z"
   },
   {
    "duration": 9,
    "start_time": "2023-03-14T23:25:23.990Z"
   },
   {
    "duration": 8,
    "start_time": "2023-03-14T23:25:42.269Z"
   },
   {
    "duration": 10,
    "start_time": "2023-03-14T23:25:44.662Z"
   },
   {
    "duration": 108,
    "start_time": "2023-03-14T23:27:08.067Z"
   },
   {
    "duration": 8,
    "start_time": "2023-03-14T23:32:56.626Z"
   },
   {
    "duration": 8,
    "start_time": "2023-03-14T23:33:43.629Z"
   },
   {
    "duration": 11,
    "start_time": "2023-03-14T23:33:45.873Z"
   },
   {
    "duration": 10,
    "start_time": "2023-03-14T23:36:21.544Z"
   },
   {
    "duration": 9,
    "start_time": "2023-03-14T23:36:23.910Z"
   },
   {
    "duration": 7,
    "start_time": "2023-03-14T23:36:41.608Z"
   },
   {
    "duration": 8,
    "start_time": "2023-03-14T23:36:59.268Z"
   },
   {
    "duration": 13,
    "start_time": "2023-03-14T23:37:04.277Z"
   },
   {
    "duration": 7,
    "start_time": "2023-03-14T23:37:22.796Z"
   },
   {
    "duration": 9,
    "start_time": "2023-03-14T23:37:25.635Z"
   },
   {
    "duration": 7,
    "start_time": "2023-03-14T23:38:06.390Z"
   },
   {
    "duration": 7,
    "start_time": "2023-03-14T23:38:25.260Z"
   },
   {
    "duration": 8,
    "start_time": "2023-03-14T23:38:29.753Z"
   },
   {
    "duration": 10,
    "start_time": "2023-03-14T23:38:48.044Z"
   },
   {
    "duration": 7,
    "start_time": "2023-03-14T23:40:47.017Z"
   },
   {
    "duration": 9,
    "start_time": "2023-03-14T23:40:49.936Z"
   },
   {
    "duration": 108,
    "start_time": "2023-03-14T23:41:18.926Z"
   },
   {
    "duration": 7,
    "start_time": "2023-03-14T23:41:25.997Z"
   },
   {
    "duration": 10,
    "start_time": "2023-03-14T23:41:28.352Z"
   },
   {
    "duration": 8,
    "start_time": "2023-03-14T23:42:05.803Z"
   },
   {
    "duration": 8,
    "start_time": "2023-03-14T23:43:40.169Z"
   },
   {
    "duration": 11,
    "start_time": "2023-03-14T23:43:42.940Z"
   },
   {
    "duration": 7,
    "start_time": "2023-03-14T23:44:10.994Z"
   },
   {
    "duration": 12,
    "start_time": "2023-03-14T23:44:15.132Z"
   },
   {
    "duration": 9,
    "start_time": "2023-03-14T23:44:20.704Z"
   },
   {
    "duration": 11,
    "start_time": "2023-03-14T23:44:22.973Z"
   },
   {
    "duration": 7,
    "start_time": "2023-03-14T23:47:59.944Z"
   },
   {
    "duration": 10,
    "start_time": "2023-03-14T23:48:02.137Z"
   },
   {
    "duration": 6,
    "start_time": "2023-03-14T23:48:12.415Z"
   },
   {
    "duration": 10,
    "start_time": "2023-03-14T23:48:14.845Z"
   },
   {
    "duration": 7,
    "start_time": "2023-03-14T23:49:28.349Z"
   },
   {
    "duration": 13,
    "start_time": "2023-03-14T23:49:30.514Z"
   },
   {
    "duration": 8,
    "start_time": "2023-03-14T23:49:40.095Z"
   },
   {
    "duration": 11,
    "start_time": "2023-03-14T23:49:42.502Z"
   },
   {
    "duration": 7,
    "start_time": "2023-03-14T23:50:27.301Z"
   },
   {
    "duration": 10,
    "start_time": "2023-03-14T23:50:29.807Z"
   },
   {
    "duration": 9,
    "start_time": "2023-03-14T23:51:34.294Z"
   },
   {
    "duration": 7,
    "start_time": "2023-03-14T23:51:42.251Z"
   },
   {
    "duration": 10,
    "start_time": "2023-03-14T23:51:45.131Z"
   },
   {
    "duration": 7,
    "start_time": "2023-03-14T23:52:32.961Z"
   },
   {
    "duration": 9,
    "start_time": "2023-03-14T23:52:35.043Z"
   },
   {
    "duration": 7,
    "start_time": "2023-03-14T23:52:42.892Z"
   },
   {
    "duration": 10,
    "start_time": "2023-03-14T23:52:45.614Z"
   },
   {
    "duration": 65,
    "start_time": "2023-03-14T23:55:30.281Z"
   },
   {
    "duration": 8,
    "start_time": "2023-03-14T23:55:35.209Z"
   },
   {
    "duration": 10,
    "start_time": "2023-03-14T23:55:39.409Z"
   },
   {
    "duration": 9,
    "start_time": "2023-03-14T23:55:49.894Z"
   },
   {
    "duration": 9,
    "start_time": "2023-03-14T23:55:52.429Z"
   },
   {
    "duration": 8,
    "start_time": "2023-03-14T23:56:58.956Z"
   },
   {
    "duration": 11,
    "start_time": "2023-03-14T23:57:01.538Z"
   },
   {
    "duration": 7,
    "start_time": "2023-03-14T23:57:38.982Z"
   },
   {
    "duration": 10,
    "start_time": "2023-03-14T23:57:41.603Z"
   },
   {
    "duration": 8,
    "start_time": "2023-03-15T00:01:17.647Z"
   },
   {
    "duration": 10,
    "start_time": "2023-03-15T00:01:20.264Z"
   },
   {
    "duration": 7,
    "start_time": "2023-03-15T00:02:35.643Z"
   },
   {
    "duration": 9,
    "start_time": "2023-03-15T00:02:37.986Z"
   },
   {
    "duration": 3,
    "start_time": "2023-03-15T00:03:21.814Z"
   },
   {
    "duration": 97,
    "start_time": "2023-03-15T00:05:52.120Z"
   },
   {
    "duration": 93,
    "start_time": "2023-03-15T00:06:26.333Z"
   },
   {
    "duration": 1345,
    "start_time": "2023-03-15T15:46:27.982Z"
   },
   {
    "duration": 5685,
    "start_time": "2023-03-15T15:46:29.329Z"
   },
   {
    "duration": 37,
    "start_time": "2023-03-15T15:46:35.015Z"
   },
   {
    "duration": 12,
    "start_time": "2023-03-15T15:46:35.054Z"
   },
   {
    "duration": 30,
    "start_time": "2023-03-15T15:46:35.068Z"
   },
   {
    "duration": 6,
    "start_time": "2023-03-15T15:46:35.100Z"
   },
   {
    "duration": 28,
    "start_time": "2023-03-15T15:46:35.107Z"
   },
   {
    "duration": 44,
    "start_time": "2023-03-15T15:46:35.137Z"
   },
   {
    "duration": 37,
    "start_time": "2023-03-15T15:46:35.183Z"
   },
   {
    "duration": 6,
    "start_time": "2023-03-15T15:46:35.222Z"
   },
   {
    "duration": 41,
    "start_time": "2023-03-15T15:46:35.229Z"
   },
   {
    "duration": 29,
    "start_time": "2023-03-15T15:46:35.272Z"
   },
   {
    "duration": 30,
    "start_time": "2023-03-15T15:46:35.303Z"
   },
   {
    "duration": 35,
    "start_time": "2023-03-15T15:46:35.335Z"
   },
   {
    "duration": 29,
    "start_time": "2023-03-15T15:46:35.371Z"
   },
   {
    "duration": 19,
    "start_time": "2023-03-15T15:46:35.402Z"
   },
   {
    "duration": 46,
    "start_time": "2023-03-15T15:46:35.423Z"
   },
   {
    "duration": 22,
    "start_time": "2023-03-15T15:46:35.472Z"
   },
   {
    "duration": 577,
    "start_time": "2023-03-15T15:46:35.496Z"
   },
   {
    "duration": 28,
    "start_time": "2023-03-15T15:46:36.074Z"
   },
   {
    "duration": 8703,
    "start_time": "2023-03-15T15:46:36.104Z"
   },
   {
    "duration": 5419,
    "start_time": "2023-03-15T15:46:44.809Z"
   },
   {
    "duration": 5498,
    "start_time": "2023-03-15T15:46:50.230Z"
   },
   {
    "duration": 661,
    "start_time": "2023-03-15T15:46:55.730Z"
   },
   {
    "duration": 1025,
    "start_time": "2023-03-15T15:46:56.393Z"
   },
   {
    "duration": 13,
    "start_time": "2023-03-15T15:46:57.420Z"
   },
   {
    "duration": 26,
    "start_time": "2023-03-15T15:46:57.434Z"
   },
   {
    "duration": 6,
    "start_time": "2023-03-15T15:46:57.464Z"
   },
   {
    "duration": 9,
    "start_time": "2023-03-15T15:46:57.472Z"
   },
   {
    "duration": 11,
    "start_time": "2023-03-15T15:46:57.483Z"
   },
   {
    "duration": 6,
    "start_time": "2023-03-15T15:46:57.495Z"
   },
   {
    "duration": 11,
    "start_time": "2023-03-15T15:46:57.503Z"
   },
   {
    "duration": 41,
    "start_time": "2023-03-15T15:46:57.516Z"
   },
   {
    "duration": 9,
    "start_time": "2023-03-15T15:46:57.559Z"
   },
   {
    "duration": 8,
    "start_time": "2023-03-15T15:46:57.569Z"
   },
   {
    "duration": 9,
    "start_time": "2023-03-15T15:46:57.578Z"
   },
   {
    "duration": 9,
    "start_time": "2023-03-15T15:46:57.588Z"
   },
   {
    "duration": 182,
    "start_time": "2023-03-15T15:46:57.598Z"
   },
   {
    "duration": 7,
    "start_time": "2023-03-15T15:46:57.782Z"
   },
   {
    "duration": 10,
    "start_time": "2023-03-15T15:46:57.790Z"
   },
   {
    "duration": 6,
    "start_time": "2023-03-15T15:46:57.801Z"
   },
   {
    "duration": 13,
    "start_time": "2023-03-15T15:46:57.809Z"
   },
   {
    "duration": 40,
    "start_time": "2023-03-15T15:46:57.823Z"
   },
   {
    "duration": 7,
    "start_time": "2023-03-15T15:46:57.864Z"
   },
   {
    "duration": 10,
    "start_time": "2023-03-15T15:46:57.872Z"
   },
   {
    "duration": 6,
    "start_time": "2023-03-15T15:50:37.607Z"
   },
   {
    "duration": 9,
    "start_time": "2023-03-15T15:50:39.624Z"
   },
   {
    "duration": 8,
    "start_time": "2023-03-15T15:51:20.411Z"
   },
   {
    "duration": 44,
    "start_time": "2023-03-15T15:52:00.789Z"
   },
   {
    "duration": 8,
    "start_time": "2023-03-15T15:52:05.968Z"
   },
   {
    "duration": 7,
    "start_time": "2023-03-15T15:52:13.391Z"
   },
   {
    "duration": 7,
    "start_time": "2023-03-15T15:52:19.424Z"
   },
   {
    "duration": 7,
    "start_time": "2023-03-15T15:52:46.972Z"
   },
   {
    "duration": 7,
    "start_time": "2023-03-15T15:53:08.051Z"
   },
   {
    "duration": 10,
    "start_time": "2023-03-15T15:53:29.328Z"
   },
   {
    "duration": 10,
    "start_time": "2023-03-15T15:53:31.448Z"
   },
   {
    "duration": 8,
    "start_time": "2023-03-15T15:54:39.955Z"
   },
   {
    "duration": 10,
    "start_time": "2023-03-15T15:54:41.909Z"
   },
   {
    "duration": 89,
    "start_time": "2023-03-15T16:04:49.563Z"
   },
   {
    "duration": 100,
    "start_time": "2023-03-15T16:05:02.190Z"
   },
   {
    "duration": 70,
    "start_time": "2023-03-15T16:05:39.330Z"
   },
   {
    "duration": 113,
    "start_time": "2023-03-15T16:24:45.325Z"
   },
   {
    "duration": 8,
    "start_time": "2023-03-15T16:26:11.709Z"
   },
   {
    "duration": 13,
    "start_time": "2023-03-15T16:26:14.977Z"
   },
   {
    "duration": 8,
    "start_time": "2023-03-15T16:26:57.722Z"
   },
   {
    "duration": 10,
    "start_time": "2023-03-15T16:26:59.489Z"
   },
   {
    "duration": 7,
    "start_time": "2023-03-15T16:28:49.279Z"
   },
   {
    "duration": 8,
    "start_time": "2023-03-15T16:29:03.613Z"
   },
   {
    "duration": 10,
    "start_time": "2023-03-15T16:30:05.517Z"
   },
   {
    "duration": 9,
    "start_time": "2023-03-15T16:30:09.709Z"
   },
   {
    "duration": 7,
    "start_time": "2023-03-15T16:30:16.939Z"
   },
   {
    "duration": 10,
    "start_time": "2023-03-15T16:30:28.388Z"
   },
   {
    "duration": 13,
    "start_time": "2023-03-15T16:30:38.468Z"
   },
   {
    "duration": 41,
    "start_time": "2023-03-15T16:31:09.118Z"
   },
   {
    "duration": 8,
    "start_time": "2023-03-15T16:31:14.416Z"
   },
   {
    "duration": 9,
    "start_time": "2023-03-15T16:31:16.412Z"
   },
   {
    "duration": 56,
    "start_time": "2023-03-15T16:31:28.846Z"
   },
   {
    "duration": 6,
    "start_time": "2023-03-15T16:31:32.344Z"
   },
   {
    "duration": 41,
    "start_time": "2023-03-15T16:31:49.575Z"
   },
   {
    "duration": 131,
    "start_time": "2023-03-15T16:31:54.042Z"
   },
   {
    "duration": 8,
    "start_time": "2023-03-15T16:32:03.865Z"
   },
   {
    "duration": 10,
    "start_time": "2023-03-15T16:32:06.207Z"
   },
   {
    "duration": 7,
    "start_time": "2023-03-15T16:32:26.619Z"
   },
   {
    "duration": 9,
    "start_time": "2023-03-15T16:32:29.834Z"
   },
   {
    "duration": 8,
    "start_time": "2023-03-15T16:33:00.114Z"
   },
   {
    "duration": 9,
    "start_time": "2023-03-15T16:33:02.791Z"
   },
   {
    "duration": 7,
    "start_time": "2023-03-15T16:35:34.905Z"
   },
   {
    "duration": 8,
    "start_time": "2023-03-15T16:35:37.586Z"
   },
   {
    "duration": 8,
    "start_time": "2023-03-15T16:36:04.254Z"
   },
   {
    "duration": 7,
    "start_time": "2023-03-15T16:36:09.536Z"
   },
   {
    "duration": 7,
    "start_time": "2023-03-15T16:38:15.355Z"
   },
   {
    "duration": 10,
    "start_time": "2023-03-15T16:38:18.354Z"
   },
   {
    "duration": 101,
    "start_time": "2023-03-16T19:02:57.557Z"
   },
   {
    "duration": 1323,
    "start_time": "2023-03-16T19:03:56.352Z"
   },
   {
    "duration": 4011,
    "start_time": "2023-03-16T19:03:57.678Z"
   },
   {
    "duration": 38,
    "start_time": "2023-03-16T19:04:01.691Z"
   },
   {
    "duration": 14,
    "start_time": "2023-03-16T19:04:01.732Z"
   },
   {
    "duration": 22,
    "start_time": "2023-03-16T19:04:01.774Z"
   },
   {
    "duration": 15,
    "start_time": "2023-03-16T19:04:01.798Z"
   },
   {
    "duration": 48,
    "start_time": "2023-03-16T19:04:01.814Z"
   },
   {
    "duration": 77,
    "start_time": "2023-03-16T19:04:01.864Z"
   },
   {
    "duration": 56,
    "start_time": "2023-03-16T19:04:01.943Z"
   },
   {
    "duration": 6,
    "start_time": "2023-03-16T19:04:02.002Z"
   },
   {
    "duration": 14,
    "start_time": "2023-03-16T19:04:02.010Z"
   },
   {
    "duration": 10,
    "start_time": "2023-03-16T19:04:02.026Z"
   },
   {
    "duration": 9,
    "start_time": "2023-03-16T19:04:02.039Z"
   },
   {
    "duration": 25,
    "start_time": "2023-03-16T19:04:02.050Z"
   },
   {
    "duration": 13,
    "start_time": "2023-03-16T19:04:02.076Z"
   },
   {
    "duration": 7,
    "start_time": "2023-03-16T19:04:02.090Z"
   },
   {
    "duration": 20,
    "start_time": "2023-03-16T19:04:02.098Z"
   },
   {
    "duration": 16,
    "start_time": "2023-03-16T19:04:02.120Z"
   },
   {
    "duration": 558,
    "start_time": "2023-03-16T19:04:02.137Z"
   },
   {
    "duration": 28,
    "start_time": "2023-03-16T19:04:02.697Z"
   },
   {
    "duration": 9981,
    "start_time": "2023-03-16T19:04:02.726Z"
   },
   {
    "duration": 5999,
    "start_time": "2023-03-16T19:04:12.709Z"
   },
   {
    "duration": 6157,
    "start_time": "2023-03-16T19:04:18.709Z"
   },
   {
    "duration": 724,
    "start_time": "2023-03-16T19:04:24.867Z"
   },
   {
    "duration": 1109,
    "start_time": "2023-03-16T19:04:25.592Z"
   },
   {
    "duration": 14,
    "start_time": "2023-03-16T19:04:26.702Z"
   },
   {
    "duration": 13,
    "start_time": "2023-03-16T19:04:26.717Z"
   },
   {
    "duration": 6,
    "start_time": "2023-03-16T19:04:26.734Z"
   },
   {
    "duration": 37,
    "start_time": "2023-03-16T19:04:26.741Z"
   },
   {
    "duration": 12,
    "start_time": "2023-03-16T19:04:26.780Z"
   },
   {
    "duration": 6,
    "start_time": "2023-03-16T19:04:26.794Z"
   },
   {
    "duration": 11,
    "start_time": "2023-03-16T19:04:26.802Z"
   },
   {
    "duration": 6,
    "start_time": "2023-03-16T19:04:26.815Z"
   },
   {
    "duration": 11,
    "start_time": "2023-03-16T19:04:26.822Z"
   },
   {
    "duration": 6,
    "start_time": "2023-03-16T19:04:26.876Z"
   },
   {
    "duration": 14,
    "start_time": "2023-03-16T19:04:26.884Z"
   },
   {
    "duration": 8,
    "start_time": "2023-03-16T19:04:26.900Z"
   },
   {
    "duration": 333,
    "start_time": "2023-03-16T19:04:26.909Z"
   },
   {
    "duration": 7,
    "start_time": "2023-03-16T19:04:27.244Z"
   },
   {
    "duration": 26,
    "start_time": "2023-03-16T19:04:27.253Z"
   },
   {
    "duration": 8,
    "start_time": "2023-03-16T19:04:27.280Z"
   },
   {
    "duration": 10,
    "start_time": "2023-03-16T19:04:27.289Z"
   },
   {
    "duration": 7,
    "start_time": "2023-03-16T19:04:27.301Z"
   },
   {
    "duration": 66,
    "start_time": "2023-03-16T19:04:27.310Z"
   },
   {
    "duration": 133,
    "start_time": "2023-03-16T21:09:44.655Z"
   },
   {
    "duration": 76,
    "start_time": "2023-03-16T21:13:50.268Z"
   },
   {
    "duration": 1463,
    "start_time": "2023-03-16T21:14:10.147Z"
   },
   {
    "duration": 1232,
    "start_time": "2023-03-16T21:14:11.614Z"
   },
   {
    "duration": 46,
    "start_time": "2023-03-16T21:14:12.848Z"
   },
   {
    "duration": 15,
    "start_time": "2023-03-16T21:14:12.896Z"
   },
   {
    "duration": 27,
    "start_time": "2023-03-16T21:14:12.913Z"
   },
   {
    "duration": 7,
    "start_time": "2023-03-16T21:14:12.942Z"
   },
   {
    "duration": 18,
    "start_time": "2023-03-16T21:14:12.951Z"
   },
   {
    "duration": 50,
    "start_time": "2023-03-16T21:14:12.995Z"
   },
   {
    "duration": 65,
    "start_time": "2023-03-16T21:14:13.048Z"
   },
   {
    "duration": 7,
    "start_time": "2023-03-16T21:14:13.115Z"
   },
   {
    "duration": 9,
    "start_time": "2023-03-16T21:14:13.125Z"
   },
   {
    "duration": 9,
    "start_time": "2023-03-16T21:14:13.136Z"
   },
   {
    "duration": 7,
    "start_time": "2023-03-16T21:14:13.147Z"
   },
   {
    "duration": 43,
    "start_time": "2023-03-16T21:14:13.158Z"
   },
   {
    "duration": 20,
    "start_time": "2023-03-16T21:14:13.203Z"
   },
   {
    "duration": 8,
    "start_time": "2023-03-16T21:14:13.225Z"
   },
   {
    "duration": 15,
    "start_time": "2023-03-16T21:14:13.235Z"
   },
   {
    "duration": 10,
    "start_time": "2023-03-16T21:14:13.252Z"
   },
   {
    "duration": 596,
    "start_time": "2023-03-16T21:14:13.297Z"
   },
   {
    "duration": 34,
    "start_time": "2023-03-16T21:14:13.895Z"
   },
   {
    "duration": 18,
    "start_time": "2023-03-16T21:14:13.946Z"
   },
   {
    "duration": 10262,
    "start_time": "2023-03-16T21:14:13.968Z"
   },
   {
    "duration": 6130,
    "start_time": "2023-03-16T21:14:24.232Z"
   },
   {
    "duration": 6402,
    "start_time": "2023-03-16T21:14:30.364Z"
   },
   {
    "duration": 748,
    "start_time": "2023-03-16T21:14:36.768Z"
   },
   {
    "duration": 1300,
    "start_time": "2023-03-16T21:14:37.518Z"
   },
   {
    "duration": 16,
    "start_time": "2023-03-16T21:14:38.820Z"
   },
   {
    "duration": 14,
    "start_time": "2023-03-16T21:14:38.838Z"
   },
   {
    "duration": 14,
    "start_time": "2023-03-16T21:14:38.854Z"
   },
   {
    "duration": 27,
    "start_time": "2023-03-16T21:14:38.870Z"
   },
   {
    "duration": 9,
    "start_time": "2023-03-16T21:14:38.900Z"
   },
   {
    "duration": 8,
    "start_time": "2023-03-16T21:14:38.911Z"
   },
   {
    "duration": 15,
    "start_time": "2023-03-16T21:14:38.921Z"
   },
   {
    "duration": 7,
    "start_time": "2023-03-16T21:14:38.938Z"
   },
   {
    "duration": 12,
    "start_time": "2023-03-16T21:14:38.947Z"
   },
   {
    "duration": 37,
    "start_time": "2023-03-16T21:14:38.960Z"
   },
   {
    "duration": 15,
    "start_time": "2023-03-16T21:14:38.999Z"
   },
   {
    "duration": 11,
    "start_time": "2023-03-16T21:14:39.016Z"
   },
   {
    "duration": 241,
    "start_time": "2023-03-16T21:14:39.029Z"
   },
   {
    "duration": 10,
    "start_time": "2023-03-16T21:14:39.272Z"
   },
   {
    "duration": 15,
    "start_time": "2023-03-16T21:14:39.287Z"
   },
   {
    "duration": 22,
    "start_time": "2023-03-16T21:14:39.304Z"
   },
   {
    "duration": 11,
    "start_time": "2023-03-16T21:14:39.328Z"
   },
   {
    "duration": 58,
    "start_time": "2023-03-16T21:14:39.341Z"
   },
   {
    "duration": 27,
    "start_time": "2023-03-16T21:14:39.401Z"
   },
   {
    "duration": 1491,
    "start_time": "2023-04-06T20:18:27.013Z"
   },
   {
    "duration": 972,
    "start_time": "2023-04-06T20:18:28.507Z"
   },
   {
    "duration": 43,
    "start_time": "2023-04-06T20:18:29.481Z"
   },
   {
    "duration": 25,
    "start_time": "2023-04-06T20:18:29.526Z"
   },
   {
    "duration": 23,
    "start_time": "2023-04-06T20:18:29.555Z"
   },
   {
    "duration": 6,
    "start_time": "2023-04-06T20:18:29.580Z"
   },
   {
    "duration": 27,
    "start_time": "2023-04-06T20:18:29.588Z"
   },
   {
    "duration": 75,
    "start_time": "2023-04-06T20:18:29.617Z"
   },
   {
    "duration": 81,
    "start_time": "2023-04-06T20:18:29.694Z"
   },
   {
    "duration": 7,
    "start_time": "2023-04-06T20:18:29.778Z"
   },
   {
    "duration": 5,
    "start_time": "2023-04-06T20:18:29.789Z"
   },
   {
    "duration": 5,
    "start_time": "2023-04-06T20:18:29.799Z"
   },
   {
    "duration": 5,
    "start_time": "2023-04-06T20:18:29.806Z"
   },
   {
    "duration": 41,
    "start_time": "2023-04-06T20:18:29.815Z"
   },
   {
    "duration": 25,
    "start_time": "2023-04-06T20:18:29.866Z"
   },
   {
    "duration": 10,
    "start_time": "2023-04-06T20:18:29.894Z"
   },
   {
    "duration": 18,
    "start_time": "2023-04-06T20:18:29.906Z"
   },
   {
    "duration": 11,
    "start_time": "2023-04-06T20:18:29.926Z"
   },
   {
    "duration": 567,
    "start_time": "2023-04-06T20:18:29.949Z"
   },
   {
    "duration": 52,
    "start_time": "2023-04-06T20:18:30.518Z"
   },
   {
    "duration": 16,
    "start_time": "2023-04-06T20:18:30.573Z"
   },
   {
    "duration": 11445,
    "start_time": "2023-04-06T20:18:30.591Z"
   },
   {
    "duration": 6581,
    "start_time": "2023-04-06T20:18:42.038Z"
   },
   {
    "duration": 7625,
    "start_time": "2023-04-06T20:18:48.629Z"
   },
   {
    "duration": 824,
    "start_time": "2023-04-06T20:18:56.259Z"
   },
   {
    "duration": 1244,
    "start_time": "2023-04-06T20:18:57.085Z"
   },
   {
    "duration": 20,
    "start_time": "2023-04-06T20:18:58.331Z"
   },
   {
    "duration": 20,
    "start_time": "2023-04-06T20:18:58.352Z"
   },
   {
    "duration": 5,
    "start_time": "2023-04-06T20:18:58.374Z"
   },
   {
    "duration": 8,
    "start_time": "2023-04-06T20:18:58.381Z"
   },
   {
    "duration": 14,
    "start_time": "2023-04-06T20:18:58.390Z"
   },
   {
    "duration": 7,
    "start_time": "2023-04-06T20:18:58.406Z"
   },
   {
    "duration": 37,
    "start_time": "2023-04-06T20:18:58.415Z"
   },
   {
    "duration": 10,
    "start_time": "2023-04-06T20:18:58.459Z"
   },
   {
    "duration": 9,
    "start_time": "2023-04-06T20:18:58.470Z"
   },
   {
    "duration": 6,
    "start_time": "2023-04-06T20:18:58.481Z"
   },
   {
    "duration": 8,
    "start_time": "2023-04-06T20:18:58.489Z"
   },
   {
    "duration": 8,
    "start_time": "2023-04-06T20:18:58.499Z"
   },
   {
    "duration": 217,
    "start_time": "2023-04-06T20:18:58.508Z"
   },
   {
    "duration": 8,
    "start_time": "2023-04-06T20:18:58.727Z"
   },
   {
    "duration": 27,
    "start_time": "2023-04-06T20:18:58.739Z"
   },
   {
    "duration": 9,
    "start_time": "2023-04-06T20:18:58.773Z"
   },
   {
    "duration": 29,
    "start_time": "2023-04-06T20:18:58.783Z"
   },
   {
    "duration": 19,
    "start_time": "2023-04-06T20:18:58.850Z"
   },
   {
    "duration": 10,
    "start_time": "2023-04-06T20:18:58.872Z"
   },
   {
    "duration": 1528,
    "start_time": "2023-04-12T19:08:53.599Z"
   },
   {
    "duration": 1296,
    "start_time": "2023-04-12T19:08:55.129Z"
   },
   {
    "duration": 53,
    "start_time": "2023-04-12T19:08:56.436Z"
   },
   {
    "duration": 13,
    "start_time": "2023-04-12T19:08:56.492Z"
   },
   {
    "duration": 40,
    "start_time": "2023-04-12T19:08:56.507Z"
   },
   {
    "duration": 5,
    "start_time": "2023-04-12T19:08:56.549Z"
   },
   {
    "duration": 14,
    "start_time": "2023-04-12T19:08:56.555Z"
   },
   {
    "duration": 48,
    "start_time": "2023-04-12T19:08:56.571Z"
   },
   {
    "duration": 46,
    "start_time": "2023-04-12T19:08:56.621Z"
   },
   {
    "duration": 5,
    "start_time": "2023-04-12T19:08:56.670Z"
   },
   {
    "duration": 7,
    "start_time": "2023-04-12T19:08:56.676Z"
   },
   {
    "duration": 8,
    "start_time": "2023-04-12T19:08:56.685Z"
   },
   {
    "duration": 8,
    "start_time": "2023-04-12T19:08:56.712Z"
   },
   {
    "duration": 24,
    "start_time": "2023-04-12T19:08:56.722Z"
   },
   {
    "duration": 13,
    "start_time": "2023-04-12T19:08:56.749Z"
   },
   {
    "duration": 8,
    "start_time": "2023-04-12T19:08:56.764Z"
   },
   {
    "duration": 15,
    "start_time": "2023-04-12T19:08:56.773Z"
   },
   {
    "duration": 23,
    "start_time": "2023-04-12T19:08:56.815Z"
   },
   {
    "duration": 535,
    "start_time": "2023-04-12T19:08:56.840Z"
   },
   {
    "duration": 46,
    "start_time": "2023-04-12T19:08:57.377Z"
   },
   {
    "duration": 17,
    "start_time": "2023-04-12T19:08:57.432Z"
   },
   {
    "duration": 10938,
    "start_time": "2023-04-12T19:08:57.450Z"
   },
   {
    "duration": 6703,
    "start_time": "2023-04-12T19:09:08.389Z"
   },
   {
    "duration": 7925,
    "start_time": "2023-04-12T19:09:15.093Z"
   },
   {
    "duration": 975,
    "start_time": "2023-04-12T19:09:23.019Z"
   },
   {
    "duration": 1230,
    "start_time": "2023-04-12T19:09:23.996Z"
   },
   {
    "duration": 16,
    "start_time": "2023-04-12T19:09:25.231Z"
   },
   {
    "duration": 10,
    "start_time": "2023-04-12T19:09:25.250Z"
   },
   {
    "duration": 6,
    "start_time": "2023-04-12T19:09:25.261Z"
   },
   {
    "duration": 7,
    "start_time": "2023-04-12T19:09:25.269Z"
   },
   {
    "duration": 36,
    "start_time": "2023-04-12T19:09:25.278Z"
   },
   {
    "duration": 6,
    "start_time": "2023-04-12T19:09:25.316Z"
   },
   {
    "duration": 11,
    "start_time": "2023-04-12T19:09:25.324Z"
   },
   {
    "duration": 9,
    "start_time": "2023-04-12T19:09:25.337Z"
   },
   {
    "duration": 20,
    "start_time": "2023-04-12T19:09:25.348Z"
   },
   {
    "duration": 7,
    "start_time": "2023-04-12T19:09:25.369Z"
   },
   {
    "duration": 13,
    "start_time": "2023-04-12T19:09:25.378Z"
   },
   {
    "duration": 34,
    "start_time": "2023-04-12T19:09:25.392Z"
   },
   {
    "duration": 174,
    "start_time": "2023-04-12T19:09:25.429Z"
   },
   {
    "duration": 11,
    "start_time": "2023-04-12T19:09:25.605Z"
   },
   {
    "duration": 19,
    "start_time": "2023-04-12T19:09:25.621Z"
   },
   {
    "duration": 7,
    "start_time": "2023-04-12T19:09:25.641Z"
   },
   {
    "duration": 10,
    "start_time": "2023-04-12T19:09:25.649Z"
   },
   {
    "duration": 73,
    "start_time": "2023-04-12T19:09:25.662Z"
   },
   {
    "duration": 70,
    "start_time": "2023-04-12T19:09:25.738Z"
   }
  ],
  "kernelspec": {
   "display_name": "Python 3 (ipykernel)",
   "language": "python",
   "name": "python3"
  },
  "language_info": {
   "codemirror_mode": {
    "name": "ipython",
    "version": 3
   },
   "file_extension": ".py",
   "mimetype": "text/x-python",
   "name": "python",
   "nbconvert_exporter": "python",
   "pygments_lexer": "ipython3",
   "version": "3.9.7"
  },
  "toc": {
   "base_numbering": 1,
   "nav_menu": {},
   "number_sections": true,
   "sideBar": true,
   "skip_h1_title": true,
   "title_cell": "Table of Contents",
   "title_sidebar": "Contents",
   "toc_cell": false,
   "toc_position": {
    "height": "calc(100% - 180px)",
    "left": "10px",
    "top": "150px",
    "width": "285.391px"
   },
   "toc_section_display": true,
   "toc_window_display": true
  }
 },
 "nbformat": 4,
 "nbformat_minor": 2
}
